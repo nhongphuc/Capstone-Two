{
 "cells": [
  {
   "cell_type": "code",
   "execution_count": 1,
   "id": "f8fa8285",
   "metadata": {
    "_cell_guid": "b1076dfc-b9ad-4769-8c92-a6c4dae69d19",
    "_uuid": "8f2839f25d086af736a60e9eeb907d3b93b6e0e5",
    "execution": {
     "iopub.execute_input": "2023-03-23T11:45:49.043515Z",
     "iopub.status.busy": "2023-03-23T11:45:49.042981Z",
     "iopub.status.idle": "2023-03-23T11:45:51.774056Z",
     "shell.execute_reply": "2023-03-23T11:45:51.772435Z"
    },
    "papermill": {
     "duration": 2.745517,
     "end_time": "2023-03-23T11:45:51.778126",
     "exception": false,
     "start_time": "2023-03-23T11:45:49.032609",
     "status": "completed"
    },
    "tags": []
   },
   "outputs": [],
   "source": [
    "#Importing packages\n",
    "\n",
    "import numpy as np # linear algebra\n",
    "import pandas as pd # data processing, CSV file I/O (e.g. pd.read_csv)\n",
    "import pickle\n",
    "import matplotlib.pyplot as plt\n",
    "from sklearn.model_selection import train_test_split, GridSearchCV\n",
    "from sklearn.preprocessing import StandardScaler, MinMaxScaler, Normalizer\n",
    "from sklearn.linear_model import LogisticRegression\n",
    "from sklearn.metrics import accuracy_score, f1_score, roc_curve, auc\n",
    "from sklearn.pipeline import Pipeline\n",
    "from sklearn.decomposition import PCA\n",
    "#from imblearn.over_sampling import RandomOverSampler\n",
    "from sklearn.ensemble import RandomForestClassifier, GradientBoostingClassifier\n",
    "#from skimage import exposure\n",
    "from imblearn.over_sampling import SMOTE\n",
    "from skimage.feature import hog\n",
    "from tqdm import tqdm"
   ]
  },
  {
   "cell_type": "code",
   "execution_count": 2,
   "id": "9d78b618",
   "metadata": {
    "execution": {
     "iopub.execute_input": "2023-03-23T11:45:51.796226Z",
     "iopub.status.busy": "2023-03-23T11:45:51.795631Z",
     "iopub.status.idle": "2023-03-23T11:47:19.545568Z",
     "shell.execute_reply": "2023-03-23T11:47:19.538469Z"
    },
    "papermill": {
     "duration": 87.764266,
     "end_time": "2023-03-23T11:47:19.549526",
     "exception": false,
     "start_time": "2023-03-23T11:45:51.785260",
     "status": "completed"
    },
    "tags": []
   },
   "outputs": [],
   "source": [
    "#Loading the pickle file containing a dictionary with \n",
    "#patient ID and image ID for keys and the cleaned images for values \n",
    "#(from the Data Wrangling notebook).\n",
    "folder_path = '/kaggle/input/rsna-breast-cancer-detection-data-wrangling/'\n",
    "\n",
    "with open(folder_path + 'cleaned_images.pickle', 'rb') as file:\n",
    "    img_dict = pickle.load(file)\n",
    "    \n",
    "#Loading the cleaned csv file (also from the Data Wrangling notebook).\n",
    "df = pd.read_csv(folder_path + 'cleaned_data.csv')"
   ]
  },
  {
   "cell_type": "markdown",
   "id": "aebd03b2",
   "metadata": {
    "papermill": {
     "duration": 0.006396,
     "end_time": "2023-03-23T11:47:19.562837",
     "exception": false,
     "start_time": "2023-03-23T11:47:19.556441",
     "status": "completed"
    },
    "tags": []
   },
   "source": [
    "# One-hot encoding"
   ]
  },
  {
   "cell_type": "markdown",
   "id": "61d8d936",
   "metadata": {
    "papermill": {
     "duration": 0.006212,
     "end_time": "2023-03-23T11:47:19.575824",
     "exception": false,
     "start_time": "2023-03-23T11:47:19.569612",
     "status": "completed"
    },
    "tags": []
   },
   "source": [
    "This step has already been done back in the Data Wrangling notebook. To check this, we list the column names of df and also the first few rows of df below. Columns such as 'cancer_0', 'cancer_1', 'implant_0', 'implant_1' etc. were created with get_dummies."
   ]
  },
  {
   "cell_type": "code",
   "execution_count": 3,
   "id": "84633f2b",
   "metadata": {
    "execution": {
     "iopub.execute_input": "2023-03-23T11:47:19.592237Z",
     "iopub.status.busy": "2023-03-23T11:47:19.590698Z",
     "iopub.status.idle": "2023-03-23T11:47:19.603429Z",
     "shell.execute_reply": "2023-03-23T11:47:19.602327Z"
    },
    "papermill": {
     "duration": 0.023572,
     "end_time": "2023-03-23T11:47:19.605867",
     "exception": false,
     "start_time": "2023-03-23T11:47:19.582295",
     "status": "completed"
    },
    "tags": []
   },
   "outputs": [
    {
     "data": {
      "text/plain": [
       "Index(['Unnamed: 0', 'site_id', 'patient_id', 'image_id', 'age', 'machine_id',\n",
       "       'laterality_L', 'laterality_R', 'view_CC', 'view_MLO', 'cancer_0',\n",
       "       'cancer_1', 'biopsy_0', 'biopsy_1', 'invasive_0', 'invasive_1',\n",
       "       'BIRADS_0.0', 'BIRADS_1.0', 'BIRADS_2.0', 'implant_0', 'implant_1',\n",
       "       'density_A', 'density_B', 'density_C', 'density_D',\n",
       "       'difficult_negative_case_False', 'difficult_negative_case_True'],\n",
       "      dtype='object')"
      ]
     },
     "execution_count": 3,
     "metadata": {},
     "output_type": "execute_result"
    }
   ],
   "source": [
    "df.columns"
   ]
  },
  {
   "cell_type": "code",
   "execution_count": 4,
   "id": "9ebd59b2",
   "metadata": {
    "execution": {
     "iopub.execute_input": "2023-03-23T11:47:19.622634Z",
     "iopub.status.busy": "2023-03-23T11:47:19.621319Z",
     "iopub.status.idle": "2023-03-23T11:47:19.665428Z",
     "shell.execute_reply": "2023-03-23T11:47:19.663826Z"
    },
    "papermill": {
     "duration": 0.055522,
     "end_time": "2023-03-23T11:47:19.668406",
     "exception": false,
     "start_time": "2023-03-23T11:47:19.612884",
     "status": "completed"
    },
    "tags": []
   },
   "outputs": [
    {
     "data": {
      "text/html": [
       "<div>\n",
       "<style scoped>\n",
       "    .dataframe tbody tr th:only-of-type {\n",
       "        vertical-align: middle;\n",
       "    }\n",
       "\n",
       "    .dataframe tbody tr th {\n",
       "        vertical-align: top;\n",
       "    }\n",
       "\n",
       "    .dataframe thead th {\n",
       "        text-align: right;\n",
       "    }\n",
       "</style>\n",
       "<table border=\"1\" class=\"dataframe\">\n",
       "  <thead>\n",
       "    <tr style=\"text-align: right;\">\n",
       "      <th></th>\n",
       "      <th>Unnamed: 0</th>\n",
       "      <th>site_id</th>\n",
       "      <th>patient_id</th>\n",
       "      <th>image_id</th>\n",
       "      <th>age</th>\n",
       "      <th>machine_id</th>\n",
       "      <th>laterality_L</th>\n",
       "      <th>laterality_R</th>\n",
       "      <th>view_CC</th>\n",
       "      <th>view_MLO</th>\n",
       "      <th>...</th>\n",
       "      <th>BIRADS_1.0</th>\n",
       "      <th>BIRADS_2.0</th>\n",
       "      <th>implant_0</th>\n",
       "      <th>implant_1</th>\n",
       "      <th>density_A</th>\n",
       "      <th>density_B</th>\n",
       "      <th>density_C</th>\n",
       "      <th>density_D</th>\n",
       "      <th>difficult_negative_case_False</th>\n",
       "      <th>difficult_negative_case_True</th>\n",
       "    </tr>\n",
       "  </thead>\n",
       "  <tbody>\n",
       "    <tr>\n",
       "      <th>0</th>\n",
       "      <td>0</td>\n",
       "      <td>1</td>\n",
       "      <td>10038</td>\n",
       "      <td>1967300488</td>\n",
       "      <td>60.0</td>\n",
       "      <td>216</td>\n",
       "      <td>1</td>\n",
       "      <td>0</td>\n",
       "      <td>0</td>\n",
       "      <td>1</td>\n",
       "      <td>...</td>\n",
       "      <td>1</td>\n",
       "      <td>0</td>\n",
       "      <td>1</td>\n",
       "      <td>0</td>\n",
       "      <td>0</td>\n",
       "      <td>0</td>\n",
       "      <td>1</td>\n",
       "      <td>0</td>\n",
       "      <td>1</td>\n",
       "      <td>0</td>\n",
       "    </tr>\n",
       "    <tr>\n",
       "      <th>1</th>\n",
       "      <td>1</td>\n",
       "      <td>1</td>\n",
       "      <td>10038</td>\n",
       "      <td>2142944869</td>\n",
       "      <td>60.0</td>\n",
       "      <td>216</td>\n",
       "      <td>1</td>\n",
       "      <td>0</td>\n",
       "      <td>1</td>\n",
       "      <td>0</td>\n",
       "      <td>...</td>\n",
       "      <td>1</td>\n",
       "      <td>0</td>\n",
       "      <td>1</td>\n",
       "      <td>0</td>\n",
       "      <td>0</td>\n",
       "      <td>0</td>\n",
       "      <td>1</td>\n",
       "      <td>0</td>\n",
       "      <td>1</td>\n",
       "      <td>0</td>\n",
       "    </tr>\n",
       "    <tr>\n",
       "      <th>2</th>\n",
       "      <td>2</td>\n",
       "      <td>1</td>\n",
       "      <td>10038</td>\n",
       "      <td>850559196</td>\n",
       "      <td>60.0</td>\n",
       "      <td>216</td>\n",
       "      <td>0</td>\n",
       "      <td>1</td>\n",
       "      <td>0</td>\n",
       "      <td>1</td>\n",
       "      <td>...</td>\n",
       "      <td>1</td>\n",
       "      <td>0</td>\n",
       "      <td>1</td>\n",
       "      <td>0</td>\n",
       "      <td>0</td>\n",
       "      <td>0</td>\n",
       "      <td>1</td>\n",
       "      <td>0</td>\n",
       "      <td>1</td>\n",
       "      <td>0</td>\n",
       "    </tr>\n",
       "    <tr>\n",
       "      <th>3</th>\n",
       "      <td>3</td>\n",
       "      <td>1</td>\n",
       "      <td>10038</td>\n",
       "      <td>1350492010</td>\n",
       "      <td>60.0</td>\n",
       "      <td>216</td>\n",
       "      <td>0</td>\n",
       "      <td>1</td>\n",
       "      <td>1</td>\n",
       "      <td>0</td>\n",
       "      <td>...</td>\n",
       "      <td>1</td>\n",
       "      <td>0</td>\n",
       "      <td>1</td>\n",
       "      <td>0</td>\n",
       "      <td>0</td>\n",
       "      <td>0</td>\n",
       "      <td>1</td>\n",
       "      <td>0</td>\n",
       "      <td>1</td>\n",
       "      <td>0</td>\n",
       "    </tr>\n",
       "    <tr>\n",
       "      <th>4</th>\n",
       "      <td>4</td>\n",
       "      <td>1</td>\n",
       "      <td>10042</td>\n",
       "      <td>102733848</td>\n",
       "      <td>51.0</td>\n",
       "      <td>93</td>\n",
       "      <td>1</td>\n",
       "      <td>0</td>\n",
       "      <td>1</td>\n",
       "      <td>0</td>\n",
       "      <td>...</td>\n",
       "      <td>1</td>\n",
       "      <td>0</td>\n",
       "      <td>1</td>\n",
       "      <td>0</td>\n",
       "      <td>0</td>\n",
       "      <td>0</td>\n",
       "      <td>1</td>\n",
       "      <td>0</td>\n",
       "      <td>1</td>\n",
       "      <td>0</td>\n",
       "    </tr>\n",
       "  </tbody>\n",
       "</table>\n",
       "<p>5 rows × 27 columns</p>\n",
       "</div>"
      ],
      "text/plain": [
       "   Unnamed: 0  site_id  patient_id    image_id   age  machine_id  \\\n",
       "0           0        1       10038  1967300488  60.0         216   \n",
       "1           1        1       10038  2142944869  60.0         216   \n",
       "2           2        1       10038   850559196  60.0         216   \n",
       "3           3        1       10038  1350492010  60.0         216   \n",
       "4           4        1       10042   102733848  51.0          93   \n",
       "\n",
       "   laterality_L  laterality_R  view_CC  view_MLO  ...  BIRADS_1.0  BIRADS_2.0  \\\n",
       "0             1             0        0         1  ...           1           0   \n",
       "1             1             0        1         0  ...           1           0   \n",
       "2             0             1        0         1  ...           1           0   \n",
       "3             0             1        1         0  ...           1           0   \n",
       "4             1             0        1         0  ...           1           0   \n",
       "\n",
       "   implant_0  implant_1  density_A  density_B  density_C  density_D  \\\n",
       "0          1          0          0          0          1          0   \n",
       "1          1          0          0          0          1          0   \n",
       "2          1          0          0          0          1          0   \n",
       "3          1          0          0          0          1          0   \n",
       "4          1          0          0          0          1          0   \n",
       "\n",
       "   difficult_negative_case_False  difficult_negative_case_True  \n",
       "0                              1                             0  \n",
       "1                              1                             0  \n",
       "2                              1                             0  \n",
       "3                              1                             0  \n",
       "4                              1                             0  \n",
       "\n",
       "[5 rows x 27 columns]"
      ]
     },
     "execution_count": 4,
     "metadata": {},
     "output_type": "execute_result"
    }
   ],
   "source": [
    "df.head()"
   ]
  },
  {
   "cell_type": "markdown",
   "id": "54e2e325",
   "metadata": {
    "papermill": {
     "duration": 0.006868,
     "end_time": "2023-03-23T11:47:19.682752",
     "exception": false,
     "start_time": "2023-03-23T11:47:19.675884",
     "status": "completed"
    },
    "tags": []
   },
   "source": [
    "# Feature engineering with HOG and undersampling"
   ]
  },
  {
   "cell_type": "markdown",
   "id": "531d1096",
   "metadata": {
    "papermill": {
     "duration": 0.00676,
     "end_time": "2023-03-23T11:47:19.696687",
     "exception": false,
     "start_time": "2023-03-23T11:47:19.689927",
     "status": "completed"
    },
    "tags": []
   },
   "source": [
    "Before using a scaler, we need to decide how to use the pixel values as features. Instead of directly using the pixel values, we will use features created by HOG (histogram of oriented gradients).\n",
    "\n",
    "Also, because the data is very imbalanced (the mammograms with cancer represent only 4 percent of all mammograms), we will use both undersampling and oversampling. In the cells below, we undersample by collecting all mammograms with cancer and collecting 5 times as many mammograms without cancer (and throw away the rest of the mammograms without cancer)."
   ]
  },
  {
   "cell_type": "code",
   "execution_count": 5,
   "id": "d7d0d294",
   "metadata": {
    "execution": {
     "iopub.execute_input": "2023-03-23T11:47:19.713827Z",
     "iopub.status.busy": "2023-03-23T11:47:19.712474Z",
     "iopub.status.idle": "2023-03-23T11:47:19.739590Z",
     "shell.execute_reply": "2023-03-23T11:47:19.738109Z"
    },
    "papermill": {
     "duration": 0.038928,
     "end_time": "2023-03-23T11:47:19.742733",
     "exception": false,
     "start_time": "2023-03-23T11:47:19.703805",
     "status": "completed"
    },
    "tags": []
   },
   "outputs": [
    {
     "name": "stdout",
     "output_type": "stream",
     "text": [
      "(662, 28)\n",
      "(22972, 28)\n"
     ]
    }
   ],
   "source": [
    "df_cancer = df[df['cancer_1']==1].reset_index()\n",
    "df_no_cancer = df[df['cancer_1']==0].reset_index()\n",
    "print(df_cancer.shape)\n",
    "print(df_no_cancer.shape)"
   ]
  },
  {
   "cell_type": "code",
   "execution_count": 6,
   "id": "ff977378",
   "metadata": {
    "execution": {
     "iopub.execute_input": "2023-03-23T11:47:19.762864Z",
     "iopub.status.busy": "2023-03-23T11:47:19.762037Z",
     "iopub.status.idle": "2023-03-23T11:50:14.275202Z",
     "shell.execute_reply": "2023-03-23T11:50:14.273900Z"
    },
    "papermill": {
     "duration": 174.525922,
     "end_time": "2023-03-23T11:50:14.278242",
     "exception": false,
     "start_time": "2023-03-23T11:47:19.752320",
     "status": "completed"
    },
    "tags": []
   },
   "outputs": [
    {
     "name": "stderr",
     "output_type": "stream",
     "text": [
      "100%|██████████| 662/662 [00:31<00:00, 21.27it/s]\n",
      "100%|██████████| 3310/3310 [02:23<00:00, 23.09it/s]\n"
     ]
    }
   ],
   "source": [
    "X = []\n",
    "\n",
    "for i in tqdm(range(len(df_cancer))):\n",
    "    key = str(df_cancer['patient_id'][i]) + '/' + str(df_cancer['image_id'][i])\n",
    "    \n",
    "    resized_img = img_dict[key].resize((275,275))\n",
    "    #arr = np.array(resized_img).ravel()\n",
    "    arr = hog(resized_img, orientations=9, pixels_per_cell=(8, 8), cells_per_block=(2, 2))\n",
    "    \n",
    "    arr = np.append(arr, df_cancer['age'][i])\n",
    "    arr = np.append(arr, df_cancer['laterality_L'][i])\n",
    "    arr = np.append(arr, df_cancer['view_CC'][i])\n",
    "    arr = np.append(arr, df_cancer['biopsy_0'][i])\n",
    "    arr = np.append(arr, df_cancer['implant_0'][i])\n",
    "    arr = np.append(arr, df_cancer['invasive_0'][i])\n",
    "    arr = np.append(arr, df_cancer['BIRADS_0.0'][i])\n",
    "    arr = np.append(arr, df_cancer['BIRADS_1.0'][i])\n",
    "    arr = np.append(arr, df_cancer['BIRADS_2.0'][i])\n",
    "    arr = np.append(arr, df_cancer['density_A'][i])\n",
    "    arr = np.append(arr, df_cancer['density_B'][i])\n",
    "    arr = np.append(arr, df_cancer['density_C'][i])\n",
    "    arr = np.append(arr, df_cancer['difficult_negative_case_False'][i])\n",
    "\n",
    "    X.append(arr)\n",
    "    \n",
    "for i in tqdm(range(5*len(df_cancer))):\n",
    "    key = str(df_no_cancer['patient_id'][i]) + '/' + str(df_no_cancer['image_id'][i])\n",
    "    \n",
    "    resized_img = img_dict[key].resize((275,275))\n",
    "    #arr = np.array(resized_img).ravel()\n",
    "    arr = hog(resized_img, orientations=9, pixels_per_cell=(8, 8), cells_per_block=(2, 2))\n",
    "    \n",
    "    arr = np.append(arr, df_no_cancer['age'][i])\n",
    "    arr = np.append(arr, df_no_cancer['laterality_L'][i])\n",
    "    arr = np.append(arr, df_no_cancer['view_CC'][i])\n",
    "    arr = np.append(arr, df_no_cancer['biopsy_0'][i])\n",
    "    arr = np.append(arr, df_no_cancer['implant_0'][i])\n",
    "    arr = np.append(arr, df_no_cancer['invasive_0'][i])\n",
    "    arr = np.append(arr, df_no_cancer['BIRADS_0.0'][i])\n",
    "    arr = np.append(arr, df_no_cancer['BIRADS_1.0'][i])\n",
    "    arr = np.append(arr, df_no_cancer['BIRADS_2.0'][i])\n",
    "    arr = np.append(arr, df_no_cancer['density_A'][i])\n",
    "    arr = np.append(arr, df_no_cancer['density_B'][i])\n",
    "    arr = np.append(arr, df_no_cancer['density_C'][i])\n",
    "    arr = np.append(arr, df_no_cancer['difficult_negative_case_False'][i])\n",
    "    \n",
    "    X.append(arr)"
   ]
  },
  {
   "cell_type": "markdown",
   "id": "379da9ee",
   "metadata": {
    "papermill": {
     "duration": 0.090422,
     "end_time": "2023-03-23T11:50:14.458530",
     "exception": false,
     "start_time": "2023-03-23T11:50:14.368108",
     "status": "completed"
    },
    "tags": []
   },
   "source": [
    "Our Y dataframe (consisting of the labels) is:"
   ]
  },
  {
   "cell_type": "code",
   "execution_count": 7,
   "id": "6126d234",
   "metadata": {
    "execution": {
     "iopub.execute_input": "2023-03-23T11:50:14.637670Z",
     "iopub.status.busy": "2023-03-23T11:50:14.636699Z",
     "iopub.status.idle": "2023-03-23T11:50:14.671296Z",
     "shell.execute_reply": "2023-03-23T11:50:14.669891Z"
    },
    "papermill": {
     "duration": 0.12771,
     "end_time": "2023-03-23T11:50:14.674802",
     "exception": false,
     "start_time": "2023-03-23T11:50:14.547092",
     "status": "completed"
    },
    "tags": []
   },
   "outputs": [],
   "source": [
    "Y = []\n",
    "\n",
    "for i in range(len(df_cancer)):\n",
    "    Y.append(df_cancer['cancer_1'][i])\n",
    "    \n",
    "for i in range(5*len(df_cancer)):\n",
    "    Y.append(df_no_cancer['cancer_1'][i])"
   ]
  },
  {
   "cell_type": "markdown",
   "id": "ad041a9c",
   "metadata": {
    "papermill": {
     "duration": 0.089013,
     "end_time": "2023-03-23T11:50:14.853806",
     "exception": false,
     "start_time": "2023-03-23T11:50:14.764793",
     "status": "completed"
    },
    "tags": []
   },
   "source": [
    "# Train-test split"
   ]
  },
  {
   "cell_type": "markdown",
   "id": "aaa687be",
   "metadata": {
    "papermill": {
     "duration": 0.087309,
     "end_time": "2023-03-23T11:50:15.029201",
     "exception": false,
     "start_time": "2023-03-23T11:50:14.941892",
     "status": "completed"
    },
    "tags": []
   },
   "source": [
    "We split the data into a train and a test set, with train_size set to 0.5 so that half of the data goes to train and half goes to test."
   ]
  },
  {
   "cell_type": "code",
   "execution_count": 8,
   "id": "453197fc",
   "metadata": {
    "execution": {
     "iopub.execute_input": "2023-03-23T11:50:15.207862Z",
     "iopub.status.busy": "2023-03-23T11:50:15.207303Z",
     "iopub.status.idle": "2023-03-23T11:50:15.217473Z",
     "shell.execute_reply": "2023-03-23T11:50:15.216120Z"
    },
    "papermill": {
     "duration": 0.102724,
     "end_time": "2023-03-23T11:50:15.220364",
     "exception": false,
     "start_time": "2023-03-23T11:50:15.117640",
     "status": "completed"
    },
    "tags": []
   },
   "outputs": [],
   "source": [
    "Xtrain, Xtest, Ytrain, Ytest = train_test_split(X, Y, train_size = 0.5, random_state = 13)"
   ]
  },
  {
   "cell_type": "code",
   "execution_count": 9,
   "id": "184126ad",
   "metadata": {
    "execution": {
     "iopub.execute_input": "2023-03-23T11:50:15.403101Z",
     "iopub.status.busy": "2023-03-23T11:50:15.402055Z",
     "iopub.status.idle": "2023-03-23T11:50:15.410905Z",
     "shell.execute_reply": "2023-03-23T11:50:15.409244Z"
    },
    "papermill": {
     "duration": 0.104564,
     "end_time": "2023-03-23T11:50:15.413811",
     "exception": false,
     "start_time": "2023-03-23T11:50:15.309247",
     "status": "completed"
    },
    "tags": []
   },
   "outputs": [
    {
     "name": "stdout",
     "output_type": "stream",
     "text": [
      "1986 1986 1986 1986\n"
     ]
    }
   ],
   "source": [
    "print(len(Xtrain), len(Xtest), len(Ytrain), len(Ytest))"
   ]
  },
  {
   "cell_type": "markdown",
   "id": "f6a6df60",
   "metadata": {
    "papermill": {
     "duration": 0.089289,
     "end_time": "2023-03-23T11:50:15.591337",
     "exception": false,
     "start_time": "2023-03-23T11:50:15.502048",
     "status": "completed"
    },
    "tags": []
   },
   "source": [
    "# Oversampling with SMOTE"
   ]
  },
  {
   "cell_type": "markdown",
   "id": "c37cbc58",
   "metadata": {
    "papermill": {
     "duration": 0.091311,
     "end_time": "2023-03-23T11:50:15.772820",
     "exception": false,
     "start_time": "2023-03-23T11:50:15.681509",
     "status": "completed"
    },
    "tags": []
   },
   "source": [
    "We now use SMOTE to oversample the minority class. We will end up with a balanced train dataset in the end (with the same number of mammograms with cancer as without cancer)."
   ]
  },
  {
   "cell_type": "code",
   "execution_count": 10,
   "id": "e5dff3e8",
   "metadata": {
    "execution": {
     "iopub.execute_input": "2023-03-23T11:50:15.953711Z",
     "iopub.status.busy": "2023-03-23T11:50:15.952800Z",
     "iopub.status.idle": "2023-03-23T11:50:27.726700Z",
     "shell.execute_reply": "2023-03-23T11:50:27.725456Z"
    },
    "papermill": {
     "duration": 11.868014,
     "end_time": "2023-03-23T11:50:27.729943",
     "exception": false,
     "start_time": "2023-03-23T11:50:15.861929",
     "status": "completed"
    },
    "tags": []
   },
   "outputs": [],
   "source": [
    "sm = SMOTE(random_state = 2, k_neighbors = 3)\n",
    "Xtrain, Ytrain = sm.fit_resample(Xtrain, Ytrain)"
   ]
  },
  {
   "cell_type": "code",
   "execution_count": 11,
   "id": "c9f57944",
   "metadata": {
    "execution": {
     "iopub.execute_input": "2023-03-23T11:50:27.911999Z",
     "iopub.status.busy": "2023-03-23T11:50:27.911452Z",
     "iopub.status.idle": "2023-03-23T11:50:27.918365Z",
     "shell.execute_reply": "2023-03-23T11:50:27.916905Z"
    },
    "papermill": {
     "duration": 0.101476,
     "end_time": "2023-03-23T11:50:27.921414",
     "exception": false,
     "start_time": "2023-03-23T11:50:27.819938",
     "status": "completed"
    },
    "tags": []
   },
   "outputs": [
    {
     "name": "stdout",
     "output_type": "stream",
     "text": [
      "3326 3326\n",
      "1663\n",
      "1663\n"
     ]
    }
   ],
   "source": [
    "print(len(Xtrain),len(Ytrain))\n",
    "print(Ytrain.count(0))\n",
    "print(Ytrain.count(1))"
   ]
  },
  {
   "cell_type": "markdown",
   "id": "460a74dd",
   "metadata": {
    "papermill": {
     "duration": 0.08894,
     "end_time": "2023-03-23T11:50:28.098911",
     "exception": false,
     "start_time": "2023-03-23T11:50:28.009971",
     "status": "completed"
    },
    "tags": []
   },
   "source": [
    "# Scaling"
   ]
  },
  {
   "cell_type": "markdown",
   "id": "483d78e4",
   "metadata": {
    "papermill": {
     "duration": 0.089422,
     "end_time": "2023-03-23T11:50:28.278010",
     "exception": false,
     "start_time": "2023-03-23T11:50:28.188588",
     "status": "completed"
    },
    "tags": []
   },
   "source": [
    "We scale the train data with MinMaxScaler."
   ]
  },
  {
   "cell_type": "code",
   "execution_count": 12,
   "id": "6aa54551",
   "metadata": {
    "execution": {
     "iopub.execute_input": "2023-03-23T11:50:28.565767Z",
     "iopub.status.busy": "2023-03-23T11:50:28.565222Z",
     "iopub.status.idle": "2023-03-23T11:50:54.503606Z",
     "shell.execute_reply": "2023-03-23T11:50:54.502346Z"
    },
    "papermill": {
     "duration": 26.033921,
     "end_time": "2023-03-23T11:50:54.507003",
     "exception": false,
     "start_time": "2023-03-23T11:50:28.473082",
     "status": "completed"
    },
    "tags": []
   },
   "outputs": [],
   "source": [
    "scaler = MinMaxScaler()\n",
    "scaler.fit(Xtrain)\n",
    "Xtrain_scaled = scaler.transform(Xtrain)"
   ]
  },
  {
   "cell_type": "code",
   "execution_count": 13,
   "id": "5764ac36",
   "metadata": {
    "execution": {
     "iopub.execute_input": "2023-03-23T11:50:54.693913Z",
     "iopub.status.busy": "2023-03-23T11:50:54.693167Z",
     "iopub.status.idle": "2023-03-23T11:50:55.676511Z",
     "shell.execute_reply": "2023-03-23T11:50:55.674978Z"
    },
    "papermill": {
     "duration": 1.081568,
     "end_time": "2023-03-23T11:50:55.680003",
     "exception": false,
     "start_time": "2023-03-23T11:50:54.598435",
     "status": "completed"
    },
    "tags": []
   },
   "outputs": [],
   "source": [
    "Xtest_scaled = scaler.transform(Xtest)"
   ]
  },
  {
   "cell_type": "markdown",
   "id": "e990011d",
   "metadata": {
    "papermill": {
     "duration": 0.090802,
     "end_time": "2023-03-23T11:50:55.861717",
     "exception": false,
     "start_time": "2023-03-23T11:50:55.770915",
     "status": "completed"
    },
    "tags": []
   },
   "source": [
    "# PCA"
   ]
  },
  {
   "cell_type": "markdown",
   "id": "63661852",
   "metadata": {
    "papermill": {
     "duration": 0.088871,
     "end_time": "2023-03-23T11:50:56.040515",
     "exception": false,
     "start_time": "2023-03-23T11:50:55.951644",
     "status": "completed"
    },
    "tags": []
   },
   "source": [
    "Finally, we use the PCA transformation to reduce the dimensionality of the data."
   ]
  },
  {
   "cell_type": "code",
   "execution_count": 14,
   "id": "0fb3e094",
   "metadata": {
    "execution": {
     "iopub.execute_input": "2023-03-23T11:50:56.223229Z",
     "iopub.status.busy": "2023-03-23T11:50:56.222739Z",
     "iopub.status.idle": "2023-03-23T11:52:56.665998Z",
     "shell.execute_reply": "2023-03-23T11:52:56.664678Z"
    },
    "papermill": {
     "duration": 120.538048,
     "end_time": "2023-03-23T11:52:56.669385",
     "exception": false,
     "start_time": "2023-03-23T11:50:56.131337",
     "status": "completed"
    },
    "tags": []
   },
   "outputs": [],
   "source": [
    "pca = PCA()\n",
    "Xtrain_pca = pca.fit(Xtrain_scaled)"
   ]
  },
  {
   "cell_type": "code",
   "execution_count": 15,
   "id": "77a689fa",
   "metadata": {
    "execution": {
     "iopub.execute_input": "2023-03-23T11:52:56.852967Z",
     "iopub.status.busy": "2023-03-23T11:52:56.851456Z",
     "iopub.status.idle": "2023-03-23T11:52:57.860570Z",
     "shell.execute_reply": "2023-03-23T11:52:57.859293Z"
    },
    "papermill": {
     "duration": 1.104636,
     "end_time": "2023-03-23T11:52:57.863501",
     "exception": false,
     "start_time": "2023-03-23T11:52:56.758865",
     "status": "completed"
    },
    "tags": []
   },
   "outputs": [
    {
     "data": {
      "text/plain": [
       "Text(0, 0.5, 'Cumulative ratio variance')"
      ]
     },
     "execution_count": 15,
     "metadata": {},
     "output_type": "execute_result"
    },
    {
     "data": {
      "image/png": "[encoded data removed]",
      "text/plain": [
       "<Figure size 1000x600 with 1 Axes>"
      ]
     },
     "metadata": {},
     "output_type": "display_data"
    }
   ],
   "source": [
    "#Plot the cumulative variance ratio with number of components.\n",
    "plt.subplots(figsize=(10, 6))\n",
    "plt.plot(Xtrain_pca.explained_variance_ratio_.cumsum())\n",
    "plt.xlabel('Component #')\n",
    "plt.ylabel('Cumulative ratio variance')"
   ]
  },
  {
   "cell_type": "markdown",
   "id": "c7985548",
   "metadata": {
    "papermill": {
     "duration": 0.088909,
     "end_time": "2023-03-23T11:52:58.041763",
     "exception": false,
     "start_time": "2023-03-23T11:52:57.952854",
     "status": "completed"
    },
    "tags": []
   },
   "source": [
    "We will choose the number of PCA components to be 500, which corresponds to a cumulative ratio variance of around 0.8."
   ]
  },
  {
   "cell_type": "code",
   "execution_count": 16,
   "id": "ec4077a2",
   "metadata": {
    "execution": {
     "iopub.execute_input": "2023-03-23T11:52:58.223837Z",
     "iopub.status.busy": "2023-03-23T11:52:58.223280Z",
     "iopub.status.idle": "2023-03-23T11:53:20.414119Z",
     "shell.execute_reply": "2023-03-23T11:53:20.409335Z"
    },
    "papermill": {
     "duration": 22.291765,
     "end_time": "2023-03-23T11:53:20.423757",
     "exception": false,
     "start_time": "2023-03-23T11:52:58.131992",
     "status": "completed"
    },
    "tags": []
   },
   "outputs": [],
   "source": [
    "pca = PCA(n_components=100)\n",
    "pca.fit(Xtrain_scaled)\n",
    "Xtrain_scaled_pca = pca.transform(Xtrain_scaled)\n",
    "Xtest_scaled_pca = pca.transform(Xtest_scaled)"
   ]
  },
  {
   "cell_type": "code",
   "execution_count": 17,
   "id": "a295b8a3",
   "metadata": {
    "execution": {
     "iopub.execute_input": "2023-03-23T11:53:20.677881Z",
     "iopub.status.busy": "2023-03-23T11:53:20.676366Z",
     "iopub.status.idle": "2023-03-23T11:53:20.684655Z",
     "shell.execute_reply": "2023-03-23T11:53:20.683378Z"
    },
    "papermill": {
     "duration": 0.107454,
     "end_time": "2023-03-23T11:53:20.688567",
     "exception": false,
     "start_time": "2023-03-23T11:53:20.581113",
     "status": "completed"
    },
    "tags": []
   },
   "outputs": [
    {
     "name": "stdout",
     "output_type": "stream",
     "text": [
      "100\n",
      "100\n"
     ]
    }
   ],
   "source": [
    "print(len(Xtrain_scaled_pca[0]))\n",
    "print(len(Xtest_scaled_pca[0]))"
   ]
  },
  {
   "cell_type": "markdown",
   "id": "00b1942d",
   "metadata": {
    "papermill": {
     "duration": 0.091285,
     "end_time": "2023-03-23T11:53:20.869559",
     "exception": false,
     "start_time": "2023-03-23T11:53:20.778274",
     "status": "completed"
    },
    "tags": []
   },
   "source": [
    "We save Xtrain_scaled_pca, Ytrain, Xtest_scaled_pca, Ytest into pickle files."
   ]
  },
  {
   "cell_type": "code",
   "execution_count": 18,
   "id": "814ea453",
   "metadata": {
    "execution": {
     "iopub.execute_input": "2023-03-23T11:53:21.053469Z",
     "iopub.status.busy": "2023-03-23T11:53:21.052990Z",
     "iopub.status.idle": "2023-03-23T11:53:21.081669Z",
     "shell.execute_reply": "2023-03-23T11:53:21.080253Z"
    },
    "papermill": {
     "duration": 0.124661,
     "end_time": "2023-03-23T11:53:21.085263",
     "exception": false,
     "start_time": "2023-03-23T11:53:20.960602",
     "status": "completed"
    },
    "tags": []
   },
   "outputs": [],
   "source": [
    "#Saving Xtrain_scaled_pca, Ytrain, Xtest_scaled_pca, Ytest as pickle files.\n",
    "\n",
    "fileObj = open('Xtrain_scaled_pca.pickle', 'wb')\n",
    "pickle.dump(Xtrain_scaled_pca,fileObj)\n",
    "fileObj.close()\n",
    "\n",
    "fileObj2 = open('Ytrain.pickle', 'wb')\n",
    "pickle.dump(Ytrain,fileObj2)\n",
    "fileObj2.close()\n",
    "\n",
    "fileObj3 = open('Xtest_scaled_pca.pickle', 'wb')\n",
    "pickle.dump(Xtest_scaled_pca,fileObj3)\n",
    "fileObj3.close()\n",
    "\n",
    "fileObj4 = open('Ytest.pickle', 'wb')\n",
    "pickle.dump(Ytest,fileObj4)\n",
    "fileObj4.close()"
   ]
  }
 ],
 "metadata": {
  "kernelspec": {
   "display_name": "Python 3",
   "language": "python",
   "name": "python3"
  },
  "language_info": {
   "codemirror_mode": {
    "name": "ipython",
    "version": 3
   },
   "file_extension": ".py",
   "mimetype": "text/x-python",
   "name": "python",
   "nbconvert_exporter": "python",
   "pygments_lexer": "ipython3",
   "version": "3.7.12"
  },
  "papermill": {
   "default_parameters": {},
   "duration": 469.848816,
   "end_time": "2023-03-23T11:53:24.918663",
   "environment_variables": {},
   "exception": null,
   "input_path": "__notebook__.ipynb",
   "output_path": "__notebook__.ipynb",
   "parameters": {},
   "start_time": "2023-03-23T11:45:35.069847",
   "version": "2.4.0"
  }
 },
 "nbformat": 4,
 "nbformat_minor": 5
}
