{
 "cells": [
  {
   "cell_type": "code",
   "execution_count": 1,
   "id": "48be67ee",
   "metadata": {
    "_cell_guid": "b1076dfc-b9ad-4769-8c92-a6c4dae69d19",
    "_uuid": "8f2839f25d086af736a60e9eeb907d3b93b6e0e5",
    "execution": {
     "iopub.execute_input": "2023-01-11T23:10:53.623865Z",
     "iopub.status.busy": "2023-01-11T23:10:53.623379Z",
     "iopub.status.idle": "2023-01-11T23:10:53.774695Z",
     "shell.execute_reply": "2023-01-11T23:10:53.773539Z"
    },
    "papermill": {
     "duration": 0.161559,
     "end_time": "2023-01-11T23:10:53.777715",
     "exception": false,
     "start_time": "2023-01-11T23:10:53.616156",
     "status": "completed"
    },
    "tags": []
   },
   "outputs": [],
   "source": [
    "# This Python 3 environment comes with many helpful analytics libraries installed\n",
    "# It is defined by the kaggle/python Docker image: https://github.com/kaggle/docker-python\n",
    "# For example, here's several helpful packages to load\n",
    "\n",
    "import numpy as np # linear algebra\n",
    "import pandas as pd # data processing, CSV file I/O (e.g. pd.read_csv)\n",
    "import matplotlib.pyplot as plt\n",
    "import pydicom\n",
    "\n",
    "# Input data files are available in the read-only \"../input/\" directory\n",
    "# For example, running this (by clicking run or pressing Shift+Enter) will list all files under the input directory\n",
    "\n",
    "import os\n",
    "#for dirname, _, filenames in os.walk('/kaggle/input'):\n",
    "    #for filename in filenames:\n",
    "        #print(os.path.join(dirname, filename))\n",
    "\n",
    "# You can write up to 20GB to the current directory (/kaggle/working/) that gets preserved as output when you create a version using \"Save & Run All\" \n",
    "# You can also write temporary files to /kaggle/temp/, but they won't be saved outside of the current session"
   ]
  },
  {
   "cell_type": "markdown",
   "id": "b8bf5f5e",
   "metadata": {
    "papermill": {
     "duration": 0.003933,
     "end_time": "2023-01-11T23:10:53.786140",
     "exception": false,
     "start_time": "2023-01-11T23:10:53.782207",
     "status": "completed"
    },
    "tags": []
   },
   "source": [
    "# **Data collection**"
   ]
  },
  {
   "cell_type": "code",
   "execution_count": 2,
   "id": "12d3472d",
   "metadata": {
    "execution": {
     "iopub.execute_input": "2023-01-11T23:10:53.796309Z",
     "iopub.status.busy": "2023-01-11T23:10:53.795866Z",
     "iopub.status.idle": "2023-01-11T23:10:53.953387Z",
     "shell.execute_reply": "2023-01-11T23:10:53.952506Z"
    },
    "papermill": {
     "duration": 0.16613,
     "end_time": "2023-01-11T23:10:53.956425",
     "exception": false,
     "start_time": "2023-01-11T23:10:53.790295",
     "status": "completed"
    },
    "tags": []
   },
   "outputs": [
    {
     "data": {
      "text/html": [
       "<div>\n",
       "<style scoped>\n",
       "    .dataframe tbody tr th:only-of-type {\n",
       "        vertical-align: middle;\n",
       "    }\n",
       "\n",
       "    .dataframe tbody tr th {\n",
       "        vertical-align: top;\n",
       "    }\n",
       "\n",
       "    .dataframe thead th {\n",
       "        text-align: right;\n",
       "    }\n",
       "</style>\n",
       "<table border=\"1\" class=\"dataframe\">\n",
       "  <thead>\n",
       "    <tr style=\"text-align: right;\">\n",
       "      <th></th>\n",
       "      <th>site_id</th>\n",
       "      <th>patient_id</th>\n",
       "      <th>image_id</th>\n",
       "      <th>laterality</th>\n",
       "      <th>view</th>\n",
       "      <th>age</th>\n",
       "      <th>cancer</th>\n",
       "      <th>biopsy</th>\n",
       "      <th>invasive</th>\n",
       "      <th>BIRADS</th>\n",
       "      <th>implant</th>\n",
       "      <th>density</th>\n",
       "      <th>machine_id</th>\n",
       "      <th>difficult_negative_case</th>\n",
       "    </tr>\n",
       "  </thead>\n",
       "  <tbody>\n",
       "    <tr>\n",
       "      <th>0</th>\n",
       "      <td>2</td>\n",
       "      <td>10006</td>\n",
       "      <td>462822612</td>\n",
       "      <td>L</td>\n",
       "      <td>CC</td>\n",
       "      <td>61.0</td>\n",
       "      <td>0</td>\n",
       "      <td>0</td>\n",
       "      <td>0</td>\n",
       "      <td>NaN</td>\n",
       "      <td>0</td>\n",
       "      <td>NaN</td>\n",
       "      <td>29</td>\n",
       "      <td>False</td>\n",
       "    </tr>\n",
       "    <tr>\n",
       "      <th>1</th>\n",
       "      <td>2</td>\n",
       "      <td>10006</td>\n",
       "      <td>1459541791</td>\n",
       "      <td>L</td>\n",
       "      <td>MLO</td>\n",
       "      <td>61.0</td>\n",
       "      <td>0</td>\n",
       "      <td>0</td>\n",
       "      <td>0</td>\n",
       "      <td>NaN</td>\n",
       "      <td>0</td>\n",
       "      <td>NaN</td>\n",
       "      <td>29</td>\n",
       "      <td>False</td>\n",
       "    </tr>\n",
       "    <tr>\n",
       "      <th>2</th>\n",
       "      <td>2</td>\n",
       "      <td>10006</td>\n",
       "      <td>1864590858</td>\n",
       "      <td>R</td>\n",
       "      <td>MLO</td>\n",
       "      <td>61.0</td>\n",
       "      <td>0</td>\n",
       "      <td>0</td>\n",
       "      <td>0</td>\n",
       "      <td>NaN</td>\n",
       "      <td>0</td>\n",
       "      <td>NaN</td>\n",
       "      <td>29</td>\n",
       "      <td>False</td>\n",
       "    </tr>\n",
       "    <tr>\n",
       "      <th>3</th>\n",
       "      <td>2</td>\n",
       "      <td>10006</td>\n",
       "      <td>1874946579</td>\n",
       "      <td>R</td>\n",
       "      <td>CC</td>\n",
       "      <td>61.0</td>\n",
       "      <td>0</td>\n",
       "      <td>0</td>\n",
       "      <td>0</td>\n",
       "      <td>NaN</td>\n",
       "      <td>0</td>\n",
       "      <td>NaN</td>\n",
       "      <td>29</td>\n",
       "      <td>False</td>\n",
       "    </tr>\n",
       "    <tr>\n",
       "      <th>4</th>\n",
       "      <td>2</td>\n",
       "      <td>10011</td>\n",
       "      <td>220375232</td>\n",
       "      <td>L</td>\n",
       "      <td>CC</td>\n",
       "      <td>55.0</td>\n",
       "      <td>0</td>\n",
       "      <td>0</td>\n",
       "      <td>0</td>\n",
       "      <td>0.0</td>\n",
       "      <td>0</td>\n",
       "      <td>NaN</td>\n",
       "      <td>21</td>\n",
       "      <td>True</td>\n",
       "    </tr>\n",
       "  </tbody>\n",
       "</table>\n",
       "</div>"
      ],
      "text/plain": [
       "   site_id  patient_id    image_id laterality view   age  cancer  biopsy  \\\n",
       "0        2       10006   462822612          L   CC  61.0       0       0   \n",
       "1        2       10006  1459541791          L  MLO  61.0       0       0   \n",
       "2        2       10006  1864590858          R  MLO  61.0       0       0   \n",
       "3        2       10006  1874946579          R   CC  61.0       0       0   \n",
       "4        2       10011   220375232          L   CC  55.0       0       0   \n",
       "\n",
       "   invasive  BIRADS  implant density  machine_id  difficult_negative_case  \n",
       "0         0     NaN        0     NaN          29                    False  \n",
       "1         0     NaN        0     NaN          29                    False  \n",
       "2         0     NaN        0     NaN          29                    False  \n",
       "3         0     NaN        0     NaN          29                    False  \n",
       "4         0     0.0        0     NaN          21                     True  "
      ]
     },
     "execution_count": 2,
     "metadata": {},
     "output_type": "execute_result"
    }
   ],
   "source": [
    "#Read in the test and train files, print first few rows of train file.\n",
    "train = pd.read_csv(\"/kaggle/input/rsna-breast-cancer-detection/train.csv\")\n",
    "test = pd.read_csv(\"/kaggle/input/rsna-breast-cancer-detection/test.csv\")\n",
    "train.head()"
   ]
  },
  {
   "cell_type": "code",
   "execution_count": 3,
   "id": "e1946fb3",
   "metadata": {
    "execution": {
     "iopub.execute_input": "2023-01-11T23:10:53.968466Z",
     "iopub.status.busy": "2023-01-11T23:10:53.967186Z",
     "iopub.status.idle": "2023-01-11T23:10:54.006859Z",
     "shell.execute_reply": "2023-01-11T23:10:54.005524Z"
    },
    "papermill": {
     "duration": 0.048295,
     "end_time": "2023-01-11T23:10:54.009577",
     "exception": false,
     "start_time": "2023-01-11T23:10:53.961282",
     "status": "completed"
    },
    "tags": []
   },
   "outputs": [
    {
     "name": "stdout",
     "output_type": "stream",
     "text": [
      "<class 'pandas.core.frame.DataFrame'>\n",
      "RangeIndex: 54706 entries, 0 to 54705\n",
      "Data columns (total 14 columns):\n",
      " #   Column                   Non-Null Count  Dtype  \n",
      "---  ------                   --------------  -----  \n",
      " 0   site_id                  54706 non-null  int64  \n",
      " 1   patient_id               54706 non-null  int64  \n",
      " 2   image_id                 54706 non-null  int64  \n",
      " 3   laterality               54706 non-null  object \n",
      " 4   view                     54706 non-null  object \n",
      " 5   age                      54669 non-null  float64\n",
      " 6   cancer                   54706 non-null  int64  \n",
      " 7   biopsy                   54706 non-null  int64  \n",
      " 8   invasive                 54706 non-null  int64  \n",
      " 9   BIRADS                   26286 non-null  float64\n",
      " 10  implant                  54706 non-null  int64  \n",
      " 11  density                  29470 non-null  object \n",
      " 12  machine_id               54706 non-null  int64  \n",
      " 13  difficult_negative_case  54706 non-null  bool   \n",
      "dtypes: bool(1), float64(2), int64(8), object(3)\n",
      "memory usage: 5.5+ MB\n"
     ]
    }
   ],
   "source": [
    "#Summary of the train dataset:\n",
    "train.info()"
   ]
  },
  {
   "cell_type": "code",
   "execution_count": 4,
   "id": "9ecf8369",
   "metadata": {
    "execution": {
     "iopub.execute_input": "2023-01-11T23:10:54.021584Z",
     "iopub.status.busy": "2023-01-11T23:10:54.020818Z",
     "iopub.status.idle": "2023-01-11T23:11:09.711532Z",
     "shell.execute_reply": "2023-01-11T23:11:09.708785Z"
    },
    "papermill": {
     "duration": 15.699421,
     "end_time": "2023-01-11T23:11:09.714225",
     "exception": false,
     "start_time": "2023-01-11T23:10:54.014804",
     "status": "completed"
    },
    "tags": []
   },
   "outputs": [
    {
     "data": {
      "image/png": "[encoded data removed]",
      "text/plain": [
       "<Figure size 432x288 with 10 Axes>"
      ]
     },
     "metadata": {
      "needs_background": "light"
     },
     "output_type": "display_data"
    }
   ],
   "source": [
    "#Visualize the first 10 mammograms in the train dataset:\n",
    "fig, axs = plt.subplots(2,5)\n",
    "\n",
    "for i in range(10):\n",
    "    patient_id = train['patient_id'][i]\n",
    "    image_id = train['image_id'][i]\n",
    "    path_img = '/kaggle/input/rsna-breast-cancer-detection/train_images/' + str(patient_id) + '/' + str(image_id) + '.dcm'\n",
    "    im = pydicom.dcmread(path_img)\n",
    "    arr = im.pixel_array\n",
    "    axs[i//5][(i%5)].imshow(np.array(arr), interpolation='none', cmap='gray')"
   ]
  },
  {
   "cell_type": "code",
   "execution_count": 5,
   "id": "1aa3bd57",
   "metadata": {
    "execution": {
     "iopub.execute_input": "2023-01-11T23:11:09.727253Z",
     "iopub.status.busy": "2023-01-11T23:11:09.726323Z",
     "iopub.status.idle": "2023-01-11T23:11:09.770877Z",
     "shell.execute_reply": "2023-01-11T23:11:09.769505Z"
    },
    "papermill": {
     "duration": 0.054134,
     "end_time": "2023-01-11T23:11:09.773734",
     "exception": false,
     "start_time": "2023-01-11T23:11:09.719600",
     "status": "completed"
    },
    "tags": []
   },
   "outputs": [
    {
     "name": "stdout",
     "output_type": "stream",
     "text": [
      "MONOCHROME1\n",
      "MONOCHROME1\n",
      "MONOCHROME1\n",
      "MONOCHROME1\n",
      "MONOCHROME2\n",
      "MONOCHROME2\n",
      "MONOCHROME2\n",
      "MONOCHROME2\n",
      "MONOCHROME1\n",
      "MONOCHROME1\n"
     ]
    }
   ],
   "source": [
    "#We see that there are 2 kinds of images: the ones with a white background, and\n",
    "#the ones with a black background. The two kinds of images correspond to two different \n",
    "#photometric interpretations (MONOCHROME1 or MONOCHROME2):\n",
    "for i in range(10):\n",
    "    patient_id = train['patient_id'][i]\n",
    "    image_id = train['image_id'][i]\n",
    "    path_img = '/kaggle/input/rsna-breast-cancer-detection/train_images/' + str(patient_id) + '/' + str(image_id) + '.dcm'\n",
    "    im = pydicom.dcmread(path_img)\n",
    "    print(im.PhotometricInterpretation)\n",
    "    \n",
    "#See the website \n",
    "#https://dicom.nema.org/medical/dicom/current/output/chtml/part03/sect_C.7.6.3.html#sect_C.7.6.3.1\n",
    "#for more details about photometric interpretations."
   ]
  },
  {
   "cell_type": "code",
   "execution_count": null,
   "id": "c7d68287",
   "metadata": {
    "papermill": {
     "duration": 0.005304,
     "end_time": "2023-01-11T23:11:09.784659",
     "exception": false,
     "start_time": "2023-01-11T23:11:09.779355",
     "status": "completed"
    },
    "tags": []
   },
   "outputs": [],
   "source": []
  },
  {
   "cell_type": "code",
   "execution_count": null,
   "id": "93cbb4bb",
   "metadata": {
    "papermill": {
     "duration": 0.00529,
     "end_time": "2023-01-11T23:11:09.795552",
     "exception": false,
     "start_time": "2023-01-11T23:11:09.790262",
     "status": "completed"
    },
    "tags": []
   },
   "outputs": [],
   "source": []
  },
  {
   "cell_type": "code",
   "execution_count": null,
   "id": "18a5b491",
   "metadata": {
    "papermill": {
     "duration": 0.005276,
     "end_time": "2023-01-11T23:11:09.806406",
     "exception": false,
     "start_time": "2023-01-11T23:11:09.801130",
     "status": "completed"
    },
    "tags": []
   },
   "outputs": [],
   "source": []
  },
  {
   "cell_type": "markdown",
   "id": "0fc88269",
   "metadata": {
    "papermill": {
     "duration": 0.005642,
     "end_time": "2023-01-11T23:11:09.817569",
     "exception": false,
     "start_time": "2023-01-11T23:11:09.811927",
     "status": "completed"
    },
    "tags": []
   },
   "source": [
    "# **Data organization**"
   ]
  },
  {
   "cell_type": "code",
   "execution_count": null,
   "id": "d6c17489",
   "metadata": {
    "papermill": {
     "duration": 0.005134,
     "end_time": "2023-01-11T23:11:09.828400",
     "exception": false,
     "start_time": "2023-01-11T23:11:09.823266",
     "status": "completed"
    },
    "tags": []
   },
   "outputs": [],
   "source": []
  },
  {
   "cell_type": "markdown",
   "id": "94577e9d",
   "metadata": {
    "papermill": {
     "duration": 0.005044,
     "end_time": "2023-01-11T23:11:09.838951",
     "exception": false,
     "start_time": "2023-01-11T23:11:09.833907",
     "status": "completed"
    },
    "tags": []
   },
   "source": [
    "# **Data definition**"
   ]
  },
  {
   "cell_type": "code",
   "execution_count": 6,
   "id": "2c3dd0d4",
   "metadata": {
    "execution": {
     "iopub.execute_input": "2023-01-11T23:11:09.851629Z",
     "iopub.status.busy": "2023-01-11T23:11:09.851196Z",
     "iopub.status.idle": "2023-01-11T23:11:11.394380Z",
     "shell.execute_reply": "2023-01-11T23:11:11.392854Z"
    },
    "papermill": {
     "duration": 1.552802,
     "end_time": "2023-01-11T23:11:11.397289",
     "exception": false,
     "start_time": "2023-01-11T23:11:09.844487",
     "status": "completed"
    },
    "tags": []
   },
   "outputs": [
    {
     "data": {
      "image/png": "[encoded data removed]",
      "text/plain": [
       "<Figure size 1080x720 with 12 Axes>"
      ]
     },
     "metadata": {
      "needs_background": "light"
     },
     "output_type": "display_data"
    }
   ],
   "source": [
    "#Visualize the distribution of feature values by histograms.\n",
    "train.hist(figsize=(15,10))\n",
    "plt.subplots_adjust(hspace=0.5);"
   ]
  },
  {
   "cell_type": "markdown",
   "id": "99af9ca2",
   "metadata": {
    "papermill": {
     "duration": 0.006082,
     "end_time": "2023-01-11T23:11:11.409841",
     "exception": false,
     "start_time": "2023-01-11T23:11:11.403759",
     "status": "completed"
    },
    "tags": []
   },
   "source": [
    "# **Data cleaning**"
   ]
  },
  {
   "cell_type": "code",
   "execution_count": 7,
   "id": "abde3a37",
   "metadata": {
    "execution": {
     "iopub.execute_input": "2023-01-11T23:11:11.425184Z",
     "iopub.status.busy": "2023-01-11T23:11:11.424349Z",
     "iopub.status.idle": "2023-01-11T23:11:11.457395Z",
     "shell.execute_reply": "2023-01-11T23:11:11.456256Z"
    },
    "papermill": {
     "duration": 0.042909,
     "end_time": "2023-01-11T23:11:11.459900",
     "exception": false,
     "start_time": "2023-01-11T23:11:11.416991",
     "status": "completed"
    },
    "tags": []
   },
   "outputs": [
    {
     "data": {
      "text/html": [
       "<div>\n",
       "<style scoped>\n",
       "    .dataframe tbody tr th:only-of-type {\n",
       "        vertical-align: middle;\n",
       "    }\n",
       "\n",
       "    .dataframe tbody tr th {\n",
       "        vertical-align: top;\n",
       "    }\n",
       "\n",
       "    .dataframe thead th {\n",
       "        text-align: right;\n",
       "    }\n",
       "</style>\n",
       "<table border=\"1\" class=\"dataframe\">\n",
       "  <thead>\n",
       "    <tr style=\"text-align: right;\">\n",
       "      <th></th>\n",
       "      <th>count</th>\n",
       "      <th>%</th>\n",
       "    </tr>\n",
       "  </thead>\n",
       "  <tbody>\n",
       "    <tr>\n",
       "      <th>BIRADS</th>\n",
       "      <td>28420</td>\n",
       "      <td>51.950426</td>\n",
       "    </tr>\n",
       "    <tr>\n",
       "      <th>density</th>\n",
       "      <td>25236</td>\n",
       "      <td>46.130223</td>\n",
       "    </tr>\n",
       "    <tr>\n",
       "      <th>age</th>\n",
       "      <td>37</td>\n",
       "      <td>0.067634</td>\n",
       "    </tr>\n",
       "    <tr>\n",
       "      <th>site_id</th>\n",
       "      <td>0</td>\n",
       "      <td>0.000000</td>\n",
       "    </tr>\n",
       "    <tr>\n",
       "      <th>patient_id</th>\n",
       "      <td>0</td>\n",
       "      <td>0.000000</td>\n",
       "    </tr>\n",
       "    <tr>\n",
       "      <th>image_id</th>\n",
       "      <td>0</td>\n",
       "      <td>0.000000</td>\n",
       "    </tr>\n",
       "    <tr>\n",
       "      <th>laterality</th>\n",
       "      <td>0</td>\n",
       "      <td>0.000000</td>\n",
       "    </tr>\n",
       "    <tr>\n",
       "      <th>view</th>\n",
       "      <td>0</td>\n",
       "      <td>0.000000</td>\n",
       "    </tr>\n",
       "    <tr>\n",
       "      <th>cancer</th>\n",
       "      <td>0</td>\n",
       "      <td>0.000000</td>\n",
       "    </tr>\n",
       "    <tr>\n",
       "      <th>biopsy</th>\n",
       "      <td>0</td>\n",
       "      <td>0.000000</td>\n",
       "    </tr>\n",
       "    <tr>\n",
       "      <th>invasive</th>\n",
       "      <td>0</td>\n",
       "      <td>0.000000</td>\n",
       "    </tr>\n",
       "    <tr>\n",
       "      <th>implant</th>\n",
       "      <td>0</td>\n",
       "      <td>0.000000</td>\n",
       "    </tr>\n",
       "    <tr>\n",
       "      <th>machine_id</th>\n",
       "      <td>0</td>\n",
       "      <td>0.000000</td>\n",
       "    </tr>\n",
       "    <tr>\n",
       "      <th>difficult_negative_case</th>\n",
       "      <td>0</td>\n",
       "      <td>0.000000</td>\n",
       "    </tr>\n",
       "  </tbody>\n",
       "</table>\n",
       "</div>"
      ],
      "text/plain": [
       "                         count          %\n",
       "BIRADS                   28420  51.950426\n",
       "density                  25236  46.130223\n",
       "age                         37   0.067634\n",
       "site_id                      0   0.000000\n",
       "patient_id                   0   0.000000\n",
       "image_id                     0   0.000000\n",
       "laterality                   0   0.000000\n",
       "view                         0   0.000000\n",
       "cancer                       0   0.000000\n",
       "biopsy                       0   0.000000\n",
       "invasive                     0   0.000000\n",
       "implant                      0   0.000000\n",
       "machine_id                   0   0.000000\n",
       "difficult_negative_case      0   0.000000"
      ]
     },
     "execution_count": 7,
     "metadata": {},
     "output_type": "execute_result"
    }
   ],
   "source": [
    "#Count the number of missing values in each column and sort the columns by missing percentage.\n",
    "missing = pd.concat([train.isnull().sum(), 100 * train.isnull().mean()], axis=1)\n",
    "missing.columns=['count', '%']\n",
    "missing.sort_values(by='%', ascending=False)"
   ]
  },
  {
   "cell_type": "code",
   "execution_count": 8,
   "id": "58087786",
   "metadata": {
    "execution": {
     "iopub.execute_input": "2023-01-11T23:11:11.474632Z",
     "iopub.status.busy": "2023-01-11T23:11:11.474215Z",
     "iopub.status.idle": "2023-01-11T23:11:11.492202Z",
     "shell.execute_reply": "2023-01-11T23:11:11.490775Z"
    },
    "papermill": {
     "duration": 0.028263,
     "end_time": "2023-01-11T23:11:11.494877",
     "exception": false,
     "start_time": "2023-01-11T23:11:11.466614",
     "status": "completed"
    },
    "tags": []
   },
   "outputs": [
    {
     "data": {
      "text/plain": [
       "462822612     1\n",
       "443006806     1\n",
       "587208264     1\n",
       "777292277     1\n",
       "1605015271    1\n",
       "Name: image_id, dtype: int64"
      ]
     },
     "execution_count": 8,
     "metadata": {},
     "output_type": "execute_result"
    }
   ],
   "source": [
    "#Find out if image_id is unique.\n",
    "train['image_id'].value_counts().head()"
   ]
  },
  {
   "cell_type": "code",
   "execution_count": null,
   "id": "44f72b93",
   "metadata": {
    "papermill": {
     "duration": 0.006009,
     "end_time": "2023-01-11T23:11:11.507481",
     "exception": false,
     "start_time": "2023-01-11T23:11:11.501472",
     "status": "completed"
    },
    "tags": []
   },
   "outputs": [],
   "source": []
  }
 ],
 "metadata": {
  "kernelspec": {
   "display_name": "Python 3",
   "language": "python",
   "name": "python3"
  },
  "language_info": {
   "codemirror_mode": {
    "name": "ipython",
    "version": 3
   },
   "file_extension": ".py",
   "mimetype": "text/x-python",
   "name": "python",
   "nbconvert_exporter": "python",
   "pygments_lexer": "ipython3",
   "version": "3.7.12"
  },
  "papermill": {
   "default_parameters": {},
   "duration": 28.40714,
   "end_time": "2023-01-11T23:11:12.236423",
   "environment_variables": {},
   "exception": null,
   "input_path": "__notebook__.ipynb",
   "output_path": "__notebook__.ipynb",
   "parameters": {},
   "start_time": "2023-01-11T23:10:43.829283",
   "version": "2.3.4"
  }
 },
 "nbformat": 4,
 "nbformat_minor": 5
}
