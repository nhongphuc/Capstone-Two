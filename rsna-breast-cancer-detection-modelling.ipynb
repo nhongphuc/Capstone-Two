{
 "cells": [
  {
   "cell_type": "code",
   "execution_count": 1,
   "id": "ea9368c1",
   "metadata": {
    "_cell_guid": "b1076dfc-b9ad-4769-8c92-a6c4dae69d19",
    "_uuid": "8f2839f25d086af736a60e9eeb907d3b93b6e0e5",
    "execution": {
     "iopub.execute_input": "2023-03-24T12:19:10.692273Z",
     "iopub.status.busy": "2023-03-24T12:19:10.691665Z",
     "iopub.status.idle": "2023-03-24T12:19:13.630313Z",
     "shell.execute_reply": "2023-03-24T12:19:13.628658Z"
    },
    "papermill": {
     "duration": 2.952344,
     "end_time": "2023-03-24T12:19:13.633616",
     "exception": false,
     "start_time": "2023-03-24T12:19:10.681272",
     "status": "completed"
    },
    "tags": []
   },
   "outputs": [
    {
     "data": {
      "text/html": [
       "<style type='text/css'>\n",
       ".datatable table.frame { margin-bottom: 0; }\n",
       ".datatable table.frame thead { border-bottom: none; }\n",
       ".datatable table.frame tr.coltypes td {  color: #FFFFFF;  line-height: 6px;  padding: 0 0.5em;}\n",
       ".datatable .bool    { background: #DDDD99; }\n",
       ".datatable .object  { background: #565656; }\n",
       ".datatable .int     { background: #5D9E5D; }\n",
       ".datatable .float   { background: #4040CC; }\n",
       ".datatable .str     { background: #CC4040; }\n",
       ".datatable .time    { background: #40CC40; }\n",
       ".datatable .row_index {  background: var(--jp-border-color3);  border-right: 1px solid var(--jp-border-color0);  color: var(--jp-ui-font-color3);  font-size: 9px;}\n",
       ".datatable .frame tbody td { text-align: left; }\n",
       ".datatable .frame tr.coltypes .row_index {  background: var(--jp-border-color0);}\n",
       ".datatable th:nth-child(2) { padding-left: 12px; }\n",
       ".datatable .hellipsis {  color: var(--jp-cell-editor-border-color);}\n",
       ".datatable .vellipsis {  background: var(--jp-layout-color0);  color: var(--jp-cell-editor-border-color);}\n",
       ".datatable .na {  color: var(--jp-cell-editor-border-color);  font-size: 80%;}\n",
       ".datatable .sp {  opacity: 0.25;}\n",
       ".datatable .footer { font-size: 9px; }\n",
       ".datatable .frame_dimensions {  background: var(--jp-border-color3);  border-top: 1px solid var(--jp-border-color0);  color: var(--jp-ui-font-color3);  display: inline-block;  opacity: 0.6;  padding: 1px 10px 1px 5px;}\n",
       "</style>\n"
      ],
      "text/plain": [
       "<IPython.core.display.HTML object>"
      ]
     },
     "metadata": {},
     "output_type": "display_data"
    }
   ],
   "source": [
    "#Importing packages\n",
    "\n",
    "import numpy as np # linear algebra\n",
    "import pandas as pd # data processing, CSV file I/O (e.g. pd.read_csv)\n",
    "import pickle\n",
    "import matplotlib.pyplot as plt\n",
    "from sklearn.model_selection import cross_validate, cross_val_score, GridSearchCV, RandomizedSearchCV\n",
    "from sklearn.linear_model import LogisticRegression\n",
    "from sklearn.metrics import accuracy_score, f1_score, roc_curve, auc\n",
    "from sklearn.pipeline import make_pipeline\n",
    "from sklearn.ensemble import RandomForestClassifier, GradientBoostingClassifier\n",
    "from bayes_opt import BayesianOptimization\n",
    "from sklearn.impute import SimpleImputer\n",
    "import lightgbm"
   ]
  },
  {
   "cell_type": "code",
   "execution_count": 2,
   "id": "b415c9a8",
   "metadata": {
    "execution": {
     "iopub.execute_input": "2023-03-24T12:19:13.650760Z",
     "iopub.status.busy": "2023-03-24T12:19:13.649765Z",
     "iopub.status.idle": "2023-03-24T12:19:13.786012Z",
     "shell.execute_reply": "2023-03-24T12:19:13.784828Z"
    },
    "papermill": {
     "duration": 0.148261,
     "end_time": "2023-03-24T12:19:13.789299",
     "exception": false,
     "start_time": "2023-03-24T12:19:13.641038",
     "status": "completed"
    },
    "tags": []
   },
   "outputs": [],
   "source": [
    "#Loading the files Xtrain_scaled_pca, Xtest_scaled_pca, Ytrain, Ytest from the \n",
    "#preprocessing notebook.\n",
    "\n",
    "folder_path = '/kaggle/input/rsna-breast-cancer-detection-preprocessing-2/'\n",
    "\n",
    "with open(folder_path + 'Xtest_scaled_pca.pickle', 'rb') as file:\n",
    "    Xtest_scaled_pca = pickle.load(file)\n",
    "with open(folder_path + 'Xtrain_scaled_pca.pickle', 'rb') as file:\n",
    "    Xtrain_scaled_pca = pickle.load(file)\n",
    "with open(folder_path + 'Ytest.pickle', 'rb') as file:\n",
    "    Ytest = pickle.load(file)\n",
    "with open(folder_path + 'Ytrain.pickle', 'rb') as file:\n",
    "    Ytrain = pickle.load(file)"
   ]
  },
  {
   "cell_type": "markdown",
   "id": "468f0907",
   "metadata": {
    "papermill": {
     "duration": 0.006732,
     "end_time": "2023-03-24T12:19:13.803619",
     "exception": false,
     "start_time": "2023-03-24T12:19:13.796887",
     "status": "completed"
    },
    "tags": []
   },
   "source": [
    "# Logistic Regression"
   ]
  },
  {
   "cell_type": "markdown",
   "id": "fb6a0a84",
   "metadata": {
    "papermill": {
     "duration": 0.007046,
     "end_time": "2023-03-24T12:19:13.817698",
     "exception": false,
     "start_time": "2023-03-24T12:19:13.810652",
     "status": "completed"
    },
    "tags": []
   },
   "source": [
    "Let's first use logistic regression. We will use Bayesian optimization to do the hyperparameter search. We will use the F1-score as the evaluation metric, because we want to minimize the number of false positives."
   ]
  },
  {
   "cell_type": "code",
   "execution_count": 3,
   "id": "61d1ebe3",
   "metadata": {
    "execution": {
     "iopub.execute_input": "2023-03-24T12:19:13.834806Z",
     "iopub.status.busy": "2023-03-24T12:19:13.833852Z",
     "iopub.status.idle": "2023-03-24T12:19:13.840969Z",
     "shell.execute_reply": "2023-03-24T12:19:13.839945Z"
    },
    "papermill": {
     "duration": 0.018997,
     "end_time": "2023-03-24T12:19:13.843982",
     "exception": false,
     "start_time": "2023-03-24T12:19:13.824985",
     "status": "completed"
    },
    "tags": []
   },
   "outputs": [],
   "source": [
    "def logreg_eval(C):\n",
    "    logreg = LogisticRegression(solver = 'liblinear', max_iter = 500, C=C)\n",
    "    cv_results = cross_val_score(logreg, Xtrain_scaled_pca, Ytrain, scoring=\"f1\",cv=5)\n",
    "    return cv_results.mean()"
   ]
  },
  {
   "cell_type": "code",
   "execution_count": 4,
   "id": "a9b8e97e",
   "metadata": {
    "execution": {
     "iopub.execute_input": "2023-03-24T12:19:13.860843Z",
     "iopub.status.busy": "2023-03-24T12:19:13.859908Z",
     "iopub.status.idle": "2023-03-24T12:19:45.109431Z",
     "shell.execute_reply": "2023-03-24T12:19:45.098608Z"
    },
    "papermill": {
     "duration": 31.276303,
     "end_time": "2023-03-24T12:19:45.127474",
     "exception": false,
     "start_time": "2023-03-24T12:19:13.851171",
     "status": "completed"
    },
    "tags": []
   },
   "outputs": [
    {
     "name": "stdout",
     "output_type": "stream",
     "text": [
      "|   iter    |  target   |     C     |\n",
      "-------------------------------------\n"
     ]
    },
    {
     "name": "stderr",
     "output_type": "stream",
     "text": [
      "/opt/conda/lib/python3.7/site-packages/ipykernel_launcher.py:2: DeprecationWarning: \n",
      "Passing acquisition function parameters or gaussian process parameters to maximize\n",
      "is no longer supported, and will cause an error in future releases. Instead,\n",
      "please use the \"set_gp_params\" method to set the gp params, and pass an instance\n",
      " of bayes_opt.util.UtilityFunction using the acquisition_function argument\n",
      "\n",
      "  \n"
     ]
    },
    {
     "name": "stdout",
     "output_type": "stream",
     "text": [
      "| \u001b[0m1        \u001b[0m | \u001b[0m0.9535   \u001b[0m | \u001b[0m139.2    \u001b[0m |\n",
      "| \u001b[0m2        \u001b[0m | \u001b[0m0.9535   \u001b[0m | \u001b[0m194.5    \u001b[0m |\n",
      "| \u001b[0m3        \u001b[0m | \u001b[0m0.9535   \u001b[0m | \u001b[0m183.8    \u001b[0m |\n",
      "| \u001b[95m4        \u001b[0m | \u001b[95m0.9538   \u001b[0m | \u001b[95m15.29    \u001b[0m |\n",
      "| \u001b[0m5        \u001b[0m | \u001b[0m0.9535   \u001b[0m | \u001b[0m171.8    \u001b[0m |\n",
      "| \u001b[0m6        \u001b[0m | \u001b[0m0.9459   \u001b[0m | \u001b[0m0.01312  \u001b[0m |\n",
      "| \u001b[0m7        \u001b[0m | \u001b[0m0.9538   \u001b[0m | \u001b[0m13.56    \u001b[0m |\n",
      "| \u001b[0m8        \u001b[0m | \u001b[0m0.9535   \u001b[0m | \u001b[0m154.8    \u001b[0m |\n",
      "| \u001b[0m9        \u001b[0m | \u001b[0m0.9535   \u001b[0m | \u001b[0m124.4    \u001b[0m |\n",
      "| \u001b[0m10       \u001b[0m | \u001b[0m0.9535   \u001b[0m | \u001b[0m109.6    \u001b[0m |\n",
      "| \u001b[0m11       \u001b[0m | \u001b[0m0.9535   \u001b[0m | \u001b[0m94.91    \u001b[0m |\n",
      "| \u001b[0m12       \u001b[0m | \u001b[0m0.9538   \u001b[0m | \u001b[0m80.27    \u001b[0m |\n",
      "| \u001b[0m13       \u001b[0m | \u001b[0m0.9538   \u001b[0m | \u001b[0m67.56    \u001b[0m |\n",
      "| \u001b[0m14       \u001b[0m | \u001b[0m0.9538   \u001b[0m | \u001b[0m54.36    \u001b[0m |\n",
      "| \u001b[0m15       \u001b[0m | \u001b[0m0.9538   \u001b[0m | \u001b[0m41.07    \u001b[0m |\n",
      "=====================================\n"
     ]
    }
   ],
   "source": [
    "logregBO = BayesianOptimization(logreg_eval, {'C': (0.01,200)})\n",
    "logregBO.maximize(init_points=5,n_iter=10,acq='ucb')"
   ]
  },
  {
   "cell_type": "markdown",
   "id": "c662a10d",
   "metadata": {
    "papermill": {
     "duration": 0.022138,
     "end_time": "2023-03-24T12:19:45.169240",
     "exception": false,
     "start_time": "2023-03-24T12:19:45.147102",
     "status": "completed"
    },
    "tags": []
   },
   "source": [
    "We see that the F1-score doesn't vary much over the whole range of C, and stays at around 0.95. Let's now choose the value C=38.05 and make predictions on the test set."
   ]
  },
  {
   "cell_type": "code",
   "execution_count": 5,
   "id": "dceaf6f6",
   "metadata": {
    "execution": {
     "iopub.execute_input": "2023-03-24T12:19:45.213256Z",
     "iopub.status.busy": "2023-03-24T12:19:45.212815Z",
     "iopub.status.idle": "2023-03-24T12:19:45.690206Z",
     "shell.execute_reply": "2023-03-24T12:19:45.688321Z"
    },
    "papermill": {
     "duration": 0.505147,
     "end_time": "2023-03-24T12:19:45.695048",
     "exception": false,
     "start_time": "2023-03-24T12:19:45.189901",
     "status": "completed"
    },
    "tags": []
   },
   "outputs": [
    {
     "name": "stdout",
     "output_type": "stream",
     "text": [
      "F1-score on training data: 0.96\n",
      "F1-score on test data: 0.64\n"
     ]
    }
   ],
   "source": [
    "logreg = LogisticRegression(solver = 'liblinear', max_iter = 500, C=38.05)\n",
    "logreg.fit(Xtrain_scaled_pca, Ytrain)\n",
    "print(f'F1-score on training data: {f1_score(logreg.predict(Xtrain_scaled_pca), Ytrain):.2f}')\n",
    "print(f'F1-score on test data: {f1_score(logreg.predict(Xtest_scaled_pca), Ytest):.2f}')"
   ]
  },
  {
   "cell_type": "markdown",
   "id": "371f3766",
   "metadata": {
    "papermill": {
     "duration": 0.019951,
     "end_time": "2023-03-24T12:19:45.736235",
     "exception": false,
     "start_time": "2023-03-24T12:19:45.716284",
     "status": "completed"
    },
    "tags": []
   },
   "source": [
    "# Random Forest"
   ]
  },
  {
   "cell_type": "markdown",
   "id": "d4e50c59",
   "metadata": {
    "papermill": {
     "duration": 0.020601,
     "end_time": "2023-03-24T12:19:45.777851",
     "exception": false,
     "start_time": "2023-03-24T12:19:45.757250",
     "status": "completed"
    },
    "tags": []
   },
   "source": [
    "Next, we try random forest. We go back to using GridSearchCV because we want to optimize over discrete (integer) values of the parameter min_samples_split, and it's hard to deal with discrete hyperparameter values with BayesianOptimization."
   ]
  },
  {
   "cell_type": "code",
   "execution_count": 6,
   "id": "a7efe9ea",
   "metadata": {
    "execution": {
     "iopub.execute_input": "2023-03-24T12:19:45.810685Z",
     "iopub.status.busy": "2023-03-24T12:19:45.810260Z",
     "iopub.status.idle": "2023-03-24T12:19:45.817701Z",
     "shell.execute_reply": "2023-03-24T12:19:45.816473Z"
    },
    "papermill": {
     "duration": 0.021744,
     "end_time": "2023-03-24T12:19:45.820311",
     "exception": false,
     "start_time": "2023-03-24T12:19:45.798567",
     "status": "completed"
    },
    "tags": []
   },
   "outputs": [],
   "source": [
    "rf = RandomForestClassifier(random_state=47, n_estimators=8, n_jobs=-1)\n",
    "parameters = {\"min_samples_split\": [3,4],\n",
    "             \"max_depth\": [2,3],\n",
    "             \"criterion\": [\"gini\",\"entropy\"],\n",
    "             \"max_features\": [\"sqrt\", \"log2\", None],\n",
    "             \"bootstrap\": [True, False]}\n",
    "\n",
    "cv_rf = RandomizedSearchCV(rf, param_distributions=parameters, scoring='f1', cv=5, \n",
    "                           random_state=13, n_jobs=-1)"
   ]
  },
  {
   "cell_type": "markdown",
   "id": "7677c930",
   "metadata": {
    "papermill": {
     "duration": 0.00779,
     "end_time": "2023-03-24T12:19:45.836270",
     "exception": false,
     "start_time": "2023-03-24T12:19:45.828480",
     "status": "completed"
    },
    "tags": []
   },
   "source": [
    "Printing the best parameter value and the best F1-score of the train set:"
   ]
  },
  {
   "cell_type": "code",
   "execution_count": 7,
   "id": "1803b3f7",
   "metadata": {
    "execution": {
     "iopub.execute_input": "2023-03-24T12:19:45.855270Z",
     "iopub.status.busy": "2023-03-24T12:19:45.854125Z",
     "iopub.status.idle": "2023-03-24T12:19:53.975542Z",
     "shell.execute_reply": "2023-03-24T12:19:53.973704Z"
    },
    "papermill": {
     "duration": 8.134244,
     "end_time": "2023-03-24T12:19:53.978698",
     "exception": false,
     "start_time": "2023-03-24T12:19:45.844454",
     "status": "completed"
    },
    "tags": []
   },
   "outputs": [
    {
     "name": "stdout",
     "output_type": "stream",
     "text": [
      "0.7504223587167486\n",
      "{'min_samples_split': 3, 'max_features': 'log2', 'max_depth': 3, 'criterion': 'entropy', 'bootstrap': False}\n"
     ]
    }
   ],
   "source": [
    "cv_rf.fit(Xtrain_scaled_pca, Ytrain)\n",
    "print(cv_rf.best_score_)\n",
    "print(cv_rf.best_params_)"
   ]
  },
  {
   "cell_type": "markdown",
   "id": "940781f8",
   "metadata": {
    "papermill": {
     "duration": 0.007863,
     "end_time": "2023-03-24T12:19:53.995591",
     "exception": false,
     "start_time": "2023-03-24T12:19:53.987728",
     "status": "completed"
    },
    "tags": []
   },
   "source": [
    "Printing the F1-score on the test set:"
   ]
  },
  {
   "cell_type": "code",
   "execution_count": 8,
   "id": "3eb02d93",
   "metadata": {
    "execution": {
     "iopub.execute_input": "2023-03-24T12:19:54.014362Z",
     "iopub.status.busy": "2023-03-24T12:19:54.013942Z",
     "iopub.status.idle": "2023-03-24T12:19:54.126816Z",
     "shell.execute_reply": "2023-03-24T12:19:54.125270Z"
    },
    "papermill": {
     "duration": 0.126398,
     "end_time": "2023-03-24T12:19:54.130057",
     "exception": false,
     "start_time": "2023-03-24T12:19:54.003659",
     "status": "completed"
    },
    "tags": []
   },
   "outputs": [
    {
     "name": "stdout",
     "output_type": "stream",
     "text": [
      "F1-score of the test set: 0.2570162481536189\n"
     ]
    }
   ],
   "source": [
    "Ypred = cv_rf.predict(Xtest_scaled_pca)\n",
    "print(\"F1-score of the test set:\", f1_score(Ytest, Ypred))"
   ]
  },
  {
   "cell_type": "markdown",
   "id": "3b2d38cc",
   "metadata": {
    "papermill": {
     "duration": 0.008167,
     "end_time": "2023-03-24T12:19:54.146670",
     "exception": false,
     "start_time": "2023-03-24T12:19:54.138503",
     "status": "completed"
    },
    "tags": []
   },
   "source": [
    "Unfortunately, the F1-score of the test set is much lower than the one of the train set."
   ]
  },
  {
   "cell_type": "markdown",
   "id": "30f45668",
   "metadata": {
    "papermill": {
     "duration": 0.008425,
     "end_time": "2023-03-24T12:19:54.164049",
     "exception": false,
     "start_time": "2023-03-24T12:19:54.155624",
     "status": "completed"
    },
    "tags": []
   },
   "source": [
    "# Gradient boosting"
   ]
  },
  {
   "cell_type": "code",
   "execution_count": 9,
   "id": "ccad6e48",
   "metadata": {
    "execution": {
     "iopub.execute_input": "2023-03-24T12:19:54.183731Z",
     "iopub.status.busy": "2023-03-24T12:19:54.182783Z",
     "iopub.status.idle": "2023-03-24T12:19:54.192674Z",
     "shell.execute_reply": "2023-03-24T12:19:54.190875Z"
    },
    "papermill": {
     "duration": 0.023637,
     "end_time": "2023-03-24T12:19:54.196559",
     "exception": false,
     "start_time": "2023-03-24T12:19:54.172922",
     "status": "completed"
    },
    "tags": []
   },
   "outputs": [],
   "source": [
    "gb = GradientBoostingClassifier(random_state=47, n_estimators=8)\n",
    "parameters = {\"learning_rate\": [0.2,0.5,1],\n",
    "             \"min_samples_split\": [3,4],\n",
    "             \"max_depth\": [2,3],\n",
    "             \"criterion\": [\"friedman_mse\", \"squared_error\"],\n",
    "             \"max_features\": [\"auto\", \"sqrt\", \"log2\", None]}\n",
    "\n",
    "cv_gb = RandomizedSearchCV(gb, param_distributions=parameters, scoring='f1', cv=5, \n",
    "                           random_state=13, n_jobs=-1)"
   ]
  },
  {
   "cell_type": "markdown",
   "id": "c7c29bad",
   "metadata": {
    "papermill": {
     "duration": 0.011384,
     "end_time": "2023-03-24T12:19:54.219433",
     "exception": false,
     "start_time": "2023-03-24T12:19:54.208049",
     "status": "completed"
    },
    "tags": []
   },
   "source": [
    "Printing the best parameter value and the best F1-score of the train set:"
   ]
  },
  {
   "cell_type": "code",
   "execution_count": 10,
   "id": "b6fdd21d",
   "metadata": {
    "execution": {
     "iopub.execute_input": "2023-03-24T12:19:54.238466Z",
     "iopub.status.busy": "2023-03-24T12:19:54.238038Z",
     "iopub.status.idle": "2023-03-24T12:20:04.138355Z",
     "shell.execute_reply": "2023-03-24T12:20:04.136791Z"
    },
    "papermill": {
     "duration": 9.913335,
     "end_time": "2023-03-24T12:20:04.141671",
     "exception": false,
     "start_time": "2023-03-24T12:19:54.228336",
     "status": "completed"
    },
    "tags": []
   },
   "outputs": [
    {
     "name": "stdout",
     "output_type": "stream",
     "text": [
      "0.8588718294518725\n",
      "{'min_samples_split': 3, 'max_features': None, 'max_depth': 3, 'learning_rate': 1, 'criterion': 'squared_error'}\n"
     ]
    }
   ],
   "source": [
    "cv_gb.fit(Xtrain_scaled_pca, Ytrain)\n",
    "print(cv_gb.best_score_)\n",
    "print(cv_gb.best_params_)"
   ]
  },
  {
   "cell_type": "markdown",
   "id": "f34a15a4",
   "metadata": {
    "papermill": {
     "duration": 0.008779,
     "end_time": "2023-03-24T12:20:04.158814",
     "exception": false,
     "start_time": "2023-03-24T12:20:04.150035",
     "status": "completed"
    },
    "tags": []
   },
   "source": [
    "Printing the F1-score on the test set:"
   ]
  },
  {
   "cell_type": "code",
   "execution_count": 11,
   "id": "ee3434a9",
   "metadata": {
    "execution": {
     "iopub.execute_input": "2023-03-24T12:20:04.179683Z",
     "iopub.status.busy": "2023-03-24T12:20:04.178316Z",
     "iopub.status.idle": "2023-03-24T12:20:04.190526Z",
     "shell.execute_reply": "2023-03-24T12:20:04.189046Z"
    },
    "papermill": {
     "duration": 0.026003,
     "end_time": "2023-03-24T12:20:04.193869",
     "exception": false,
     "start_time": "2023-03-24T12:20:04.167866",
     "status": "completed"
    },
    "tags": []
   },
   "outputs": [
    {
     "name": "stdout",
     "output_type": "stream",
     "text": [
      "F1-score of the test set: 0.3469079939668175\n"
     ]
    }
   ],
   "source": [
    "Ypred = cv_gb.predict(Xtest_scaled_pca)\n",
    "print(\"F1-score of the test set:\", f1_score(Ytest, Ypred))"
   ]
  },
  {
   "cell_type": "markdown",
   "id": "fbf44076",
   "metadata": {
    "papermill": {
     "duration": 0.008342,
     "end_time": "2023-03-24T12:20:04.211895",
     "exception": false,
     "start_time": "2023-03-24T12:20:04.203553",
     "status": "completed"
    },
    "tags": []
   },
   "source": [
    "Again, the F1-score of the test set is considerably lower than the one of the train set."
   ]
  },
  {
   "cell_type": "markdown",
   "id": "ff833fbe",
   "metadata": {
    "papermill": {
     "duration": 0.007896,
     "end_time": "2023-03-24T12:20:04.228255",
     "exception": false,
     "start_time": "2023-03-24T12:20:04.220359",
     "status": "completed"
    },
    "tags": []
   },
   "source": [
    "Overall, it looks like logistic regression is the best algorithm."
   ]
  },
  {
   "cell_type": "markdown",
   "id": "c1eef732",
   "metadata": {
    "papermill": {
     "duration": 0.007807,
     "end_time": "2023-03-24T12:20:04.244338",
     "exception": false,
     "start_time": "2023-03-24T12:20:04.236531",
     "status": "completed"
    },
    "tags": []
   },
   "source": [
    "# ROC-AUC for Logistic Regression"
   ]
  },
  {
   "cell_type": "markdown",
   "id": "5af3160c",
   "metadata": {
    "papermill": {
     "duration": 0.007918,
     "end_time": "2023-03-24T12:20:04.260350",
     "exception": false,
     "start_time": "2023-03-24T12:20:04.252432",
     "status": "completed"
    },
    "tags": []
   },
   "source": [
    "Even though our metric has been chosen to be the F1-score, it's useful to produce the ROC curve and compute the AUC metric for our best algorithm - logistic regression."
   ]
  },
  {
   "cell_type": "code",
   "execution_count": 12,
   "id": "a37275c4",
   "metadata": {
    "execution": {
     "iopub.execute_input": "2023-03-24T12:20:04.279195Z",
     "iopub.status.busy": "2023-03-24T12:20:04.278445Z",
     "iopub.status.idle": "2023-03-24T12:20:04.570644Z",
     "shell.execute_reply": "2023-03-24T12:20:04.569716Z"
    },
    "papermill": {
     "duration": 0.304249,
     "end_time": "2023-03-24T12:20:04.573035",
     "exception": false,
     "start_time": "2023-03-24T12:20:04.268786",
     "status": "completed"
    },
    "tags": []
   },
   "outputs": [
    {
     "data": {
      "image/png": "[encoded data removed]",
      "text/plain": [
       "<Figure size 640x480 with 1 Axes>"
      ]
     },
     "metadata": {},
     "output_type": "display_data"
    }
   ],
   "source": [
    "Ypred_probs = logreg.predict_proba(Xtest_scaled_pca)[:,1]\n",
    "fpr, tpr, thresholds = roc_curve(Ytest, Ypred_probs)\n",
    "plt.plot([0, 1], [0, 1], 'k--')\n",
    "plt.plot(fpr, tpr)\n",
    "plt.xlabel('False Positive Rate')\n",
    "plt.ylabel('True Positive Rate')\n",
    "plt.title('ROC Curve for Logistic Regression')\n",
    "plt.show()"
   ]
  },
  {
   "cell_type": "code",
   "execution_count": 13,
   "id": "6dbaa83e",
   "metadata": {
    "execution": {
     "iopub.execute_input": "2023-03-24T12:20:04.594007Z",
     "iopub.status.busy": "2023-03-24T12:20:04.593271Z",
     "iopub.status.idle": "2023-03-24T12:20:04.599206Z",
     "shell.execute_reply": "2023-03-24T12:20:04.597895Z"
    },
    "papermill": {
     "duration": 0.01934,
     "end_time": "2023-03-24T12:20:04.601849",
     "exception": false,
     "start_time": "2023-03-24T12:20:04.582509",
     "status": "completed"
    },
    "tags": []
   },
   "outputs": [
    {
     "name": "stdout",
     "output_type": "stream",
     "text": [
      "0.9113897978446553\n"
     ]
    }
   ],
   "source": [
    "#Print out the area under the curve.\n",
    "print(auc(fpr, tpr))"
   ]
  },
  {
   "cell_type": "markdown",
   "id": "ba299019",
   "metadata": {
    "papermill": {
     "duration": 0.008745,
     "end_time": "2023-03-24T12:20:04.619552",
     "exception": false,
     "start_time": "2023-03-24T12:20:04.610807",
     "status": "completed"
    },
    "tags": []
   },
   "source": [
    "Let's also plot the false positive rate as a function of the threshold."
   ]
  },
  {
   "cell_type": "code",
   "execution_count": 14,
   "id": "86688934",
   "metadata": {
    "execution": {
     "iopub.execute_input": "2023-03-24T12:20:04.640235Z",
     "iopub.status.busy": "2023-03-24T12:20:04.639244Z",
     "iopub.status.idle": "2023-03-24T12:20:04.866500Z",
     "shell.execute_reply": "2023-03-24T12:20:04.865182Z"
    },
    "papermill": {
     "duration": 0.240645,
     "end_time": "2023-03-24T12:20:04.869113",
     "exception": false,
     "start_time": "2023-03-24T12:20:04.628468",
     "status": "completed"
    },
    "tags": []
   },
   "outputs": [
    {
     "data": {
      "image/png": "[encoded data removed]",
      "text/plain": [
       "<Figure size 640x480 with 1 Axes>"
      ]
     },
     "metadata": {},
     "output_type": "display_data"
    }
   ],
   "source": [
    "plt.plot(fpr, thresholds)\n",
    "plt.xlabel('Thresholds')\n",
    "plt.ylabel('False Positive Rate')\n",
    "plt.show()"
   ]
  },
  {
   "cell_type": "markdown",
   "id": "ecbfc277",
   "metadata": {
    "papermill": {
     "duration": 0.009014,
     "end_time": "2023-03-24T12:20:04.887815",
     "exception": false,
     "start_time": "2023-03-24T12:20:04.878801",
     "status": "completed"
    },
    "tags": []
   },
   "source": [
    "We see that the usual threshold of 0.5 corresponds to an excellent FPR, which is much smaller than the largest acceptable FPR of 25 percent (which we demand at the beginning of the project, in the Project Proposal)."
   ]
  },
  {
   "cell_type": "code",
   "execution_count": null,
   "id": "23b62123",
   "metadata": {
    "papermill": {
     "duration": 0.009152,
     "end_time": "2023-03-24T12:20:04.906348",
     "exception": false,
     "start_time": "2023-03-24T12:20:04.897196",
     "status": "completed"
    },
    "tags": []
   },
   "outputs": [],
   "source": []
  }
 ],
 "metadata": {
  "kernelspec": {
   "display_name": "Python 3",
   "language": "python",
   "name": "python3"
  },
  "language_info": {
   "codemirror_mode": {
    "name": "ipython",
    "version": 3
   },
   "file_extension": ".py",
   "mimetype": "text/x-python",
   "name": "python",
   "nbconvert_exporter": "python",
   "pygments_lexer": "ipython3",
   "version": "3.7.12"
  },
  "papermill": {
   "default_parameters": {},
   "duration": 69.513537,
   "end_time": "2023-03-24T12:20:07.538092",
   "environment_variables": {},
   "exception": null,
   "input_path": "__notebook__.ipynb",
   "output_path": "__notebook__.ipynb",
   "parameters": {},
   "start_time": "2023-03-24T12:18:58.024555",
   "version": "2.4.0"
  }
 },
 "nbformat": 4,
 "nbformat_minor": 5
}
