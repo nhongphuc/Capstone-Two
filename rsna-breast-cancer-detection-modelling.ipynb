{
 "cells": [
  {
   "cell_type": "code",
   "execution_count": 1,
   "id": "5917e5b5",
   "metadata": {
    "_cell_guid": "b1076dfc-b9ad-4769-8c92-a6c4dae69d19",
    "_uuid": "8f2839f25d086af736a60e9eeb907d3b93b6e0e5",
    "execution": {
     "iopub.execute_input": "2023-03-24T02:18:27.439150Z",
     "iopub.status.busy": "2023-03-24T02:18:27.438709Z",
     "iopub.status.idle": "2023-03-24T02:18:29.866598Z",
     "shell.execute_reply": "2023-03-24T02:18:29.865400Z"
    },
    "papermill": {
     "duration": 2.439311,
     "end_time": "2023-03-24T02:18:29.869572",
     "exception": false,
     "start_time": "2023-03-24T02:18:27.430261",
     "status": "completed"
    },
    "tags": []
   },
   "outputs": [
    {
     "data": {
      "text/html": [
       "<style type='text/css'>\n",
       ".datatable table.frame { margin-bottom: 0; }\n",
       ".datatable table.frame thead { border-bottom: none; }\n",
       ".datatable table.frame tr.coltypes td {  color: #FFFFFF;  line-height: 6px;  padding: 0 0.5em;}\n",
       ".datatable .bool    { background: #DDDD99; }\n",
       ".datatable .object  { background: #565656; }\n",
       ".datatable .int     { background: #5D9E5D; }\n",
       ".datatable .float   { background: #4040CC; }\n",
       ".datatable .str     { background: #CC4040; }\n",
       ".datatable .time    { background: #40CC40; }\n",
       ".datatable .row_index {  background: var(--jp-border-color3);  border-right: 1px solid var(--jp-border-color0);  color: var(--jp-ui-font-color3);  font-size: 9px;}\n",
       ".datatable .frame tbody td { text-align: left; }\n",
       ".datatable .frame tr.coltypes .row_index {  background: var(--jp-border-color0);}\n",
       ".datatable th:nth-child(2) { padding-left: 12px; }\n",
       ".datatable .hellipsis {  color: var(--jp-cell-editor-border-color);}\n",
       ".datatable .vellipsis {  background: var(--jp-layout-color0);  color: var(--jp-cell-editor-border-color);}\n",
       ".datatable .na {  color: var(--jp-cell-editor-border-color);  font-size: 80%;}\n",
       ".datatable .sp {  opacity: 0.25;}\n",
       ".datatable .footer { font-size: 9px; }\n",
       ".datatable .frame_dimensions {  background: var(--jp-border-color3);  border-top: 1px solid var(--jp-border-color0);  color: var(--jp-ui-font-color3);  display: inline-block;  opacity: 0.6;  padding: 1px 10px 1px 5px;}\n",
       "</style>\n"
      ],
      "text/plain": [
       "<IPython.core.display.HTML object>"
      ]
     },
     "metadata": {},
     "output_type": "display_data"
    }
   ],
   "source": [
    "#Importing packages\n",
    "\n",
    "import numpy as np # linear algebra\n",
    "import pandas as pd # data processing, CSV file I/O (e.g. pd.read_csv)\n",
    "import pickle\n",
    "import matplotlib.pyplot as plt\n",
    "from sklearn.model_selection import cross_validate, cross_val_score, GridSearchCV\n",
    "from sklearn.linear_model import LogisticRegression\n",
    "from sklearn.metrics import accuracy_score, f1_score, roc_curve, auc\n",
    "from sklearn.pipeline import make_pipeline\n",
    "from sklearn.ensemble import RandomForestClassifier, GradientBoostingClassifier\n",
    "from bayes_opt import BayesianOptimization\n",
    "from sklearn.impute import SimpleImputer\n",
    "import lightgbm"
   ]
  },
  {
   "cell_type": "code",
   "execution_count": 2,
   "id": "9c332b2a",
   "metadata": {
    "execution": {
     "iopub.execute_input": "2023-03-24T02:18:29.883198Z",
     "iopub.status.busy": "2023-03-24T02:18:29.882794Z",
     "iopub.status.idle": "2023-03-24T02:18:29.974765Z",
     "shell.execute_reply": "2023-03-24T02:18:29.973465Z"
    },
    "papermill": {
     "duration": 0.102208,
     "end_time": "2023-03-24T02:18:29.977692",
     "exception": false,
     "start_time": "2023-03-24T02:18:29.875484",
     "status": "completed"
    },
    "tags": []
   },
   "outputs": [],
   "source": [
    "#Loading the files Xtrain_scaled_pca, Xtest_scaled_pca, Ytrain, Ytest from the \n",
    "#preprocessing notebook.\n",
    "\n",
    "folder_path = '/kaggle/input/rsna-breast-cancer-detection-preprocessing-2/'\n",
    "\n",
    "with open(folder_path + 'Xtest_scaled_pca.pickle', 'rb') as file:\n",
    "    Xtest_scaled_pca = pickle.load(file)\n",
    "with open(folder_path + 'Xtrain_scaled_pca.pickle', 'rb') as file:\n",
    "    Xtrain_scaled_pca = pickle.load(file)\n",
    "with open(folder_path + 'Ytest.pickle', 'rb') as file:\n",
    "    Ytest = pickle.load(file)\n",
    "with open(folder_path + 'Ytrain.pickle', 'rb') as file:\n",
    "    Ytrain = pickle.load(file)"
   ]
  },
  {
   "cell_type": "markdown",
   "id": "41146baf",
   "metadata": {
    "papermill": {
     "duration": 0.005544,
     "end_time": "2023-03-24T02:18:29.988846",
     "exception": false,
     "start_time": "2023-03-24T02:18:29.983302",
     "status": "completed"
    },
    "tags": []
   },
   "source": [
    "# Logistic Regression"
   ]
  },
  {
   "cell_type": "markdown",
   "id": "3df09983",
   "metadata": {
    "papermill": {
     "duration": 0.005264,
     "end_time": "2023-03-24T02:18:29.999827",
     "exception": false,
     "start_time": "2023-03-24T02:18:29.994563",
     "status": "completed"
    },
    "tags": []
   },
   "source": [
    "Let's first use logistic regression. We will use Bayesian optimization to do the hyperparameter search. We will use the F1-score as the evaluation metric, because we want to minimize the number of false positives."
   ]
  },
  {
   "cell_type": "code",
   "execution_count": 3,
   "id": "265dd68a",
   "metadata": {
    "execution": {
     "iopub.execute_input": "2023-03-24T02:18:30.013575Z",
     "iopub.status.busy": "2023-03-24T02:18:30.012262Z",
     "iopub.status.idle": "2023-03-24T02:18:30.018201Z",
     "shell.execute_reply": "2023-03-24T02:18:30.017298Z"
    },
    "papermill": {
     "duration": 0.015241,
     "end_time": "2023-03-24T02:18:30.020573",
     "exception": false,
     "start_time": "2023-03-24T02:18:30.005332",
     "status": "completed"
    },
    "tags": []
   },
   "outputs": [],
   "source": [
    "def logreg_eval(C):\n",
    "    logreg = LogisticRegression(solver = 'liblinear', max_iter = 500, C=C)\n",
    "    cv_results = cross_val_score(logreg, Xtrain_scaled_pca, Ytrain, scoring=\"f1\",cv=5)\n",
    "    return cv_results.mean()"
   ]
  },
  {
   "cell_type": "code",
   "execution_count": 4,
   "id": "c88abbfa",
   "metadata": {
    "execution": {
     "iopub.execute_input": "2023-03-24T02:18:30.034388Z",
     "iopub.status.busy": "2023-03-24T02:18:30.033123Z",
     "iopub.status.idle": "2023-03-24T02:19:01.381432Z",
     "shell.execute_reply": "2023-03-24T02:19:01.380122Z"
    },
    "papermill": {
     "duration": 31.374479,
     "end_time": "2023-03-24T02:19:01.400637",
     "exception": false,
     "start_time": "2023-03-24T02:18:30.026158",
     "status": "completed"
    },
    "tags": []
   },
   "outputs": [
    {
     "name": "stdout",
     "output_type": "stream",
     "text": [
      "|   iter    |  target   |     C     |\n",
      "-------------------------------------\n"
     ]
    },
    {
     "name": "stderr",
     "output_type": "stream",
     "text": [
      "/opt/conda/lib/python3.7/site-packages/ipykernel_launcher.py:2: DeprecationWarning: \n",
      "Passing acquisition function parameters or gaussian process parameters to maximize\n",
      "is no longer supported, and will cause an error in future releases. Instead,\n",
      "please use the \"set_gp_params\" method to set the gp params, and pass an instance\n",
      " of bayes_opt.util.UtilityFunction using the acquisition_function argument\n",
      "\n",
      "  \n"
     ]
    },
    {
     "name": "stdout",
     "output_type": "stream",
     "text": [
      "| \u001b[0m1        \u001b[0m | \u001b[0m0.9538   \u001b[0m | \u001b[0m33.93    \u001b[0m |\n",
      "| \u001b[95m2        \u001b[0m | \u001b[95m0.9542   \u001b[0m | \u001b[95m11.84    \u001b[0m |\n",
      "| \u001b[0m3        \u001b[0m | \u001b[0m0.9538   \u001b[0m | \u001b[0m32.12    \u001b[0m |\n",
      "| \u001b[0m4        \u001b[0m | \u001b[0m0.9535   \u001b[0m | \u001b[0m85.47    \u001b[0m |\n",
      "| \u001b[0m5        \u001b[0m | \u001b[0m0.9538   \u001b[0m | \u001b[0m62.5     \u001b[0m |\n",
      "| \u001b[0m6        \u001b[0m | \u001b[0m0.9488   \u001b[0m | \u001b[0m0.03289  \u001b[0m |\n",
      "| \u001b[0m7        \u001b[0m | \u001b[0m0.9538   \u001b[0m | \u001b[0m20.13    \u001b[0m |\n",
      "| \u001b[0m8        \u001b[0m | \u001b[0m0.9538   \u001b[0m | \u001b[0m49.58    \u001b[0m |\n",
      "| \u001b[0m9        \u001b[0m | \u001b[0m0.9535   \u001b[0m | \u001b[0m102.3    \u001b[0m |\n",
      "| \u001b[0m10       \u001b[0m | \u001b[0m0.9535   \u001b[0m | \u001b[0m118.6    \u001b[0m |\n",
      "| \u001b[0m11       \u001b[0m | \u001b[0m0.9538   \u001b[0m | \u001b[0m73.34    \u001b[0m |\n",
      "| \u001b[0m12       \u001b[0m | \u001b[0m0.9535   \u001b[0m | \u001b[0m135.7    \u001b[0m |\n",
      "| \u001b[0m13       \u001b[0m | \u001b[0m0.9535   \u001b[0m | \u001b[0m152.1    \u001b[0m |\n",
      "| \u001b[0m14       \u001b[0m | \u001b[0m0.9535   \u001b[0m | \u001b[0m168.1    \u001b[0m |\n",
      "| \u001b[0m15       \u001b[0m | \u001b[0m0.9535   \u001b[0m | \u001b[0m183.8    \u001b[0m |\n",
      "=====================================\n"
     ]
    }
   ],
   "source": [
    "logregBO = BayesianOptimization(logreg_eval, {'C': (0.01,200)})\n",
    "logregBO.maximize(init_points=5,n_iter=10,acq='ucb')"
   ]
  },
  {
   "cell_type": "markdown",
   "id": "27b8f00f",
   "metadata": {
    "papermill": {
     "duration": 0.015949,
     "end_time": "2023-03-24T02:19:01.433017",
     "exception": false,
     "start_time": "2023-03-24T02:19:01.417068",
     "status": "completed"
    },
    "tags": []
   },
   "source": [
    "We see that the F1-score doesn't vary much over the whole range of C, and stays at around 0.95. Let's now choose the best value C=38.05 and make predictions on the test set."
   ]
  },
  {
   "cell_type": "code",
   "execution_count": 5,
   "id": "2473bc33",
   "metadata": {
    "execution": {
     "iopub.execute_input": "2023-03-24T02:19:01.471187Z",
     "iopub.status.busy": "2023-03-24T02:19:01.470460Z",
     "iopub.status.idle": "2023-03-24T02:19:01.946763Z",
     "shell.execute_reply": "2023-03-24T02:19:01.945387Z"
    },
    "papermill": {
     "duration": 0.500922,
     "end_time": "2023-03-24T02:19:01.951032",
     "exception": false,
     "start_time": "2023-03-24T02:19:01.450110",
     "status": "completed"
    },
    "tags": []
   },
   "outputs": [
    {
     "name": "stdout",
     "output_type": "stream",
     "text": [
      "F1-score on training data: 0.96\n",
      "F1-score on test data: 0.64\n"
     ]
    }
   ],
   "source": [
    "logreg = LogisticRegression(solver = 'liblinear', max_iter = 500, C=38.05)\n",
    "logreg.fit(Xtrain_scaled_pca, Ytrain)\n",
    "print(f'F1-score on training data: {f1_score(logreg.predict(Xtrain_scaled_pca), Ytrain):.2f}')\n",
    "print(f'F1-score on test data: {f1_score(logreg.predict(Xtest_scaled_pca), Ytest):.2f}')"
   ]
  },
  {
   "cell_type": "markdown",
   "id": "6c61ea47",
   "metadata": {
    "papermill": {
     "duration": 0.016282,
     "end_time": "2023-03-24T02:19:01.984224",
     "exception": false,
     "start_time": "2023-03-24T02:19:01.967942",
     "status": "completed"
    },
    "tags": []
   },
   "source": [
    "# Random Forest"
   ]
  },
  {
   "cell_type": "markdown",
   "id": "38a4bced",
   "metadata": {
    "papermill": {
     "duration": 0.016343,
     "end_time": "2023-03-24T02:19:02.017997",
     "exception": false,
     "start_time": "2023-03-24T02:19:02.001654",
     "status": "completed"
    },
    "tags": []
   },
   "source": [
    "Next, we try random forest. We go back to using GridSearchCV because we want to optimize over discrete (integer) values of the parameter min_samples_split, and it's hard to deal with discrete hyperparameter values with BayesianOptimization."
   ]
  },
  {
   "cell_type": "code",
   "execution_count": 6,
   "id": "3fdf0b63",
   "metadata": {
    "execution": {
     "iopub.execute_input": "2023-03-24T02:19:02.056752Z",
     "iopub.status.busy": "2023-03-24T02:19:02.055995Z",
     "iopub.status.idle": "2023-03-24T02:19:02.064518Z",
     "shell.execute_reply": "2023-03-24T02:19:02.063098Z"
    },
    "papermill": {
     "duration": 0.030051,
     "end_time": "2023-03-24T02:19:02.067049",
     "exception": false,
     "start_time": "2023-03-24T02:19:02.036998",
     "status": "completed"
    },
    "tags": []
   },
   "outputs": [],
   "source": [
    "rf = RandomForestClassifier(random_state=47, n_estimators=1000, n_jobs=-1)\n",
    "parameters = {\"min_samples_split\": [2,4,6],\n",
    "             \"max_depth\": [3,5,7],\n",
    "             \"criterion\": [\"gini\",\"entropy\"]}\n",
    "\n",
    "cv_rf = GridSearchCV(rf, param_grid=parameters, scoring='f1', cv=3)"
   ]
  },
  {
   "cell_type": "markdown",
   "id": "b49da8ff",
   "metadata": {
    "papermill": {
     "duration": 0.00624,
     "end_time": "2023-03-24T02:19:02.079967",
     "exception": false,
     "start_time": "2023-03-24T02:19:02.073727",
     "status": "completed"
    },
    "tags": []
   },
   "source": [
    "Printing the best parameter value and the best F1-score of the train set:"
   ]
  },
  {
   "cell_type": "code",
   "execution_count": 7,
   "id": "2bf0412c",
   "metadata": {
    "execution": {
     "iopub.execute_input": "2023-03-24T02:19:02.095635Z",
     "iopub.status.busy": "2023-03-24T02:19:02.094754Z",
     "iopub.status.idle": "2023-03-24T02:24:00.380220Z",
     "shell.execute_reply": "2023-03-24T02:24:00.379172Z"
    },
    "papermill": {
     "duration": 298.302437,
     "end_time": "2023-03-24T02:24:00.388916",
     "exception": false,
     "start_time": "2023-03-24T02:19:02.086479",
     "status": "completed"
    },
    "tags": []
   },
   "outputs": [
    {
     "name": "stdout",
     "output_type": "stream",
     "text": [
      "0.9351033066160749\n",
      "{'criterion': 'gini', 'max_depth': 7, 'min_samples_split': 6}\n"
     ]
    }
   ],
   "source": [
    "cv_rf.fit(Xtrain_scaled_pca, Ytrain)\n",
    "print(cv_rf.best_score_)\n",
    "print(cv_rf.best_params_)"
   ]
  },
  {
   "cell_type": "markdown",
   "id": "023b4a78",
   "metadata": {
    "papermill": {
     "duration": 0.006269,
     "end_time": "2023-03-24T02:24:00.401851",
     "exception": false,
     "start_time": "2023-03-24T02:24:00.395582",
     "status": "completed"
    },
    "tags": []
   },
   "source": [
    "Printing the F1-score on the test set:"
   ]
  },
  {
   "cell_type": "code",
   "execution_count": 8,
   "id": "8bcd4a41",
   "metadata": {
    "execution": {
     "iopub.execute_input": "2023-03-24T02:24:00.417159Z",
     "iopub.status.busy": "2023-03-24T02:24:00.416701Z",
     "iopub.status.idle": "2023-03-24T02:24:00.830706Z",
     "shell.execute_reply": "2023-03-24T02:24:00.829075Z"
    },
    "papermill": {
     "duration": 0.425023,
     "end_time": "2023-03-24T02:24:00.833437",
     "exception": false,
     "start_time": "2023-03-24T02:24:00.408414",
     "status": "completed"
    },
    "tags": []
   },
   "outputs": [
    {
     "name": "stdout",
     "output_type": "stream",
     "text": [
      "F1-score of the test set: 0.2285714285714286\n"
     ]
    }
   ],
   "source": [
    "Ypred = cv_rf.predict(Xtest_scaled_pca)\n",
    "print(\"F1-score of the test set:\", f1_score(Ytest, Ypred))"
   ]
  },
  {
   "cell_type": "markdown",
   "id": "bf0b4e86",
   "metadata": {
    "papermill": {
     "duration": 0.00687,
     "end_time": "2023-03-24T02:24:00.847174",
     "exception": false,
     "start_time": "2023-03-24T02:24:00.840304",
     "status": "completed"
    },
    "tags": []
   },
   "source": [
    "Unfortunately, the F1-score of the test set is much lower than the one of the train set."
   ]
  },
  {
   "cell_type": "markdown",
   "id": "6c73e8b3",
   "metadata": {
    "papermill": {
     "duration": 0.00636,
     "end_time": "2023-03-24T02:24:00.860146",
     "exception": false,
     "start_time": "2023-03-24T02:24:00.853786",
     "status": "completed"
    },
    "tags": []
   },
   "source": [
    "# Gradient boosting"
   ]
  },
  {
   "cell_type": "code",
   "execution_count": 9,
   "id": "40fbdb51",
   "metadata": {
    "execution": {
     "iopub.execute_input": "2023-03-24T02:24:00.875993Z",
     "iopub.status.busy": "2023-03-24T02:24:00.874560Z",
     "iopub.status.idle": "2023-03-24T02:24:00.881542Z",
     "shell.execute_reply": "2023-03-24T02:24:00.880717Z"
    },
    "papermill": {
     "duration": 0.017349,
     "end_time": "2023-03-24T02:24:00.883893",
     "exception": false,
     "start_time": "2023-03-24T02:24:00.866544",
     "status": "completed"
    },
    "tags": []
   },
   "outputs": [],
   "source": [
    "gb = GradientBoostingClassifier(random_state=47, n_estimators=1000)\n",
    "parameters = {\"learning_rate\": [0.5,1],\n",
    "             \"min_samples_split\": [2,4],\n",
    "             \"max_depth\": [3,5]}\n",
    "\n",
    "cv_gb = GridSearchCV(gb, param_grid=parameters, scoring='f1', cv=3)"
   ]
  },
  {
   "cell_type": "markdown",
   "id": "50c9b0dd",
   "metadata": {
    "papermill": {
     "duration": 0.006486,
     "end_time": "2023-03-24T02:24:00.897080",
     "exception": false,
     "start_time": "2023-03-24T02:24:00.890594",
     "status": "completed"
    },
    "tags": []
   },
   "source": [
    "Printing the best parameter value and the best F1-score of the train set:"
   ]
  },
  {
   "cell_type": "code",
   "execution_count": 10,
   "id": "8116ac38",
   "metadata": {
    "execution": {
     "iopub.execute_input": "2023-03-24T02:24:00.912579Z",
     "iopub.status.busy": "2023-03-24T02:24:00.911872Z",
     "iopub.status.idle": "2023-03-24T02:33:28.594225Z",
     "shell.execute_reply": "2023-03-24T02:33:28.592878Z"
    },
    "papermill": {
     "duration": 567.700223,
     "end_time": "2023-03-24T02:33:28.604140",
     "exception": false,
     "start_time": "2023-03-24T02:24:00.903917",
     "status": "completed"
    },
    "tags": []
   },
   "outputs": [
    {
     "name": "stdout",
     "output_type": "stream",
     "text": [
      "0.9739732227789645\n",
      "{'learning_rate': 0.5, 'max_depth': 3, 'min_samples_split': 4}\n"
     ]
    }
   ],
   "source": [
    "cv_gb.fit(Xtrain_scaled_pca, Ytrain)\n",
    "print(cv_gb.best_score_)\n",
    "print(cv_gb.best_params_)"
   ]
  },
  {
   "cell_type": "markdown",
   "id": "b8c9ced9",
   "metadata": {
    "papermill": {
     "duration": 0.006392,
     "end_time": "2023-03-24T02:33:28.618195",
     "exception": false,
     "start_time": "2023-03-24T02:33:28.611803",
     "status": "completed"
    },
    "tags": []
   },
   "source": [
    "Printing the F1-score on the test set:"
   ]
  },
  {
   "cell_type": "code",
   "execution_count": 11,
   "id": "dedfd153",
   "metadata": {
    "execution": {
     "iopub.execute_input": "2023-03-24T02:33:28.633504Z",
     "iopub.status.busy": "2023-03-24T02:33:28.633060Z",
     "iopub.status.idle": "2023-03-24T02:33:28.666208Z",
     "shell.execute_reply": "2023-03-24T02:33:28.664826Z"
    },
    "papermill": {
     "duration": 0.043792,
     "end_time": "2023-03-24T02:33:28.668567",
     "exception": false,
     "start_time": "2023-03-24T02:33:28.624775",
     "status": "completed"
    },
    "tags": []
   },
   "outputs": [
    {
     "name": "stdout",
     "output_type": "stream",
     "text": [
      "F1-score of the test set: 0.3364055299539171\n"
     ]
    }
   ],
   "source": [
    "Ypred = cv_gb.predict(Xtest_scaled_pca)\n",
    "print(\"F1-score of the test set:\", f1_score(Ytest, Ypred))"
   ]
  },
  {
   "cell_type": "markdown",
   "id": "9fbbf867",
   "metadata": {
    "papermill": {
     "duration": 0.006491,
     "end_time": "2023-03-24T02:33:28.681942",
     "exception": false,
     "start_time": "2023-03-24T02:33:28.675451",
     "status": "completed"
    },
    "tags": []
   },
   "source": [
    "Again, the F1-score of the test set is considerably lower than the one of the train set."
   ]
  },
  {
   "cell_type": "markdown",
   "id": "2d32888c",
   "metadata": {
    "papermill": {
     "duration": 0.006417,
     "end_time": "2023-03-24T02:33:28.695177",
     "exception": false,
     "start_time": "2023-03-24T02:33:28.688760",
     "status": "completed"
    },
    "tags": []
   },
   "source": [
    "Overall, it looks like logistic regression is the best algorithm."
   ]
  }
 ],
 "metadata": {
  "kernelspec": {
   "display_name": "Python 3",
   "language": "python",
   "name": "python3"
  },
  "language_info": {
   "codemirror_mode": {
    "name": "ipython",
    "version": 3
   },
   "file_extension": ".py",
   "mimetype": "text/x-python",
   "name": "python",
   "nbconvert_exporter": "python",
   "pygments_lexer": "ipython3",
   "version": "3.7.12"
  },
  "papermill": {
   "default_parameters": {},
   "duration": 913.413227,
   "end_time": "2023-03-24T02:33:31.325667",
   "environment_variables": {},
   "exception": null,
   "input_path": "__notebook__.ipynb",
   "output_path": "__notebook__.ipynb",
   "parameters": {},
   "start_time": "2023-03-24T02:18:17.912440",
   "version": "2.4.0"
  }
 },
 "nbformat": 4,
 "nbformat_minor": 5
}
