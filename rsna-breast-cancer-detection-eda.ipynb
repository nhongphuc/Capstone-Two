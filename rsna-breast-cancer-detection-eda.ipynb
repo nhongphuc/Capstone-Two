{
 "cells": [
  {
   "cell_type": "code",
   "execution_count": 1,
   "id": "d1957e4a",
   "metadata": {
    "_cell_guid": "b1076dfc-b9ad-4769-8c92-a6c4dae69d19",
    "_uuid": "8f2839f25d086af736a60e9eeb907d3b93b6e0e5",
    "execution": {
     "iopub.execute_input": "2023-02-11T20:32:30.017342Z",
     "iopub.status.busy": "2023-02-11T20:32:30.016701Z",
     "iopub.status.idle": "2023-02-11T20:32:31.366095Z",
     "shell.execute_reply": "2023-02-11T20:32:31.364677Z"
    },
    "papermill": {
     "duration": 1.36203,
     "end_time": "2023-02-11T20:32:31.369082",
     "exception": false,
     "start_time": "2023-02-11T20:32:30.007052",
     "status": "completed"
    },
    "tags": []
   },
   "outputs": [
    {
     "name": "stdout",
     "output_type": "stream",
     "text": [
      "/kaggle/input/rsna-breast-cancer-detection-data-wrangling/cleaned_data.csv\n",
      "/kaggle/input/rsna-breast-cancer-detection-data-wrangling/__results__.html\n",
      "/kaggle/input/rsna-breast-cancer-detection-data-wrangling/__notebook__.ipynb\n",
      "/kaggle/input/rsna-breast-cancer-detection-data-wrangling/cleaned_images.pickle\n",
      "/kaggle/input/rsna-breast-cancer-detection-data-wrangling/__output__.json\n",
      "/kaggle/input/rsna-breast-cancer-detection-data-wrangling/custom.css\n",
      "/kaggle/input/rsna-breast-cancer-detection-data-wrangling/__results___files/__results___22_0.png\n",
      "/kaggle/input/rsna-breast-cancer-detection-data-wrangling/__results___files/__results___24_0.png\n",
      "/kaggle/input/rsna-breast-cancer-detection-data-wrangling/__results___files/__results___23_1.png\n",
      "/kaggle/input/rsna-breast-cancer-detection-data-wrangling/__results___files/__results___21_1.png\n",
      "/kaggle/input/rsna-breast-cancer-detection-data-wrangling/__results___files/__results___6_0.png\n"
     ]
    }
   ],
   "source": [
    "# This Python 3 environment comes with many helpful analytics libraries installed\n",
    "# It is defined by the kaggle/python Docker image: https://github.com/kaggle/docker-python\n",
    "# For example, here's several helpful packages to load\n",
    "\n",
    "import numpy as np # linear algebra\n",
    "import pandas as pd # data processing, CSV file I/O (e.g. pd.read_csv)\n",
    "import pickle\n",
    "import matplotlib.pyplot as plt\n",
    "import seaborn as sns\n",
    "\n",
    "from scipy import stats\n",
    "\n",
    "# Input data files are available in the read-only \"../input/\" directory\n",
    "# For example, running this (by clicking run or pressing Shift+Enter) will list all files under the input directory\n",
    "\n",
    "import os\n",
    "for dirname, _, filenames in os.walk('/kaggle/input'):\n",
    "    for filename in filenames:\n",
    "        print(os.path.join(dirname, filename))\n",
    "\n",
    "# You can write up to 20GB to the current directory (/kaggle/working/) that gets preserved as output when you create a version using \"Save & Run All\" \n",
    "# You can also write temporary files to /kaggle/temp/, but they won't be saved outside of the current session"
   ]
  },
  {
   "cell_type": "code",
   "execution_count": 2,
   "id": "20d2ecff",
   "metadata": {
    "execution": {
     "iopub.execute_input": "2023-02-11T20:32:31.384939Z",
     "iopub.status.busy": "2023-02-11T20:32:31.384561Z",
     "iopub.status.idle": "2023-02-11T20:33:52.772335Z",
     "shell.execute_reply": "2023-02-11T20:33:52.771043Z"
    },
    "papermill": {
     "duration": 81.403873,
     "end_time": "2023-02-11T20:33:52.780208",
     "exception": false,
     "start_time": "2023-02-11T20:32:31.376335",
     "status": "completed"
    },
    "tags": []
   },
   "outputs": [],
   "source": [
    "#Loading the pickle file containing a dictionary with \n",
    "#patient ID and image ID for keys and the cleaned images for values.\n",
    "folder_path = '/kaggle/input/rsna-breast-cancer-detection-data-wrangling/'\n",
    "\n",
    "with open(folder_path + 'cleaned_images.pickle', 'rb') as file:\n",
    "    img_dict = pickle.load(file)\n",
    "    \n",
    "#Loading the cleaned csv file.\n",
    "df = pd.read_csv(folder_path + 'cleaned_data.csv')"
   ]
  },
  {
   "cell_type": "code",
   "execution_count": 3,
   "id": "7f19e830",
   "metadata": {
    "execution": {
     "iopub.execute_input": "2023-02-11T20:33:52.796288Z",
     "iopub.status.busy": "2023-02-11T20:33:52.795828Z",
     "iopub.status.idle": "2023-02-11T20:33:52.857149Z",
     "shell.execute_reply": "2023-02-11T20:33:52.855818Z"
    },
    "papermill": {
     "duration": 0.072109,
     "end_time": "2023-02-11T20:33:52.859657",
     "exception": false,
     "start_time": "2023-02-11T20:33:52.787548",
     "status": "completed"
    },
    "tags": []
   },
   "outputs": [
    {
     "data": {
      "text/html": [
       "<div>\n",
       "<style scoped>\n",
       "    .dataframe tbody tr th:only-of-type {\n",
       "        vertical-align: middle;\n",
       "    }\n",
       "\n",
       "    .dataframe tbody tr th {\n",
       "        vertical-align: top;\n",
       "    }\n",
       "\n",
       "    .dataframe thead th {\n",
       "        text-align: right;\n",
       "    }\n",
       "</style>\n",
       "<table border=\"1\" class=\"dataframe\">\n",
       "  <thead>\n",
       "    <tr style=\"text-align: right;\">\n",
       "      <th></th>\n",
       "      <th>age</th>\n",
       "      <th>cancer_1</th>\n",
       "      <th>biopsy_1</th>\n",
       "      <th>invasive_1</th>\n",
       "      <th>BIRADS_0.0</th>\n",
       "      <th>BIRADS_1.0</th>\n",
       "      <th>BIRADS_2.0</th>\n",
       "      <th>implant_1</th>\n",
       "      <th>density_A</th>\n",
       "      <th>density_B</th>\n",
       "      <th>density_C</th>\n",
       "      <th>density_D</th>\n",
       "      <th>difficult_negative_case_True</th>\n",
       "    </tr>\n",
       "    <tr>\n",
       "      <th>patient_id</th>\n",
       "      <th></th>\n",
       "      <th></th>\n",
       "      <th></th>\n",
       "      <th></th>\n",
       "      <th></th>\n",
       "      <th></th>\n",
       "      <th></th>\n",
       "      <th></th>\n",
       "      <th></th>\n",
       "      <th></th>\n",
       "      <th></th>\n",
       "      <th></th>\n",
       "      <th></th>\n",
       "    </tr>\n",
       "  </thead>\n",
       "  <tbody>\n",
       "    <tr>\n",
       "      <th>25</th>\n",
       "      <td>62.0</td>\n",
       "      <td>0.0</td>\n",
       "      <td>0.0</td>\n",
       "      <td>0.0</td>\n",
       "      <td>0.0</td>\n",
       "      <td>1.0</td>\n",
       "      <td>0.0</td>\n",
       "      <td>0.0</td>\n",
       "      <td>0.0</td>\n",
       "      <td>1.0</td>\n",
       "      <td>0.0</td>\n",
       "      <td>0.0</td>\n",
       "      <td>0.0</td>\n",
       "    </tr>\n",
       "    <tr>\n",
       "      <th>28</th>\n",
       "      <td>40.0</td>\n",
       "      <td>0.0</td>\n",
       "      <td>0.0</td>\n",
       "      <td>0.0</td>\n",
       "      <td>0.0</td>\n",
       "      <td>1.0</td>\n",
       "      <td>0.0</td>\n",
       "      <td>0.0</td>\n",
       "      <td>0.0</td>\n",
       "      <td>1.0</td>\n",
       "      <td>0.0</td>\n",
       "      <td>0.0</td>\n",
       "      <td>0.0</td>\n",
       "    </tr>\n",
       "    <tr>\n",
       "      <th>33</th>\n",
       "      <td>43.0</td>\n",
       "      <td>0.0</td>\n",
       "      <td>0.0</td>\n",
       "      <td>0.0</td>\n",
       "      <td>0.0</td>\n",
       "      <td>1.0</td>\n",
       "      <td>0.0</td>\n",
       "      <td>0.0</td>\n",
       "      <td>0.0</td>\n",
       "      <td>1.0</td>\n",
       "      <td>0.0</td>\n",
       "      <td>0.0</td>\n",
       "      <td>0.0</td>\n",
       "    </tr>\n",
       "    <tr>\n",
       "      <th>49</th>\n",
       "      <td>53.0</td>\n",
       "      <td>0.0</td>\n",
       "      <td>0.0</td>\n",
       "      <td>0.0</td>\n",
       "      <td>0.0</td>\n",
       "      <td>1.0</td>\n",
       "      <td>0.0</td>\n",
       "      <td>0.0</td>\n",
       "      <td>0.0</td>\n",
       "      <td>1.0</td>\n",
       "      <td>0.0</td>\n",
       "      <td>0.0</td>\n",
       "      <td>0.0</td>\n",
       "    </tr>\n",
       "    <tr>\n",
       "      <th>65</th>\n",
       "      <td>55.0</td>\n",
       "      <td>0.0</td>\n",
       "      <td>0.0</td>\n",
       "      <td>0.0</td>\n",
       "      <td>0.0</td>\n",
       "      <td>1.0</td>\n",
       "      <td>0.0</td>\n",
       "      <td>0.0</td>\n",
       "      <td>0.0</td>\n",
       "      <td>0.0</td>\n",
       "      <td>0.0</td>\n",
       "      <td>1.0</td>\n",
       "      <td>0.0</td>\n",
       "    </tr>\n",
       "  </tbody>\n",
       "</table>\n",
       "</div>"
      ],
      "text/plain": [
       "             age  cancer_1  biopsy_1  invasive_1  BIRADS_0.0  BIRADS_1.0  \\\n",
       "patient_id                                                                 \n",
       "25          62.0       0.0       0.0         0.0         0.0         1.0   \n",
       "28          40.0       0.0       0.0         0.0         0.0         1.0   \n",
       "33          43.0       0.0       0.0         0.0         0.0         1.0   \n",
       "49          53.0       0.0       0.0         0.0         0.0         1.0   \n",
       "65          55.0       0.0       0.0         0.0         0.0         1.0   \n",
       "\n",
       "            BIRADS_2.0  implant_1  density_A  density_B  density_C  density_D  \\\n",
       "patient_id                                                                      \n",
       "25                 0.0        0.0        0.0        1.0        0.0        0.0   \n",
       "28                 0.0        0.0        0.0        1.0        0.0        0.0   \n",
       "33                 0.0        0.0        0.0        1.0        0.0        0.0   \n",
       "49                 0.0        0.0        0.0        1.0        0.0        0.0   \n",
       "65                 0.0        0.0        0.0        0.0        0.0        1.0   \n",
       "\n",
       "            difficult_negative_case_True  \n",
       "patient_id                                \n",
       "25                                   0.0  \n",
       "28                                   0.0  \n",
       "33                                   0.0  \n",
       "49                                   0.0  \n",
       "65                                   0.0  "
      ]
     },
     "execution_count": 3,
     "metadata": {},
     "output_type": "execute_result"
    }
   ],
   "source": [
    "#In the first part of this notebook, we'll do EDA on the tabular data, and disregard the images. \n",
    "#Therefore, it's inconvenient to work with the dataframe df directly, because each row in df \n",
    "#corresponds to a mammogram, so in general a given patient corresponds to several rows in \n",
    "#df.\n",
    "\n",
    "#We'll create another dataframe where the patient_id is the primary key. To do\n",
    "#so, we first throw away the columns in df containing information about images, then group by\n",
    "#the patient_id. In each group, each column now contains a unique value (because for example, \n",
    "#whether a given patient has cancer, or has breast implant is independent of which mammogram\n",
    "#we are talking about). Finally, we aggregate with the mean function, which computes the mean\n",
    "#of a list of identical values, so simply returns that single value in the list.\n",
    "\n",
    "relevant_columns = ['age','cancer_1','biopsy_1','invasive_1',\n",
    "                'BIRADS_0.0', 'BIRADS_1.0', 'BIRADS_2.0',\n",
    "               'implant_1', 'density_A', 'density_B', 'density_C',\n",
    "               'density_D', 'difficult_negative_case_True']\n",
    "\n",
    "df_noimage = df[['patient_id'] + relevant_columns].groupby('patient_id').mean()\n",
    "\n",
    "df_noimage.head()"
   ]
  },
  {
   "cell_type": "code",
   "execution_count": 4,
   "id": "bdb687fd",
   "metadata": {
    "execution": {
     "iopub.execute_input": "2023-02-11T20:33:52.875923Z",
     "iopub.status.busy": "2023-02-11T20:33:52.875507Z",
     "iopub.status.idle": "2023-02-11T20:33:52.889633Z",
     "shell.execute_reply": "2023-02-11T20:33:52.888198Z"
    },
    "papermill": {
     "duration": 0.02564,
     "end_time": "2023-02-11T20:33:52.892533",
     "exception": false,
     "start_time": "2023-02-11T20:33:52.866893",
     "status": "completed"
    },
    "tags": []
   },
   "outputs": [
    {
     "name": "stdout",
     "output_type": "stream",
     "text": [
      "[62. 40. 43. 53. 55. 59. 48. 49. 47. 57. 63. 68. 60. 44. 39. 75. 54. 66.\n",
      " 45. 52. 56. 51. 71. 65. 38. 64. 50. 61. 58. 41. 69. 67. 72. 82. 42. 76.\n",
      " 73. 46. 81. 83. 78. 77. 70. 74. 26. 80. 79. 84. 89. 85. 86. 87. 88. 36.\n",
      " 37. 33. 35. 28. 32. 34. 30. 31. 29.]\n",
      "[0. 1.]\n",
      "[0. 1.]\n",
      "[0. 1.]\n",
      "[0. 1.]\n",
      "[1. 0.]\n",
      "[0. 1.]\n",
      "[0. 1.]\n",
      "[0. 1.]\n",
      "[1. 0.]\n",
      "[0. 1.]\n",
      "[0. 1.]\n",
      "[0. 1.]\n"
     ]
    }
   ],
   "source": [
    "#As a consistency check, print the unique values in each column of df_noimage, and check\n",
    "#that - except for the 'age' column - all the other columns only take values 0 or 1.\n",
    "\n",
    "for col in df_noimage:\n",
    "    print(df_noimage[col].unique())"
   ]
  },
  {
   "cell_type": "code",
   "execution_count": 5,
   "id": "31ce464c",
   "metadata": {
    "execution": {
     "iopub.execute_input": "2023-02-11T20:33:52.908604Z",
     "iopub.status.busy": "2023-02-11T20:33:52.908227Z",
     "iopub.status.idle": "2023-02-11T20:33:52.916769Z",
     "shell.execute_reply": "2023-02-11T20:33:52.915138Z"
    },
    "papermill": {
     "duration": 0.019525,
     "end_time": "2023-02-11T20:33:52.919362",
     "exception": false,
     "start_time": "2023-02-11T20:33:52.899837",
     "status": "completed"
    },
    "tags": []
   },
   "outputs": [
    {
     "name": "stdout",
     "output_type": "stream",
     "text": [
      "fraction of patients with cancer:  0.043440786071367005\n"
     ]
    }
   ],
   "source": [
    "#Computing the fraction of patients with cancer.\n",
    "print(\"fraction of patients with cancer: \",\n",
    "      len(df_noimage[df_noimage['cancer_1']==1])/len(df_noimage))"
   ]
  },
  {
   "cell_type": "markdown",
   "id": "b7d1415b",
   "metadata": {
    "papermill": {
     "duration": 0.00697,
     "end_time": "2023-02-11T20:33:52.933686",
     "exception": false,
     "start_time": "2023-02-11T20:33:52.926716",
     "status": "completed"
    },
    "tags": []
   },
   "source": [
    "# Correlation between variables"
   ]
  },
  {
   "cell_type": "code",
   "execution_count": 6,
   "id": "e422b727",
   "metadata": {
    "execution": {
     "iopub.execute_input": "2023-02-11T20:33:52.951942Z",
     "iopub.status.busy": "2023-02-11T20:33:52.951529Z",
     "iopub.status.idle": "2023-02-11T20:33:53.522773Z",
     "shell.execute_reply": "2023-02-11T20:33:53.521551Z"
    },
    "papermill": {
     "duration": 0.584802,
     "end_time": "2023-02-11T20:33:53.525671",
     "exception": false,
     "start_time": "2023-02-11T20:33:52.940869",
     "status": "completed"
    },
    "tags": []
   },
   "outputs": [
    {
     "data": {
      "image/png": "[encoded data removed]",
      "text/plain": [
       "<Figure size 432x288 with 2 Axes>"
      ]
     },
     "metadata": {
      "needs_background": "light"
     },
     "output_type": "display_data"
    }
   ],
   "source": [
    "#Producing a heat map of the Pearson's correlation coefficients\n",
    "#between the most relevant columns.\n",
    "sns.heatmap(df_noimage[relevant_columns].corr());"
   ]
  },
  {
   "cell_type": "markdown",
   "id": "5fc9c83a",
   "metadata": {
    "papermill": {
     "duration": 0.007472,
     "end_time": "2023-02-11T20:33:53.541187",
     "exception": false,
     "start_time": "2023-02-11T20:33:53.533715",
     "status": "completed"
    },
    "tags": []
   },
   "source": [
    "# Exploring numerical data"
   ]
  },
  {
   "cell_type": "code",
   "execution_count": 7,
   "id": "4b3251ad",
   "metadata": {
    "execution": {
     "iopub.execute_input": "2023-02-11T20:33:53.558708Z",
     "iopub.status.busy": "2023-02-11T20:33:53.558285Z",
     "iopub.status.idle": "2023-02-11T20:33:53.819663Z",
     "shell.execute_reply": "2023-02-11T20:33:53.818418Z"
    },
    "papermill": {
     "duration": 0.273573,
     "end_time": "2023-02-11T20:33:53.822521",
     "exception": false,
     "start_time": "2023-02-11T20:33:53.548948",
     "status": "completed"
    },
    "tags": []
   },
   "outputs": [
    {
     "data": {
      "image/png": "[encoded data removed]",
      "text/plain": [
       "<Figure size 432x288 with 1 Axes>"
      ]
     },
     "metadata": {
      "needs_background": "light"
     },
     "output_type": "display_data"
    }
   ],
   "source": [
    "#First, we focus on the numerical data. There's only one column with\n",
    "#numerical data: 'age'. We plot the empirical cumulative distribution \n",
    "#function (ECDF) of'age', and compare it with the plot of the CDF of the\n",
    "#normal distribution with the same mean and standard deviation.\n",
    "\n",
    "x = np.sort(df_noimage['age'])\n",
    "y = np.arange(1,len(x)+1)/len(x)\n",
    "_ = plt.plot(x,y, marker='.', linestyle='none')\n",
    "\n",
    "age_mean = df_noimage['age'].mean()\n",
    "age_std = df_noimage['age'].std()\n",
    "\n",
    "samples = np.random.normal(age_mean, age_std, size=len(df_noimage['age']))\n",
    "x_samples = np.sort(samples)\n",
    "_ = plt.plot(x_samples,y, marker='.',linestyle='none')\n",
    "\n",
    "_ = plt.xlabel('age')\n",
    "_ = plt.ylabel('ECDF/CDF')\n",
    "_ = plt.legend(['ECDF','CDF'])\n",
    "plt.show()\n",
    "\n",
    "#We see some deviations of the ECDF from the CDF of the normal distribution."
   ]
  },
  {
   "cell_type": "code",
   "execution_count": 8,
   "id": "66672a13",
   "metadata": {
    "execution": {
     "iopub.execute_input": "2023-02-11T20:33:53.840328Z",
     "iopub.status.busy": "2023-02-11T20:33:53.839905Z",
     "iopub.status.idle": "2023-02-11T20:33:54.046952Z",
     "shell.execute_reply": "2023-02-11T20:33:54.045754Z"
    },
    "papermill": {
     "duration": 0.219895,
     "end_time": "2023-02-11T20:33:54.050508",
     "exception": false,
     "start_time": "2023-02-11T20:33:53.830613",
     "status": "completed"
    },
    "tags": []
   },
   "outputs": [
    {
     "data": {
      "image/png": "[encoded data removed]",
      "text/plain": [
       "<Figure size 432x288 with 1 Axes>"
      ]
     },
     "metadata": {
      "needs_background": "light"
     },
     "output_type": "display_data"
    }
   ],
   "source": [
    "#Next, we make a boxplot of the age distribution, separated by whether\n",
    "#the patient has cancer or not.\n",
    "_ = sns.boxplot(x='cancer_1', y ='age', data=df_noimage)\n",
    "_ = plt.xlabel('Cancer versus no cancer')\n",
    "_ = plt.ylabel('age')\n",
    "plt.show()\n",
    "\n",
    "#We see that the median age of patients with cancer is higher than the \n",
    "#median age of patients without cancer."
   ]
  },
  {
   "cell_type": "code",
   "execution_count": 9,
   "id": "c040ae4f",
   "metadata": {
    "execution": {
     "iopub.execute_input": "2023-02-11T20:33:54.069187Z",
     "iopub.status.busy": "2023-02-11T20:33:54.068206Z",
     "iopub.status.idle": "2023-02-11T20:33:54.081599Z",
     "shell.execute_reply": "2023-02-11T20:33:54.080204Z"
    },
    "papermill": {
     "duration": 0.025407,
     "end_time": "2023-02-11T20:33:54.084114",
     "exception": false,
     "start_time": "2023-02-11T20:33:54.058707",
     "status": "completed"
    },
    "tags": []
   },
   "outputs": [
    {
     "name": "stdout",
     "output_type": "stream",
     "text": [
      "NormaltestResult(statistic=235.7300360970258, pvalue=6.484448600061084e-52) NormaltestResult(statistic=9.256855293263223, pvalue=0.009770109095319396)\n"
     ]
    }
   ],
   "source": [
    "#We can do a hypothesis testing to see if the difference of the medians\n",
    "#seen above is statistically significant. First, we create two subsets \n",
    "#of the 'age' column (with cancer and without cancer)\n",
    "no_cancer = df_noimage.loc[df_noimage['cancer_1']==0,'age']\n",
    "has_cancer = df_noimage.loc[df_noimage['cancer_1']==1,'age']\n",
    "\n",
    "#Next, we test if the two subsets above are normally distributed.\n",
    "print(stats.normaltest(no_cancer), stats.normaltest(has_cancer))\n",
    "\n",
    "#The small p-values mean that the data are not normally distributed !"
   ]
  },
  {
   "cell_type": "code",
   "execution_count": 10,
   "id": "f7f4d09e",
   "metadata": {
    "execution": {
     "iopub.execute_input": "2023-02-11T20:33:54.103507Z",
     "iopub.status.busy": "2023-02-11T20:33:54.102620Z",
     "iopub.status.idle": "2023-02-11T20:33:57.465672Z",
     "shell.execute_reply": "2023-02-11T20:33:57.464568Z"
    },
    "papermill": {
     "duration": 3.375321,
     "end_time": "2023-02-11T20:33:57.468357",
     "exception": false,
     "start_time": "2023-02-11T20:33:54.093036",
     "status": "completed"
    },
    "tags": []
   },
   "outputs": [],
   "source": [
    "#Now we do the permutation test, with 10000 permutation replicates.\n",
    "difference = np.empty(10000)\n",
    "\n",
    "for i in range(10000):\n",
    "    permuted_ages = np.random.permutation(df_noimage['age'])\n",
    "    permuted_ages_no_cancer = permuted_ages[:len(no_cancer)]\n",
    "    permuted_ages_has_cancer = permuted_ages[len(no_cancer):]\n",
    "    diff = np.median(permuted_ages_no_cancer) - np.median(permuted_ages_has_cancer)\n",
    "    difference[i] = diff"
   ]
  },
  {
   "cell_type": "code",
   "execution_count": 11,
   "id": "1d02bced",
   "metadata": {
    "execution": {
     "iopub.execute_input": "2023-02-11T20:33:57.487700Z",
     "iopub.status.busy": "2023-02-11T20:33:57.487273Z",
     "iopub.status.idle": "2023-02-11T20:33:57.726080Z",
     "shell.execute_reply": "2023-02-11T20:33:57.724586Z"
    },
    "papermill": {
     "duration": 0.251908,
     "end_time": "2023-02-11T20:33:57.729209",
     "exception": false,
     "start_time": "2023-02-11T20:33:57.477301",
     "status": "completed"
    },
    "tags": []
   },
   "outputs": [
    {
     "data": {
      "image/png": "[encoded data removed]",
      "text/plain": [
       "<Figure size 432x288 with 1 Axes>"
      ]
     },
     "metadata": {
      "needs_background": "light"
     },
     "output_type": "display_data"
    }
   ],
   "source": [
    "#We make a histogram of the differences of the median\n",
    "histo = plt.hist(difference,bins=10)"
   ]
  },
  {
   "cell_type": "code",
   "execution_count": 12,
   "id": "94831602",
   "metadata": {
    "execution": {
     "iopub.execute_input": "2023-02-11T20:33:57.748191Z",
     "iopub.status.busy": "2023-02-11T20:33:57.747769Z",
     "iopub.status.idle": "2023-02-11T20:33:57.756454Z",
     "shell.execute_reply": "2023-02-11T20:33:57.754828Z"
    },
    "papermill": {
     "duration": 0.020784,
     "end_time": "2023-02-11T20:33:57.758735",
     "exception": false,
     "start_time": "2023-02-11T20:33:57.737951",
     "status": "completed"
    },
    "tags": []
   },
   "outputs": [
    {
     "name": "stdout",
     "output_type": "stream",
     "text": [
      "The observed difference of the medians is:  -9.0\n",
      "The p-value is:  0.0\n"
     ]
    }
   ],
   "source": [
    "#Computing the observed difference of the medians, and its p-value.\n",
    "diff_observed = np.median(no_cancer) - np.median(has_cancer)\n",
    "print(\"The observed difference of the medians is: \", diff_observed)\n",
    "\n",
    "p = np.sum(difference <= diff_observed)/len(difference)\n",
    "print(\"The p-value is: \", p)\n",
    "\n",
    "#Because we found a p-value of zero, the observed difference between the two medians is\n",
    "#statistically significant."
   ]
  },
  {
   "cell_type": "markdown",
   "id": "446199bd",
   "metadata": {
    "papermill": {
     "duration": 0.011282,
     "end_time": "2023-02-11T20:33:57.780331",
     "exception": false,
     "start_time": "2023-02-11T20:33:57.769049",
     "status": "completed"
    },
    "tags": []
   },
   "source": [
    "# Exploring categorical data"
   ]
  },
  {
   "cell_type": "code",
   "execution_count": 13,
   "id": "ffc4c1c1",
   "metadata": {
    "execution": {
     "iopub.execute_input": "2023-02-11T20:33:57.802421Z",
     "iopub.status.busy": "2023-02-11T20:33:57.801824Z",
     "iopub.status.idle": "2023-02-11T20:33:58.134723Z",
     "shell.execute_reply": "2023-02-11T20:33:58.133228Z"
    },
    "papermill": {
     "duration": 0.34762,
     "end_time": "2023-02-11T20:33:58.137362",
     "exception": false,
     "start_time": "2023-02-11T20:33:57.789742",
     "status": "completed"
    },
    "tags": []
   },
   "outputs": [
    {
     "data": {
      "text/plain": [
       "<seaborn.axisgrid.FacetGrid at 0x7f1bf85dca10>"
      ]
     },
     "execution_count": 13,
     "metadata": {},
     "output_type": "execute_result"
    },
    {
     "data": {
      "image/png": "[encoded data removed]",
      "text/plain": [
       "<Figure size 360x360 with 1 Axes>"
      ]
     },
     "metadata": {
      "needs_background": "light"
     },
     "output_type": "display_data"
    }
   ],
   "source": [
    "#Let's focus on the 'implant_1' column. We make a bar plot to show the fraction of patients\n",
    "#with breast implant who have cancer, versus the fraction of patients without\n",
    "#breast implant who have cancer.\n",
    "\n",
    "sns.catplot(x= 'implant_1',y= 'cancer_1', data=df_noimage[['cancer_1','implant_1']],\n",
    "            kind='bar')\n",
    "\n",
    "#Interestingly, the fraction is lower among patients with breast implant\n",
    "# (0.017) than without (0.044). The two confidence intervals overlap a little bit.\n",
    "\n",
    "#Our finding agrees with some studies in the literature,for example:\n",
    "#https://www.komen.org/breast-cancer/facts-statistics/research-studies/topics/breast-implants-and-breast-cancer-risk/#:~:text=A%20few%20studies%20in%20the,the%20implants%20themselves%20%5B2%5D.\n",
    "#However, as pointed out in the website above, there are probably some confounding factors here,\n",
    "#and the breast implant itself doesn't protect against cancer!"
   ]
  },
  {
   "cell_type": "code",
   "execution_count": 14,
   "id": "05a7d2e2",
   "metadata": {
    "execution": {
     "iopub.execute_input": "2023-02-11T20:33:58.157590Z",
     "iopub.status.busy": "2023-02-11T20:33:58.156567Z",
     "iopub.status.idle": "2023-02-11T20:33:58.171708Z",
     "shell.execute_reply": "2023-02-11T20:33:58.170561Z"
    },
    "papermill": {
     "duration": 0.028126,
     "end_time": "2023-02-11T20:33:58.174532",
     "exception": false,
     "start_time": "2023-02-11T20:33:58.146406",
     "status": "completed"
    },
    "tags": []
   },
   "outputs": [
    {
     "data": {
      "text/html": [
       "<div>\n",
       "<style scoped>\n",
       "    .dataframe tbody tr th:only-of-type {\n",
       "        vertical-align: middle;\n",
       "    }\n",
       "\n",
       "    .dataframe tbody tr th {\n",
       "        vertical-align: top;\n",
       "    }\n",
       "\n",
       "    .dataframe thead th {\n",
       "        text-align: right;\n",
       "    }\n",
       "</style>\n",
       "<table border=\"1\" class=\"dataframe\">\n",
       "  <thead>\n",
       "    <tr style=\"text-align: right;\">\n",
       "      <th></th>\n",
       "      <th>cancer_1</th>\n",
       "    </tr>\n",
       "    <tr>\n",
       "      <th>biopsy_1</th>\n",
       "      <th></th>\n",
       "    </tr>\n",
       "  </thead>\n",
       "  <tbody>\n",
       "    <tr>\n",
       "      <th>0.0</th>\n",
       "      <td>0.000000</td>\n",
       "    </tr>\n",
       "    <tr>\n",
       "      <th>1.0</th>\n",
       "      <td>0.283784</td>\n",
       "    </tr>\n",
       "  </tbody>\n",
       "</table>\n",
       "</div>"
      ],
      "text/plain": [
       "          cancer_1\n",
       "biopsy_1          \n",
       "0.0       0.000000\n",
       "1.0       0.283784"
      ]
     },
     "execution_count": 14,
     "metadata": {},
     "output_type": "execute_result"
    }
   ],
   "source": [
    "#We repeat the above step, but with 'implant_1' replaced by other categorical features. \n",
    "df_noimage[['cancer_1','biopsy_1']].groupby('biopsy_1').mean()\n",
    "#We use the mean() function above because the mean of an array with values 0 and 1 is the\n",
    "#same as the fraction with value 1.\n",
    "\n",
    "#It makes sense that among the patients who did not need biopsy, none developed cancer."
   ]
  },
  {
   "cell_type": "code",
   "execution_count": 15,
   "id": "a53fac8d",
   "metadata": {
    "execution": {
     "iopub.execute_input": "2023-02-11T20:33:58.195789Z",
     "iopub.status.busy": "2023-02-11T20:33:58.194752Z",
     "iopub.status.idle": "2023-02-11T20:33:58.208454Z",
     "shell.execute_reply": "2023-02-11T20:33:58.207277Z"
    },
    "papermill": {
     "duration": 0.027167,
     "end_time": "2023-02-11T20:33:58.210831",
     "exception": false,
     "start_time": "2023-02-11T20:33:58.183664",
     "status": "completed"
    },
    "tags": []
   },
   "outputs": [
    {
     "data": {
      "text/html": [
       "<div>\n",
       "<style scoped>\n",
       "    .dataframe tbody tr th:only-of-type {\n",
       "        vertical-align: middle;\n",
       "    }\n",
       "\n",
       "    .dataframe tbody tr th {\n",
       "        vertical-align: top;\n",
       "    }\n",
       "\n",
       "    .dataframe thead th {\n",
       "        text-align: right;\n",
       "    }\n",
       "</style>\n",
       "<table border=\"1\" class=\"dataframe\">\n",
       "  <thead>\n",
       "    <tr style=\"text-align: right;\">\n",
       "      <th></th>\n",
       "      <th>cancer_1</th>\n",
       "    </tr>\n",
       "    <tr>\n",
       "      <th>invasive_1</th>\n",
       "      <th></th>\n",
       "    </tr>\n",
       "  </thead>\n",
       "  <tbody>\n",
       "    <tr>\n",
       "      <th>0.0</th>\n",
       "      <td>0.014562</td>\n",
       "    </tr>\n",
       "    <tr>\n",
       "      <th>1.0</th>\n",
       "      <td>1.000000</td>\n",
       "    </tr>\n",
       "  </tbody>\n",
       "</table>\n",
       "</div>"
      ],
      "text/plain": [
       "            cancer_1\n",
       "invasive_1          \n",
       "0.0         0.014562\n",
       "1.0         1.000000"
      ]
     },
     "execution_count": 15,
     "metadata": {},
     "output_type": "execute_result"
    }
   ],
   "source": [
    "df_noimage[['cancer_1','invasive_1']].groupby('invasive_1').mean()\n",
    "#It makes sense that all the patients with invasive tumor indeed had cancer."
   ]
  },
  {
   "cell_type": "code",
   "execution_count": 16,
   "id": "8edc7baf",
   "metadata": {
    "execution": {
     "iopub.execute_input": "2023-02-11T20:33:58.232013Z",
     "iopub.status.busy": "2023-02-11T20:33:58.231567Z",
     "iopub.status.idle": "2023-02-11T20:33:58.258732Z",
     "shell.execute_reply": "2023-02-11T20:33:58.256842Z"
    },
    "papermill": {
     "duration": 0.04154,
     "end_time": "2023-02-11T20:33:58.262054",
     "exception": false,
     "start_time": "2023-02-11T20:33:58.220514",
     "status": "completed"
    },
    "tags": []
   },
   "outputs": [
    {
     "name": "stdout",
     "output_type": "stream",
     "text": [
      "            cancer_1\n",
      "BIRADS_0.0          \n",
      "0.0         0.000000\n",
      "1.0         0.122509\n",
      "            cancer_1\n",
      "BIRADS_1.0          \n",
      "0.0         0.094844\n",
      "1.0         0.000000\n",
      "            cancer_1\n",
      "BIRADS_2.0          \n",
      "0.0         0.048452\n",
      "1.0         0.000000\n"
     ]
    }
   ],
   "source": [
    "print(df_noimage[['cancer_1','BIRADS_0.0']].groupby('BIRADS_0.0').mean())\n",
    "print(df_noimage[['cancer_1','BIRADS_1.0']].groupby('BIRADS_1.0').mean())\n",
    "print(df_noimage[['cancer_1','BIRADS_2.0']].groupby('BIRADS_2.0').mean())\n",
    "\n",
    "#It makes sense that none of the patients with BI-RADS of 1 has cancer.\n",
    "#See Wikipedia https://en.wikipedia.org/wiki/BI-RADS for an explanation of BI-RADS."
   ]
  },
  {
   "cell_type": "code",
   "execution_count": 17,
   "id": "f7e8a2e3",
   "metadata": {
    "execution": {
     "iopub.execute_input": "2023-02-11T20:33:58.282851Z",
     "iopub.status.busy": "2023-02-11T20:33:58.282094Z",
     "iopub.status.idle": "2023-02-11T20:33:58.309040Z",
     "shell.execute_reply": "2023-02-11T20:33:58.307251Z"
    },
    "papermill": {
     "duration": 0.040389,
     "end_time": "2023-02-11T20:33:58.311874",
     "exception": false,
     "start_time": "2023-02-11T20:33:58.271485",
     "status": "completed"
    },
    "tags": []
   },
   "outputs": [
    {
     "name": "stdout",
     "output_type": "stream",
     "text": [
      "           cancer_1\n",
      "density_A          \n",
      "0.0        0.044588\n",
      "1.0        0.032550\n",
      "           cancer_1\n",
      "density_B          \n",
      "0.0        0.041616\n",
      "1.0        0.045835\n",
      "           cancer_1\n",
      "density_C          \n",
      "0.0        0.042149\n",
      "1.0        0.045230\n",
      "           cancer_1\n",
      "density_D          \n",
      "0.0        0.044230\n",
      "1.0        0.029316\n"
     ]
    }
   ],
   "source": [
    "print(df_noimage[['cancer_1','density_A']].groupby('density_A').mean())\n",
    "print(df_noimage[['cancer_1','density_B']].groupby('density_B').mean())\n",
    "print(df_noimage[['cancer_1','density_C']].groupby('density_C').mean())\n",
    "print(df_noimage[['cancer_1','density_D']].groupby('density_D').mean())\n",
    "#The fraction of patients with breast_density B or C who developed cancer is higher than \n",
    "#the fraction with density A or D."
   ]
  },
  {
   "cell_type": "code",
   "execution_count": 18,
   "id": "ad430a3e",
   "metadata": {
    "execution": {
     "iopub.execute_input": "2023-02-11T20:33:58.332576Z",
     "iopub.status.busy": "2023-02-11T20:33:58.332173Z",
     "iopub.status.idle": "2023-02-11T20:33:58.348487Z",
     "shell.execute_reply": "2023-02-11T20:33:58.346349Z"
    },
    "papermill": {
     "duration": 0.031306,
     "end_time": "2023-02-11T20:33:58.352708",
     "exception": false,
     "start_time": "2023-02-11T20:33:58.321402",
     "status": "completed"
    },
    "tags": []
   },
   "outputs": [
    {
     "name": "stdout",
     "output_type": "stream",
     "text": [
      "fraction of patients with breast density A:  0.09532839165661093\n",
      "fraction of patients with breast density B:  0.43251163592484054\n",
      "fraction of patients with breast density C:  0.41923806240303396\n",
      "fraction of patients with breast density D:  0.052921910015514564\n"
     ]
    }
   ],
   "source": [
    "#Let's also compute the fraction of patients with each kind of breast density.\n",
    "print(\"fraction of patients with breast density A: \",\n",
    "      len(df_noimage[df_noimage['density_A']==1])/len(df_noimage))\n",
    "print(\"fraction of patients with breast density B: \",\n",
    "      len(df_noimage[df_noimage['density_B']==1])/len(df_noimage))\n",
    "print(\"fraction of patients with breast density C: \",\n",
    "      len(df_noimage[df_noimage['density_C']==1])/len(df_noimage))\n",
    "print(\"fraction of patients with breast density D: \",\n",
    "      len(df_noimage[df_noimage['density_D']==1])/len(df_noimage))\n",
    "\n",
    "#We find that around 10% of patients have density A, around 43% have density B, around\n",
    "#42 % have density C, and around 5% have density D. The fractions we found are close to the \n",
    "#distribution of breast density among the general population; see this website:\n",
    "#https://www.cdc.gov/cancer/breast/basic_info/dense-breasts.htm#:~:text=What%20Is%20Breast%20Density%3F,as%20seen%20on%20a%20mammogram.&text=The%20breasts%20are%20almost%20entirely,about%2010%25%20of%20women).\n",
    "#for more information."
   ]
  },
  {
   "cell_type": "code",
   "execution_count": null,
   "id": "d7a93ec4",
   "metadata": {
    "papermill": {
     "duration": 0.009073,
     "end_time": "2023-02-11T20:33:58.371515",
     "exception": false,
     "start_time": "2023-02-11T20:33:58.362442",
     "status": "completed"
    },
    "tags": []
   },
   "outputs": [],
   "source": []
  },
  {
   "cell_type": "code",
   "execution_count": null,
   "id": "aa59a88b",
   "metadata": {
    "papermill": {
     "duration": 0.00906,
     "end_time": "2023-02-11T20:33:58.389871",
     "exception": false,
     "start_time": "2023-02-11T20:33:58.380811",
     "status": "completed"
    },
    "tags": []
   },
   "outputs": [],
   "source": []
  },
  {
   "cell_type": "markdown",
   "id": "a607032d",
   "metadata": {
    "papermill": {
     "duration": 0.009059,
     "end_time": "2023-02-11T20:33:58.408408",
     "exception": false,
     "start_time": "2023-02-11T20:33:58.399349",
     "status": "completed"
    },
    "tags": []
   },
   "source": [
    "# Exploring the images"
   ]
  },
  {
   "cell_type": "code",
   "execution_count": 19,
   "id": "2c50bd63",
   "metadata": {
    "execution": {
     "iopub.execute_input": "2023-02-11T20:33:58.429121Z",
     "iopub.status.busy": "2023-02-11T20:33:58.428680Z",
     "iopub.status.idle": "2023-02-11T20:33:58.443070Z",
     "shell.execute_reply": "2023-02-11T20:33:58.441057Z"
    },
    "papermill": {
     "duration": 0.02833,
     "end_time": "2023-02-11T20:33:58.446017",
     "exception": false,
     "start_time": "2023-02-11T20:33:58.417687",
     "status": "completed"
    },
    "tags": []
   },
   "outputs": [
    {
     "name": "stdout",
     "output_type": "stream",
     "text": [
      "fraction of mammograms with laterality L:  0.4976305322839976\n",
      "fraction of mammograms with laterality R:  0.5023694677160023\n"
     ]
    }
   ],
   "source": [
    "#Let's compute the fraction of mammograms with each kind of laterality (left or right).\n",
    "print(\"fraction of mammograms with laterality L: \",\n",
    "      len(df[df['laterality_L']==1])/len(df))\n",
    "print(\"fraction of mammograms with laterality R: \",\n",
    "      len(df[df['laterality_R']==1])/len(df))\n",
    "#We see that the two lateralities are roughly equally represented in the dataset."
   ]
  },
  {
   "cell_type": "code",
   "execution_count": 20,
   "id": "cf43247b",
   "metadata": {
    "execution": {
     "iopub.execute_input": "2023-02-11T20:33:58.466612Z",
     "iopub.status.busy": "2023-02-11T20:33:58.466232Z",
     "iopub.status.idle": "2023-02-11T20:33:58.479255Z",
     "shell.execute_reply": "2023-02-11T20:33:58.477750Z"
    },
    "papermill": {
     "duration": 0.026927,
     "end_time": "2023-02-11T20:33:58.482459",
     "exception": false,
     "start_time": "2023-02-11T20:33:58.455532",
     "status": "completed"
    },
    "tags": []
   },
   "outputs": [
    {
     "name": "stdout",
     "output_type": "stream",
     "text": [
      "fraction of mammograms with view CC:  0.4862909367859863\n",
      "fraction of mammograms with view MLO:  0.5137090632140137\n"
     ]
    }
   ],
   "source": [
    "#Let's compute the fraction of mammograms with each kind of view (cranio-caudal or mediolateral-oblique).\n",
    "print(\"fraction of mammograms with view CC: \",\n",
    "      len(df[df['view_CC']==1])/len(df))\n",
    "print(\"fraction of mammograms with view MLO: \",\n",
    "      len(df[df['view_MLO']==1])/len(df))\n",
    "#We see that the two views are roughly equally represented in the dataset."
   ]
  },
  {
   "cell_type": "code",
   "execution_count": null,
   "id": "9af5b665",
   "metadata": {
    "papermill": {
     "duration": 0.009202,
     "end_time": "2023-02-11T20:33:58.501747",
     "exception": false,
     "start_time": "2023-02-11T20:33:58.492545",
     "status": "completed"
    },
    "tags": []
   },
   "outputs": [],
   "source": []
  },
  {
   "cell_type": "code",
   "execution_count": null,
   "id": "a3a88846",
   "metadata": {
    "papermill": {
     "duration": 0.009194,
     "end_time": "2023-02-11T20:33:58.520508",
     "exception": false,
     "start_time": "2023-02-11T20:33:58.511314",
     "status": "completed"
    },
    "tags": []
   },
   "outputs": [],
   "source": []
  }
 ],
 "metadata": {
  "kernelspec": {
   "display_name": "Python 3",
   "language": "python",
   "name": "python3"
  },
  "language_info": {
   "codemirror_mode": {
    "name": "ipython",
    "version": 3
   },
   "file_extension": ".py",
   "mimetype": "text/x-python",
   "name": "python",
   "nbconvert_exporter": "python",
   "pygments_lexer": "ipython3",
   "version": "3.7.12"
  },
  "papermill": {
   "default_parameters": {},
   "duration": 101.395788,
   "end_time": "2023-02-11T20:34:01.195599",
   "environment_variables": {},
   "exception": null,
   "input_path": "__notebook__.ipynb",
   "output_path": "__notebook__.ipynb",
   "parameters": {},
   "start_time": "2023-02-11T20:32:19.799811",
   "version": "2.3.4"
  }
 },
 "nbformat": 4,
 "nbformat_minor": 5
}
