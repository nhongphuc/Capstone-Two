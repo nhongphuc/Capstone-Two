{
 "cells": [
  {
   "cell_type": "code",
   "execution_count": 1,
   "id": "00c79ccb",
   "metadata": {
    "_cell_guid": "b1076dfc-b9ad-4769-8c92-a6c4dae69d19",
    "_uuid": "8f2839f25d086af736a60e9eeb907d3b93b6e0e5",
    "execution": {
     "iopub.execute_input": "2023-03-17T12:30:44.815007Z",
     "iopub.status.busy": "2023-03-17T12:30:44.814294Z",
     "iopub.status.idle": "2023-03-17T12:30:46.508630Z",
     "shell.execute_reply": "2023-03-17T12:30:46.507406Z"
    },
    "papermill": {
     "duration": 1.706249,
     "end_time": "2023-03-17T12:30:46.511667",
     "exception": false,
     "start_time": "2023-03-17T12:30:44.805418",
     "status": "completed"
    },
    "tags": []
   },
   "outputs": [],
   "source": [
    "#Importing packages\n",
    "\n",
    "import numpy as np # linear algebra\n",
    "import pandas as pd # data processing, CSV file I/O (e.g. pd.read_csv)\n",
    "import pickle\n",
    "import matplotlib.pyplot as plt\n",
    "from sklearn.model_selection import train_test_split, GridSearchCV\n",
    "from sklearn.preprocessing import StandardScaler\n",
    "from sklearn.linear_model import LogisticRegression\n",
    "from sklearn.metrics import accuracy_score, f1_score, roc_curve, auc\n",
    "from sklearn.pipeline import Pipeline\n",
    "from sklearn.decomposition import PCA\n",
    "from imblearn.over_sampling import RandomOverSampler\n",
    "from sklearn.ensemble import RandomForestClassifier, GradientBoostingClassifier\n",
    "from skimage import exposure"
   ]
  },
  {
   "cell_type": "code",
   "execution_count": 2,
   "id": "2ffb3c13",
   "metadata": {
    "execution": {
     "iopub.execute_input": "2023-03-17T12:30:46.525226Z",
     "iopub.status.busy": "2023-03-17T12:30:46.524791Z",
     "iopub.status.idle": "2023-03-17T12:32:04.495410Z",
     "shell.execute_reply": "2023-03-17T12:32:04.494160Z"
    },
    "papermill": {
     "duration": 77.980816,
     "end_time": "2023-03-17T12:32:04.498508",
     "exception": false,
     "start_time": "2023-03-17T12:30:46.517692",
     "status": "completed"
    },
    "tags": []
   },
   "outputs": [],
   "source": [
    "#Loading the pickle file containing a dictionary with \n",
    "#patient ID and image ID for keys and the cleaned images for values \n",
    "#(from the Data Wrangling notebook).\n",
    "folder_path = '/kaggle/input/rsna-breast-cancer-detection-data-wrangling/'\n",
    "\n",
    "with open(folder_path + 'cleaned_images.pickle', 'rb') as file:\n",
    "    img_dict = pickle.load(file)\n",
    "    \n",
    "#Loading the cleaned csv file (also from the Data Wrangling notebook).\n",
    "df = pd.read_csv(folder_path + 'cleaned_data.csv')"
   ]
  },
  {
   "cell_type": "code",
   "execution_count": 3,
   "id": "68015e40",
   "metadata": {
    "execution": {
     "iopub.execute_input": "2023-03-17T12:32:04.513113Z",
     "iopub.status.busy": "2023-03-17T12:32:04.512631Z",
     "iopub.status.idle": "2023-03-17T12:32:04.540498Z",
     "shell.execute_reply": "2023-03-17T12:32:04.539205Z"
    },
    "papermill": {
     "duration": 0.038518,
     "end_time": "2023-03-17T12:32:04.543433",
     "exception": false,
     "start_time": "2023-03-17T12:32:04.504915",
     "status": "completed"
    },
    "tags": []
   },
   "outputs": [
    {
     "name": "stdout",
     "output_type": "stream",
     "text": [
      "(662, 28)\n",
      "(22972, 28)\n"
     ]
    }
   ],
   "source": [
    "#Creating two new dataframes, by filtering df according to whether the patient has cancer or not.\n",
    "df_cancer = df[df['cancer_1']==1].reset_index()\n",
    "df_no_cancer = df[df['cancer_1']==0].reset_index()\n",
    "print(df_cancer.shape)\n",
    "print(df_no_cancer.shape)"
   ]
  },
  {
   "cell_type": "markdown",
   "id": "bbf64028",
   "metadata": {
    "papermill": {
     "duration": 0.005951,
     "end_time": "2023-03-17T12:32:04.555619",
     "exception": false,
     "start_time": "2023-03-17T12:32:04.549668",
     "status": "completed"
    },
    "tags": []
   },
   "source": [
    "Next, we create the matrix X of features. Each feature is a numpy array consisting of the values of all the pixels in the image, concatenated to the values of the columns of df_cancer and df_no_cancer.\n",
    "\n",
    "We have a very imbalanced dataset, with many more images without cancer than with cancer. For now we will use all the images with cancer, and twice as many images without cancer. Later on (after the train split test) we will oversample the images with cancer to obtain a more balanced dataset."
   ]
  },
  {
   "cell_type": "code",
   "execution_count": 4,
   "id": "1f95e92c",
   "metadata": {
    "execution": {
     "iopub.execute_input": "2023-03-17T12:32:04.569742Z",
     "iopub.status.busy": "2023-03-17T12:32:04.569314Z",
     "iopub.status.idle": "2023-03-17T12:32:19.403276Z",
     "shell.execute_reply": "2023-03-17T12:32:19.402104Z"
    },
    "papermill": {
     "duration": 14.844512,
     "end_time": "2023-03-17T12:32:19.406311",
     "exception": false,
     "start_time": "2023-03-17T12:32:04.561799",
     "status": "completed"
    },
    "tags": []
   },
   "outputs": [],
   "source": [
    "X = []\n",
    "\n",
    "for i in range(len(df_cancer)):\n",
    "    key = str(df_cancer['patient_id'][i]) + '/' + str(df_cancer['image_id'][i])\n",
    "    \n",
    "    arr = np.array(img_dict[key]).ravel()\n",
    "    \n",
    "    arr = np.append(arr, df_cancer['age'][i])\n",
    "    arr = np.append(arr, df_cancer['laterality_L'][i])\n",
    "    arr = np.append(arr, df_cancer['view_CC'][i])\n",
    "    arr = np.append(arr, df_cancer['biopsy_0'][i])\n",
    "    arr = np.append(arr, df_cancer['implant_0'][i])\n",
    "    arr = np.append(arr, df_cancer['invasive_0'][i])\n",
    "    arr = np.append(arr, df_cancer['BIRADS_0.0'][i])\n",
    "    arr = np.append(arr, df_cancer['BIRADS_1.0'][i])\n",
    "    arr = np.append(arr, df_cancer['BIRADS_2.0'][i])\n",
    "    arr = np.append(arr, df_cancer['density_A'][i])\n",
    "    arr = np.append(arr, df_cancer['density_B'][i])\n",
    "    arr = np.append(arr, df_cancer['density_C'][i])\n",
    "    arr = np.append(arr, df_cancer['difficult_negative_case_False'][i])\n",
    "    \n",
    "    X.append(arr)\n",
    "    \n",
    "for i in range(2*len(df_cancer)):\n",
    "    key = str(df_no_cancer['patient_id'][i]) + '/' + str(df_no_cancer['image_id'][i])\n",
    "    \n",
    "    arr = np.array(img_dict[key]).ravel()\n",
    "    \n",
    "    arr = np.append(arr, df_no_cancer['age'][i])\n",
    "    arr = np.append(arr, df_no_cancer['laterality_L'][i])\n",
    "    arr = np.append(arr, df_no_cancer['view_CC'][i])\n",
    "    arr = np.append(arr, df_no_cancer['biopsy_0'][i])\n",
    "    arr = np.append(arr, df_no_cancer['implant_0'][i])\n",
    "    arr = np.append(arr, df_no_cancer['invasive_0'][i])\n",
    "    arr = np.append(arr, df_no_cancer['BIRADS_0.0'][i])\n",
    "    arr = np.append(arr, df_no_cancer['BIRADS_1.0'][i])\n",
    "    arr = np.append(arr, df_no_cancer['BIRADS_2.0'][i])\n",
    "    arr = np.append(arr, df_no_cancer['density_A'][i])\n",
    "    arr = np.append(arr, df_no_cancer['density_B'][i])\n",
    "    arr = np.append(arr, df_no_cancer['density_C'][i])\n",
    "    arr = np.append(arr, df_no_cancer['difficult_negative_case_False'][i])\n",
    "    \n",
    "    X.append(arr)"
   ]
  },
  {
   "cell_type": "markdown",
   "id": "d70ba49a",
   "metadata": {
    "papermill": {
     "duration": 0.005695,
     "end_time": "2023-03-17T12:32:19.418252",
     "exception": false,
     "start_time": "2023-03-17T12:32:19.412557",
     "status": "completed"
    },
    "tags": []
   },
   "source": [
    "We create the corresponding array Y of labels."
   ]
  },
  {
   "cell_type": "code",
   "execution_count": 5,
   "id": "d3a0d72e",
   "metadata": {
    "execution": {
     "iopub.execute_input": "2023-03-17T12:32:19.432360Z",
     "iopub.status.busy": "2023-03-17T12:32:19.431922Z",
     "iopub.status.idle": "2023-03-17T12:32:19.452778Z",
     "shell.execute_reply": "2023-03-17T12:32:19.451631Z"
    },
    "papermill": {
     "duration": 0.031171,
     "end_time": "2023-03-17T12:32:19.455465",
     "exception": false,
     "start_time": "2023-03-17T12:32:19.424294",
     "status": "completed"
    },
    "tags": []
   },
   "outputs": [],
   "source": [
    "Y = []\n",
    "\n",
    "for i in range(len(df_cancer)):\n",
    "    Y.append(df_cancer['cancer_1'][i])\n",
    "    \n",
    "for i in range(2*len(df_cancer)):\n",
    "    Y.append(df_no_cancer['cancer_1'][i])"
   ]
  },
  {
   "cell_type": "markdown",
   "id": "ab935782",
   "metadata": {
    "papermill": {
     "duration": 0.005855,
     "end_time": "2023-03-17T12:32:19.467579",
     "exception": false,
     "start_time": "2023-03-17T12:32:19.461724",
     "status": "completed"
    },
    "tags": []
   },
   "source": [
    "# Baseline models"
   ]
  },
  {
   "cell_type": "markdown",
   "id": "e9bbe773",
   "metadata": {
    "papermill": {
     "duration": 0.00577,
     "end_time": "2023-03-17T12:32:19.479728",
     "exception": false,
     "start_time": "2023-03-17T12:32:19.473958",
     "status": "completed"
    },
    "tags": []
   },
   "source": [
    "After the data augmentation step below, the train data will be evenly split between cancerous images and non-cancerous images. Based on that information, we can estimate baseline values for the accuracy of the training set, as follows:\n",
    "\n",
    "If for example we randomly classify each mammogram as cancerous or non-cancerous, then the probability that we classify the images correctly will be: (0.5) * (0.5) + (0.5) * (0.5) = 0.5. To see this, we note that the first term (0.5) * (0.5) is the probability that we classify correctly as cancerous (because there is a 0.5 chance that the image is classified as cancerous, and also a 0.5 chance that the image is actually cancerous). Similarly, the second term (0.5) * (0.5) is the probability that we classify correctly as non-cancerous.\n",
    "\n",
    "Another simple baseline model is to simply classify all the images as cancerous, or classify all of them as non-cancerous. Such a baseline model is also correct half of the times, so its accuracy is 50 percent.\n",
    "\n",
    "Therefore, if our models below have an accuracy better than 50 percent (on the training set), then the models are better than the two baseline models described above."
   ]
  },
  {
   "cell_type": "markdown",
   "id": "17fde240",
   "metadata": {
    "papermill": {
     "duration": 0.006674,
     "end_time": "2023-03-17T12:32:19.492311",
     "exception": false,
     "start_time": "2023-03-17T12:32:19.485637",
     "status": "completed"
    },
    "tags": []
   },
   "source": [
    "# Logistic Regression"
   ]
  },
  {
   "cell_type": "code",
   "execution_count": 6,
   "id": "f6008197",
   "metadata": {
    "execution": {
     "iopub.execute_input": "2023-03-17T12:32:19.506052Z",
     "iopub.status.busy": "2023-03-17T12:32:19.505664Z",
     "iopub.status.idle": "2023-03-17T12:32:19.515788Z",
     "shell.execute_reply": "2023-03-17T12:32:19.514435Z"
    },
    "papermill": {
     "duration": 0.019892,
     "end_time": "2023-03-17T12:32:19.518147",
     "exception": false,
     "start_time": "2023-03-17T12:32:19.498255",
     "status": "completed"
    },
    "tags": []
   },
   "outputs": [],
   "source": [
    "#Creating a pipeline to scale the data, use 120 principal \n",
    "#components, and do 3-fold cross-validation.\n",
    "\n",
    "steps = [(\"scaler\", StandardScaler()),\n",
    "         (\"pca\", PCA(n_components=100)),\n",
    "         (\"logreg\", LogisticRegression(solver='liblinear', max_iter = 500))]\n",
    "pipeline = Pipeline(steps)\n",
    "parameters = {\"logreg__C\": [10, 100]}\n",
    "Xtrain, Xtest, Ytrain, Ytest = train_test_split(X, Y, train_size = 0.75, random_state = 13)\n",
    "cv = GridSearchCV(pipeline, param_grid=parameters, scoring='f1', cv=3)"
   ]
  },
  {
   "cell_type": "markdown",
   "id": "f464338a",
   "metadata": {
    "papermill": {
     "duration": 0.005853,
     "end_time": "2023-03-17T12:32:19.530280",
     "exception": false,
     "start_time": "2023-03-17T12:32:19.524427",
     "status": "completed"
    },
    "tags": []
   },
   "source": [
    "Now we augment the number of images with cancer by a factor of 2 by oversampling (with flipped images)."
   ]
  },
  {
   "cell_type": "code",
   "execution_count": 7,
   "id": "3fb15500",
   "metadata": {
    "execution": {
     "iopub.execute_input": "2023-03-17T12:32:19.544976Z",
     "iopub.status.busy": "2023-03-17T12:32:19.543616Z",
     "iopub.status.idle": "2023-03-17T12:32:21.404595Z",
     "shell.execute_reply": "2023-03-17T12:32:21.403338Z"
    },
    "papermill": {
     "duration": 1.871378,
     "end_time": "2023-03-17T12:32:21.407672",
     "exception": false,
     "start_time": "2023-03-17T12:32:19.536294",
     "status": "completed"
    },
    "tags": []
   },
   "outputs": [],
   "source": [
    "Xtrain_augmentation = []\n",
    "Ytrain_augmentation = []\n",
    "\n",
    "for i in range(len(Xtrain)):\n",
    "    if Ytrain[i] == 1:\n",
    "        img_part = Xtrain[i][:(512**2)]\n",
    "        non_img_part = Xtrain[i][(512**2):]\n",
    "        flipped_img_part = np.flipud(img_part.reshape(512,512)).ravel()\n",
    "        new_arr = np.concatenate((flipped_img_part, non_img_part))\n",
    "        Xtrain_augmentation.append(new_arr)\n",
    "        \n",
    "        #Xtrain_augmentation.append(Xtrain[i])\n",
    "        Ytrain_augmentation.append(Ytrain[i])\n",
    "        \n",
    "Xtrain = Xtrain + Xtrain_augmentation\n",
    "Ytrain = Ytrain + Ytrain_augmentation"
   ]
  },
  {
   "cell_type": "code",
   "execution_count": 8,
   "id": "d3a1bbeb",
   "metadata": {
    "execution": {
     "iopub.execute_input": "2023-03-17T12:32:21.422346Z",
     "iopub.status.busy": "2023-03-17T12:32:21.421953Z",
     "iopub.status.idle": "2023-03-17T12:32:21.428714Z",
     "shell.execute_reply": "2023-03-17T12:32:21.427564Z"
    },
    "papermill": {
     "duration": 0.017567,
     "end_time": "2023-03-17T12:32:21.431688",
     "exception": false,
     "start_time": "2023-03-17T12:32:21.414121",
     "status": "completed"
    },
    "tags": []
   },
   "outputs": [
    {
     "name": "stdout",
     "output_type": "stream",
     "text": [
      "1989 1989\n",
      "500 500\n",
      "989\n",
      "1000\n"
     ]
    }
   ],
   "source": [
    "#Checking that the train dataset is now balanced.\n",
    "print(len(Xtrain), len(Ytrain))\n",
    "print(len(Xtrain_augmentation), len(Ytrain_augmentation))\n",
    "print(Ytrain.count(0))\n",
    "print(Ytrain.count(1))"
   ]
  },
  {
   "cell_type": "code",
   "execution_count": 9,
   "id": "f5177f1e",
   "metadata": {
    "execution": {
     "iopub.execute_input": "2023-03-17T12:32:21.446548Z",
     "iopub.status.busy": "2023-03-17T12:32:21.446148Z",
     "iopub.status.idle": "2023-03-17T12:39:44.005012Z",
     "shell.execute_reply": "2023-03-17T12:39:44.002011Z"
    },
    "papermill": {
     "duration": 442.589952,
     "end_time": "2023-03-17T12:39:44.028022",
     "exception": false,
     "start_time": "2023-03-17T12:32:21.438070",
     "status": "completed"
    },
    "tags": []
   },
   "outputs": [
    {
     "name": "stdout",
     "output_type": "stream",
     "text": [
      "0.6169418990052646\n",
      "{'logreg__C': 10}\n"
     ]
    }
   ],
   "source": [
    "cv.fit(Xtrain, Ytrain)\n",
    "print(cv.best_score_)\n",
    "print(cv.best_params_)"
   ]
  },
  {
   "cell_type": "code",
   "execution_count": 10,
   "id": "17ac5d70",
   "metadata": {
    "execution": {
     "iopub.execute_input": "2023-03-17T12:39:44.044796Z",
     "iopub.status.busy": "2023-03-17T12:39:44.044360Z",
     "iopub.status.idle": "2023-03-17T12:39:48.914721Z",
     "shell.execute_reply": "2023-03-17T12:39:48.913781Z"
    },
    "papermill": {
     "duration": 4.882048,
     "end_time": "2023-03-17T12:39:48.917436",
     "exception": false,
     "start_time": "2023-03-17T12:39:44.035388",
     "status": "completed"
    },
    "tags": []
   },
   "outputs": [
    {
     "name": "stdout",
     "output_type": "stream",
     "text": [
      "accuracy score: 0.607645875251509\n",
      "f1 score 0.4247787610619469\n"
     ]
    },
    {
     "data": {
      "image/png": "[encoded data removed]",
      "text/plain": [
       "<Figure size 640x480 with 1 Axes>"
      ]
     },
     "metadata": {},
     "output_type": "display_data"
    }
   ],
   "source": [
    "Ypred = cv.predict(Xtest)\n",
    "Ypred_probs = cv.predict_proba(Xtest)[:,1]\n",
    "print(\"accuracy score:\", accuracy_score(Ytest, Ypred))\n",
    "print(\"f1 score\", f1_score(Ytest, Ypred))\n",
    "fpr, tpr, thresholds = roc_curve(Ytest, Ypred_probs)\n",
    "plt.plot([0, 1], [0, 1], 'k--')\n",
    "plt.plot(fpr, tpr)\n",
    "plt.xlabel('False Positive Rate')\n",
    "plt.ylabel('True Positive Rate')\n",
    "plt.title('ROC Curve for Logistic Regression')\n",
    "plt.show()"
   ]
  },
  {
   "cell_type": "markdown",
   "id": "5905ad27",
   "metadata": {
    "papermill": {
     "duration": 0.006909,
     "end_time": "2023-03-17T12:39:48.931798",
     "exception": false,
     "start_time": "2023-03-17T12:39:48.924889",
     "status": "completed"
    },
    "tags": []
   },
   "source": [
    "We see that the accuracy score on the train set is higher than the accuracy of the baseline models !"
   ]
  },
  {
   "cell_type": "code",
   "execution_count": 11,
   "id": "83e2f548",
   "metadata": {
    "execution": {
     "iopub.execute_input": "2023-03-17T12:39:48.949113Z",
     "iopub.status.busy": "2023-03-17T12:39:48.948624Z",
     "iopub.status.idle": "2023-03-17T12:39:48.956212Z",
     "shell.execute_reply": "2023-03-17T12:39:48.954709Z"
    },
    "papermill": {
     "duration": 0.019621,
     "end_time": "2023-03-17T12:39:48.958651",
     "exception": false,
     "start_time": "2023-03-17T12:39:48.939030",
     "status": "completed"
    },
    "tags": []
   },
   "outputs": [
    {
     "name": "stdout",
     "output_type": "stream",
     "text": [
      "0.5855352865303114\n"
     ]
    }
   ],
   "source": [
    "print(auc(fpr, tpr))"
   ]
  },
  {
   "cell_type": "markdown",
   "id": "c1527968",
   "metadata": {
    "papermill": {
     "duration": 0.007194,
     "end_time": "2023-03-17T12:39:48.973317",
     "exception": false,
     "start_time": "2023-03-17T12:39:48.966123",
     "status": "completed"
    },
    "tags": []
   },
   "source": [
    "# Random Forest"
   ]
  },
  {
   "cell_type": "code",
   "execution_count": 12,
   "id": "2b5bf90b",
   "metadata": {
    "execution": {
     "iopub.execute_input": "2023-03-17T12:39:48.989884Z",
     "iopub.status.busy": "2023-03-17T12:39:48.989437Z",
     "iopub.status.idle": "2023-03-17T12:39:48.997363Z",
     "shell.execute_reply": "2023-03-17T12:39:48.996129Z"
    },
    "papermill": {
     "duration": 0.019339,
     "end_time": "2023-03-17T12:39:49.000028",
     "exception": false,
     "start_time": "2023-03-17T12:39:48.980689",
     "status": "completed"
    },
    "tags": []
   },
   "outputs": [],
   "source": [
    "#Creating a pipeline to scale the data and do 3-fold cross-validation.\n",
    "\n",
    "steps = [(\"scaler\", StandardScaler()),\n",
    "         (\"pca\", PCA(n_components=100)),\n",
    "         (\"randomforest\", RandomForestClassifier(random_state=47))]\n",
    "pipeline = Pipeline(steps)\n",
    "parameters = {\"randomforest__n_estimators\": [1000,1500]}\n",
    "\n",
    "cv = GridSearchCV(pipeline, param_grid=parameters, scoring='f1', cv=3)"
   ]
  },
  {
   "cell_type": "code",
   "execution_count": 13,
   "id": "2da475a7",
   "metadata": {
    "execution": {
     "iopub.execute_input": "2023-03-17T12:39:49.017108Z",
     "iopub.status.busy": "2023-03-17T12:39:49.016293Z",
     "iopub.status.idle": "2023-03-17T12:48:31.273279Z",
     "shell.execute_reply": "2023-03-17T12:48:31.272311Z"
    },
    "papermill": {
     "duration": 522.27575,
     "end_time": "2023-03-17T12:48:31.283312",
     "exception": false,
     "start_time": "2023-03-17T12:39:49.007562",
     "status": "completed"
    },
    "tags": []
   },
   "outputs": [
    {
     "name": "stdout",
     "output_type": "stream",
     "text": [
      "0.6107249864846107\n",
      "{'randomforest__n_estimators': 1500}\n"
     ]
    }
   ],
   "source": [
    "cv.fit(Xtrain, Ytrain)\n",
    "print(cv.best_score_)\n",
    "print(cv.best_params_)"
   ]
  },
  {
   "cell_type": "code",
   "execution_count": 14,
   "id": "ee600ec8",
   "metadata": {
    "execution": {
     "iopub.execute_input": "2023-03-17T12:48:31.300138Z",
     "iopub.status.busy": "2023-03-17T12:48:31.299650Z",
     "iopub.status.idle": "2023-03-17T12:48:36.978929Z",
     "shell.execute_reply": "2023-03-17T12:48:36.977876Z"
    },
    "papermill": {
     "duration": 5.690766,
     "end_time": "2023-03-17T12:48:36.981428",
     "exception": false,
     "start_time": "2023-03-17T12:48:31.290662",
     "status": "completed"
    },
    "tags": []
   },
   "outputs": [
    {
     "name": "stdout",
     "output_type": "stream",
     "text": [
      "accuracy score: 0.6458752515090543\n",
      "f1 score 0.4133333333333334\n"
     ]
    },
    {
     "data": {
      "image/png": "[encoded data removed]",
      "text/plain": [
       "<Figure size 640x480 with 1 Axes>"
      ]
     },
     "metadata": {},
     "output_type": "display_data"
    }
   ],
   "source": [
    "Ypred = cv.predict(Xtest)\n",
    "Ypred_probs = cv.predict_proba(Xtest)[:,1]\n",
    "print(\"accuracy score:\", accuracy_score(Ytest, Ypred))\n",
    "print(\"f1 score\", f1_score(Ytest, Ypred))\n",
    "fpr, tpr, thresholds = roc_curve(Ytest, Ypred_probs)\n",
    "plt.plot([0, 1], [0, 1], 'k--')\n",
    "plt.plot(fpr, tpr)\n",
    "plt.xlabel('False Positive Rate')\n",
    "plt.ylabel('True Positive Rate')\n",
    "plt.title('ROC Curve for Random Forest')\n",
    "plt.show()"
   ]
  },
  {
   "cell_type": "code",
   "execution_count": 15,
   "id": "cdb70997",
   "metadata": {
    "execution": {
     "iopub.execute_input": "2023-03-17T12:48:37.000728Z",
     "iopub.status.busy": "2023-03-17T12:48:37.000102Z",
     "iopub.status.idle": "2023-03-17T12:48:37.005849Z",
     "shell.execute_reply": "2023-03-17T12:48:37.004460Z"
    },
    "papermill": {
     "duration": 0.017992,
     "end_time": "2023-03-17T12:48:37.008242",
     "exception": false,
     "start_time": "2023-03-17T12:48:36.990250",
     "status": "completed"
    },
    "tags": []
   },
   "outputs": [
    {
     "name": "stdout",
     "output_type": "stream",
     "text": [
      "0.6100608070757324\n"
     ]
    }
   ],
   "source": [
    "print(auc(fpr, tpr))"
   ]
  },
  {
   "cell_type": "markdown",
   "id": "f110d1a8",
   "metadata": {
    "papermill": {
     "duration": 0.008027,
     "end_time": "2023-03-17T12:48:37.024730",
     "exception": false,
     "start_time": "2023-03-17T12:48:37.016703",
     "status": "completed"
    },
    "tags": []
   },
   "source": [
    "# Gradient boosting"
   ]
  },
  {
   "cell_type": "code",
   "execution_count": 16,
   "id": "cda03c7e",
   "metadata": {
    "execution": {
     "iopub.execute_input": "2023-03-17T12:48:37.043685Z",
     "iopub.status.busy": "2023-03-17T12:48:37.043276Z",
     "iopub.status.idle": "2023-03-17T12:48:37.071725Z",
     "shell.execute_reply": "2023-03-17T12:48:37.051881Z"
    },
    "papermill": {
     "duration": 0.041535,
     "end_time": "2023-03-17T12:48:37.074663",
     "exception": false,
     "start_time": "2023-03-17T12:48:37.033128",
     "status": "completed"
    },
    "tags": []
   },
   "outputs": [],
   "source": [
    "#Creating a pipeline to scale the data and do 3-fold cross-validation.\n",
    "\n",
    "steps = [(\"scaler\", StandardScaler()),\n",
    "         (\"pca\", PCA(n_components=100)),\n",
    "         (\"gradientboosting\", GradientBoostingClassifier(random_state=47))]\n",
    "pipeline = Pipeline(steps)\n",
    "parameters = {\"gradientboosting__max_depth\": [2,4], \n",
    "              \"gradientboosting__n_estimators\": [1000,1500]}\n",
    "\n",
    "cv = GridSearchCV(pipeline, param_grid=parameters, scoring='f1',cv=3)"
   ]
  },
  {
   "cell_type": "code",
   "execution_count": 17,
   "id": "8f2767e9",
   "metadata": {
    "execution": {
     "iopub.execute_input": "2023-03-17T12:48:37.093846Z",
     "iopub.status.busy": "2023-03-17T12:48:37.093425Z",
     "iopub.status.idle": "2023-03-17T13:11:49.720087Z",
     "shell.execute_reply": "2023-03-17T13:11:49.718024Z"
    },
    "papermill": {
     "duration": 1392.65158,
     "end_time": "2023-03-17T13:11:49.734964",
     "exception": false,
     "start_time": "2023-03-17T12:48:37.083384",
     "status": "completed"
    },
    "tags": []
   },
   "outputs": [
    {
     "name": "stdout",
     "output_type": "stream",
     "text": [
      "0.6307619077085446\n",
      "{'gradientboosting__max_depth': 2, 'gradientboosting__n_estimators': 1500}\n"
     ]
    }
   ],
   "source": [
    "cv.fit(Xtrain, Ytrain)\n",
    "print(cv.best_score_)\n",
    "print(cv.best_params_)"
   ]
  },
  {
   "cell_type": "code",
   "execution_count": 18,
   "id": "263fe43d",
   "metadata": {
    "execution": {
     "iopub.execute_input": "2023-03-17T13:11:49.755497Z",
     "iopub.status.busy": "2023-03-17T13:11:49.754545Z",
     "iopub.status.idle": "2023-03-17T13:11:54.598154Z",
     "shell.execute_reply": "2023-03-17T13:11:54.596894Z"
    },
    "papermill": {
     "duration": 4.857157,
     "end_time": "2023-03-17T13:11:54.601024",
     "exception": false,
     "start_time": "2023-03-17T13:11:49.743867",
     "status": "completed"
    },
    "tags": []
   },
   "outputs": [
    {
     "name": "stdout",
     "output_type": "stream",
     "text": [
      "accuracy score: 0.6056338028169014\n",
      "f1 score 0.42011834319526625\n"
     ]
    },
    {
     "data": {
      "image/png": "[encoded data removed]",
      "text/plain": [
       "<Figure size 640x480 with 1 Axes>"
      ]
     },
     "metadata": {},
     "output_type": "display_data"
    }
   ],
   "source": [
    "Ypred = cv.predict(Xtest)\n",
    "Ypred_probs = cv.predict_proba(Xtest)[:,1]\n",
    "print(\"accuracy score:\", accuracy_score(Ytest, Ypred))\n",
    "print(\"f1 score\", f1_score(Ytest, Ypred))\n",
    "fpr, tpr, thresholds = roc_curve(Ytest, Ypred_probs)\n",
    "plt.plot([0, 1], [0, 1], 'k--')\n",
    "plt.plot(fpr, tpr)\n",
    "plt.xlabel('False Positive Rate')\n",
    "plt.ylabel('True Positive Rate')\n",
    "plt.title('ROC Curve for Gradient Boosting')\n",
    "plt.show()"
   ]
  },
  {
   "cell_type": "code",
   "execution_count": 19,
   "id": "5b17e7be",
   "metadata": {
    "execution": {
     "iopub.execute_input": "2023-03-17T13:11:54.623887Z",
     "iopub.status.busy": "2023-03-17T13:11:54.622678Z",
     "iopub.status.idle": "2023-03-17T13:11:54.629536Z",
     "shell.execute_reply": "2023-03-17T13:11:54.628240Z"
    },
    "papermill": {
     "duration": 0.020311,
     "end_time": "2023-03-17T13:11:54.632096",
     "exception": false,
     "start_time": "2023-03-17T13:11:54.611785",
     "status": "completed"
    },
    "tags": []
   },
   "outputs": [
    {
     "name": "stdout",
     "output_type": "stream",
     "text": [
      "0.5982679196609545\n"
     ]
    }
   ],
   "source": [
    "print(auc(fpr, tpr))"
   ]
  },
  {
   "cell_type": "code",
   "execution_count": null,
   "id": "2b3c0e94",
   "metadata": {
    "papermill": {
     "duration": 0.00888,
     "end_time": "2023-03-17T13:11:54.650472",
     "exception": false,
     "start_time": "2023-03-17T13:11:54.641592",
     "status": "completed"
    },
    "tags": []
   },
   "outputs": [],
   "source": []
  },
  {
   "cell_type": "code",
   "execution_count": null,
   "id": "adbe9328",
   "metadata": {
    "papermill": {
     "duration": 0.009029,
     "end_time": "2023-03-17T13:11:54.668700",
     "exception": false,
     "start_time": "2023-03-17T13:11:54.659671",
     "status": "completed"
    },
    "tags": []
   },
   "outputs": [],
   "source": []
  }
 ],
 "metadata": {
  "kernelspec": {
   "display_name": "Python 3",
   "language": "python",
   "name": "python3"
  },
  "language_info": {
   "codemirror_mode": {
    "name": "ipython",
    "version": 3
   },
   "file_extension": ".py",
   "mimetype": "text/x-python",
   "name": "python",
   "nbconvert_exporter": "python",
   "pygments_lexer": "ipython3",
   "version": "3.7.12"
  },
  "papermill": {
   "default_parameters": {},
   "duration": 2483.331143,
   "end_time": "2023-03-17T13:11:58.074238",
   "environment_variables": {},
   "exception": null,
   "input_path": "__notebook__.ipynb",
   "output_path": "__notebook__.ipynb",
   "parameters": {},
   "start_time": "2023-03-17T12:30:34.743095",
   "version": "2.4.0"
  }
 },
 "nbformat": 4,
 "nbformat_minor": 5
}
