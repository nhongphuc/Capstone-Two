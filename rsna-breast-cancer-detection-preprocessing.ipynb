{
 "cells": [
  {
   "cell_type": "code",
   "execution_count": 1,
   "id": "1f8b73d1",
   "metadata": {
    "_cell_guid": "b1076dfc-b9ad-4769-8c92-a6c4dae69d19",
    "_uuid": "8f2839f25d086af736a60e9eeb907d3b93b6e0e5",
    "execution": {
     "iopub.execute_input": "2023-03-18T12:22:23.868467Z",
     "iopub.status.busy": "2023-03-18T12:22:23.868040Z",
     "iopub.status.idle": "2023-03-18T12:22:25.742208Z",
     "shell.execute_reply": "2023-03-18T12:22:25.740909Z"
    },
    "papermill": {
     "duration": 1.887811,
     "end_time": "2023-03-18T12:22:25.745521",
     "exception": false,
     "start_time": "2023-03-18T12:22:23.857710",
     "status": "completed"
    },
    "tags": []
   },
   "outputs": [],
   "source": [
    "#Importing packages\n",
    "\n",
    "import numpy as np # linear algebra\n",
    "import pandas as pd # data processing, CSV file I/O (e.g. pd.read_csv)\n",
    "import pickle\n",
    "import matplotlib.pyplot as plt\n",
    "from sklearn.model_selection import train_test_split, GridSearchCV\n",
    "from sklearn.preprocessing import StandardScaler, MinMaxScaler, Normalizer\n",
    "from sklearn.linear_model import LogisticRegression\n",
    "from sklearn.metrics import accuracy_score, f1_score, roc_curve, auc\n",
    "from sklearn.pipeline import Pipeline\n",
    "from sklearn.decomposition import PCA\n",
    "from imblearn.over_sampling import RandomOverSampler\n",
    "from sklearn.ensemble import RandomForestClassifier, GradientBoostingClassifier\n",
    "#from skimage import exposure\n",
    "import random"
   ]
  },
  {
   "cell_type": "code",
   "execution_count": 2,
   "id": "bff3cd41",
   "metadata": {
    "execution": {
     "iopub.execute_input": "2023-03-18T12:22:25.762159Z",
     "iopub.status.busy": "2023-03-18T12:22:25.761361Z",
     "iopub.status.idle": "2023-03-18T12:23:47.947144Z",
     "shell.execute_reply": "2023-03-18T12:23:47.945703Z"
    },
    "papermill": {
     "duration": 82.201743,
     "end_time": "2023-03-18T12:23:47.954431",
     "exception": false,
     "start_time": "2023-03-18T12:22:25.752688",
     "status": "completed"
    },
    "tags": []
   },
   "outputs": [],
   "source": [
    "#Loading the pickle file containing a dictionary with \n",
    "#patient ID and image ID for keys and the cleaned images for values \n",
    "#(from the Data Wrangling notebook).\n",
    "folder_path = '/kaggle/input/rsna-breast-cancer-detection-data-wrangling/'\n",
    "\n",
    "with open(folder_path + 'cleaned_images.pickle', 'rb') as file:\n",
    "    img_dict = pickle.load(file)\n",
    "    \n",
    "#Loading the cleaned csv file (also from the Data Wrangling notebook).\n",
    "df = pd.read_csv(folder_path + 'cleaned_data.csv')"
   ]
  },
  {
   "cell_type": "code",
   "execution_count": 3,
   "id": "7c1806a2",
   "metadata": {
    "execution": {
     "iopub.execute_input": "2023-03-18T12:23:47.971079Z",
     "iopub.status.busy": "2023-03-18T12:23:47.970637Z",
     "iopub.status.idle": "2023-03-18T12:23:48.001853Z",
     "shell.execute_reply": "2023-03-18T12:23:48.000532Z"
    },
    "papermill": {
     "duration": 0.042812,
     "end_time": "2023-03-18T12:23:48.004583",
     "exception": false,
     "start_time": "2023-03-18T12:23:47.961771",
     "status": "completed"
    },
    "tags": []
   },
   "outputs": [
    {
     "name": "stdout",
     "output_type": "stream",
     "text": [
      "(662, 28)\n",
      "(22972, 28)\n"
     ]
    }
   ],
   "source": [
    "#Creating two new dataframes, by filtering df according to whether the patient has cancer or not.\n",
    "df_cancer = df[df['cancer_1']==1].reset_index()\n",
    "df_no_cancer = df[df['cancer_1']==0].reset_index()\n",
    "print(df_cancer.shape)\n",
    "print(df_no_cancer.shape)"
   ]
  },
  {
   "cell_type": "markdown",
   "id": "9576e525",
   "metadata": {
    "papermill": {
     "duration": 0.006923,
     "end_time": "2023-03-18T12:23:48.018710",
     "exception": false,
     "start_time": "2023-03-18T12:23:48.011787",
     "status": "completed"
    },
    "tags": []
   },
   "source": [
    "Next, we create the matrix X of features. Each feature is a numpy array consisting of the values of all the pixels in the image, concatenated to the values of the columns of df_cancer and df_no_cancer.\n",
    "\n",
    "We have a very imbalanced dataset, with many more images without cancer than with cancer. For now we will use all the images with cancer, and two times as many images without cancer. Later on (after the train split test) we will oversample the images with cancer to obtain a more balanced dataset."
   ]
  },
  {
   "cell_type": "code",
   "execution_count": 4,
   "id": "c2985065",
   "metadata": {
    "execution": {
     "iopub.execute_input": "2023-03-18T12:23:48.034756Z",
     "iopub.status.busy": "2023-03-18T12:23:48.034342Z",
     "iopub.status.idle": "2023-03-18T12:23:58.148219Z",
     "shell.execute_reply": "2023-03-18T12:23:58.146905Z"
    },
    "papermill": {
     "duration": 10.125793,
     "end_time": "2023-03-18T12:23:58.151526",
     "exception": false,
     "start_time": "2023-03-18T12:23:48.025733",
     "status": "completed"
    },
    "tags": []
   },
   "outputs": [],
   "source": [
    "X = []\n",
    "\n",
    "for i in range(len(df_cancer)):\n",
    "    key = str(df_cancer['patient_id'][i]) + '/' + str(df_cancer['image_id'][i])\n",
    "    \n",
    "    arr = np.array(img_dict[key].resize((350,350))).ravel()\n",
    "    \n",
    "    arr = np.append(arr, df_cancer['age'][i])\n",
    "    arr = np.append(arr, df_cancer['laterality_L'][i])\n",
    "    arr = np.append(arr, df_cancer['view_CC'][i])\n",
    "    arr = np.append(arr, df_cancer['biopsy_0'][i])\n",
    "    arr = np.append(arr, df_cancer['implant_0'][i])\n",
    "    arr = np.append(arr, df_cancer['invasive_0'][i])\n",
    "    arr = np.append(arr, df_cancer['BIRADS_0.0'][i])\n",
    "    arr = np.append(arr, df_cancer['BIRADS_1.0'][i])\n",
    "    arr = np.append(arr, df_cancer['BIRADS_2.0'][i])\n",
    "    arr = np.append(arr, df_cancer['density_A'][i])\n",
    "    arr = np.append(arr, df_cancer['density_B'][i])\n",
    "    arr = np.append(arr, df_cancer['density_C'][i])\n",
    "    arr = np.append(arr, df_cancer['difficult_negative_case_False'][i])\n",
    "\n",
    "    X.append(arr)\n",
    "    \n",
    "#random_nums = random.sample(range(len(df_no_cancer)), 2*len(df_cancer))\n",
    "    \n",
    "for i in range(2*len(df_cancer)):\n",
    "    key = str(df_no_cancer['patient_id'][i]) + '/' + str(df_no_cancer['image_id'][i])\n",
    "    \n",
    "    arr = np.array(img_dict[key].resize((350,350))).ravel()\n",
    "    \n",
    "    arr = np.append(arr, df_no_cancer['age'][i])\n",
    "    arr = np.append(arr, df_no_cancer['laterality_L'][i])\n",
    "    arr = np.append(arr, df_no_cancer['view_CC'][i])\n",
    "    arr = np.append(arr, df_no_cancer['biopsy_0'][i])\n",
    "    arr = np.append(arr, df_no_cancer['implant_0'][i])\n",
    "    arr = np.append(arr, df_no_cancer['invasive_0'][i])\n",
    "    arr = np.append(arr, df_no_cancer['BIRADS_0.0'][i])\n",
    "    arr = np.append(arr, df_no_cancer['BIRADS_1.0'][i])\n",
    "    arr = np.append(arr, df_no_cancer['BIRADS_2.0'][i])\n",
    "    arr = np.append(arr, df_no_cancer['density_A'][i])\n",
    "    arr = np.append(arr, df_no_cancer['density_B'][i])\n",
    "    arr = np.append(arr, df_no_cancer['density_C'][i])\n",
    "    arr = np.append(arr, df_no_cancer['difficult_negative_case_False'][i])\n",
    "    \n",
    "    X.append(arr)"
   ]
  },
  {
   "cell_type": "code",
   "execution_count": 5,
   "id": "f667b3a6",
   "metadata": {
    "execution": {
     "iopub.execute_input": "2023-03-18T12:23:58.168382Z",
     "iopub.status.busy": "2023-03-18T12:23:58.167911Z",
     "iopub.status.idle": "2023-03-18T12:23:58.189387Z",
     "shell.execute_reply": "2023-03-18T12:23:58.188122Z"
    },
    "papermill": {
     "duration": 0.032919,
     "end_time": "2023-03-18T12:23:58.192074",
     "exception": false,
     "start_time": "2023-03-18T12:23:58.159155",
     "status": "completed"
    },
    "tags": []
   },
   "outputs": [],
   "source": [
    "Y = []\n",
    "\n",
    "for i in range(len(df_cancer)):\n",
    "    Y.append(df_cancer['cancer_1'][i])\n",
    "    \n",
    "for i in range(2*len(df_cancer)):\n",
    "    Y.append(df_no_cancer['cancer_1'][i])"
   ]
  },
  {
   "cell_type": "markdown",
   "id": "647d50ac",
   "metadata": {
    "papermill": {
     "duration": 0.007358,
     "end_time": "2023-03-18T12:23:58.206786",
     "exception": false,
     "start_time": "2023-03-18T12:23:58.199428",
     "status": "completed"
    },
    "tags": []
   },
   "source": [
    "# Baseline models"
   ]
  },
  {
   "cell_type": "markdown",
   "id": "032ac37c",
   "metadata": {
    "papermill": {
     "duration": 0.006735,
     "end_time": "2023-03-18T12:23:58.221950",
     "exception": false,
     "start_time": "2023-03-18T12:23:58.215215",
     "status": "completed"
    },
    "tags": []
   },
   "source": [
    "After the data augmentation step below, the train data will be evenly split between cancerous images and non-cancerous images. Based on that information, we can estimate baseline values for the accuracy of the training set, as follows:\n",
    "\n",
    "If for example we randomly classify each mammogram as cancerous or non-cancerous, then the probability that we classify the images correctly will be: (0.5) * (0.5) + (0.5) * (0.5) = 0.5. To see this, we note that the first term (0.5) * (0.5) is the probability that we classify correctly as cancerous (because there is a 0.5 chance that the image is classified as cancerous, and also a 0.5 chance that the image is actually cancerous). Similarly, the second term (0.5) * (0.5) is the probability that we classify correctly as non-cancerous.\n",
    "\n",
    "Another simple baseline model is to simply classify all the images as cancerous, or classify all of them as non-cancerous. Such a baseline model is also correct half of the times, so its accuracy is 50 percent.\n",
    "\n",
    "Therefore, if our models below have an accuracy better than 50 percent (on the training set), then the models are better than the two baseline models described above."
   ]
  },
  {
   "cell_type": "markdown",
   "id": "08d6d50e",
   "metadata": {
    "papermill": {
     "duration": 0.006841,
     "end_time": "2023-03-18T12:23:58.235927",
     "exception": false,
     "start_time": "2023-03-18T12:23:58.229086",
     "status": "completed"
    },
    "tags": []
   },
   "source": [
    "# Logistic Regression"
   ]
  },
  {
   "cell_type": "code",
   "execution_count": 6,
   "id": "c20aa7ac",
   "metadata": {
    "execution": {
     "iopub.execute_input": "2023-03-18T12:23:58.252724Z",
     "iopub.status.busy": "2023-03-18T12:23:58.251561Z",
     "iopub.status.idle": "2023-03-18T12:23:58.263282Z",
     "shell.execute_reply": "2023-03-18T12:23:58.261577Z"
    },
    "papermill": {
     "duration": 0.023137,
     "end_time": "2023-03-18T12:23:58.266178",
     "exception": false,
     "start_time": "2023-03-18T12:23:58.243041",
     "status": "completed"
    },
    "tags": []
   },
   "outputs": [],
   "source": [
    "#Creating a pipeline to scale the data, use 100 principal \n",
    "#components, and do 3-fold cross-validation.\n",
    "\n",
    "steps = [(\"scaler\", MinMaxScaler()),\n",
    "         (\"pca\", PCA(n_components=100)),\n",
    "         (\"logreg\", LogisticRegression(solver='liblinear', max_iter = 500))]\n",
    "pipeline = Pipeline(steps)\n",
    "parameters = {\"logreg__C\": [1]}\n",
    "Xtrain, Xtest, Ytrain, Ytest = train_test_split(X, Y, train_size = 0.75, random_state = 13)\n",
    "cv = GridSearchCV(pipeline, param_grid=parameters, scoring='f1', cv=3)"
   ]
  },
  {
   "cell_type": "markdown",
   "id": "0fc99608",
   "metadata": {
    "papermill": {
     "duration": 0.006752,
     "end_time": "2023-03-18T12:23:58.280148",
     "exception": false,
     "start_time": "2023-03-18T12:23:58.273396",
     "status": "completed"
    },
    "tags": []
   },
   "source": [
    "Now we augment the number of images with cancer by a factor of 2 by oversampling (with flipped images randomly chosen to be in the vertical direction or the horizontal direction)."
   ]
  },
  {
   "cell_type": "code",
   "execution_count": 7,
   "id": "816b6960",
   "metadata": {
    "execution": {
     "iopub.execute_input": "2023-03-18T12:23:58.296813Z",
     "iopub.status.busy": "2023-03-18T12:23:58.295978Z",
     "iopub.status.idle": "2023-03-18T12:23:58.887162Z",
     "shell.execute_reply": "2023-03-18T12:23:58.885761Z"
    },
    "papermill": {
     "duration": 0.602882,
     "end_time": "2023-03-18T12:23:58.890200",
     "exception": false,
     "start_time": "2023-03-18T12:23:58.287318",
     "status": "completed"
    },
    "tags": []
   },
   "outputs": [],
   "source": [
    "Xtrain_augmentation = []\n",
    "Ytrain_augmentation = []\n",
    "\n",
    "for i in range(len(Xtrain)):\n",
    "    if Ytrain[i] == 1:\n",
    "        img_part = Xtrain[i][:(350**2)]\n",
    "        non_img_part = Xtrain[i][(350**2):]\n",
    "        if i%2==0:\n",
    "            flipped_img_part = np.flipud(img_part.reshape(350,350)).ravel()\n",
    "        else:\n",
    "            flipped_img_part = np.fliplr(img_part.reshape(350,350)).ravel()\n",
    "        new_arr_1 = np.concatenate((flipped_img_part, non_img_part))\n",
    "        Xtrain_augmentation.append(new_arr_1)\n",
    "        \n",
    "        Ytrain_augmentation.append(Ytrain[i])\n",
    "        \n",
    "Xtrain = Xtrain + Xtrain_augmentation\n",
    "Ytrain = Ytrain + Ytrain_augmentation"
   ]
  },
  {
   "cell_type": "code",
   "execution_count": 8,
   "id": "9ce10ba0",
   "metadata": {
    "execution": {
     "iopub.execute_input": "2023-03-18T12:23:58.906687Z",
     "iopub.status.busy": "2023-03-18T12:23:58.906208Z",
     "iopub.status.idle": "2023-03-18T12:23:58.913261Z",
     "shell.execute_reply": "2023-03-18T12:23:58.912009Z"
    },
    "papermill": {
     "duration": 0.018734,
     "end_time": "2023-03-18T12:23:58.916226",
     "exception": false,
     "start_time": "2023-03-18T12:23:58.897492",
     "status": "completed"
    },
    "tags": []
   },
   "outputs": [
    {
     "name": "stdout",
     "output_type": "stream",
     "text": [
      "1989 1989\n",
      "500 500\n",
      "989\n",
      "1000\n"
     ]
    }
   ],
   "source": [
    "#Checking that the train dataset is now more balanced.\n",
    "print(len(Xtrain), len(Ytrain))\n",
    "print(len(Xtrain_augmentation), len(Ytrain_augmentation))\n",
    "print(Ytrain.count(0))\n",
    "print(Ytrain.count(1))"
   ]
  },
  {
   "cell_type": "code",
   "execution_count": 9,
   "id": "0fea40d0",
   "metadata": {
    "execution": {
     "iopub.execute_input": "2023-03-18T12:23:58.933164Z",
     "iopub.status.busy": "2023-03-18T12:23:58.932763Z",
     "iopub.status.idle": "2023-03-18T12:25:55.348257Z",
     "shell.execute_reply": "2023-03-18T12:25:55.346395Z"
    },
    "papermill": {
     "duration": 116.440112,
     "end_time": "2023-03-18T12:25:55.363797",
     "exception": false,
     "start_time": "2023-03-18T12:23:58.923685",
     "status": "completed"
    },
    "tags": []
   },
   "outputs": [
    {
     "name": "stdout",
     "output_type": "stream",
     "text": [
      "0.6304352297980145\n",
      "{'logreg__C': 1}\n"
     ]
    }
   ],
   "source": [
    "cv.fit(Xtrain, Ytrain)\n",
    "print(cv.best_score_)\n",
    "print(cv.best_params_)"
   ]
  },
  {
   "cell_type": "code",
   "execution_count": 10,
   "id": "3c3240a3",
   "metadata": {
    "execution": {
     "iopub.execute_input": "2023-03-18T12:25:55.382166Z",
     "iopub.status.busy": "2023-03-18T12:25:55.381223Z",
     "iopub.status.idle": "2023-03-18T12:25:57.846510Z",
     "shell.execute_reply": "2023-03-18T12:25:57.845125Z"
    },
    "papermill": {
     "duration": 2.479325,
     "end_time": "2023-03-18T12:25:57.850607",
     "exception": false,
     "start_time": "2023-03-18T12:25:55.371282",
     "status": "completed"
    },
    "tags": []
   },
   "outputs": [
    {
     "name": "stdout",
     "output_type": "stream",
     "text": [
      "accuracy score: 0.5855130784708249\n",
      "f1 score 0.47179487179487173\n"
     ]
    },
    {
     "data": {
      "image/png": "[encoded data removed]",
      "text/plain": [
       "<Figure size 640x480 with 1 Axes>"
      ]
     },
     "metadata": {},
     "output_type": "display_data"
    }
   ],
   "source": [
    "Ypred = cv.predict(Xtest)\n",
    "Ypred_probs = cv.predict_proba(Xtest)[:,1]\n",
    "print(\"accuracy score:\", accuracy_score(Ytest, Ypred))\n",
    "print(\"f1 score\", f1_score(Ytest, Ypred))\n",
    "fpr, tpr, thresholds = roc_curve(Ytest, Ypred_probs)\n",
    "plt.plot([0, 1], [0, 1], 'k--')\n",
    "plt.plot(fpr, tpr)\n",
    "plt.xlabel('False Positive Rate')\n",
    "plt.ylabel('True Positive Rate')\n",
    "plt.title('ROC Curve for Logistic Regression')\n",
    "plt.show()"
   ]
  },
  {
   "cell_type": "markdown",
   "id": "a59b006f",
   "metadata": {
    "papermill": {
     "duration": 0.007876,
     "end_time": "2023-03-18T12:25:57.866696",
     "exception": false,
     "start_time": "2023-03-18T12:25:57.858820",
     "status": "completed"
    },
    "tags": []
   },
   "source": [
    "We see that the accuracy score on the train set is higher than the accuracy of the baseline models !"
   ]
  },
  {
   "cell_type": "code",
   "execution_count": 11,
   "id": "8ce62cb4",
   "metadata": {
    "execution": {
     "iopub.execute_input": "2023-03-18T12:25:57.885424Z",
     "iopub.status.busy": "2023-03-18T12:25:57.884879Z",
     "iopub.status.idle": "2023-03-18T12:25:57.891545Z",
     "shell.execute_reply": "2023-03-18T12:25:57.890056Z"
    },
    "papermill": {
     "duration": 0.01969,
     "end_time": "2023-03-18T12:25:57.894459",
     "exception": false,
     "start_time": "2023-03-18T12:25:57.874769",
     "status": "completed"
    },
    "tags": []
   },
   "outputs": [
    {
     "name": "stdout",
     "output_type": "stream",
     "text": [
      "0.6221485166758798\n"
     ]
    }
   ],
   "source": [
    "#Print out the area under the curve.\n",
    "print(auc(fpr, tpr))"
   ]
  },
  {
   "cell_type": "markdown",
   "id": "dde4a766",
   "metadata": {
    "papermill": {
     "duration": 0.007879,
     "end_time": "2023-03-18T12:25:57.910543",
     "exception": false,
     "start_time": "2023-03-18T12:25:57.902664",
     "status": "completed"
    },
    "tags": []
   },
   "source": [
    "# Random Forest"
   ]
  },
  {
   "cell_type": "code",
   "execution_count": 12,
   "id": "a6c9c951",
   "metadata": {
    "execution": {
     "iopub.execute_input": "2023-03-18T12:25:57.928698Z",
     "iopub.status.busy": "2023-03-18T12:25:57.928249Z",
     "iopub.status.idle": "2023-03-18T12:25:57.937355Z",
     "shell.execute_reply": "2023-03-18T12:25:57.935797Z"
    },
    "papermill": {
     "duration": 0.021443,
     "end_time": "2023-03-18T12:25:57.940128",
     "exception": false,
     "start_time": "2023-03-18T12:25:57.918685",
     "status": "completed"
    },
    "tags": []
   },
   "outputs": [],
   "source": [
    "#Creating a pipeline to scale the data and do 3-fold cross-validation.\n",
    "\n",
    "steps = [(\"scaler\", MinMaxScaler()),\n",
    "         (\"pca\", PCA(n_components=100)),\n",
    "         (\"randomforest\", RandomForestClassifier(random_state=47, n_estimators=800, n_jobs=-1))]\n",
    "pipeline = Pipeline(steps)\n",
    "parameters = {\"randomforest__min_samples_split\": [2,3]}\n",
    "\n",
    "cv = GridSearchCV(pipeline, param_grid=parameters, scoring='f1', cv=3)"
   ]
  },
  {
   "cell_type": "code",
   "execution_count": 13,
   "id": "42b55688",
   "metadata": {
    "execution": {
     "iopub.execute_input": "2023-03-18T12:25:57.958772Z",
     "iopub.status.busy": "2023-03-18T12:25:57.958317Z",
     "iopub.status.idle": "2023-03-18T12:29:34.266833Z",
     "shell.execute_reply": "2023-03-18T12:29:34.264686Z"
    },
    "papermill": {
     "duration": 216.332516,
     "end_time": "2023-03-18T12:29:34.281149",
     "exception": false,
     "start_time": "2023-03-18T12:25:57.948633",
     "status": "completed"
    },
    "tags": []
   },
   "outputs": [
    {
     "name": "stdout",
     "output_type": "stream",
     "text": [
      "0.6755054926050891\n",
      "{'randomforest__min_samples_split': 2}\n"
     ]
    }
   ],
   "source": [
    "cv.fit(Xtrain, Ytrain)\n",
    "print(cv.best_score_)\n",
    "print(cv.best_params_)"
   ]
  },
  {
   "cell_type": "code",
   "execution_count": 14,
   "id": "2ca83ccc",
   "metadata": {
    "execution": {
     "iopub.execute_input": "2023-03-18T12:29:34.301400Z",
     "iopub.status.busy": "2023-03-18T12:29:34.300914Z",
     "iopub.status.idle": "2023-03-18T12:29:37.436846Z",
     "shell.execute_reply": "2023-03-18T12:29:37.435546Z"
    },
    "papermill": {
     "duration": 3.14971,
     "end_time": "2023-03-18T12:29:37.439688",
     "exception": false,
     "start_time": "2023-03-18T12:29:34.289978",
     "status": "completed"
    },
    "tags": []
   },
   "outputs": [
    {
     "name": "stdout",
     "output_type": "stream",
     "text": [
      "accuracy score: 0.6197183098591549\n",
      "f1 score 0.5116279069767442\n"
     ]
    },
    {
     "data": {
      "image/png": "[encoded data removed]",
      "text/plain": [
       "<Figure size 640x480 with 1 Axes>"
      ]
     },
     "metadata": {},
     "output_type": "display_data"
    }
   ],
   "source": [
    "Ypred = cv.predict(Xtest)\n",
    "Ypred_probs = cv.predict_proba(Xtest)[:,1]\n",
    "print(\"accuracy score:\", accuracy_score(Ytest, Ypred))\n",
    "print(\"f1 score\", f1_score(Ytest, Ypred))\n",
    "fpr, tpr, thresholds = roc_curve(Ytest, Ypred_probs)\n",
    "plt.plot([0, 1], [0, 1], 'k--')\n",
    "plt.plot(fpr, tpr)\n",
    "plt.xlabel('False Positive Rate')\n",
    "plt.ylabel('True Positive Rate')\n",
    "plt.title('ROC Curve for Random Forest')\n",
    "plt.show()"
   ]
  },
  {
   "cell_type": "code",
   "execution_count": 15,
   "id": "b937f99b",
   "metadata": {
    "execution": {
     "iopub.execute_input": "2023-03-18T12:29:37.460516Z",
     "iopub.status.busy": "2023-03-18T12:29:37.459993Z",
     "iopub.status.idle": "2023-03-18T12:29:37.467766Z",
     "shell.execute_reply": "2023-03-18T12:29:37.466313Z"
    },
    "papermill": {
     "duration": 0.021091,
     "end_time": "2023-03-18T12:29:37.470372",
     "exception": false,
     "start_time": "2023-03-18T12:29:37.449281",
     "status": "completed"
    },
    "tags": []
   },
   "outputs": [
    {
     "name": "stdout",
     "output_type": "stream",
     "text": [
      "0.652155887230514\n"
     ]
    }
   ],
   "source": [
    "print(auc(fpr, tpr))"
   ]
  },
  {
   "cell_type": "markdown",
   "id": "42bf76bd",
   "metadata": {
    "papermill": {
     "duration": 0.00857,
     "end_time": "2023-03-18T12:29:37.488040",
     "exception": false,
     "start_time": "2023-03-18T12:29:37.479470",
     "status": "completed"
    },
    "tags": []
   },
   "source": [
    "# Gradient boosting"
   ]
  },
  {
   "cell_type": "code",
   "execution_count": 16,
   "id": "363e70cb",
   "metadata": {
    "execution": {
     "iopub.execute_input": "2023-03-18T12:29:37.508766Z",
     "iopub.status.busy": "2023-03-18T12:29:37.507331Z",
     "iopub.status.idle": "2023-03-18T12:29:37.518038Z",
     "shell.execute_reply": "2023-03-18T12:29:37.516573Z"
    },
    "papermill": {
     "duration": 0.023883,
     "end_time": "2023-03-18T12:29:37.520837",
     "exception": false,
     "start_time": "2023-03-18T12:29:37.496954",
     "status": "completed"
    },
    "tags": []
   },
   "outputs": [],
   "source": [
    "#Creating a pipeline to scale the data and do 3-fold cross-validation.\n",
    "\n",
    "steps = [(\"scaler\", MinMaxScaler()),\n",
    "         (\"pca\", PCA(n_components=100)),\n",
    "         (\"gradientboosting\", GradientBoostingClassifier(random_state=47, n_estimators=800))]\n",
    "pipeline = Pipeline(steps)\n",
    "parameters = {\"gradientboosting__learning_rate\": [0.02,0.1]}\n",
    "\n",
    "cv = GridSearchCV(pipeline, param_grid=parameters, scoring='f1',cv=3)"
   ]
  },
  {
   "cell_type": "code",
   "execution_count": 17,
   "id": "a2856753",
   "metadata": {
    "execution": {
     "iopub.execute_input": "2023-03-18T12:29:37.541524Z",
     "iopub.status.busy": "2023-03-18T12:29:37.541051Z",
     "iopub.status.idle": "2023-03-18T12:36:50.427185Z",
     "shell.execute_reply": "2023-03-18T12:36:50.425467Z"
    },
    "papermill": {
     "duration": 432.909528,
     "end_time": "2023-03-18T12:36:50.439518",
     "exception": false,
     "start_time": "2023-03-18T12:29:37.529990",
     "status": "completed"
    },
    "tags": []
   },
   "outputs": [
    {
     "name": "stdout",
     "output_type": "stream",
     "text": [
      "0.6514812310634566\n",
      "{'gradientboosting__learning_rate': 0.02}\n"
     ]
    }
   ],
   "source": [
    "cv.fit(Xtrain, Ytrain)\n",
    "print(cv.best_score_)\n",
    "print(cv.best_params_)"
   ]
  },
  {
   "cell_type": "code",
   "execution_count": 18,
   "id": "d1e990c4",
   "metadata": {
    "execution": {
     "iopub.execute_input": "2023-03-18T12:36:50.460884Z",
     "iopub.status.busy": "2023-03-18T12:36:50.460441Z",
     "iopub.status.idle": "2023-03-18T12:36:53.063011Z",
     "shell.execute_reply": "2023-03-18T12:36:53.062002Z"
    },
    "papermill": {
     "duration": 2.61715,
     "end_time": "2023-03-18T12:36:53.065793",
     "exception": false,
     "start_time": "2023-03-18T12:36:50.448643",
     "status": "completed"
    },
    "tags": []
   },
   "outputs": [
    {
     "name": "stdout",
     "output_type": "stream",
     "text": [
      "accuracy score: 0.5774647887323944\n",
      "f1 score 0.4902912621359224\n"
     ]
    },
    {
     "data": {
      "image/png": "[encoded data removed]",
      "text/plain": [
       "<Figure size 640x480 with 1 Axes>"
      ]
     },
     "metadata": {},
     "output_type": "display_data"
    }
   ],
   "source": [
    "Ypred = cv.predict(Xtest)\n",
    "Ypred_probs = cv.predict_proba(Xtest)[:,1]\n",
    "print(\"accuracy score:\", accuracy_score(Ytest, Ypred))\n",
    "print(\"f1 score\", f1_score(Ytest, Ypred))\n",
    "fpr, tpr, thresholds = roc_curve(Ytest, Ypred_probs)\n",
    "plt.plot([0, 1], [0, 1], 'k--')\n",
    "plt.plot(fpr, tpr)\n",
    "plt.xlabel('False Positive Rate')\n",
    "plt.ylabel('True Positive Rate')\n",
    "plt.title('ROC Curve for Gradient Boosting')\n",
    "plt.show()"
   ]
  },
  {
   "cell_type": "code",
   "execution_count": 19,
   "id": "3511784f",
   "metadata": {
    "execution": {
     "iopub.execute_input": "2023-03-18T12:36:53.087643Z",
     "iopub.status.busy": "2023-03-18T12:36:53.087158Z",
     "iopub.status.idle": "2023-03-18T12:36:53.094389Z",
     "shell.execute_reply": "2023-03-18T12:36:53.092961Z"
    },
    "papermill": {
     "duration": 0.021362,
     "end_time": "2023-03-18T12:36:53.097188",
     "exception": false,
     "start_time": "2023-03-18T12:36:53.075826",
     "status": "completed"
    },
    "tags": []
   },
   "outputs": [
    {
     "name": "stdout",
     "output_type": "stream",
     "text": [
      "0.6313617099686752\n"
     ]
    }
   ],
   "source": [
    "print(auc(fpr, tpr))"
   ]
  },
  {
   "cell_type": "code",
   "execution_count": null,
   "id": "56e03536",
   "metadata": {
    "papermill": {
     "duration": 0.009535,
     "end_time": "2023-03-18T12:36:53.116560",
     "exception": false,
     "start_time": "2023-03-18T12:36:53.107025",
     "status": "completed"
    },
    "tags": []
   },
   "outputs": [],
   "source": []
  },
  {
   "cell_type": "code",
   "execution_count": null,
   "id": "3fc96206",
   "metadata": {
    "papermill": {
     "duration": 0.009336,
     "end_time": "2023-03-18T12:36:53.136122",
     "exception": false,
     "start_time": "2023-03-18T12:36:53.126786",
     "status": "completed"
    },
    "tags": []
   },
   "outputs": [],
   "source": []
  },
  {
   "cell_type": "code",
   "execution_count": null,
   "id": "3362b7d1",
   "metadata": {
    "papermill": {
     "duration": 0.009691,
     "end_time": "2023-03-18T12:36:53.155808",
     "exception": false,
     "start_time": "2023-03-18T12:36:53.146117",
     "status": "completed"
    },
    "tags": []
   },
   "outputs": [],
   "source": []
  },
  {
   "cell_type": "code",
   "execution_count": null,
   "id": "8993765e",
   "metadata": {
    "papermill": {
     "duration": 0.009446,
     "end_time": "2023-03-18T12:36:53.174954",
     "exception": false,
     "start_time": "2023-03-18T12:36:53.165508",
     "status": "completed"
    },
    "tags": []
   },
   "outputs": [],
   "source": []
  }
 ],
 "metadata": {
  "kernelspec": {
   "display_name": "Python 3",
   "language": "python",
   "name": "python3"
  },
  "language_info": {
   "codemirror_mode": {
    "name": "ipython",
    "version": 3
   },
   "file_extension": ".py",
   "mimetype": "text/x-python",
   "name": "python",
   "nbconvert_exporter": "python",
   "pygments_lexer": "ipython3",
   "version": "3.7.12"
  },
  "papermill": {
   "default_parameters": {},
   "duration": 883.894165,
   "end_time": "2023-03-18T12:36:56.919204",
   "environment_variables": {},
   "exception": null,
   "input_path": "__notebook__.ipynb",
   "output_path": "__notebook__.ipynb",
   "parameters": {},
   "start_time": "2023-03-18T12:22:13.025039",
   "version": "2.4.0"
  }
 },
 "nbformat": 4,
 "nbformat_minor": 5
}
