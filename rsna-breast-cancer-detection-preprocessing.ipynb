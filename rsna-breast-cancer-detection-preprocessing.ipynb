{
 "cells": [
  {
   "cell_type": "code",
   "execution_count": 1,
   "id": "8ba26d12",
   "metadata": {
    "_cell_guid": "b1076dfc-b9ad-4769-8c92-a6c4dae69d19",
    "_uuid": "8f2839f25d086af736a60e9eeb907d3b93b6e0e5",
    "execution": {
     "iopub.execute_input": "2023-03-18T20:13:05.875399Z",
     "iopub.status.busy": "2023-03-18T20:13:05.874194Z",
     "iopub.status.idle": "2023-03-18T20:13:08.215471Z",
     "shell.execute_reply": "2023-03-18T20:13:08.214080Z"
    },
    "papermill": {
     "duration": 2.354493,
     "end_time": "2023-03-18T20:13:08.219017",
     "exception": false,
     "start_time": "2023-03-18T20:13:05.864524",
     "status": "completed"
    },
    "tags": []
   },
   "outputs": [],
   "source": [
    "#Importing packages\n",
    "\n",
    "import numpy as np # linear algebra\n",
    "import pandas as pd # data processing, CSV file I/O (e.g. pd.read_csv)\n",
    "import pickle\n",
    "import matplotlib.pyplot as plt\n",
    "from sklearn.model_selection import train_test_split, GridSearchCV\n",
    "from sklearn.preprocessing import StandardScaler, MinMaxScaler, Normalizer\n",
    "from sklearn.linear_model import LogisticRegression\n",
    "from sklearn.metrics import accuracy_score, f1_score, roc_curve, auc\n",
    "from sklearn.pipeline import Pipeline\n",
    "from sklearn.decomposition import PCA\n",
    "#from imblearn.over_sampling import RandomOverSampler\n",
    "from sklearn.ensemble import RandomForestClassifier, GradientBoostingClassifier\n",
    "#from skimage import exposure\n",
    "from imblearn.over_sampling import SMOTE\n",
    "from skimage.feature import hog\n",
    "import random"
   ]
  },
  {
   "cell_type": "code",
   "execution_count": 2,
   "id": "42f3be89",
   "metadata": {
    "execution": {
     "iopub.execute_input": "2023-03-18T20:13:08.234909Z",
     "iopub.status.busy": "2023-03-18T20:13:08.233554Z",
     "iopub.status.idle": "2023-03-18T20:14:20.691015Z",
     "shell.execute_reply": "2023-03-18T20:14:20.683436Z"
    },
    "papermill": {
     "duration": 72.468658,
     "end_time": "2023-03-18T20:14:20.694336",
     "exception": false,
     "start_time": "2023-03-18T20:13:08.225678",
     "status": "completed"
    },
    "tags": []
   },
   "outputs": [],
   "source": [
    "#Loading the pickle file containing a dictionary with \n",
    "#patient ID and image ID for keys and the cleaned images for values \n",
    "#(from the Data Wrangling notebook).\n",
    "folder_path = '/kaggle/input/rsna-breast-cancer-detection-data-wrangling/'\n",
    "\n",
    "with open(folder_path + 'cleaned_images.pickle', 'rb') as file:\n",
    "    img_dict = pickle.load(file)\n",
    "    \n",
    "#Loading the cleaned csv file (also from the Data Wrangling notebook).\n",
    "df = pd.read_csv(folder_path + 'cleaned_data.csv')"
   ]
  },
  {
   "cell_type": "code",
   "execution_count": 3,
   "id": "2bfc6daa",
   "metadata": {
    "execution": {
     "iopub.execute_input": "2023-03-18T20:14:20.709157Z",
     "iopub.status.busy": "2023-03-18T20:14:20.708720Z",
     "iopub.status.idle": "2023-03-18T20:14:20.736388Z",
     "shell.execute_reply": "2023-03-18T20:14:20.735061Z"
    },
    "papermill": {
     "duration": 0.038554,
     "end_time": "2023-03-18T20:14:20.739475",
     "exception": false,
     "start_time": "2023-03-18T20:14:20.700921",
     "status": "completed"
    },
    "tags": []
   },
   "outputs": [
    {
     "name": "stdout",
     "output_type": "stream",
     "text": [
      "(662, 28)\n",
      "(22972, 28)\n"
     ]
    }
   ],
   "source": [
    "#Creating two new dataframes, by filtering df according to whether the patient has cancer or not.\n",
    "df_cancer = df[df['cancer_1']==1].reset_index()\n",
    "df_no_cancer = df[df['cancer_1']==0].reset_index()\n",
    "print(df_cancer.shape)\n",
    "print(df_no_cancer.shape)"
   ]
  },
  {
   "cell_type": "markdown",
   "id": "fc6615a5",
   "metadata": {
    "papermill": {
     "duration": 0.005921,
     "end_time": "2023-03-18T20:14:20.751617",
     "exception": false,
     "start_time": "2023-03-18T20:14:20.745696",
     "status": "completed"
    },
    "tags": []
   },
   "source": [
    "Next, we create the matrix X of features. Each feature is a numpy array consisting of the values of all the pixels in the image, concatenated to the values of the columns of df_cancer and df_no_cancer.\n",
    "\n",
    "We have a very imbalanced dataset, with many more images without cancer than with cancer. For now we will use all the images with cancer, and two times as many images without cancer. Later on (after the train split test) we will oversample the images with cancer to obtain a more balanced dataset."
   ]
  },
  {
   "cell_type": "code",
   "execution_count": 4,
   "id": "d5f0cdc0",
   "metadata": {
    "execution": {
     "iopub.execute_input": "2023-03-18T20:14:20.766280Z",
     "iopub.status.busy": "2023-03-18T20:14:20.765604Z",
     "iopub.status.idle": "2023-03-18T20:15:45.099093Z",
     "shell.execute_reply": "2023-03-18T20:15:45.097692Z"
    },
    "papermill": {
     "duration": 84.344722,
     "end_time": "2023-03-18T20:15:45.102508",
     "exception": false,
     "start_time": "2023-03-18T20:14:20.757786",
     "status": "completed"
    },
    "tags": []
   },
   "outputs": [],
   "source": [
    "X = []\n",
    "\n",
    "for i in range(len(df_cancer)):\n",
    "    key = str(df_cancer['patient_id'][i]) + '/' + str(df_cancer['image_id'][i])\n",
    "    \n",
    "    resized_img = img_dict[key].resize((275,275))\n",
    "    #arr = np.array(resized_img).ravel()\n",
    "    arr = hog(resized_img, orientations=9, pixels_per_cell=(8, 8), cells_per_block=(2, 2))\n",
    "    \n",
    "    arr = np.append(arr, df_cancer['age'][i])\n",
    "    arr = np.append(arr, df_cancer['laterality_L'][i])\n",
    "    arr = np.append(arr, df_cancer['view_CC'][i])\n",
    "    arr = np.append(arr, df_cancer['biopsy_0'][i])\n",
    "    arr = np.append(arr, df_cancer['implant_0'][i])\n",
    "    arr = np.append(arr, df_cancer['invasive_0'][i])\n",
    "    arr = np.append(arr, df_cancer['BIRADS_0.0'][i])\n",
    "    arr = np.append(arr, df_cancer['BIRADS_1.0'][i])\n",
    "    arr = np.append(arr, df_cancer['BIRADS_2.0'][i])\n",
    "    arr = np.append(arr, df_cancer['density_A'][i])\n",
    "    arr = np.append(arr, df_cancer['density_B'][i])\n",
    "    arr = np.append(arr, df_cancer['density_C'][i])\n",
    "    arr = np.append(arr, df_cancer['difficult_negative_case_False'][i])\n",
    "\n",
    "    X.append(arr)\n",
    "    \n",
    "#random_nums = random.sample(range(len(df_no_cancer)), 2*len(df_cancer))\n",
    "    \n",
    "for i in range(2*len(df_cancer)):\n",
    "    key = str(df_no_cancer['patient_id'][i]) + '/' + str(df_no_cancer['image_id'][i])\n",
    "    \n",
    "    resized_img = img_dict[key].resize((275,275))\n",
    "    #arr = np.array(resized_img).ravel()\n",
    "    arr = hog(resized_img, orientations=9, pixels_per_cell=(8, 8), cells_per_block=(2, 2))\n",
    "    \n",
    "    arr = np.append(arr, df_no_cancer['age'][i])\n",
    "    arr = np.append(arr, df_no_cancer['laterality_L'][i])\n",
    "    arr = np.append(arr, df_no_cancer['view_CC'][i])\n",
    "    arr = np.append(arr, df_no_cancer['biopsy_0'][i])\n",
    "    arr = np.append(arr, df_no_cancer['implant_0'][i])\n",
    "    arr = np.append(arr, df_no_cancer['invasive_0'][i])\n",
    "    arr = np.append(arr, df_no_cancer['BIRADS_0.0'][i])\n",
    "    arr = np.append(arr, df_no_cancer['BIRADS_1.0'][i])\n",
    "    arr = np.append(arr, df_no_cancer['BIRADS_2.0'][i])\n",
    "    arr = np.append(arr, df_no_cancer['density_A'][i])\n",
    "    arr = np.append(arr, df_no_cancer['density_B'][i])\n",
    "    arr = np.append(arr, df_no_cancer['density_C'][i])\n",
    "    arr = np.append(arr, df_no_cancer['difficult_negative_case_False'][i])\n",
    "    \n",
    "    X.append(arr)"
   ]
  },
  {
   "cell_type": "code",
   "execution_count": 5,
   "id": "00716d2e",
   "metadata": {
    "execution": {
     "iopub.execute_input": "2023-03-18T20:15:45.118684Z",
     "iopub.status.busy": "2023-03-18T20:15:45.117607Z",
     "iopub.status.idle": "2023-03-18T20:15:45.137595Z",
     "shell.execute_reply": "2023-03-18T20:15:45.136050Z"
    },
    "papermill": {
     "duration": 0.031731,
     "end_time": "2023-03-18T20:15:45.140946",
     "exception": false,
     "start_time": "2023-03-18T20:15:45.109215",
     "status": "completed"
    },
    "tags": []
   },
   "outputs": [],
   "source": [
    "Y = []\n",
    "\n",
    "for i in range(len(df_cancer)):\n",
    "    Y.append(df_cancer['cancer_1'][i])\n",
    "    \n",
    "for i in range(2*len(df_cancer)):\n",
    "    Y.append(df_no_cancer['cancer_1'][i])"
   ]
  },
  {
   "cell_type": "markdown",
   "id": "d2bb04ef",
   "metadata": {
    "papermill": {
     "duration": 0.00621,
     "end_time": "2023-03-18T20:15:45.153827",
     "exception": false,
     "start_time": "2023-03-18T20:15:45.147617",
     "status": "completed"
    },
    "tags": []
   },
   "source": [
    "# Baseline models"
   ]
  },
  {
   "cell_type": "markdown",
   "id": "03d97b34",
   "metadata": {
    "papermill": {
     "duration": 0.006173,
     "end_time": "2023-03-18T20:15:45.166622",
     "exception": false,
     "start_time": "2023-03-18T20:15:45.160449",
     "status": "completed"
    },
    "tags": []
   },
   "source": [
    "After the data augmentation step below, the train data will be evenly split between cancerous images and non-cancerous images. Based on that information, we can estimate baseline values for the accuracy of the training set, as follows:\n",
    "\n",
    "If for example we randomly classify each mammogram as cancerous or non-cancerous, then the probability that we classify the images correctly will be: (0.5) * (0.5) + (0.5) * (0.5) = 0.5. To see this, we note that the first term (0.5) * (0.5) is the probability that we classify correctly as cancerous (because there is a 0.5 chance that the image is classified as cancerous, and also a 0.5 chance that the image is actually cancerous). Similarly, the second term (0.5) * (0.5) is the probability that we classify correctly as non-cancerous.\n",
    "\n",
    "Another simple baseline model is to simply classify all the images as cancerous, or classify all of them as non-cancerous. Such a baseline model is also correct half of the times, so its accuracy is 50 percent.\n",
    "\n",
    "Therefore, if our models below have an accuracy better than 50 percent (on the training set), then the models are better than the two baseline models described above."
   ]
  },
  {
   "cell_type": "markdown",
   "id": "77cf173a",
   "metadata": {
    "papermill": {
     "duration": 0.008078,
     "end_time": "2023-03-18T20:15:45.181549",
     "exception": false,
     "start_time": "2023-03-18T20:15:45.173471",
     "status": "completed"
    },
    "tags": []
   },
   "source": [
    "# Logistic Regression"
   ]
  },
  {
   "cell_type": "code",
   "execution_count": 6,
   "id": "104020fd",
   "metadata": {
    "execution": {
     "iopub.execute_input": "2023-03-18T20:15:45.197925Z",
     "iopub.status.busy": "2023-03-18T20:15:45.197457Z",
     "iopub.status.idle": "2023-03-18T20:15:45.208548Z",
     "shell.execute_reply": "2023-03-18T20:15:45.207012Z"
    },
    "papermill": {
     "duration": 0.022448,
     "end_time": "2023-03-18T20:15:45.211309",
     "exception": false,
     "start_time": "2023-03-18T20:15:45.188861",
     "status": "completed"
    },
    "tags": []
   },
   "outputs": [],
   "source": [
    "#Creating a pipeline to scale the data, use 100 principal \n",
    "#components, and do 3-fold cross-validation.\n",
    "\n",
    "steps = [(\"scaler\", MinMaxScaler()),\n",
    "         (\"pca\", PCA(n_components=100)),\n",
    "         (\"logreg\", LogisticRegression(solver='liblinear', max_iter = 500))]\n",
    "pipeline = Pipeline(steps)\n",
    "parameters = {\"logreg__C\": [1]}\n",
    "Xtrain, Xtest, Ytrain, Ytest = train_test_split(X, Y, train_size = 0.75, random_state = 13)\n",
    "cv = GridSearchCV(pipeline, param_grid=parameters, scoring='f1', cv=3)"
   ]
  },
  {
   "cell_type": "markdown",
   "id": "f2ce45a5",
   "metadata": {
    "papermill": {
     "duration": 0.006494,
     "end_time": "2023-03-18T20:15:45.224846",
     "exception": false,
     "start_time": "2023-03-18T20:15:45.218352",
     "status": "completed"
    },
    "tags": []
   },
   "source": [
    "Now we augment the number of images with cancer by a factor of 2 by oversampling (with SMOTE)."
   ]
  },
  {
   "cell_type": "code",
   "execution_count": 7,
   "id": "caeab451",
   "metadata": {
    "execution": {
     "iopub.execute_input": "2023-03-18T20:15:45.240418Z",
     "iopub.status.busy": "2023-03-18T20:15:45.240011Z",
     "iopub.status.idle": "2023-03-18T20:15:45.245780Z",
     "shell.execute_reply": "2023-03-18T20:15:45.244250Z"
    },
    "papermill": {
     "duration": 0.016921,
     "end_time": "2023-03-18T20:15:45.248388",
     "exception": false,
     "start_time": "2023-03-18T20:15:45.231467",
     "status": "completed"
    },
    "tags": []
   },
   "outputs": [],
   "source": [
    "#Xtrain_augmentation = []\n",
    "#Ytrain_augmentation = []\n",
    "\n",
    "#for i in range(len(Xtrain)):\n",
    "    #if Ytrain[i] == 1:\n",
    "        #img_part = Xtrain[i][:(300**2)]\n",
    "        #non_img_part = Xtrain[i][(300**2):]\n",
    "        #if i%2==0:\n",
    "            #flipped_img_part = np.flipud(img_part.reshape(300,300)).ravel()\n",
    "        #else:\n",
    "            #flipped_img_part = np.fliplr(img_part.reshape(300,300)).ravel()\n",
    "        #new_arr_1 = np.concatenate((flipped_img_part, non_img_part))\n",
    "        #Xtrain_augmentation.append(new_arr_1)\n",
    "        \n",
    "        #Ytrain_augmentation.append(Ytrain[i])\n",
    "        \n",
    "#Xtrain = Xtrain + Xtrain_augmentation\n",
    "#Ytrain = Ytrain + Ytrain_augmentation"
   ]
  },
  {
   "cell_type": "code",
   "execution_count": 8,
   "id": "578f2f82",
   "metadata": {
    "execution": {
     "iopub.execute_input": "2023-03-18T20:15:45.265058Z",
     "iopub.status.busy": "2023-03-18T20:15:45.264620Z",
     "iopub.status.idle": "2023-03-18T20:15:50.625849Z",
     "shell.execute_reply": "2023-03-18T20:15:50.624345Z"
    },
    "papermill": {
     "duration": 5.373374,
     "end_time": "2023-03-18T20:15:50.628935",
     "exception": false,
     "start_time": "2023-03-18T20:15:45.255561",
     "status": "completed"
    },
    "tags": []
   },
   "outputs": [],
   "source": [
    "sm = SMOTE(random_state = 2, k_neighbors = 3)\n",
    "Xtrain, Ytrain = sm.fit_resample(Xtrain, Ytrain)"
   ]
  },
  {
   "cell_type": "code",
   "execution_count": 9,
   "id": "d7604d71",
   "metadata": {
    "execution": {
     "iopub.execute_input": "2023-03-18T20:15:50.646617Z",
     "iopub.status.busy": "2023-03-18T20:15:50.645463Z",
     "iopub.status.idle": "2023-03-18T20:15:50.653457Z",
     "shell.execute_reply": "2023-03-18T20:15:50.651948Z"
    },
    "papermill": {
     "duration": 0.019872,
     "end_time": "2023-03-18T20:15:50.656300",
     "exception": false,
     "start_time": "2023-03-18T20:15:50.636428",
     "status": "completed"
    },
    "tags": []
   },
   "outputs": [
    {
     "name": "stdout",
     "output_type": "stream",
     "text": [
      "1978 1978\n",
      "39217\n",
      "989\n",
      "989\n"
     ]
    }
   ],
   "source": [
    "#Checking that the train dataset is now more balanced.\n",
    "print(len(Xtrain), len(Ytrain))\n",
    "print(len(Xtrain[-1]))\n",
    "print(Ytrain.count(0))\n",
    "print(Ytrain.count(1))"
   ]
  },
  {
   "cell_type": "code",
   "execution_count": 10,
   "id": "f791099f",
   "metadata": {
    "execution": {
     "iopub.execute_input": "2023-03-18T20:15:50.672519Z",
     "iopub.status.busy": "2023-03-18T20:15:50.672084Z",
     "iopub.status.idle": "2023-03-18T20:17:23.845229Z",
     "shell.execute_reply": "2023-03-18T20:17:23.842566Z"
    },
    "papermill": {
     "duration": 93.197491,
     "end_time": "2023-03-18T20:17:23.860919",
     "exception": false,
     "start_time": "2023-03-18T20:15:50.663428",
     "status": "completed"
    },
    "tags": []
   },
   "outputs": [
    {
     "name": "stdout",
     "output_type": "stream",
     "text": [
      "0.8673276652294648\n",
      "{'logreg__C': 1}\n"
     ]
    }
   ],
   "source": [
    "cv.fit(Xtrain, Ytrain)\n",
    "print(cv.best_score_)\n",
    "print(cv.best_params_)"
   ]
  },
  {
   "cell_type": "code",
   "execution_count": 11,
   "id": "7037567a",
   "metadata": {
    "execution": {
     "iopub.execute_input": "2023-03-18T20:17:23.877818Z",
     "iopub.status.busy": "2023-03-18T20:17:23.877292Z",
     "iopub.status.idle": "2023-03-18T20:17:24.998355Z",
     "shell.execute_reply": "2023-03-18T20:17:24.996706Z"
    },
    "papermill": {
     "duration": 1.134139,
     "end_time": "2023-03-18T20:17:25.002040",
     "exception": false,
     "start_time": "2023-03-18T20:17:23.867901",
     "status": "completed"
    },
    "tags": []
   },
   "outputs": [
    {
     "name": "stdout",
     "output_type": "stream",
     "text": [
      "accuracy score: 0.8209255533199196\n",
      "f1 score 0.7294832826747719\n"
     ]
    },
    {
     "data": {
      "image/png": "[encoded data removed]",
      "text/plain": [
       "<Figure size 640x480 with 1 Axes>"
      ]
     },
     "metadata": {},
     "output_type": "display_data"
    }
   ],
   "source": [
    "Ypred = cv.predict(Xtest)\n",
    "Ypred_probs = cv.predict_proba(Xtest)[:,1]\n",
    "print(\"accuracy score:\", accuracy_score(Ytest, Ypred))\n",
    "print(\"f1 score\", f1_score(Ytest, Ypred))\n",
    "fpr, tpr, thresholds = roc_curve(Ytest, Ypred_probs)\n",
    "plt.plot([0, 1], [0, 1], 'k--')\n",
    "plt.plot(fpr, tpr)\n",
    "plt.xlabel('False Positive Rate')\n",
    "plt.ylabel('True Positive Rate')\n",
    "plt.title('ROC Curve for Logistic Regression')\n",
    "plt.show()"
   ]
  },
  {
   "cell_type": "markdown",
   "id": "b3865e6f",
   "metadata": {
    "papermill": {
     "duration": 0.007313,
     "end_time": "2023-03-18T20:17:25.017297",
     "exception": false,
     "start_time": "2023-03-18T20:17:25.009984",
     "status": "completed"
    },
    "tags": []
   },
   "source": [
    "We see that the accuracy score on the train set is higher than the accuracy of the baseline models !"
   ]
  },
  {
   "cell_type": "code",
   "execution_count": 12,
   "id": "5a304198",
   "metadata": {
    "execution": {
     "iopub.execute_input": "2023-03-18T20:17:25.035323Z",
     "iopub.status.busy": "2023-03-18T20:17:25.034913Z",
     "iopub.status.idle": "2023-03-18T20:17:25.042870Z",
     "shell.execute_reply": "2023-03-18T20:17:25.040789Z"
    },
    "papermill": {
     "duration": 0.021105,
     "end_time": "2023-03-18T20:17:25.046255",
     "exception": false,
     "start_time": "2023-03-18T20:17:25.025150",
     "status": "completed"
    },
    "tags": []
   },
   "outputs": [
    {
     "name": "stdout",
     "output_type": "stream",
     "text": [
      "0.890418278975493\n"
     ]
    }
   ],
   "source": [
    "#Print out the area under the curve.\n",
    "print(auc(fpr, tpr))"
   ]
  },
  {
   "cell_type": "markdown",
   "id": "8fd6d8a0",
   "metadata": {
    "papermill": {
     "duration": 0.007741,
     "end_time": "2023-03-18T20:17:25.062237",
     "exception": false,
     "start_time": "2023-03-18T20:17:25.054496",
     "status": "completed"
    },
    "tags": []
   },
   "source": [
    "# Random Forest"
   ]
  },
  {
   "cell_type": "code",
   "execution_count": 13,
   "id": "c9b3f280",
   "metadata": {
    "execution": {
     "iopub.execute_input": "2023-03-18T20:17:25.081371Z",
     "iopub.status.busy": "2023-03-18T20:17:25.080966Z",
     "iopub.status.idle": "2023-03-18T20:17:25.090423Z",
     "shell.execute_reply": "2023-03-18T20:17:25.089010Z"
    },
    "papermill": {
     "duration": 0.022296,
     "end_time": "2023-03-18T20:17:25.093207",
     "exception": false,
     "start_time": "2023-03-18T20:17:25.070911",
     "status": "completed"
    },
    "tags": []
   },
   "outputs": [],
   "source": [
    "#Creating a pipeline to scale the data and do 3-fold cross-validation.\n",
    "\n",
    "steps = [(\"scaler\", MinMaxScaler()),\n",
    "         (\"pca\", PCA(n_components=100)),\n",
    "         (\"randomforest\", RandomForestClassifier(random_state=47, n_estimators=800, n_jobs=-1))]\n",
    "pipeline = Pipeline(steps)\n",
    "parameters = {\"randomforest__min_samples_split\": [2,3]}\n",
    "\n",
    "cv = GridSearchCV(pipeline, param_grid=parameters, scoring='f1', cv=3)"
   ]
  },
  {
   "cell_type": "code",
   "execution_count": 14,
   "id": "101093a2",
   "metadata": {
    "execution": {
     "iopub.execute_input": "2023-03-18T20:17:25.112073Z",
     "iopub.status.busy": "2023-03-18T20:17:25.111547Z",
     "iopub.status.idle": "2023-03-18T20:20:32.846052Z",
     "shell.execute_reply": "2023-03-18T20:20:32.843406Z"
    },
    "papermill": {
     "duration": 187.75752,
     "end_time": "2023-03-18T20:20:32.859265",
     "exception": false,
     "start_time": "2023-03-18T20:17:25.101745",
     "status": "completed"
    },
    "tags": []
   },
   "outputs": [
    {
     "name": "stdout",
     "output_type": "stream",
     "text": [
      "0.8686219525098968\n",
      "{'randomforest__min_samples_split': 3}\n"
     ]
    }
   ],
   "source": [
    "cv.fit(Xtrain, Ytrain)\n",
    "print(cv.best_score_)\n",
    "print(cv.best_params_)"
   ]
  },
  {
   "cell_type": "code",
   "execution_count": 15,
   "id": "41643d16",
   "metadata": {
    "execution": {
     "iopub.execute_input": "2023-03-18T20:20:32.878447Z",
     "iopub.status.busy": "2023-03-18T20:20:32.877966Z",
     "iopub.status.idle": "2023-03-18T20:20:34.922789Z",
     "shell.execute_reply": "2023-03-18T20:20:34.921193Z"
    },
    "papermill": {
     "duration": 2.059602,
     "end_time": "2023-03-18T20:20:34.926874",
     "exception": false,
     "start_time": "2023-03-18T20:20:32.867272",
     "status": "completed"
    },
    "tags": []
   },
   "outputs": [
    {
     "name": "stdout",
     "output_type": "stream",
     "text": [
      "accuracy score: 0.7625754527162978\n",
      "f1 score 0.5426356589147286\n"
     ]
    },
    {
     "data": {
      "image/png": "[encoded data removed]",
      "text/plain": [
       "<Figure size 640x480 with 1 Axes>"
      ]
     },
     "metadata": {},
     "output_type": "display_data"
    }
   ],
   "source": [
    "Ypred = cv.predict(Xtest)\n",
    "Ypred_probs = cv.predict_proba(Xtest)[:,1]\n",
    "print(\"accuracy score:\", accuracy_score(Ytest, Ypred))\n",
    "print(\"f1 score\", f1_score(Ytest, Ypred))\n",
    "fpr, tpr, thresholds = roc_curve(Ytest, Ypred_probs)\n",
    "plt.plot([0, 1], [0, 1], 'k--')\n",
    "plt.plot(fpr, tpr)\n",
    "plt.xlabel('False Positive Rate')\n",
    "plt.ylabel('True Positive Rate')\n",
    "plt.title('ROC Curve for Random Forest')\n",
    "plt.show()"
   ]
  },
  {
   "cell_type": "code",
   "execution_count": 16,
   "id": "7808ca1d",
   "metadata": {
    "execution": {
     "iopub.execute_input": "2023-03-18T20:20:34.949439Z",
     "iopub.status.busy": "2023-03-18T20:20:34.948425Z",
     "iopub.status.idle": "2023-03-18T20:20:34.957837Z",
     "shell.execute_reply": "2023-03-18T20:20:34.956085Z"
    },
    "papermill": {
     "duration": 0.024325,
     "end_time": "2023-03-18T20:20:34.961345",
     "exception": false,
     "start_time": "2023-03-18T20:20:34.937020",
     "status": "completed"
    },
    "tags": []
   },
   "outputs": [
    {
     "name": "stdout",
     "output_type": "stream",
     "text": [
      "0.8178735949880228\n"
     ]
    }
   ],
   "source": [
    "print(auc(fpr, tpr))"
   ]
  },
  {
   "cell_type": "markdown",
   "id": "81f61aa3",
   "metadata": {
    "papermill": {
     "duration": 0.009509,
     "end_time": "2023-03-18T20:20:34.980310",
     "exception": false,
     "start_time": "2023-03-18T20:20:34.970801",
     "status": "completed"
    },
    "tags": []
   },
   "source": [
    "# Gradient boosting"
   ]
  },
  {
   "cell_type": "code",
   "execution_count": 17,
   "id": "3859eb01",
   "metadata": {
    "execution": {
     "iopub.execute_input": "2023-03-18T20:20:35.002928Z",
     "iopub.status.busy": "2023-03-18T20:20:35.001607Z",
     "iopub.status.idle": "2023-03-18T20:20:35.014326Z",
     "shell.execute_reply": "2023-03-18T20:20:35.013180Z"
    },
    "papermill": {
     "duration": 0.027055,
     "end_time": "2023-03-18T20:20:35.017402",
     "exception": false,
     "start_time": "2023-03-18T20:20:34.990347",
     "status": "completed"
    },
    "tags": []
   },
   "outputs": [],
   "source": [
    "#Creating a pipeline to scale the data and do 3-fold cross-validation.\n",
    "\n",
    "steps = [(\"scaler\", MinMaxScaler()),\n",
    "         (\"pca\", PCA(n_components=100)),\n",
    "         (\"gradientboosting\", GradientBoostingClassifier(random_state=47, n_estimators=800))]\n",
    "pipeline = Pipeline(steps)\n",
    "parameters = {\"gradientboosting__learning_rate\": [0.02,0.1]}\n",
    "\n",
    "cv = GridSearchCV(pipeline, param_grid=parameters, scoring='f1',cv=3)"
   ]
  },
  {
   "cell_type": "code",
   "execution_count": 18,
   "id": "83458a27",
   "metadata": {
    "execution": {
     "iopub.execute_input": "2023-03-18T20:20:35.039790Z",
     "iopub.status.busy": "2023-03-18T20:20:35.038901Z",
     "iopub.status.idle": "2023-03-18T20:27:16.139345Z",
     "shell.execute_reply": "2023-03-18T20:27:16.137013Z"
    },
    "papermill": {
     "duration": 401.124272,
     "end_time": "2023-03-18T20:27:16.151560",
     "exception": false,
     "start_time": "2023-03-18T20:20:35.027288",
     "status": "completed"
    },
    "tags": []
   },
   "outputs": [
    {
     "name": "stdout",
     "output_type": "stream",
     "text": [
      "0.8669318137530827\n",
      "{'gradientboosting__learning_rate': 0.1}\n"
     ]
    }
   ],
   "source": [
    "cv.fit(Xtrain, Ytrain)\n",
    "print(cv.best_score_)\n",
    "print(cv.best_params_)"
   ]
  },
  {
   "cell_type": "code",
   "execution_count": 19,
   "id": "96016d27",
   "metadata": {
    "execution": {
     "iopub.execute_input": "2023-03-18T20:27:16.176067Z",
     "iopub.status.busy": "2023-03-18T20:27:16.175539Z",
     "iopub.status.idle": "2023-03-18T20:27:17.441043Z",
     "shell.execute_reply": "2023-03-18T20:27:17.438927Z"
    },
    "papermill": {
     "duration": 1.28248,
     "end_time": "2023-03-18T20:27:17.444948",
     "exception": false,
     "start_time": "2023-03-18T20:27:16.162468",
     "status": "completed"
    },
    "tags": []
   },
   "outputs": [
    {
     "name": "stdout",
     "output_type": "stream",
     "text": [
      "accuracy score: 0.7847082494969819\n",
      "f1 score 0.6348122866894197\n"
     ]
    },
    {
     "data": {
      "image/png": "[encoded data removed]",
      "text/plain": [
       "<Figure size 640x480 with 1 Axes>"
      ]
     },
     "metadata": {},
     "output_type": "display_data"
    }
   ],
   "source": [
    "Ypred = cv.predict(Xtest)\n",
    "Ypred_probs = cv.predict_proba(Xtest)[:,1]\n",
    "print(\"accuracy score:\", accuracy_score(Ytest, Ypred))\n",
    "print(\"f1 score\", f1_score(Ytest, Ypred))\n",
    "fpr, tpr, thresholds = roc_curve(Ytest, Ypred_probs)\n",
    "plt.plot([0, 1], [0, 1], 'k--')\n",
    "plt.plot(fpr, tpr)\n",
    "plt.xlabel('False Positive Rate')\n",
    "plt.ylabel('True Positive Rate')\n",
    "plt.title('ROC Curve for Gradient Boosting')\n",
    "plt.show()"
   ]
  },
  {
   "cell_type": "code",
   "execution_count": 20,
   "id": "0f1f3ebc",
   "metadata": {
    "execution": {
     "iopub.execute_input": "2023-03-18T20:27:17.469153Z",
     "iopub.status.busy": "2023-03-18T20:27:17.468677Z",
     "iopub.status.idle": "2023-03-18T20:27:17.478640Z",
     "shell.execute_reply": "2023-03-18T20:27:17.476814Z"
    },
    "papermill": {
     "duration": 0.026355,
     "end_time": "2023-03-18T20:27:17.481607",
     "exception": false,
     "start_time": "2023-03-18T20:27:17.455252",
     "status": "completed"
    },
    "tags": []
   },
   "outputs": [
    {
     "name": "stdout",
     "output_type": "stream",
     "text": [
      "0.8283213561820527\n"
     ]
    }
   ],
   "source": [
    "print(auc(fpr, tpr))"
   ]
  },
  {
   "cell_type": "code",
   "execution_count": null,
   "id": "7dcc393e",
   "metadata": {
    "papermill": {
     "duration": 0.00936,
     "end_time": "2023-03-18T20:27:17.501341",
     "exception": false,
     "start_time": "2023-03-18T20:27:17.491981",
     "status": "completed"
    },
    "tags": []
   },
   "outputs": [],
   "source": []
  },
  {
   "cell_type": "code",
   "execution_count": null,
   "id": "0ce0745f",
   "metadata": {
    "papermill": {
     "duration": 0.010135,
     "end_time": "2023-03-18T20:27:17.521869",
     "exception": false,
     "start_time": "2023-03-18T20:27:17.511734",
     "status": "completed"
    },
    "tags": []
   },
   "outputs": [],
   "source": []
  }
 ],
 "metadata": {
  "kernelspec": {
   "display_name": "Python 3",
   "language": "python",
   "name": "python3"
  },
  "language_info": {
   "codemirror_mode": {
    "name": "ipython",
    "version": 3
   },
   "file_extension": ".py",
   "mimetype": "text/x-python",
   "name": "python",
   "nbconvert_exporter": "python",
   "pygments_lexer": "ipython3",
   "version": "3.7.12"
  },
  "papermill": {
   "default_parameters": {},
   "duration": 866.126246,
   "end_time": "2023-03-18T20:27:21.172126",
   "environment_variables": {},
   "exception": null,
   "input_path": "__notebook__.ipynb",
   "output_path": "__notebook__.ipynb",
   "parameters": {},
   "start_time": "2023-03-18T20:12:55.045880",
   "version": "2.4.0"
  }
 },
 "nbformat": 4,
 "nbformat_minor": 5
}
