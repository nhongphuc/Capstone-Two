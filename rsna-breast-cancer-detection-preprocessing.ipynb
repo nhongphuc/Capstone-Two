{
 "cells": [
  {
   "cell_type": "code",
   "execution_count": 1,
   "id": "9b6cf90a",
   "metadata": {
    "_cell_guid": "b1076dfc-b9ad-4769-8c92-a6c4dae69d19",
    "_uuid": "8f2839f25d086af736a60e9eeb907d3b93b6e0e5",
    "execution": {
     "iopub.execute_input": "2023-03-18T16:45:02.489355Z",
     "iopub.status.busy": "2023-03-18T16:45:02.488091Z",
     "iopub.status.idle": "2023-03-18T16:45:04.199172Z",
     "shell.execute_reply": "2023-03-18T16:45:04.197801Z"
    },
    "papermill": {
     "duration": 1.723906,
     "end_time": "2023-03-18T16:45:04.202139",
     "exception": false,
     "start_time": "2023-03-18T16:45:02.478233",
     "status": "completed"
    },
    "tags": []
   },
   "outputs": [],
   "source": [
    "#Importing packages\n",
    "\n",
    "import numpy as np # linear algebra\n",
    "import pandas as pd # data processing, CSV file I/O (e.g. pd.read_csv)\n",
    "import pickle\n",
    "import matplotlib.pyplot as plt\n",
    "from sklearn.model_selection import train_test_split, GridSearchCV\n",
    "from sklearn.preprocessing import StandardScaler, MinMaxScaler, Normalizer\n",
    "from sklearn.linear_model import LogisticRegression\n",
    "from sklearn.metrics import accuracy_score, f1_score, roc_curve, auc\n",
    "from sklearn.pipeline import Pipeline\n",
    "from sklearn.decomposition import PCA\n",
    "from imblearn.over_sampling import RandomOverSampler\n",
    "from sklearn.ensemble import RandomForestClassifier, GradientBoostingClassifier\n",
    "#from skimage import exposure\n",
    "from imblearn.over_sampling import SMOTE\n",
    "import random"
   ]
  },
  {
   "cell_type": "code",
   "execution_count": 2,
   "id": "5b03c694",
   "metadata": {
    "execution": {
     "iopub.execute_input": "2023-03-18T16:45:04.217076Z",
     "iopub.status.busy": "2023-03-18T16:45:04.216676Z",
     "iopub.status.idle": "2023-03-18T16:46:16.439626Z",
     "shell.execute_reply": "2023-03-18T16:46:16.438314Z"
    },
    "papermill": {
     "duration": 72.237784,
     "end_time": "2023-03-18T16:46:16.446498",
     "exception": false,
     "start_time": "2023-03-18T16:45:04.208714",
     "status": "completed"
    },
    "tags": []
   },
   "outputs": [],
   "source": [
    "#Loading the pickle file containing a dictionary with \n",
    "#patient ID and image ID for keys and the cleaned images for values \n",
    "#(from the Data Wrangling notebook).\n",
    "folder_path = '/kaggle/input/rsna-breast-cancer-detection-data-wrangling/'\n",
    "\n",
    "with open(folder_path + 'cleaned_images.pickle', 'rb') as file:\n",
    "    img_dict = pickle.load(file)\n",
    "    \n",
    "#Loading the cleaned csv file (also from the Data Wrangling notebook).\n",
    "df = pd.read_csv(folder_path + 'cleaned_data.csv')"
   ]
  },
  {
   "cell_type": "code",
   "execution_count": 3,
   "id": "6041731d",
   "metadata": {
    "execution": {
     "iopub.execute_input": "2023-03-18T16:46:16.461129Z",
     "iopub.status.busy": "2023-03-18T16:46:16.460686Z",
     "iopub.status.idle": "2023-03-18T16:46:16.487873Z",
     "shell.execute_reply": "2023-03-18T16:46:16.486617Z"
    },
    "papermill": {
     "duration": 0.037523,
     "end_time": "2023-03-18T16:46:16.490521",
     "exception": false,
     "start_time": "2023-03-18T16:46:16.452998",
     "status": "completed"
    },
    "tags": []
   },
   "outputs": [
    {
     "name": "stdout",
     "output_type": "stream",
     "text": [
      "(662, 28)\n",
      "(22972, 28)\n"
     ]
    }
   ],
   "source": [
    "#Creating two new dataframes, by filtering df according to whether the patient has cancer or not.\n",
    "df_cancer = df[df['cancer_1']==1].reset_index()\n",
    "df_no_cancer = df[df['cancer_1']==0].reset_index()\n",
    "print(df_cancer.shape)\n",
    "print(df_no_cancer.shape)"
   ]
  },
  {
   "cell_type": "markdown",
   "id": "d0d07fe2",
   "metadata": {
    "papermill": {
     "duration": 0.006044,
     "end_time": "2023-03-18T16:46:16.503052",
     "exception": false,
     "start_time": "2023-03-18T16:46:16.497008",
     "status": "completed"
    },
    "tags": []
   },
   "source": [
    "Next, we create the matrix X of features. Each feature is a numpy array consisting of the values of all the pixels in the image, concatenated to the values of the columns of df_cancer and df_no_cancer.\n",
    "\n",
    "We have a very imbalanced dataset, with many more images without cancer than with cancer. For now we will use all the images with cancer, and two times as many images without cancer. Later on (after the train split test) we will oversample the images with cancer to obtain a more balanced dataset."
   ]
  },
  {
   "cell_type": "code",
   "execution_count": 4,
   "id": "909daa43",
   "metadata": {
    "execution": {
     "iopub.execute_input": "2023-03-18T16:46:16.518288Z",
     "iopub.status.busy": "2023-03-18T16:46:16.517030Z",
     "iopub.status.idle": "2023-03-18T16:46:24.068221Z",
     "shell.execute_reply": "2023-03-18T16:46:24.066758Z"
    },
    "papermill": {
     "duration": 7.56181,
     "end_time": "2023-03-18T16:46:24.071137",
     "exception": false,
     "start_time": "2023-03-18T16:46:16.509327",
     "status": "completed"
    },
    "tags": []
   },
   "outputs": [],
   "source": [
    "X = []\n",
    "\n",
    "for i in range(len(df_cancer)):\n",
    "    key = str(df_cancer['patient_id'][i]) + '/' + str(df_cancer['image_id'][i])\n",
    "    \n",
    "    arr = np.array(img_dict[key].resize((275,275))).ravel()\n",
    "    \n",
    "    arr = np.append(arr, df_cancer['age'][i])\n",
    "    arr = np.append(arr, df_cancer['laterality_L'][i])\n",
    "    arr = np.append(arr, df_cancer['view_CC'][i])\n",
    "    arr = np.append(arr, df_cancer['biopsy_0'][i])\n",
    "    arr = np.append(arr, df_cancer['implant_0'][i])\n",
    "    arr = np.append(arr, df_cancer['invasive_0'][i])\n",
    "    arr = np.append(arr, df_cancer['BIRADS_0.0'][i])\n",
    "    arr = np.append(arr, df_cancer['BIRADS_1.0'][i])\n",
    "    arr = np.append(arr, df_cancer['BIRADS_2.0'][i])\n",
    "    arr = np.append(arr, df_cancer['density_A'][i])\n",
    "    arr = np.append(arr, df_cancer['density_B'][i])\n",
    "    arr = np.append(arr, df_cancer['density_C'][i])\n",
    "    arr = np.append(arr, df_cancer['difficult_negative_case_False'][i])\n",
    "\n",
    "    X.append(arr)\n",
    "    \n",
    "#random_nums = random.sample(range(len(df_no_cancer)), 2*len(df_cancer))\n",
    "    \n",
    "for i in range(2*len(df_cancer)):\n",
    "    key = str(df_no_cancer['patient_id'][i]) + '/' + str(df_no_cancer['image_id'][i])\n",
    "    \n",
    "    arr = np.array(img_dict[key].resize((275,275))).ravel()\n",
    "    \n",
    "    arr = np.append(arr, df_no_cancer['age'][i])\n",
    "    arr = np.append(arr, df_no_cancer['laterality_L'][i])\n",
    "    arr = np.append(arr, df_no_cancer['view_CC'][i])\n",
    "    arr = np.append(arr, df_no_cancer['biopsy_0'][i])\n",
    "    arr = np.append(arr, df_no_cancer['implant_0'][i])\n",
    "    arr = np.append(arr, df_no_cancer['invasive_0'][i])\n",
    "    arr = np.append(arr, df_no_cancer['BIRADS_0.0'][i])\n",
    "    arr = np.append(arr, df_no_cancer['BIRADS_1.0'][i])\n",
    "    arr = np.append(arr, df_no_cancer['BIRADS_2.0'][i])\n",
    "    arr = np.append(arr, df_no_cancer['density_A'][i])\n",
    "    arr = np.append(arr, df_no_cancer['density_B'][i])\n",
    "    arr = np.append(arr, df_no_cancer['density_C'][i])\n",
    "    arr = np.append(arr, df_no_cancer['difficult_negative_case_False'][i])\n",
    "    \n",
    "    X.append(arr)"
   ]
  },
  {
   "cell_type": "code",
   "execution_count": 5,
   "id": "c33c8df2",
   "metadata": {
    "execution": {
     "iopub.execute_input": "2023-03-18T16:46:24.087747Z",
     "iopub.status.busy": "2023-03-18T16:46:24.086313Z",
     "iopub.status.idle": "2023-03-18T16:46:24.107883Z",
     "shell.execute_reply": "2023-03-18T16:46:24.106624Z"
    },
    "papermill": {
     "duration": 0.033021,
     "end_time": "2023-03-18T16:46:24.110963",
     "exception": false,
     "start_time": "2023-03-18T16:46:24.077942",
     "status": "completed"
    },
    "tags": []
   },
   "outputs": [],
   "source": [
    "Y = []\n",
    "\n",
    "for i in range(len(df_cancer)):\n",
    "    Y.append(df_cancer['cancer_1'][i])\n",
    "    \n",
    "for i in range(2*len(df_cancer)):\n",
    "    Y.append(df_no_cancer['cancer_1'][i])"
   ]
  },
  {
   "cell_type": "markdown",
   "id": "d272a7eb",
   "metadata": {
    "papermill": {
     "duration": 0.006418,
     "end_time": "2023-03-18T16:46:24.123991",
     "exception": false,
     "start_time": "2023-03-18T16:46:24.117573",
     "status": "completed"
    },
    "tags": []
   },
   "source": [
    "# Baseline models"
   ]
  },
  {
   "cell_type": "markdown",
   "id": "e6ff668b",
   "metadata": {
    "papermill": {
     "duration": 0.006328,
     "end_time": "2023-03-18T16:46:24.137636",
     "exception": false,
     "start_time": "2023-03-18T16:46:24.131308",
     "status": "completed"
    },
    "tags": []
   },
   "source": [
    "After the data augmentation step below, the train data will be evenly split between cancerous images and non-cancerous images. Based on that information, we can estimate baseline values for the accuracy of the training set, as follows:\n",
    "\n",
    "If for example we randomly classify each mammogram as cancerous or non-cancerous, then the probability that we classify the images correctly will be: (0.5) * (0.5) + (0.5) * (0.5) = 0.5. To see this, we note that the first term (0.5) * (0.5) is the probability that we classify correctly as cancerous (because there is a 0.5 chance that the image is classified as cancerous, and also a 0.5 chance that the image is actually cancerous). Similarly, the second term (0.5) * (0.5) is the probability that we classify correctly as non-cancerous.\n",
    "\n",
    "Another simple baseline model is to simply classify all the images as cancerous, or classify all of them as non-cancerous. Such a baseline model is also correct half of the times, so its accuracy is 50 percent.\n",
    "\n",
    "Therefore, if our models below have an accuracy better than 50 percent (on the training set), then the models are better than the two baseline models described above."
   ]
  },
  {
   "cell_type": "markdown",
   "id": "cf27861a",
   "metadata": {
    "papermill": {
     "duration": 0.007777,
     "end_time": "2023-03-18T16:46:24.152112",
     "exception": false,
     "start_time": "2023-03-18T16:46:24.144335",
     "status": "completed"
    },
    "tags": []
   },
   "source": [
    "# Logistic Regression"
   ]
  },
  {
   "cell_type": "code",
   "execution_count": 6,
   "id": "e34b1203",
   "metadata": {
    "execution": {
     "iopub.execute_input": "2023-03-18T16:46:24.166917Z",
     "iopub.status.busy": "2023-03-18T16:46:24.166486Z",
     "iopub.status.idle": "2023-03-18T16:46:24.177137Z",
     "shell.execute_reply": "2023-03-18T16:46:24.175944Z"
    },
    "papermill": {
     "duration": 0.020915,
     "end_time": "2023-03-18T16:46:24.179512",
     "exception": false,
     "start_time": "2023-03-18T16:46:24.158597",
     "status": "completed"
    },
    "tags": []
   },
   "outputs": [],
   "source": [
    "#Creating a pipeline to scale the data, use 100 principal \n",
    "#components, and do 3-fold cross-validation.\n",
    "\n",
    "steps = [(\"scaler\", MinMaxScaler()),\n",
    "         (\"pca\", PCA(n_components=100)),\n",
    "         (\"logreg\", LogisticRegression(solver='liblinear', max_iter = 500))]\n",
    "pipeline = Pipeline(steps)\n",
    "parameters = {\"logreg__C\": [1]}\n",
    "Xtrain, Xtest, Ytrain, Ytest = train_test_split(X, Y, train_size = 0.75, random_state = 13)\n",
    "cv = GridSearchCV(pipeline, param_grid=parameters, scoring='f1', cv=3)"
   ]
  },
  {
   "cell_type": "markdown",
   "id": "c15fc5cf",
   "metadata": {
    "papermill": {
     "duration": 0.006267,
     "end_time": "2023-03-18T16:46:24.192790",
     "exception": false,
     "start_time": "2023-03-18T16:46:24.186523",
     "status": "completed"
    },
    "tags": []
   },
   "source": [
    "Now we augment the number of images with cancer by a factor of 2 by oversampling (with SMOTE)."
   ]
  },
  {
   "cell_type": "code",
   "execution_count": 7,
   "id": "261d2479",
   "metadata": {
    "execution": {
     "iopub.execute_input": "2023-03-18T16:46:24.207449Z",
     "iopub.status.busy": "2023-03-18T16:46:24.206990Z",
     "iopub.status.idle": "2023-03-18T16:46:24.212291Z",
     "shell.execute_reply": "2023-03-18T16:46:24.211136Z"
    },
    "papermill": {
     "duration": 0.015513,
     "end_time": "2023-03-18T16:46:24.214742",
     "exception": false,
     "start_time": "2023-03-18T16:46:24.199229",
     "status": "completed"
    },
    "tags": []
   },
   "outputs": [],
   "source": [
    "#Xtrain_augmentation = []\n",
    "#Ytrain_augmentation = []\n",
    "\n",
    "#for i in range(len(Xtrain)):\n",
    "    #if Ytrain[i] == 1:\n",
    "        #img_part = Xtrain[i][:(300**2)]\n",
    "        #non_img_part = Xtrain[i][(300**2):]\n",
    "        #if i%2==0:\n",
    "            #flipped_img_part = np.flipud(img_part.reshape(300,300)).ravel()\n",
    "        #else:\n",
    "            #flipped_img_part = np.fliplr(img_part.reshape(300,300)).ravel()\n",
    "        #new_arr_1 = np.concatenate((flipped_img_part, non_img_part))\n",
    "        #Xtrain_augmentation.append(new_arr_1)\n",
    "        \n",
    "        #Ytrain_augmentation.append(Ytrain[i])\n",
    "        \n",
    "#Xtrain = Xtrain + Xtrain_augmentation\n",
    "#Ytrain = Ytrain + Ytrain_augmentation"
   ]
  },
  {
   "cell_type": "code",
   "execution_count": 8,
   "id": "d4c4a680",
   "metadata": {
    "execution": {
     "iopub.execute_input": "2023-03-18T16:46:24.230053Z",
     "iopub.status.busy": "2023-03-18T16:46:24.229618Z",
     "iopub.status.idle": "2023-03-18T16:46:34.776104Z",
     "shell.execute_reply": "2023-03-18T16:46:34.774817Z"
    },
    "papermill": {
     "duration": 10.557418,
     "end_time": "2023-03-18T16:46:34.779195",
     "exception": false,
     "start_time": "2023-03-18T16:46:24.221777",
     "status": "completed"
    },
    "tags": []
   },
   "outputs": [],
   "source": [
    "sm = SMOTE(random_state = 2)\n",
    "Xtrain, Ytrain = sm.fit_resample(Xtrain, Ytrain)"
   ]
  },
  {
   "cell_type": "code",
   "execution_count": 9,
   "id": "77c36f46",
   "metadata": {
    "execution": {
     "iopub.execute_input": "2023-03-18T16:46:34.795148Z",
     "iopub.status.busy": "2023-03-18T16:46:34.794365Z",
     "iopub.status.idle": "2023-03-18T16:46:34.801798Z",
     "shell.execute_reply": "2023-03-18T16:46:34.800481Z"
    },
    "papermill": {
     "duration": 0.018205,
     "end_time": "2023-03-18T16:46:34.804195",
     "exception": false,
     "start_time": "2023-03-18T16:46:34.785990",
     "status": "completed"
    },
    "tags": []
   },
   "outputs": [
    {
     "name": "stdout",
     "output_type": "stream",
     "text": [
      "1978 1978\n",
      "75638\n",
      "989\n",
      "989\n"
     ]
    }
   ],
   "source": [
    "#Checking that the train dataset is now more balanced.\n",
    "print(len(Xtrain), len(Ytrain))\n",
    "print(len(Xtrain[-1]))\n",
    "print(Ytrain.count(0))\n",
    "print(Ytrain.count(1))"
   ]
  },
  {
   "cell_type": "code",
   "execution_count": 10,
   "id": "2125b17b",
   "metadata": {
    "execution": {
     "iopub.execute_input": "2023-03-18T16:46:34.820229Z",
     "iopub.status.busy": "2023-03-18T16:46:34.819307Z",
     "iopub.status.idle": "2023-03-18T16:49:19.605372Z",
     "shell.execute_reply": "2023-03-18T16:49:19.602859Z"
    },
    "papermill": {
     "duration": 164.803272,
     "end_time": "2023-03-18T16:49:19.614401",
     "exception": false,
     "start_time": "2023-03-18T16:46:34.811129",
     "status": "completed"
    },
    "tags": []
   },
   "outputs": [
    {
     "name": "stdout",
     "output_type": "stream",
     "text": [
      "0.7318731159149645\n",
      "{'logreg__C': 1}\n"
     ]
    }
   ],
   "source": [
    "cv.fit(Xtrain, Ytrain)\n",
    "print(cv.best_score_)\n",
    "print(cv.best_params_)"
   ]
  },
  {
   "cell_type": "code",
   "execution_count": 11,
   "id": "437b327e",
   "metadata": {
    "execution": {
     "iopub.execute_input": "2023-03-18T16:49:19.631171Z",
     "iopub.status.busy": "2023-03-18T16:49:19.630321Z",
     "iopub.status.idle": "2023-03-18T16:49:22.597420Z",
     "shell.execute_reply": "2023-03-18T16:49:22.596162Z"
    },
    "papermill": {
     "duration": 2.978851,
     "end_time": "2023-03-18T16:49:22.600499",
     "exception": false,
     "start_time": "2023-03-18T16:49:19.621648",
     "status": "completed"
    },
    "tags": []
   },
   "outputs": [
    {
     "name": "stdout",
     "output_type": "stream",
     "text": [
      "accuracy score: 0.6861167002012073\n",
      "f1 score 0.5642458100558659\n"
     ]
    },
    {
     "data": {
      "image/png": "[encoded data removed]",
      "text/plain": [
       "<Figure size 640x480 with 1 Axes>"
      ]
     },
     "metadata": {},
     "output_type": "display_data"
    }
   ],
   "source": [
    "Ypred = cv.predict(Xtest)\n",
    "Ypred_probs = cv.predict_proba(Xtest)[:,1]\n",
    "print(\"accuracy score:\", accuracy_score(Ytest, Ypred))\n",
    "print(\"f1 score\", f1_score(Ytest, Ypred))\n",
    "fpr, tpr, thresholds = roc_curve(Ytest, Ypred_probs)\n",
    "plt.plot([0, 1], [0, 1], 'k--')\n",
    "plt.plot(fpr, tpr)\n",
    "plt.xlabel('False Positive Rate')\n",
    "plt.ylabel('True Positive Rate')\n",
    "plt.title('ROC Curve for Logistic Regression')\n",
    "plt.show()"
   ]
  },
  {
   "cell_type": "markdown",
   "id": "69f64e63",
   "metadata": {
    "papermill": {
     "duration": 0.00748,
     "end_time": "2023-03-18T16:49:22.615896",
     "exception": false,
     "start_time": "2023-03-18T16:49:22.608416",
     "status": "completed"
    },
    "tags": []
   },
   "source": [
    "We see that the accuracy score on the train set is higher than the accuracy of the baseline models !"
   ]
  },
  {
   "cell_type": "code",
   "execution_count": 12,
   "id": "218b1914",
   "metadata": {
    "execution": {
     "iopub.execute_input": "2023-03-18T16:49:22.633694Z",
     "iopub.status.busy": "2023-03-18T16:49:22.633228Z",
     "iopub.status.idle": "2023-03-18T16:49:22.640218Z",
     "shell.execute_reply": "2023-03-18T16:49:22.638814Z"
    },
    "papermill": {
     "duration": 0.018975,
     "end_time": "2023-03-18T16:49:22.642836",
     "exception": false,
     "start_time": "2023-03-18T16:49:22.623861",
     "status": "completed"
    },
    "tags": []
   },
   "outputs": [
    {
     "name": "stdout",
     "output_type": "stream",
     "text": [
      "0.752791597567717\n"
     ]
    }
   ],
   "source": [
    "#Print out the area under the curve.\n",
    "print(auc(fpr, tpr))"
   ]
  },
  {
   "cell_type": "markdown",
   "id": "76265308",
   "metadata": {
    "papermill": {
     "duration": 0.007355,
     "end_time": "2023-03-18T16:49:22.658052",
     "exception": false,
     "start_time": "2023-03-18T16:49:22.650697",
     "status": "completed"
    },
    "tags": []
   },
   "source": [
    "# Random Forest"
   ]
  },
  {
   "cell_type": "code",
   "execution_count": 13,
   "id": "68f9beff",
   "metadata": {
    "execution": {
     "iopub.execute_input": "2023-03-18T16:49:22.676514Z",
     "iopub.status.busy": "2023-03-18T16:49:22.675269Z",
     "iopub.status.idle": "2023-03-18T16:49:22.683357Z",
     "shell.execute_reply": "2023-03-18T16:49:22.682169Z"
    },
    "papermill": {
     "duration": 0.019519,
     "end_time": "2023-03-18T16:49:22.685724",
     "exception": false,
     "start_time": "2023-03-18T16:49:22.666205",
     "status": "completed"
    },
    "tags": []
   },
   "outputs": [],
   "source": [
    "#Creating a pipeline to scale the data and do 3-fold cross-validation.\n",
    "\n",
    "steps = [(\"scaler\", MinMaxScaler()),\n",
    "         (\"pca\", PCA(n_components=100)),\n",
    "         (\"randomforest\", RandomForestClassifier(random_state=47, n_estimators=800, n_jobs=-1))]\n",
    "pipeline = Pipeline(steps)\n",
    "parameters = {\"randomforest__min_samples_split\": [2,3]}\n",
    "\n",
    "cv = GridSearchCV(pipeline, param_grid=parameters, scoring='f1', cv=3)"
   ]
  },
  {
   "cell_type": "code",
   "execution_count": 14,
   "id": "387002fd",
   "metadata": {
    "execution": {
     "iopub.execute_input": "2023-03-18T16:49:22.703979Z",
     "iopub.status.busy": "2023-03-18T16:49:22.702717Z",
     "iopub.status.idle": "2023-03-18T16:54:41.260876Z",
     "shell.execute_reply": "2023-03-18T16:54:41.259011Z"
    },
    "papermill": {
     "duration": 318.578864,
     "end_time": "2023-03-18T16:54:41.272468",
     "exception": false,
     "start_time": "2023-03-18T16:49:22.693604",
     "status": "completed"
    },
    "tags": []
   },
   "outputs": [
    {
     "name": "stdout",
     "output_type": "stream",
     "text": [
      "0.7973242556447745\n",
      "{'randomforest__min_samples_split': 2}\n"
     ]
    }
   ],
   "source": [
    "cv.fit(Xtrain, Ytrain)\n",
    "print(cv.best_score_)\n",
    "print(cv.best_params_)"
   ]
  },
  {
   "cell_type": "code",
   "execution_count": 15,
   "id": "502b907d",
   "metadata": {
    "execution": {
     "iopub.execute_input": "2023-03-18T16:54:41.291233Z",
     "iopub.status.busy": "2023-03-18T16:54:41.290775Z",
     "iopub.status.idle": "2023-03-18T16:54:43.414686Z",
     "shell.execute_reply": "2023-03-18T16:54:43.413385Z"
    },
    "papermill": {
     "duration": 2.137303,
     "end_time": "2023-03-18T16:54:43.417580",
     "exception": false,
     "start_time": "2023-03-18T16:54:41.280277",
     "status": "completed"
    },
    "tags": []
   },
   "outputs": [
    {
     "name": "stdout",
     "output_type": "stream",
     "text": [
      "accuracy score: 0.682092555331992\n",
      "f1 score 0.44366197183098594\n"
     ]
    },
    {
     "data": {
      "image/png": "[encoded data removed]",
      "text/plain": [
       "<Figure size 640x480 with 1 Axes>"
      ]
     },
     "metadata": {},
     "output_type": "display_data"
    }
   ],
   "source": [
    "Ypred = cv.predict(Xtest)\n",
    "Ypred_probs = cv.predict_proba(Xtest)[:,1]\n",
    "print(\"accuracy score:\", accuracy_score(Ytest, Ypred))\n",
    "print(\"f1 score\", f1_score(Ytest, Ypred))\n",
    "fpr, tpr, thresholds = roc_curve(Ytest, Ypred_probs)\n",
    "plt.plot([0, 1], [0, 1], 'k--')\n",
    "plt.plot(fpr, tpr)\n",
    "plt.xlabel('False Positive Rate')\n",
    "plt.ylabel('True Positive Rate')\n",
    "plt.title('ROC Curve for Random Forest')\n",
    "plt.show()"
   ]
  },
  {
   "cell_type": "code",
   "execution_count": 16,
   "id": "40dbd6cf",
   "metadata": {
    "execution": {
     "iopub.execute_input": "2023-03-18T16:54:43.437866Z",
     "iopub.status.busy": "2023-03-18T16:54:43.436709Z",
     "iopub.status.idle": "2023-03-18T16:54:43.443967Z",
     "shell.execute_reply": "2023-03-18T16:54:43.442860Z"
    },
    "papermill": {
     "duration": 0.019947,
     "end_time": "2023-03-18T16:54:43.446578",
     "exception": false,
     "start_time": "2023-03-18T16:54:43.426631",
     "status": "completed"
    },
    "tags": []
   },
   "outputs": [
    {
     "name": "stdout",
     "output_type": "stream",
     "text": [
      "0.6900405380504884\n"
     ]
    }
   ],
   "source": [
    "print(auc(fpr, tpr))"
   ]
  },
  {
   "cell_type": "markdown",
   "id": "9d62466a",
   "metadata": {
    "papermill": {
     "duration": 0.008809,
     "end_time": "2023-03-18T16:54:43.464090",
     "exception": false,
     "start_time": "2023-03-18T16:54:43.455281",
     "status": "completed"
    },
    "tags": []
   },
   "source": [
    "# Gradient boosting"
   ]
  },
  {
   "cell_type": "code",
   "execution_count": 17,
   "id": "fa4b705f",
   "metadata": {
    "execution": {
     "iopub.execute_input": "2023-03-18T16:54:43.483492Z",
     "iopub.status.busy": "2023-03-18T16:54:43.483022Z",
     "iopub.status.idle": "2023-03-18T16:54:43.492895Z",
     "shell.execute_reply": "2023-03-18T16:54:43.491706Z"
    },
    "papermill": {
     "duration": 0.022427,
     "end_time": "2023-03-18T16:54:43.495399",
     "exception": false,
     "start_time": "2023-03-18T16:54:43.472972",
     "status": "completed"
    },
    "tags": []
   },
   "outputs": [],
   "source": [
    "#Creating a pipeline to scale the data and do 3-fold cross-validation.\n",
    "\n",
    "steps = [(\"scaler\", MinMaxScaler()),\n",
    "         (\"pca\", PCA(n_components=100)),\n",
    "         (\"gradientboosting\", GradientBoostingClassifier(random_state=47, n_estimators=800))]\n",
    "pipeline = Pipeline(steps)\n",
    "parameters = {\"gradientboosting__learning_rate\": [0.02,0.1]}\n",
    "\n",
    "cv = GridSearchCV(pipeline, param_grid=parameters, scoring='f1',cv=3)"
   ]
  },
  {
   "cell_type": "code",
   "execution_count": 18,
   "id": "c3b085b5",
   "metadata": {
    "execution": {
     "iopub.execute_input": "2023-03-18T16:54:43.515472Z",
     "iopub.status.busy": "2023-03-18T16:54:43.514612Z",
     "iopub.status.idle": "2023-03-18T17:03:21.111030Z",
     "shell.execute_reply": "2023-03-18T17:03:21.109456Z"
    },
    "papermill": {
     "duration": 517.622464,
     "end_time": "2023-03-18T17:03:21.126680",
     "exception": false,
     "start_time": "2023-03-18T16:54:43.504216",
     "status": "completed"
    },
    "tags": []
   },
   "outputs": [
    {
     "name": "stdout",
     "output_type": "stream",
     "text": [
      "0.8046395604131767\n",
      "{'gradientboosting__learning_rate': 0.1}\n"
     ]
    }
   ],
   "source": [
    "cv.fit(Xtrain, Ytrain)\n",
    "print(cv.best_score_)\n",
    "print(cv.best_params_)"
   ]
  },
  {
   "cell_type": "code",
   "execution_count": 19,
   "id": "a87184d5",
   "metadata": {
    "execution": {
     "iopub.execute_input": "2023-03-18T17:03:21.147578Z",
     "iopub.status.busy": "2023-03-18T17:03:21.147069Z",
     "iopub.status.idle": "2023-03-18T17:03:22.928950Z",
     "shell.execute_reply": "2023-03-18T17:03:22.926089Z"
    },
    "papermill": {
     "duration": 1.796412,
     "end_time": "2023-03-18T17:03:22.932115",
     "exception": false,
     "start_time": "2023-03-18T17:03:21.135703",
     "status": "completed"
    },
    "tags": []
   },
   "outputs": [
    {
     "name": "stdout",
     "output_type": "stream",
     "text": [
      "accuracy score: 0.6981891348088531\n",
      "f1 score 0.5161290322580645\n"
     ]
    },
    {
     "data": {
      "image/png": "[encoded data removed]",
      "text/plain": [
       "<Figure size 640x480 with 1 Axes>"
      ]
     },
     "metadata": {},
     "output_type": "display_data"
    }
   ],
   "source": [
    "Ypred = cv.predict(Xtest)\n",
    "Ypred_probs = cv.predict_proba(Xtest)[:,1]\n",
    "print(\"accuracy score:\", accuracy_score(Ytest, Ypred))\n",
    "print(\"f1 score\", f1_score(Ytest, Ypred))\n",
    "fpr, tpr, thresholds = roc_curve(Ytest, Ypred_probs)\n",
    "plt.plot([0, 1], [0, 1], 'k--')\n",
    "plt.plot(fpr, tpr)\n",
    "plt.xlabel('False Positive Rate')\n",
    "plt.ylabel('True Positive Rate')\n",
    "plt.title('ROC Curve for Gradient Boosting')\n",
    "plt.show()"
   ]
  },
  {
   "cell_type": "code",
   "execution_count": 20,
   "id": "1c27d96d",
   "metadata": {
    "execution": {
     "iopub.execute_input": "2023-03-18T17:03:22.954600Z",
     "iopub.status.busy": "2023-03-18T17:03:22.954102Z",
     "iopub.status.idle": "2023-03-18T17:03:22.961009Z",
     "shell.execute_reply": "2023-03-18T17:03:22.959647Z"
    },
    "papermill": {
     "duration": 0.022288,
     "end_time": "2023-03-18T17:03:22.964349",
     "exception": false,
     "start_time": "2023-03-18T17:03:22.942061",
     "status": "completed"
    },
    "tags": []
   },
   "outputs": [
    {
     "name": "stdout",
     "output_type": "stream",
     "text": [
      "0.7303666850930532\n"
     ]
    }
   ],
   "source": [
    "print(auc(fpr, tpr))"
   ]
  },
  {
   "cell_type": "code",
   "execution_count": null,
   "id": "705fa945",
   "metadata": {
    "papermill": {
     "duration": 0.009692,
     "end_time": "2023-03-18T17:03:22.984250",
     "exception": false,
     "start_time": "2023-03-18T17:03:22.974558",
     "status": "completed"
    },
    "tags": []
   },
   "outputs": [],
   "source": []
  },
  {
   "cell_type": "code",
   "execution_count": null,
   "id": "9a8bff14",
   "metadata": {
    "papermill": {
     "duration": 0.009353,
     "end_time": "2023-03-18T17:03:23.003235",
     "exception": false,
     "start_time": "2023-03-18T17:03:22.993882",
     "status": "completed"
    },
    "tags": []
   },
   "outputs": [],
   "source": []
  },
  {
   "cell_type": "code",
   "execution_count": null,
   "id": "844c6894",
   "metadata": {
    "papermill": {
     "duration": 0.009322,
     "end_time": "2023-03-18T17:03:23.022156",
     "exception": false,
     "start_time": "2023-03-18T17:03:23.012834",
     "status": "completed"
    },
    "tags": []
   },
   "outputs": [],
   "source": []
  },
  {
   "cell_type": "code",
   "execution_count": null,
   "id": "c679c86a",
   "metadata": {
    "papermill": {
     "duration": 0.00994,
     "end_time": "2023-03-18T17:03:23.041689",
     "exception": false,
     "start_time": "2023-03-18T17:03:23.031749",
     "status": "completed"
    },
    "tags": []
   },
   "outputs": [],
   "source": []
  }
 ],
 "metadata": {
  "kernelspec": {
   "display_name": "Python 3",
   "language": "python",
   "name": "python3"
  },
  "language_info": {
   "codemirror_mode": {
    "name": "ipython",
    "version": 3
   },
   "file_extension": ".py",
   "mimetype": "text/x-python",
   "name": "python",
   "nbconvert_exporter": "python",
   "pygments_lexer": "ipython3",
   "version": "3.7.12"
  },
  "papermill": {
   "default_parameters": {},
   "duration": 1115.008607,
   "end_time": "2023-03-18T17:03:27.088178",
   "environment_variables": {},
   "exception": null,
   "input_path": "__notebook__.ipynb",
   "output_path": "__notebook__.ipynb",
   "parameters": {},
   "start_time": "2023-03-18T16:44:52.079571",
   "version": "2.4.0"
  }
 },
 "nbformat": 4,
 "nbformat_minor": 5
}
