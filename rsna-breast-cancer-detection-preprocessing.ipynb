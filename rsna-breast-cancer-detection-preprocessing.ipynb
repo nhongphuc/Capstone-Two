{
 "cells": [
  {
   "cell_type": "code",
   "execution_count": 1,
   "id": "4916c456",
   "metadata": {
    "_cell_guid": "b1076dfc-b9ad-4769-8c92-a6c4dae69d19",
    "_uuid": "8f2839f25d086af736a60e9eeb907d3b93b6e0e5",
    "execution": {
     "iopub.execute_input": "2023-03-16T13:17:04.048559Z",
     "iopub.status.busy": "2023-03-16T13:17:04.047962Z",
     "iopub.status.idle": "2023-03-16T13:17:06.126763Z",
     "shell.execute_reply": "2023-03-16T13:17:06.124753Z"
    },
    "papermill": {
     "duration": 2.095448,
     "end_time": "2023-03-16T13:17:06.130074",
     "exception": false,
     "start_time": "2023-03-16T13:17:04.034626",
     "status": "completed"
    },
    "tags": []
   },
   "outputs": [],
   "source": [
    "#Importing packages\n",
    "\n",
    "import numpy as np # linear algebra\n",
    "import pandas as pd # data processing, CSV file I/O (e.g. pd.read_csv)\n",
    "import pickle\n",
    "import matplotlib.pyplot as plt\n",
    "from sklearn.model_selection import train_test_split, GridSearchCV\n",
    "from sklearn.preprocessing import StandardScaler\n",
    "from sklearn.linear_model import LogisticRegression\n",
    "from sklearn.metrics import accuracy_score, f1_score, roc_curve, auc\n",
    "from sklearn.pipeline import Pipeline\n",
    "from sklearn.decomposition import PCA\n",
    "from imblearn.over_sampling import RandomOverSampler\n",
    "from sklearn.ensemble import RandomForestClassifier, GradientBoostingClassifier\n",
    "from skimage import exposure"
   ]
  },
  {
   "cell_type": "code",
   "execution_count": 2,
   "id": "5d480489",
   "metadata": {
    "execution": {
     "iopub.execute_input": "2023-03-16T13:17:06.148455Z",
     "iopub.status.busy": "2023-03-16T13:17:06.148047Z",
     "iopub.status.idle": "2023-03-16T13:18:33.824233Z",
     "shell.execute_reply": "2023-03-16T13:18:33.822948Z"
    },
    "papermill": {
     "duration": 87.695239,
     "end_time": "2023-03-16T13:18:33.833059",
     "exception": false,
     "start_time": "2023-03-16T13:17:06.137820",
     "status": "completed"
    },
    "tags": []
   },
   "outputs": [],
   "source": [
    "#Loading the pickle file containing a dictionary with \n",
    "#patient ID and image ID for keys and the cleaned images for values \n",
    "#(from the Data Wrangling notebook).\n",
    "folder_path = '/kaggle/input/rsna-breast-cancer-detection-data-wrangling/'\n",
    "\n",
    "with open(folder_path + 'cleaned_images.pickle', 'rb') as file:\n",
    "    img_dict = pickle.load(file)\n",
    "    \n",
    "#Loading the cleaned csv file (also from the Data Wrangling notebook).\n",
    "df = pd.read_csv(folder_path + 'cleaned_data.csv')"
   ]
  },
  {
   "cell_type": "code",
   "execution_count": 3,
   "id": "d1ee063d",
   "metadata": {
    "execution": {
     "iopub.execute_input": "2023-03-16T13:18:33.849552Z",
     "iopub.status.busy": "2023-03-16T13:18:33.848895Z",
     "iopub.status.idle": "2023-03-16T13:18:33.879996Z",
     "shell.execute_reply": "2023-03-16T13:18:33.878156Z"
    },
    "papermill": {
     "duration": 0.043145,
     "end_time": "2023-03-16T13:18:33.883497",
     "exception": false,
     "start_time": "2023-03-16T13:18:33.840352",
     "status": "completed"
    },
    "tags": []
   },
   "outputs": [
    {
     "name": "stdout",
     "output_type": "stream",
     "text": [
      "(662, 28)\n",
      "(22972, 28)\n"
     ]
    }
   ],
   "source": [
    "#Creating two new dataframes, by filtering df according to whether the patient has cancer or not.\n",
    "df_cancer = df[df['cancer_1']==1].reset_index()\n",
    "df_no_cancer = df[df['cancer_1']==0].reset_index()\n",
    "print(df_cancer.shape)\n",
    "print(df_no_cancer.shape)"
   ]
  },
  {
   "cell_type": "markdown",
   "id": "5e18b98d",
   "metadata": {
    "papermill": {
     "duration": 0.007604,
     "end_time": "2023-03-16T13:18:33.898888",
     "exception": false,
     "start_time": "2023-03-16T13:18:33.891284",
     "status": "completed"
    },
    "tags": []
   },
   "source": [
    "Next, we create the matrix X of features. Each feature is a numpy array consisting of the values of all the pixels in the image, concatenated to the values of the columns of df_cancer and df_no_cancer.\n",
    "\n",
    "We have a very imbalanced dataset, with many more images without cancer than with cancer. For now we will use all the images with cancer, and twice as many images without cancer. Later on (after the train split test) we will oversample the images with cancer to obtain a more balanced dataset."
   ]
  },
  {
   "cell_type": "code",
   "execution_count": 4,
   "id": "6caaac7c",
   "metadata": {
    "execution": {
     "iopub.execute_input": "2023-03-16T13:18:33.916922Z",
     "iopub.status.busy": "2023-03-16T13:18:33.915312Z",
     "iopub.status.idle": "2023-03-16T13:18:48.683462Z",
     "shell.execute_reply": "2023-03-16T13:18:48.681356Z"
    },
    "papermill": {
     "duration": 14.779764,
     "end_time": "2023-03-16T13:18:48.686442",
     "exception": false,
     "start_time": "2023-03-16T13:18:33.906678",
     "status": "completed"
    },
    "tags": []
   },
   "outputs": [],
   "source": [
    "X = []\n",
    "\n",
    "for i in range(len(df_cancer)):\n",
    "    key = str(df_cancer['patient_id'][i]) + '/' + str(df_cancer['image_id'][i])\n",
    "    \n",
    "    arr = np.array(img_dict[key]).ravel()\n",
    "    \n",
    "    arr = np.append(arr, df_cancer['age'][i])\n",
    "    arr = np.append(arr, df_cancer['laterality_L'][i])\n",
    "    arr = np.append(arr, df_cancer['view_CC'][i])\n",
    "    arr = np.append(arr, df_cancer['biopsy_0'][i])\n",
    "    arr = np.append(arr, df_cancer['implant_0'][i])\n",
    "    arr = np.append(arr, df_cancer['invasive_0'][i])\n",
    "    arr = np.append(arr, df_cancer['BIRADS_0.0'][i])\n",
    "    arr = np.append(arr, df_cancer['BIRADS_1.0'][i])\n",
    "    arr = np.append(arr, df_cancer['BIRADS_2.0'][i])\n",
    "    arr = np.append(arr, df_cancer['density_A'][i])\n",
    "    arr = np.append(arr, df_cancer['density_B'][i])\n",
    "    arr = np.append(arr, df_cancer['density_C'][i])\n",
    "    arr = np.append(arr, df_cancer['difficult_negative_case_False'][i])\n",
    "    \n",
    "    X.append(arr)\n",
    "    \n",
    "for i in range(2*len(df_cancer)):\n",
    "    key = str(df_no_cancer['patient_id'][i]) + '/' + str(df_no_cancer['image_id'][i])\n",
    "    \n",
    "    arr = np.array(img_dict[key]).ravel()\n",
    "    arr = np.append(arr, df_no_cancer['age'][i])\n",
    "    arr = np.append(arr, df_no_cancer['laterality_L'][i])\n",
    "    arr = np.append(arr, df_no_cancer['view_CC'][i])\n",
    "    arr = np.append(arr, df_no_cancer['biopsy_0'][i])\n",
    "    arr = np.append(arr, df_no_cancer['implant_0'][i])\n",
    "    arr = np.append(arr, df_no_cancer['invasive_0'][i])\n",
    "    arr = np.append(arr, df_no_cancer['BIRADS_0.0'][i])\n",
    "    arr = np.append(arr, df_no_cancer['BIRADS_1.0'][i])\n",
    "    arr = np.append(arr, df_no_cancer['BIRADS_2.0'][i])\n",
    "    arr = np.append(arr, df_no_cancer['density_A'][i])\n",
    "    arr = np.append(arr, df_no_cancer['density_B'][i])\n",
    "    arr = np.append(arr, df_no_cancer['density_C'][i])\n",
    "    arr = np.append(arr, df_no_cancer['difficult_negative_case_False'][i])\n",
    "    \n",
    "    X.append(arr)"
   ]
  },
  {
   "cell_type": "markdown",
   "id": "f0347840",
   "metadata": {
    "papermill": {
     "duration": 0.007045,
     "end_time": "2023-03-16T13:18:48.701256",
     "exception": false,
     "start_time": "2023-03-16T13:18:48.694211",
     "status": "completed"
    },
    "tags": []
   },
   "source": [
    "We create the corresponding array Y of labels."
   ]
  },
  {
   "cell_type": "code",
   "execution_count": 5,
   "id": "cde38d2c",
   "metadata": {
    "execution": {
     "iopub.execute_input": "2023-03-16T13:18:48.719690Z",
     "iopub.status.busy": "2023-03-16T13:18:48.719034Z",
     "iopub.status.idle": "2023-03-16T13:18:48.743660Z",
     "shell.execute_reply": "2023-03-16T13:18:48.741901Z"
    },
    "papermill": {
     "duration": 0.037466,
     "end_time": "2023-03-16T13:18:48.746787",
     "exception": false,
     "start_time": "2023-03-16T13:18:48.709321",
     "status": "completed"
    },
    "tags": []
   },
   "outputs": [],
   "source": [
    "Y = []\n",
    "\n",
    "for i in range(len(df_cancer)):\n",
    "    Y.append(df_cancer['cancer_1'][i])\n",
    "    \n",
    "for i in range(2*len(df_cancer)):\n",
    "    Y.append(df_no_cancer['cancer_1'][i])"
   ]
  },
  {
   "cell_type": "markdown",
   "id": "7ad6742c",
   "metadata": {
    "papermill": {
     "duration": 0.007046,
     "end_time": "2023-03-16T13:18:48.761329",
     "exception": false,
     "start_time": "2023-03-16T13:18:48.754283",
     "status": "completed"
    },
    "tags": []
   },
   "source": [
    "# Baseline models"
   ]
  },
  {
   "cell_type": "markdown",
   "id": "7b7c5b68",
   "metadata": {
    "papermill": {
     "duration": 0.008177,
     "end_time": "2023-03-16T13:18:48.776674",
     "exception": false,
     "start_time": "2023-03-16T13:18:48.768497",
     "status": "completed"
    },
    "tags": []
   },
   "source": [
    "After the data augmentation step below, the train data will be evenly split between cancerous images and non-cancerous images. Based on that information, we can estimate baseline values for the accuracy of the training set, as follows:\n",
    "\n",
    "If for example we randomly classify each mammogram as cancerous or non-cancerous, then the probability that we classify the images correctly will be: (0.5) * (0.5) + (0.5) * (0.5) = 0.5. To see this, we note that the first term (0.5) * (0.5) is the probability that we classify correctly as cancerous (because there is a 0.5 chance that the image is classified as cancerous, and also a 0.5 chance that the image is actually cancerous). Similarly, the second term (0.5) * (0.5) is the probability that we classify correctly as non-cancerous.\n",
    "\n",
    "Another simple baseline model is to simply classify all the images as cancerous, or classify all of them as non-cancerous. Such a baseline model is also correct half of the times, so its accuracy is 50 percent.\n",
    "\n",
    "Therefore, if our models below have an accuracy better than 50 percent (on the training set), then the models are better than the two baseline models described above."
   ]
  },
  {
   "cell_type": "markdown",
   "id": "0c864c6b",
   "metadata": {
    "papermill": {
     "duration": 0.006879,
     "end_time": "2023-03-16T13:18:48.790736",
     "exception": false,
     "start_time": "2023-03-16T13:18:48.783857",
     "status": "completed"
    },
    "tags": []
   },
   "source": [
    "# Logistic Regression"
   ]
  },
  {
   "cell_type": "code",
   "execution_count": 6,
   "id": "5835f33d",
   "metadata": {
    "execution": {
     "iopub.execute_input": "2023-03-16T13:18:48.807169Z",
     "iopub.status.busy": "2023-03-16T13:18:48.806733Z",
     "iopub.status.idle": "2023-03-16T13:18:48.819697Z",
     "shell.execute_reply": "2023-03-16T13:18:48.818451Z"
    },
    "papermill": {
     "duration": 0.024783,
     "end_time": "2023-03-16T13:18:48.822818",
     "exception": false,
     "start_time": "2023-03-16T13:18:48.798035",
     "status": "completed"
    },
    "tags": []
   },
   "outputs": [],
   "source": [
    "#Creating a pipeline to scale the data and do 3-fold cross-validation.\n",
    "\n",
    "steps = [(\"scaler\", StandardScaler()),\n",
    "         (\"pca\", PCA(n_components=100)),\n",
    "         (\"logreg\", LogisticRegression(solver='liblinear', max_iter = 500))]\n",
    "pipeline = Pipeline(steps)\n",
    "parameters = {\"logreg__C\": [1,10]}\n",
    "Xtrain, Xtest, Ytrain, Ytest = train_test_split(X, Y, train_size = 0.75, random_state = 13)\n",
    "cv = GridSearchCV(pipeline, param_grid=parameters, cv=3)"
   ]
  },
  {
   "cell_type": "markdown",
   "id": "a362cff9",
   "metadata": {
    "papermill": {
     "duration": 0.00693,
     "end_time": "2023-03-16T13:18:48.837570",
     "exception": false,
     "start_time": "2023-03-16T13:18:48.830640",
     "status": "completed"
    },
    "tags": []
   },
   "source": [
    "Now we augment the number of images with cancer by a factor of 2 by oversampling."
   ]
  },
  {
   "cell_type": "code",
   "execution_count": 7,
   "id": "c0f88623",
   "metadata": {
    "execution": {
     "iopub.execute_input": "2023-03-16T13:18:48.855209Z",
     "iopub.status.busy": "2023-03-16T13:18:48.853900Z",
     "iopub.status.idle": "2023-03-16T13:18:48.861839Z",
     "shell.execute_reply": "2023-03-16T13:18:48.860817Z"
    },
    "papermill": {
     "duration": 0.020354,
     "end_time": "2023-03-16T13:18:48.865266",
     "exception": false,
     "start_time": "2023-03-16T13:18:48.844912",
     "status": "completed"
    },
    "tags": []
   },
   "outputs": [],
   "source": [
    "Xtrain_augmentation = []\n",
    "Ytrain_augmentation = []\n",
    "\n",
    "for i in range(len(Xtrain)):\n",
    "    if Ytrain[i] == 1:\n",
    "        #img_part = Xtrain[i][:(512**2)]\n",
    "        #non_img_part = Xtrain[i][(512**2):]\n",
    "        #img_eq = exposure.equalize_hist(img_part)\n",
    "        #new_arr = np.concatenate((img_eq, non_img_part))\n",
    "        #Xtrain_augmentation.append(new_arr)\n",
    "        \n",
    "        Xtrain_augmentation.append(Xtrain[i])\n",
    "        Ytrain_augmentation.append(Ytrain[i])\n",
    "        \n",
    "Xtrain = Xtrain + Xtrain_augmentation\n",
    "Ytrain = Ytrain + Ytrain_augmentation"
   ]
  },
  {
   "cell_type": "code",
   "execution_count": 8,
   "id": "81faaf50",
   "metadata": {
    "execution": {
     "iopub.execute_input": "2023-03-16T13:18:48.882769Z",
     "iopub.status.busy": "2023-03-16T13:18:48.881675Z",
     "iopub.status.idle": "2023-03-16T13:18:48.891434Z",
     "shell.execute_reply": "2023-03-16T13:18:48.889726Z"
    },
    "papermill": {
     "duration": 0.021354,
     "end_time": "2023-03-16T13:18:48.894316",
     "exception": false,
     "start_time": "2023-03-16T13:18:48.872962",
     "status": "completed"
    },
    "tags": []
   },
   "outputs": [
    {
     "name": "stdout",
     "output_type": "stream",
     "text": [
      "1989 1989\n",
      "500 500\n",
      "989\n",
      "1000\n"
     ]
    }
   ],
   "source": [
    "#Checking that the train dataset is now balanced.\n",
    "print(len(Xtrain), len(Ytrain))\n",
    "print(len(Xtrain_augmentation), len(Ytrain_augmentation))\n",
    "print(Ytrain.count(0))\n",
    "print(Ytrain.count(1))"
   ]
  },
  {
   "cell_type": "code",
   "execution_count": 9,
   "id": "11d0aa8d",
   "metadata": {
    "execution": {
     "iopub.execute_input": "2023-03-16T13:18:48.912052Z",
     "iopub.status.busy": "2023-03-16T13:18:48.911613Z",
     "iopub.status.idle": "2023-03-16T13:26:19.756602Z",
     "shell.execute_reply": "2023-03-16T13:26:19.754563Z"
    },
    "papermill": {
     "duration": 450.87383,
     "end_time": "2023-03-16T13:26:19.776023",
     "exception": false,
     "start_time": "2023-03-16T13:18:48.902193",
     "status": "completed"
    },
    "tags": []
   },
   "outputs": [
    {
     "name": "stdout",
     "output_type": "stream",
     "text": [
      "0.5897435897435898\n",
      "{'logreg__C': 10}\n"
     ]
    }
   ],
   "source": [
    "cv.fit(Xtrain, Ytrain)\n",
    "print(cv.best_score_)\n",
    "print(cv.best_params_)"
   ]
  },
  {
   "cell_type": "code",
   "execution_count": 10,
   "id": "118f0112",
   "metadata": {
    "execution": {
     "iopub.execute_input": "2023-03-16T13:26:19.797028Z",
     "iopub.status.busy": "2023-03-16T13:26:19.796167Z",
     "iopub.status.idle": "2023-03-16T13:26:24.757061Z",
     "shell.execute_reply": "2023-03-16T13:26:24.754985Z"
    },
    "papermill": {
     "duration": 4.975455,
     "end_time": "2023-03-16T13:26:24.760748",
     "exception": false,
     "start_time": "2023-03-16T13:26:19.785293",
     "status": "completed"
    },
    "tags": []
   },
   "outputs": [
    {
     "name": "stdout",
     "output_type": "stream",
     "text": [
      "accuracy score: 0.5593561368209256\n",
      "f1 score 0.4697336561743341\n"
     ]
    },
    {
     "data": {
      "image/png": "[encoded data removed]",
      "text/plain": [
       "<Figure size 640x480 with 1 Axes>"
      ]
     },
     "metadata": {},
     "output_type": "display_data"
    }
   ],
   "source": [
    "Ypred = cv.predict(Xtest)\n",
    "Ypred_probs = cv.predict_proba(Xtest)[:,1]\n",
    "print(\"accuracy score:\", accuracy_score(Ytest, Ypred))\n",
    "print(\"f1 score\", f1_score(Ytest, Ypred))\n",
    "fpr, tpr, thresholds = roc_curve(Ytest, Ypred_probs)\n",
    "plt.plot([0, 1], [0, 1], 'k--')\n",
    "plt.plot(fpr, tpr)\n",
    "plt.xlabel('False Positive Rate')\n",
    "plt.ylabel('True Positive Rate')\n",
    "plt.title('ROC Curve for Logistic Regression')\n",
    "plt.show()"
   ]
  },
  {
   "cell_type": "markdown",
   "id": "11f92bf6",
   "metadata": {
    "papermill": {
     "duration": 0.007994,
     "end_time": "2023-03-16T13:26:24.778330",
     "exception": false,
     "start_time": "2023-03-16T13:26:24.770336",
     "status": "completed"
    },
    "tags": []
   },
   "source": [
    "We see that the accuracy score is around 0.61, which is higher than the accuracy of the baseline models !"
   ]
  },
  {
   "cell_type": "code",
   "execution_count": 11,
   "id": "626ea05b",
   "metadata": {
    "execution": {
     "iopub.execute_input": "2023-03-16T13:26:24.797666Z",
     "iopub.status.busy": "2023-03-16T13:26:24.797177Z",
     "iopub.status.idle": "2023-03-16T13:26:24.804617Z",
     "shell.execute_reply": "2023-03-16T13:26:24.803011Z"
    },
    "papermill": {
     "duration": 0.021167,
     "end_time": "2023-03-16T13:26:24.807978",
     "exception": false,
     "start_time": "2023-03-16T13:26:24.786811",
     "status": "completed"
    },
    "tags": []
   },
   "outputs": [
    {
     "name": "stdout",
     "output_type": "stream",
     "text": [
      "0.5978625391560715\n"
     ]
    }
   ],
   "source": [
    "print(auc(fpr, tpr))"
   ]
  },
  {
   "cell_type": "markdown",
   "id": "93cade45",
   "metadata": {
    "papermill": {
     "duration": 0.007841,
     "end_time": "2023-03-16T13:26:24.824133",
     "exception": false,
     "start_time": "2023-03-16T13:26:24.816292",
     "status": "completed"
    },
    "tags": []
   },
   "source": [
    "# Random Forest"
   ]
  },
  {
   "cell_type": "code",
   "execution_count": 12,
   "id": "a07e37ef",
   "metadata": {
    "execution": {
     "iopub.execute_input": "2023-03-16T13:26:24.842769Z",
     "iopub.status.busy": "2023-03-16T13:26:24.841903Z",
     "iopub.status.idle": "2023-03-16T13:26:24.849654Z",
     "shell.execute_reply": "2023-03-16T13:26:24.848680Z"
    },
    "papermill": {
     "duration": 0.020032,
     "end_time": "2023-03-16T13:26:24.852233",
     "exception": false,
     "start_time": "2023-03-16T13:26:24.832201",
     "status": "completed"
    },
    "tags": []
   },
   "outputs": [],
   "source": [
    "#Creating a pipeline to scale the data and do 3-fold cross-validation.\n",
    "\n",
    "steps = [(\"scaler\", StandardScaler()),\n",
    "         (\"pca\", PCA(n_components=100)),\n",
    "         (\"randomforest\", RandomForestClassifier(random_state=47, n_estimators=1000))]\n",
    "pipeline = Pipeline(steps)\n",
    "parameters = {\"randomforest__class_weight\": ['balanced', {0:1,1:2}]}\n",
    "\n",
    "cv = GridSearchCV(pipeline, param_grid=parameters, cv=3)"
   ]
  },
  {
   "cell_type": "code",
   "execution_count": 13,
   "id": "34dddc2c",
   "metadata": {
    "execution": {
     "iopub.execute_input": "2023-03-16T13:26:24.870836Z",
     "iopub.status.busy": "2023-03-16T13:26:24.869787Z",
     "iopub.status.idle": "2023-03-16T13:35:09.506598Z",
     "shell.execute_reply": "2023-03-16T13:35:09.505041Z"
    },
    "papermill": {
     "duration": 524.65738,
     "end_time": "2023-03-16T13:35:09.517519",
     "exception": false,
     "start_time": "2023-03-16T13:26:24.860139",
     "status": "completed"
    },
    "tags": []
   },
   "outputs": [
    {
     "name": "stdout",
     "output_type": "stream",
     "text": [
      "0.8848667672197084\n",
      "{'randomforest__class_weight': 'balanced'}\n"
     ]
    }
   ],
   "source": [
    "cv.fit(Xtrain, Ytrain)\n",
    "print(cv.best_score_)\n",
    "print(cv.best_params_)"
   ]
  },
  {
   "cell_type": "code",
   "execution_count": 14,
   "id": "4ec44215",
   "metadata": {
    "execution": {
     "iopub.execute_input": "2023-03-16T13:35:09.535382Z",
     "iopub.status.busy": "2023-03-16T13:35:09.534975Z",
     "iopub.status.idle": "2023-03-16T13:35:14.937139Z",
     "shell.execute_reply": "2023-03-16T13:35:14.935740Z"
    },
    "papermill": {
     "duration": 5.41517,
     "end_time": "2023-03-16T13:35:14.940615",
     "exception": false,
     "start_time": "2023-03-16T13:35:09.525445",
     "status": "completed"
    },
    "tags": []
   },
   "outputs": [
    {
     "name": "stdout",
     "output_type": "stream",
     "text": [
      "accuracy score: 0.6720321931589537\n",
      "f1 score 0.2048780487804878\n"
     ]
    },
    {
     "data": {
      "image/png": "[encoded data removed]",
      "text/plain": [
       "<Figure size 640x480 with 1 Axes>"
      ]
     },
     "metadata": {},
     "output_type": "display_data"
    }
   ],
   "source": [
    "Ypred = cv.predict(Xtest)\n",
    "Ypred_probs = cv.predict_proba(Xtest)[:,1]\n",
    "print(\"accuracy score:\", accuracy_score(Ytest, Ypred))\n",
    "print(\"f1 score\", f1_score(Ytest, Ypred))\n",
    "fpr, tpr, thresholds = roc_curve(Ytest, Ypred_probs)\n",
    "plt.plot([0, 1], [0, 1], 'k--')\n",
    "plt.plot(fpr, tpr)\n",
    "plt.xlabel('False Positive Rate')\n",
    "plt.ylabel('True Positive Rate')\n",
    "plt.title('ROC Curve for Random Forest')\n",
    "plt.show()"
   ]
  },
  {
   "cell_type": "code",
   "execution_count": 15,
   "id": "0de07962",
   "metadata": {
    "execution": {
     "iopub.execute_input": "2023-03-16T13:35:14.960754Z",
     "iopub.status.busy": "2023-03-16T13:35:14.960322Z",
     "iopub.status.idle": "2023-03-16T13:35:14.968818Z",
     "shell.execute_reply": "2023-03-16T13:35:14.966719Z"
    },
    "papermill": {
     "duration": 0.021277,
     "end_time": "2023-03-16T13:35:14.971579",
     "exception": false,
     "start_time": "2023-03-16T13:35:14.950302",
     "status": "completed"
    },
    "tags": []
   },
   "outputs": [
    {
     "name": "stdout",
     "output_type": "stream",
     "text": [
      "0.6304864566058597\n"
     ]
    }
   ],
   "source": [
    "print(auc(fpr, tpr))"
   ]
  },
  {
   "cell_type": "markdown",
   "id": "6ddcac4a",
   "metadata": {
    "papermill": {
     "duration": 0.008439,
     "end_time": "2023-03-16T13:35:14.988940",
     "exception": false,
     "start_time": "2023-03-16T13:35:14.980501",
     "status": "completed"
    },
    "tags": []
   },
   "source": [
    "# Gradient boosting"
   ]
  },
  {
   "cell_type": "code",
   "execution_count": 16,
   "id": "8a7f7ed0",
   "metadata": {
    "execution": {
     "iopub.execute_input": "2023-03-16T13:35:15.008460Z",
     "iopub.status.busy": "2023-03-16T13:35:15.008029Z",
     "iopub.status.idle": "2023-03-16T13:35:15.023420Z",
     "shell.execute_reply": "2023-03-16T13:35:15.022047Z"
    },
    "papermill": {
     "duration": 0.028816,
     "end_time": "2023-03-16T13:35:15.026495",
     "exception": false,
     "start_time": "2023-03-16T13:35:14.997679",
     "status": "completed"
    },
    "tags": []
   },
   "outputs": [],
   "source": [
    "#Creating a pipeline to scale the data and do 3-fold cross-validation.\n",
    "\n",
    "steps = [(\"scaler\", StandardScaler()),\n",
    "         (\"pca\", PCA(n_components=100)),\n",
    "         (\"gradientboosting\", GradientBoostingClassifier(random_state=47))]\n",
    "pipeline = Pipeline(steps)\n",
    "parameters = {\"gradientboosting__n_estimators\": [500,1200]}\n",
    "\n",
    "cv = GridSearchCV(pipeline, param_grid=parameters, cv=3)"
   ]
  },
  {
   "cell_type": "code",
   "execution_count": 17,
   "id": "b728bed2",
   "metadata": {
    "execution": {
     "iopub.execute_input": "2023-03-16T13:35:15.046422Z",
     "iopub.status.busy": "2023-03-16T13:35:15.046027Z",
     "iopub.status.idle": "2023-03-16T13:46:19.972428Z",
     "shell.execute_reply": "2023-03-16T13:46:19.970022Z"
    },
    "papermill": {
     "duration": 664.954035,
     "end_time": "2023-03-16T13:46:19.989334",
     "exception": false,
     "start_time": "2023-03-16T13:35:15.035299",
     "status": "completed"
    },
    "tags": []
   },
   "outputs": [
    {
     "name": "stdout",
     "output_type": "stream",
     "text": [
      "0.8547008547008548\n",
      "{'gradientboosting__n_estimators': 500}\n"
     ]
    }
   ],
   "source": [
    "cv.fit(Xtrain, Ytrain)\n",
    "print(cv.best_score_)\n",
    "print(cv.best_params_)"
   ]
  },
  {
   "cell_type": "code",
   "execution_count": 18,
   "id": "0655a10d",
   "metadata": {
    "execution": {
     "iopub.execute_input": "2023-03-16T13:46:20.011449Z",
     "iopub.status.busy": "2023-03-16T13:46:20.010991Z",
     "iopub.status.idle": "2023-03-16T13:46:24.999377Z",
     "shell.execute_reply": "2023-03-16T13:46:24.998331Z"
    },
    "papermill": {
     "duration": 5.003909,
     "end_time": "2023-03-16T13:46:25.002868",
     "exception": false,
     "start_time": "2023-03-16T13:46:19.998959",
     "status": "completed"
    },
    "tags": []
   },
   "outputs": [
    {
     "name": "stdout",
     "output_type": "stream",
     "text": [
      "accuracy score: 0.676056338028169\n",
      "f1 score 0.30901287553648066\n"
     ]
    },
    {
     "data": {
      "image/png": "[encoded data removed]",
      "text/plain": [
       "<Figure size 640x480 with 1 Axes>"
      ]
     },
     "metadata": {},
     "output_type": "display_data"
    }
   ],
   "source": [
    "Ypred = cv.predict(Xtest)\n",
    "Ypred_probs = cv.predict_proba(Xtest)[:,1]\n",
    "print(\"accuracy score:\", accuracy_score(Ytest, Ypred))\n",
    "print(\"f1 score\", f1_score(Ytest, Ypred))\n",
    "fpr, tpr, thresholds = roc_curve(Ytest, Ypred_probs)\n",
    "plt.plot([0, 1], [0, 1], 'k--')\n",
    "plt.plot(fpr, tpr)\n",
    "plt.xlabel('False Positive Rate')\n",
    "plt.ylabel('True Positive Rate')\n",
    "plt.title('ROC Curve for Gradient Boosting')\n",
    "plt.show()"
   ]
  },
  {
   "cell_type": "code",
   "execution_count": 19,
   "id": "7e528dcc",
   "metadata": {
    "execution": {
     "iopub.execute_input": "2023-03-16T13:46:25.028782Z",
     "iopub.status.busy": "2023-03-16T13:46:25.027634Z",
     "iopub.status.idle": "2023-03-16T13:46:25.034890Z",
     "shell.execute_reply": "2023-03-16T13:46:25.033553Z"
    },
    "papermill": {
     "duration": 0.023358,
     "end_time": "2023-03-16T13:46:25.037931",
     "exception": false,
     "start_time": "2023-03-16T13:46:25.014573",
     "status": "completed"
    },
    "tags": []
   },
   "outputs": [
    {
     "name": "stdout",
     "output_type": "stream",
     "text": [
      "0.6293900866040171\n"
     ]
    }
   ],
   "source": [
    "print(auc(fpr, tpr))"
   ]
  },
  {
   "cell_type": "code",
   "execution_count": null,
   "id": "75416619",
   "metadata": {
    "papermill": {
     "duration": 0.009488,
     "end_time": "2023-03-16T13:46:25.057215",
     "exception": false,
     "start_time": "2023-03-16T13:46:25.047727",
     "status": "completed"
    },
    "tags": []
   },
   "outputs": [],
   "source": []
  },
  {
   "cell_type": "code",
   "execution_count": null,
   "id": "de29e1ec",
   "metadata": {
    "papermill": {
     "duration": 0.009804,
     "end_time": "2023-03-16T13:46:25.078171",
     "exception": false,
     "start_time": "2023-03-16T13:46:25.068367",
     "status": "completed"
    },
    "tags": []
   },
   "outputs": [],
   "source": []
  }
 ],
 "metadata": {
  "kernelspec": {
   "display_name": "Python 3",
   "language": "python",
   "name": "python3"
  },
  "language_info": {
   "codemirror_mode": {
    "name": "ipython",
    "version": 3
   },
   "file_extension": ".py",
   "mimetype": "text/x-python",
   "name": "python",
   "nbconvert_exporter": "python",
   "pygments_lexer": "ipython3",
   "version": "3.7.12"
  },
  "papermill": {
   "default_parameters": {},
   "duration": 1776.110031,
   "end_time": "2023-03-16T13:46:28.070109",
   "environment_variables": {},
   "exception": null,
   "input_path": "__notebook__.ipynb",
   "output_path": "__notebook__.ipynb",
   "parameters": {},
   "start_time": "2023-03-16T13:16:51.960078",
   "version": "2.4.0"
  }
 },
 "nbformat": 4,
 "nbformat_minor": 5
}
