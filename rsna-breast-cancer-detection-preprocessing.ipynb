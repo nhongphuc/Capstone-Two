{
 "cells": [
  {
   "cell_type": "code",
   "execution_count": 1,
   "id": "d093600d",
   "metadata": {
    "_cell_guid": "b1076dfc-b9ad-4769-8c92-a6c4dae69d19",
    "_uuid": "8f2839f25d086af736a60e9eeb907d3b93b6e0e5",
    "execution": {
     "iopub.execute_input": "2023-03-18T15:51:11.418350Z",
     "iopub.status.busy": "2023-03-18T15:51:11.417674Z",
     "iopub.status.idle": "2023-03-18T15:51:13.418507Z",
     "shell.execute_reply": "2023-03-18T15:51:13.416883Z"
    },
    "papermill": {
     "duration": 2.014202,
     "end_time": "2023-03-18T15:51:13.421539",
     "exception": false,
     "start_time": "2023-03-18T15:51:11.407337",
     "status": "completed"
    },
    "tags": []
   },
   "outputs": [],
   "source": [
    "#Importing packages\n",
    "\n",
    "import numpy as np # linear algebra\n",
    "import pandas as pd # data processing, CSV file I/O (e.g. pd.read_csv)\n",
    "import pickle\n",
    "import matplotlib.pyplot as plt\n",
    "from sklearn.model_selection import train_test_split, GridSearchCV\n",
    "from sklearn.preprocessing import StandardScaler, MinMaxScaler, Normalizer\n",
    "from sklearn.linear_model import LogisticRegression\n",
    "from sklearn.metrics import accuracy_score, f1_score, roc_curve, auc\n",
    "from sklearn.pipeline import Pipeline\n",
    "from sklearn.decomposition import PCA\n",
    "from imblearn.over_sampling import RandomOverSampler\n",
    "from sklearn.ensemble import RandomForestClassifier, GradientBoostingClassifier\n",
    "#from skimage import exposure\n",
    "from imblearn.over_sampling import SMOTE\n",
    "import random"
   ]
  },
  {
   "cell_type": "code",
   "execution_count": 2,
   "id": "7a70ffc8",
   "metadata": {
    "execution": {
     "iopub.execute_input": "2023-03-18T15:51:13.436569Z",
     "iopub.status.busy": "2023-03-18T15:51:13.436138Z",
     "iopub.status.idle": "2023-03-18T15:52:21.770474Z",
     "shell.execute_reply": "2023-03-18T15:52:21.769054Z"
    },
    "papermill": {
     "duration": 68.345542,
     "end_time": "2023-03-18T15:52:21.773689",
     "exception": false,
     "start_time": "2023-03-18T15:51:13.428147",
     "status": "completed"
    },
    "tags": []
   },
   "outputs": [],
   "source": [
    "#Loading the pickle file containing a dictionary with \n",
    "#patient ID and image ID for keys and the cleaned images for values \n",
    "#(from the Data Wrangling notebook).\n",
    "folder_path = '/kaggle/input/rsna-breast-cancer-detection-data-wrangling/'\n",
    "\n",
    "with open(folder_path + 'cleaned_images.pickle', 'rb') as file:\n",
    "    img_dict = pickle.load(file)\n",
    "    \n",
    "#Loading the cleaned csv file (also from the Data Wrangling notebook).\n",
    "df = pd.read_csv(folder_path + 'cleaned_data.csv')"
   ]
  },
  {
   "cell_type": "code",
   "execution_count": 3,
   "id": "7c69d620",
   "metadata": {
    "execution": {
     "iopub.execute_input": "2023-03-18T15:52:21.790056Z",
     "iopub.status.busy": "2023-03-18T15:52:21.789525Z",
     "iopub.status.idle": "2023-03-18T15:52:21.816691Z",
     "shell.execute_reply": "2023-03-18T15:52:21.815120Z"
    },
    "papermill": {
     "duration": 0.038925,
     "end_time": "2023-03-18T15:52:21.820187",
     "exception": false,
     "start_time": "2023-03-18T15:52:21.781262",
     "status": "completed"
    },
    "tags": []
   },
   "outputs": [
    {
     "name": "stdout",
     "output_type": "stream",
     "text": [
      "(662, 28)\n",
      "(22972, 28)\n"
     ]
    }
   ],
   "source": [
    "#Creating two new dataframes, by filtering df according to whether the patient has cancer or not.\n",
    "df_cancer = df[df['cancer_1']==1].reset_index()\n",
    "df_no_cancer = df[df['cancer_1']==0].reset_index()\n",
    "print(df_cancer.shape)\n",
    "print(df_no_cancer.shape)"
   ]
  },
  {
   "cell_type": "markdown",
   "id": "7b205303",
   "metadata": {
    "papermill": {
     "duration": 0.006276,
     "end_time": "2023-03-18T15:52:21.833895",
     "exception": false,
     "start_time": "2023-03-18T15:52:21.827619",
     "status": "completed"
    },
    "tags": []
   },
   "source": [
    "Next, we create the matrix X of features. Each feature is a numpy array consisting of the values of all the pixels in the image, concatenated to the values of the columns of df_cancer and df_no_cancer.\n",
    "\n",
    "We have a very imbalanced dataset, with many more images without cancer than with cancer. For now we will use all the images with cancer, and two times as many images without cancer. Later on (after the train split test) we will oversample the images with cancer to obtain a more balanced dataset."
   ]
  },
  {
   "cell_type": "code",
   "execution_count": 4,
   "id": "f7e36827",
   "metadata": {
    "execution": {
     "iopub.execute_input": "2023-03-18T15:52:21.849662Z",
     "iopub.status.busy": "2023-03-18T15:52:21.848776Z",
     "iopub.status.idle": "2023-03-18T15:52:30.804768Z",
     "shell.execute_reply": "2023-03-18T15:52:30.803203Z"
    },
    "papermill": {
     "duration": 8.967404,
     "end_time": "2023-03-18T15:52:30.807873",
     "exception": false,
     "start_time": "2023-03-18T15:52:21.840469",
     "status": "completed"
    },
    "tags": []
   },
   "outputs": [],
   "source": [
    "X = []\n",
    "\n",
    "for i in range(len(df_cancer)):\n",
    "    key = str(df_cancer['patient_id'][i]) + '/' + str(df_cancer['image_id'][i])\n",
    "    \n",
    "    arr = np.array(img_dict[key].resize((300,300))).ravel()\n",
    "    \n",
    "    arr = np.append(arr, df_cancer['age'][i])\n",
    "    arr = np.append(arr, df_cancer['laterality_L'][i])\n",
    "    arr = np.append(arr, df_cancer['view_CC'][i])\n",
    "    arr = np.append(arr, df_cancer['biopsy_0'][i])\n",
    "    arr = np.append(arr, df_cancer['implant_0'][i])\n",
    "    arr = np.append(arr, df_cancer['invasive_0'][i])\n",
    "    arr = np.append(arr, df_cancer['BIRADS_0.0'][i])\n",
    "    arr = np.append(arr, df_cancer['BIRADS_1.0'][i])\n",
    "    arr = np.append(arr, df_cancer['BIRADS_2.0'][i])\n",
    "    arr = np.append(arr, df_cancer['density_A'][i])\n",
    "    arr = np.append(arr, df_cancer['density_B'][i])\n",
    "    arr = np.append(arr, df_cancer['density_C'][i])\n",
    "    arr = np.append(arr, df_cancer['difficult_negative_case_False'][i])\n",
    "\n",
    "    X.append(arr)\n",
    "    \n",
    "#random_nums = random.sample(range(len(df_no_cancer)), 2*len(df_cancer))\n",
    "    \n",
    "for i in range(2*len(df_cancer)):\n",
    "    key = str(df_no_cancer['patient_id'][i]) + '/' + str(df_no_cancer['image_id'][i])\n",
    "    \n",
    "    arr = np.array(img_dict[key].resize((300,300))).ravel()\n",
    "    \n",
    "    arr = np.append(arr, df_no_cancer['age'][i])\n",
    "    arr = np.append(arr, df_no_cancer['laterality_L'][i])\n",
    "    arr = np.append(arr, df_no_cancer['view_CC'][i])\n",
    "    arr = np.append(arr, df_no_cancer['biopsy_0'][i])\n",
    "    arr = np.append(arr, df_no_cancer['implant_0'][i])\n",
    "    arr = np.append(arr, df_no_cancer['invasive_0'][i])\n",
    "    arr = np.append(arr, df_no_cancer['BIRADS_0.0'][i])\n",
    "    arr = np.append(arr, df_no_cancer['BIRADS_1.0'][i])\n",
    "    arr = np.append(arr, df_no_cancer['BIRADS_2.0'][i])\n",
    "    arr = np.append(arr, df_no_cancer['density_A'][i])\n",
    "    arr = np.append(arr, df_no_cancer['density_B'][i])\n",
    "    arr = np.append(arr, df_no_cancer['density_C'][i])\n",
    "    arr = np.append(arr, df_no_cancer['difficult_negative_case_False'][i])\n",
    "    \n",
    "    X.append(arr)"
   ]
  },
  {
   "cell_type": "code",
   "execution_count": 5,
   "id": "53d4d415",
   "metadata": {
    "execution": {
     "iopub.execute_input": "2023-03-18T15:52:30.824124Z",
     "iopub.status.busy": "2023-03-18T15:52:30.823655Z",
     "iopub.status.idle": "2023-03-18T15:52:30.845709Z",
     "shell.execute_reply": "2023-03-18T15:52:30.844547Z"
    },
    "papermill": {
     "duration": 0.033789,
     "end_time": "2023-03-18T15:52:30.848595",
     "exception": false,
     "start_time": "2023-03-18T15:52:30.814806",
     "status": "completed"
    },
    "tags": []
   },
   "outputs": [],
   "source": [
    "Y = []\n",
    "\n",
    "for i in range(len(df_cancer)):\n",
    "    Y.append(df_cancer['cancer_1'][i])\n",
    "    \n",
    "for i in range(2*len(df_cancer)):\n",
    "    Y.append(df_no_cancer['cancer_1'][i])"
   ]
  },
  {
   "cell_type": "markdown",
   "id": "9ec5600e",
   "metadata": {
    "papermill": {
     "duration": 0.006365,
     "end_time": "2023-03-18T15:52:30.861707",
     "exception": false,
     "start_time": "2023-03-18T15:52:30.855342",
     "status": "completed"
    },
    "tags": []
   },
   "source": [
    "# Baseline models"
   ]
  },
  {
   "cell_type": "markdown",
   "id": "914c40b9",
   "metadata": {
    "papermill": {
     "duration": 0.006426,
     "end_time": "2023-03-18T15:52:30.875295",
     "exception": false,
     "start_time": "2023-03-18T15:52:30.868869",
     "status": "completed"
    },
    "tags": []
   },
   "source": [
    "After the data augmentation step below, the train data will be evenly split between cancerous images and non-cancerous images. Based on that information, we can estimate baseline values for the accuracy of the training set, as follows:\n",
    "\n",
    "If for example we randomly classify each mammogram as cancerous or non-cancerous, then the probability that we classify the images correctly will be: (0.5) * (0.5) + (0.5) * (0.5) = 0.5. To see this, we note that the first term (0.5) * (0.5) is the probability that we classify correctly as cancerous (because there is a 0.5 chance that the image is classified as cancerous, and also a 0.5 chance that the image is actually cancerous). Similarly, the second term (0.5) * (0.5) is the probability that we classify correctly as non-cancerous.\n",
    "\n",
    "Another simple baseline model is to simply classify all the images as cancerous, or classify all of them as non-cancerous. Such a baseline model is also correct half of the times, so its accuracy is 50 percent.\n",
    "\n",
    "Therefore, if our models below have an accuracy better than 50 percent (on the training set), then the models are better than the two baseline models described above."
   ]
  },
  {
   "cell_type": "markdown",
   "id": "afdd4e23",
   "metadata": {
    "papermill": {
     "duration": 0.007514,
     "end_time": "2023-03-18T15:52:30.889507",
     "exception": false,
     "start_time": "2023-03-18T15:52:30.881993",
     "status": "completed"
    },
    "tags": []
   },
   "source": [
    "# Logistic Regression"
   ]
  },
  {
   "cell_type": "code",
   "execution_count": 6,
   "id": "aca4d1c8",
   "metadata": {
    "execution": {
     "iopub.execute_input": "2023-03-18T15:52:30.906113Z",
     "iopub.status.busy": "2023-03-18T15:52:30.905185Z",
     "iopub.status.idle": "2023-03-18T15:52:30.917420Z",
     "shell.execute_reply": "2023-03-18T15:52:30.916382Z"
    },
    "papermill": {
     "duration": 0.024454,
     "end_time": "2023-03-18T15:52:30.920707",
     "exception": false,
     "start_time": "2023-03-18T15:52:30.896253",
     "status": "completed"
    },
    "tags": []
   },
   "outputs": [],
   "source": [
    "#Creating a pipeline to scale the data, use 100 principal \n",
    "#components, and do 3-fold cross-validation.\n",
    "\n",
    "steps = [(\"scaler\", MinMaxScaler()),\n",
    "         (\"pca\", PCA(n_components=100)),\n",
    "         (\"logreg\", LogisticRegression(solver='liblinear', max_iter = 500))]\n",
    "pipeline = Pipeline(steps)\n",
    "parameters = {\"logreg__C\": [1]}\n",
    "Xtrain, Xtest, Ytrain, Ytest = train_test_split(X, Y, train_size = 0.75, random_state = 13)\n",
    "cv = GridSearchCV(pipeline, param_grid=parameters, scoring='f1', cv=3)"
   ]
  },
  {
   "cell_type": "markdown",
   "id": "baf27fbf",
   "metadata": {
    "papermill": {
     "duration": 0.006532,
     "end_time": "2023-03-18T15:52:30.934291",
     "exception": false,
     "start_time": "2023-03-18T15:52:30.927759",
     "status": "completed"
    },
    "tags": []
   },
   "source": [
    "Now we augment the number of images with cancer by a factor of 2 by oversampling (with SMOTE)."
   ]
  },
  {
   "cell_type": "code",
   "execution_count": 7,
   "id": "c3a62877",
   "metadata": {
    "execution": {
     "iopub.execute_input": "2023-03-18T15:52:30.952466Z",
     "iopub.status.busy": "2023-03-18T15:52:30.950717Z",
     "iopub.status.idle": "2023-03-18T15:52:30.957607Z",
     "shell.execute_reply": "2023-03-18T15:52:30.956588Z"
    },
    "papermill": {
     "duration": 0.018041,
     "end_time": "2023-03-18T15:52:30.960316",
     "exception": false,
     "start_time": "2023-03-18T15:52:30.942275",
     "status": "completed"
    },
    "tags": []
   },
   "outputs": [],
   "source": [
    "#Xtrain_augmentation = []\n",
    "#Ytrain_augmentation = []\n",
    "\n",
    "#for i in range(len(Xtrain)):\n",
    "    #if Ytrain[i] == 1:\n",
    "        #img_part = Xtrain[i][:(300**2)]\n",
    "        #non_img_part = Xtrain[i][(300**2):]\n",
    "        #if i%2==0:\n",
    "            #flipped_img_part = np.flipud(img_part.reshape(300,300)).ravel()\n",
    "        #else:\n",
    "            #flipped_img_part = np.fliplr(img_part.reshape(300,300)).ravel()\n",
    "        #new_arr_1 = np.concatenate((flipped_img_part, non_img_part))\n",
    "        #Xtrain_augmentation.append(new_arr_1)\n",
    "        \n",
    "        #Ytrain_augmentation.append(Ytrain[i])\n",
    "        \n",
    "#Xtrain = Xtrain + Xtrain_augmentation\n",
    "#Ytrain = Ytrain + Ytrain_augmentation"
   ]
  },
  {
   "cell_type": "code",
   "execution_count": 8,
   "id": "8265c8fb",
   "metadata": {
    "execution": {
     "iopub.execute_input": "2023-03-18T15:52:30.976635Z",
     "iopub.status.busy": "2023-03-18T15:52:30.976162Z",
     "iopub.status.idle": "2023-03-18T15:52:44.410643Z",
     "shell.execute_reply": "2023-03-18T15:52:44.409162Z"
    },
    "papermill": {
     "duration": 13.447426,
     "end_time": "2023-03-18T15:52:44.414748",
     "exception": false,
     "start_time": "2023-03-18T15:52:30.967322",
     "status": "completed"
    },
    "tags": []
   },
   "outputs": [],
   "source": [
    "sm = SMOTE(random_state = 2)\n",
    "Xtrain, Ytrain = sm.fit_resample(Xtrain, Ytrain)"
   ]
  },
  {
   "cell_type": "code",
   "execution_count": 9,
   "id": "737db888",
   "metadata": {
    "execution": {
     "iopub.execute_input": "2023-03-18T15:52:44.431064Z",
     "iopub.status.busy": "2023-03-18T15:52:44.430592Z",
     "iopub.status.idle": "2023-03-18T15:52:44.437913Z",
     "shell.execute_reply": "2023-03-18T15:52:44.435989Z"
    },
    "papermill": {
     "duration": 0.019331,
     "end_time": "2023-03-18T15:52:44.441396",
     "exception": false,
     "start_time": "2023-03-18T15:52:44.422065",
     "status": "completed"
    },
    "tags": []
   },
   "outputs": [
    {
     "name": "stdout",
     "output_type": "stream",
     "text": [
      "1978 1978\n",
      "90013\n",
      "989\n",
      "989\n"
     ]
    }
   ],
   "source": [
    "#Checking that the train dataset is now more balanced.\n",
    "print(len(Xtrain), len(Ytrain))\n",
    "print(len(Xtrain[-1]))\n",
    "print(Ytrain.count(0))\n",
    "print(Ytrain.count(1))"
   ]
  },
  {
   "cell_type": "code",
   "execution_count": 10,
   "id": "8d0c140e",
   "metadata": {
    "execution": {
     "iopub.execute_input": "2023-03-18T15:52:44.457836Z",
     "iopub.status.busy": "2023-03-18T15:52:44.457407Z",
     "iopub.status.idle": "2023-03-18T15:56:12.661140Z",
     "shell.execute_reply": "2023-03-18T15:56:12.657490Z"
    },
    "papermill": {
     "duration": 208.22365,
     "end_time": "2023-03-18T15:56:12.672095",
     "exception": false,
     "start_time": "2023-03-18T15:52:44.448445",
     "status": "completed"
    },
    "tags": []
   },
   "outputs": [
    {
     "name": "stdout",
     "output_type": "stream",
     "text": [
      "0.6854620166511785\n",
      "{'logreg__C': 1}\n"
     ]
    }
   ],
   "source": [
    "cv.fit(Xtrain, Ytrain)\n",
    "print(cv.best_score_)\n",
    "print(cv.best_params_)"
   ]
  },
  {
   "cell_type": "code",
   "execution_count": 11,
   "id": "dd168d22",
   "metadata": {
    "execution": {
     "iopub.execute_input": "2023-03-18T15:56:12.689136Z",
     "iopub.status.busy": "2023-03-18T15:56:12.688635Z",
     "iopub.status.idle": "2023-03-18T15:56:16.434604Z",
     "shell.execute_reply": "2023-03-18T15:56:16.433243Z"
    },
    "papermill": {
     "duration": 3.758568,
     "end_time": "2023-03-18T15:56:16.437812",
     "exception": false,
     "start_time": "2023-03-18T15:56:12.679244",
     "status": "completed"
    },
    "tags": []
   },
   "outputs": [
    {
     "name": "stdout",
     "output_type": "stream",
     "text": [
      "accuracy score: 0.641851106639839\n",
      "f1 score 0.510989010989011\n"
     ]
    },
    {
     "data": {
      "image/png": "[encoded data removed]",
      "text/plain": [
       "<Figure size 640x480 with 1 Axes>"
      ]
     },
     "metadata": {},
     "output_type": "display_data"
    }
   ],
   "source": [
    "Ypred = cv.predict(Xtest)\n",
    "Ypred_probs = cv.predict_proba(Xtest)[:,1]\n",
    "print(\"accuracy score:\", accuracy_score(Ytest, Ypred))\n",
    "print(\"f1 score\", f1_score(Ytest, Ypred))\n",
    "fpr, tpr, thresholds = roc_curve(Ytest, Ypred_probs)\n",
    "plt.plot([0, 1], [0, 1], 'k--')\n",
    "plt.plot(fpr, tpr)\n",
    "plt.xlabel('False Positive Rate')\n",
    "plt.ylabel('True Positive Rate')\n",
    "plt.title('ROC Curve for Logistic Regression')\n",
    "plt.show()"
   ]
  },
  {
   "cell_type": "markdown",
   "id": "b76aaeb0",
   "metadata": {
    "papermill": {
     "duration": 0.007737,
     "end_time": "2023-03-18T15:56:16.454139",
     "exception": false,
     "start_time": "2023-03-18T15:56:16.446402",
     "status": "completed"
    },
    "tags": []
   },
   "source": [
    "We see that the accuracy score on the train set is higher than the accuracy of the baseline models !"
   ]
  },
  {
   "cell_type": "code",
   "execution_count": 12,
   "id": "ffca6ba9",
   "metadata": {
    "execution": {
     "iopub.execute_input": "2023-03-18T15:56:16.471761Z",
     "iopub.status.busy": "2023-03-18T15:56:16.471300Z",
     "iopub.status.idle": "2023-03-18T15:56:16.478815Z",
     "shell.execute_reply": "2023-03-18T15:56:16.477091Z"
    },
    "papermill": {
     "duration": 0.020111,
     "end_time": "2023-03-18T15:56:16.482105",
     "exception": false,
     "start_time": "2023-03-18T15:56:16.461994",
     "status": "completed"
    },
    "tags": []
   },
   "outputs": [
    {
     "name": "stdout",
     "output_type": "stream",
     "text": [
      "0.6984153307536393\n"
     ]
    }
   ],
   "source": [
    "#Print out the area under the curve.\n",
    "print(auc(fpr, tpr))"
   ]
  },
  {
   "cell_type": "markdown",
   "id": "8937b3db",
   "metadata": {
    "papermill": {
     "duration": 0.007515,
     "end_time": "2023-03-18T15:56:16.498568",
     "exception": false,
     "start_time": "2023-03-18T15:56:16.491053",
     "status": "completed"
    },
    "tags": []
   },
   "source": [
    "# Random Forest"
   ]
  },
  {
   "cell_type": "code",
   "execution_count": 13,
   "id": "e8397551",
   "metadata": {
    "execution": {
     "iopub.execute_input": "2023-03-18T15:56:16.516813Z",
     "iopub.status.busy": "2023-03-18T15:56:16.515871Z",
     "iopub.status.idle": "2023-03-18T15:56:16.524083Z",
     "shell.execute_reply": "2023-03-18T15:56:16.522749Z"
    },
    "papermill": {
     "duration": 0.020111,
     "end_time": "2023-03-18T15:56:16.526652",
     "exception": false,
     "start_time": "2023-03-18T15:56:16.506541",
     "status": "completed"
    },
    "tags": []
   },
   "outputs": [],
   "source": [
    "#Creating a pipeline to scale the data and do 3-fold cross-validation.\n",
    "\n",
    "steps = [(\"scaler\", MinMaxScaler()),\n",
    "         (\"pca\", PCA(n_components=100)),\n",
    "         (\"randomforest\", RandomForestClassifier(random_state=47, n_estimators=800, n_jobs=-1))]\n",
    "pipeline = Pipeline(steps)\n",
    "parameters = {\"randomforest__min_samples_split\": [2,3]}\n",
    "\n",
    "cv = GridSearchCV(pipeline, param_grid=parameters, scoring='f1', cv=3)"
   ]
  },
  {
   "cell_type": "code",
   "execution_count": 14,
   "id": "89c2e889",
   "metadata": {
    "execution": {
     "iopub.execute_input": "2023-03-18T15:56:16.546862Z",
     "iopub.status.busy": "2023-03-18T15:56:16.545367Z",
     "iopub.status.idle": "2023-03-18T16:02:40.529737Z",
     "shell.execute_reply": "2023-03-18T16:02:40.527841Z"
    },
    "papermill": {
     "duration": 384.00653,
     "end_time": "2023-03-18T16:02:40.541764",
     "exception": false,
     "start_time": "2023-03-18T15:56:16.535234",
     "status": "completed"
    },
    "tags": []
   },
   "outputs": [
    {
     "name": "stdout",
     "output_type": "stream",
     "text": [
      "0.7837695337540688\n",
      "{'randomforest__min_samples_split': 2}\n"
     ]
    }
   ],
   "source": [
    "cv.fit(Xtrain, Ytrain)\n",
    "print(cv.best_score_)\n",
    "print(cv.best_params_)"
   ]
  },
  {
   "cell_type": "code",
   "execution_count": 15,
   "id": "db86c5d2",
   "metadata": {
    "execution": {
     "iopub.execute_input": "2023-03-18T16:02:40.561105Z",
     "iopub.status.busy": "2023-03-18T16:02:40.560610Z",
     "iopub.status.idle": "2023-03-18T16:02:43.111135Z",
     "shell.execute_reply": "2023-03-18T16:02:43.109359Z"
    },
    "papermill": {
     "duration": 2.565256,
     "end_time": "2023-03-18T16:02:43.115111",
     "exception": false,
     "start_time": "2023-03-18T16:02:40.549855",
     "status": "completed"
    },
    "tags": []
   },
   "outputs": [
    {
     "name": "stdout",
     "output_type": "stream",
     "text": [
      "accuracy score: 0.6861167002012073\n",
      "f1 score 0.43884892086330934\n"
     ]
    },
    {
     "data": {
      "image/png": "[encoded data removed]",
      "text/plain": [
       "<Figure size 640x480 with 1 Axes>"
      ]
     },
     "metadata": {},
     "output_type": "display_data"
    }
   ],
   "source": [
    "Ypred = cv.predict(Xtest)\n",
    "Ypred_probs = cv.predict_proba(Xtest)[:,1]\n",
    "print(\"accuracy score:\", accuracy_score(Ytest, Ypred))\n",
    "print(\"f1 score\", f1_score(Ytest, Ypred))\n",
    "fpr, tpr, thresholds = roc_curve(Ytest, Ypred_probs)\n",
    "plt.plot([0, 1], [0, 1], 'k--')\n",
    "plt.plot(fpr, tpr)\n",
    "plt.xlabel('False Positive Rate')\n",
    "plt.ylabel('True Positive Rate')\n",
    "plt.title('ROC Curve for Random Forest')\n",
    "plt.show()"
   ]
  },
  {
   "cell_type": "code",
   "execution_count": 16,
   "id": "6d649829",
   "metadata": {
    "execution": {
     "iopub.execute_input": "2023-03-18T16:02:43.136881Z",
     "iopub.status.busy": "2023-03-18T16:02:43.136422Z",
     "iopub.status.idle": "2023-03-18T16:02:43.144759Z",
     "shell.execute_reply": "2023-03-18T16:02:43.143243Z"
    },
    "papermill": {
     "duration": 0.02375,
     "end_time": "2023-03-18T16:02:43.148397",
     "exception": false,
     "start_time": "2023-03-18T16:02:43.124647",
     "status": "completed"
    },
    "tags": []
   },
   "outputs": [
    {
     "name": "stdout",
     "output_type": "stream",
     "text": [
      "0.6748664086972544\n"
     ]
    }
   ],
   "source": [
    "print(auc(fpr, tpr))"
   ]
  },
  {
   "cell_type": "markdown",
   "id": "2f784fac",
   "metadata": {
    "papermill": {
     "duration": 0.009099,
     "end_time": "2023-03-18T16:02:43.167496",
     "exception": false,
     "start_time": "2023-03-18T16:02:43.158397",
     "status": "completed"
    },
    "tags": []
   },
   "source": [
    "# Gradient boosting"
   ]
  },
  {
   "cell_type": "code",
   "execution_count": 17,
   "id": "7f4b7c2d",
   "metadata": {
    "execution": {
     "iopub.execute_input": "2023-03-18T16:02:43.188409Z",
     "iopub.status.busy": "2023-03-18T16:02:43.187949Z",
     "iopub.status.idle": "2023-03-18T16:02:43.200286Z",
     "shell.execute_reply": "2023-03-18T16:02:43.199095Z"
    },
    "papermill": {
     "duration": 0.02617,
     "end_time": "2023-03-18T16:02:43.202968",
     "exception": false,
     "start_time": "2023-03-18T16:02:43.176798",
     "status": "completed"
    },
    "tags": []
   },
   "outputs": [],
   "source": [
    "#Creating a pipeline to scale the data and do 3-fold cross-validation.\n",
    "\n",
    "steps = [(\"scaler\", MinMaxScaler()),\n",
    "         (\"pca\", PCA(n_components=100)),\n",
    "         (\"gradientboosting\", GradientBoostingClassifier(random_state=47, n_estimators=800))]\n",
    "pipeline = Pipeline(steps)\n",
    "parameters = {\"gradientboosting__learning_rate\": [0.02,0.1]}\n",
    "\n",
    "cv = GridSearchCV(pipeline, param_grid=parameters, scoring='f1',cv=3)"
   ]
  },
  {
   "cell_type": "code",
   "execution_count": 18,
   "id": "b1246a93",
   "metadata": {
    "execution": {
     "iopub.execute_input": "2023-03-18T16:02:43.224646Z",
     "iopub.status.busy": "2023-03-18T16:02:43.223653Z",
     "iopub.status.idle": "2023-03-18T16:12:33.955802Z",
     "shell.execute_reply": "2023-03-18T16:12:33.954047Z"
    },
    "papermill": {
     "duration": 590.758304,
     "end_time": "2023-03-18T16:12:33.970824",
     "exception": false,
     "start_time": "2023-03-18T16:02:43.212520",
     "status": "completed"
    },
    "tags": []
   },
   "outputs": [
    {
     "name": "stdout",
     "output_type": "stream",
     "text": [
      "0.7893249343586071\n",
      "{'gradientboosting__learning_rate': 0.1}\n"
     ]
    }
   ],
   "source": [
    "cv.fit(Xtrain, Ytrain)\n",
    "print(cv.best_score_)\n",
    "print(cv.best_params_)"
   ]
  },
  {
   "cell_type": "code",
   "execution_count": 19,
   "id": "176ca3bb",
   "metadata": {
    "execution": {
     "iopub.execute_input": "2023-03-18T16:12:33.992791Z",
     "iopub.status.busy": "2023-03-18T16:12:33.992205Z",
     "iopub.status.idle": "2023-03-18T16:12:35.923415Z",
     "shell.execute_reply": "2023-03-18T16:12:35.921654Z"
    },
    "papermill": {
     "duration": 1.945728,
     "end_time": "2023-03-18T16:12:35.926803",
     "exception": false,
     "start_time": "2023-03-18T16:12:33.981075",
     "status": "completed"
    },
    "tags": []
   },
   "outputs": [
    {
     "name": "stdout",
     "output_type": "stream",
     "text": [
      "accuracy score: 0.6619718309859155\n",
      "f1 score 0.44000000000000006\n"
     ]
    },
    {
     "data": {
      "image/png": "[encoded data removed]",
      "text/plain": [
       "<Figure size 640x480 with 1 Axes>"
      ]
     },
     "metadata": {},
     "output_type": "display_data"
    }
   ],
   "source": [
    "Ypred = cv.predict(Xtest)\n",
    "Ypred_probs = cv.predict_proba(Xtest)[:,1]\n",
    "print(\"accuracy score:\", accuracy_score(Ytest, Ypred))\n",
    "print(\"f1 score\", f1_score(Ytest, Ypred))\n",
    "fpr, tpr, thresholds = roc_curve(Ytest, Ypred_probs)\n",
    "plt.plot([0, 1], [0, 1], 'k--')\n",
    "plt.plot(fpr, tpr)\n",
    "plt.xlabel('False Positive Rate')\n",
    "plt.ylabel('True Positive Rate')\n",
    "plt.title('ROC Curve for Gradient Boosting')\n",
    "plt.show()"
   ]
  },
  {
   "cell_type": "code",
   "execution_count": 20,
   "id": "7fbf2d4b",
   "metadata": {
    "execution": {
     "iopub.execute_input": "2023-03-18T16:12:35.949307Z",
     "iopub.status.busy": "2023-03-18T16:12:35.948873Z",
     "iopub.status.idle": "2023-03-18T16:12:35.957162Z",
     "shell.execute_reply": "2023-03-18T16:12:35.955131Z"
    },
    "papermill": {
     "duration": 0.023359,
     "end_time": "2023-03-18T16:12:35.960362",
     "exception": false,
     "start_time": "2023-03-18T16:12:35.937003",
     "status": "completed"
    },
    "tags": []
   },
   "outputs": [
    {
     "name": "stdout",
     "output_type": "stream",
     "text": [
      "0.681499907868067\n"
     ]
    }
   ],
   "source": [
    "print(auc(fpr, tpr))"
   ]
  },
  {
   "cell_type": "code",
   "execution_count": null,
   "id": "c24066c6",
   "metadata": {
    "papermill": {
     "duration": 0.010131,
     "end_time": "2023-03-18T16:12:35.981226",
     "exception": false,
     "start_time": "2023-03-18T16:12:35.971095",
     "status": "completed"
    },
    "tags": []
   },
   "outputs": [],
   "source": []
  },
  {
   "cell_type": "code",
   "execution_count": null,
   "id": "a6065345",
   "metadata": {
    "papermill": {
     "duration": 0.009992,
     "end_time": "2023-03-18T16:12:36.001230",
     "exception": false,
     "start_time": "2023-03-18T16:12:35.991238",
     "status": "completed"
    },
    "tags": []
   },
   "outputs": [],
   "source": []
  },
  {
   "cell_type": "code",
   "execution_count": null,
   "id": "fe9f6563",
   "metadata": {
    "papermill": {
     "duration": 0.010156,
     "end_time": "2023-03-18T16:12:36.023424",
     "exception": false,
     "start_time": "2023-03-18T16:12:36.013268",
     "status": "completed"
    },
    "tags": []
   },
   "outputs": [],
   "source": []
  },
  {
   "cell_type": "code",
   "execution_count": null,
   "id": "f65a767d",
   "metadata": {
    "papermill": {
     "duration": 0.010205,
     "end_time": "2023-03-18T16:12:36.043640",
     "exception": false,
     "start_time": "2023-03-18T16:12:36.033435",
     "status": "completed"
    },
    "tags": []
   },
   "outputs": [],
   "source": []
  }
 ],
 "metadata": {
  "kernelspec": {
   "display_name": "Python 3",
   "language": "python",
   "name": "python3"
  },
  "language_info": {
   "codemirror_mode": {
    "name": "ipython",
    "version": 3
   },
   "file_extension": ".py",
   "mimetype": "text/x-python",
   "name": "python",
   "nbconvert_exporter": "python",
   "pygments_lexer": "ipython3",
   "version": "3.7.12"
  },
  "papermill": {
   "default_parameters": {},
   "duration": 1300.339028,
   "end_time": "2023-03-18T16:12:40.190066",
   "environment_variables": {},
   "exception": null,
   "input_path": "__notebook__.ipynb",
   "output_path": "__notebook__.ipynb",
   "parameters": {},
   "start_time": "2023-03-18T15:50:59.851038",
   "version": "2.4.0"
  }
 },
 "nbformat": 4,
 "nbformat_minor": 5
}
