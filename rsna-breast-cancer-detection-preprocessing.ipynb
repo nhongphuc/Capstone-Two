{
 "cells": [
  {
   "cell_type": "code",
   "execution_count": 1,
   "id": "c6409acc",
   "metadata": {
    "_cell_guid": "b1076dfc-b9ad-4769-8c92-a6c4dae69d19",
    "_uuid": "8f2839f25d086af736a60e9eeb907d3b93b6e0e5",
    "execution": {
     "iopub.execute_input": "2023-03-18T02:24:23.615679Z",
     "iopub.status.busy": "2023-03-18T02:24:23.614449Z",
     "iopub.status.idle": "2023-03-18T02:24:25.532939Z",
     "shell.execute_reply": "2023-03-18T02:24:25.531450Z"
    },
    "papermill": {
     "duration": 1.931525,
     "end_time": "2023-03-18T02:24:25.536066",
     "exception": false,
     "start_time": "2023-03-18T02:24:23.604541",
     "status": "completed"
    },
    "tags": []
   },
   "outputs": [],
   "source": [
    "#Importing packages\n",
    "\n",
    "import numpy as np # linear algebra\n",
    "import pandas as pd # data processing, CSV file I/O (e.g. pd.read_csv)\n",
    "import pickle\n",
    "import matplotlib.pyplot as plt\n",
    "from sklearn.model_selection import train_test_split, GridSearchCV\n",
    "from sklearn.preprocessing import StandardScaler\n",
    "from sklearn.linear_model import LogisticRegression\n",
    "from sklearn.metrics import accuracy_score, f1_score, roc_curve, auc\n",
    "from sklearn.pipeline import Pipeline\n",
    "from sklearn.decomposition import PCA\n",
    "from imblearn.over_sampling import RandomOverSampler\n",
    "from sklearn.ensemble import RandomForestClassifier, GradientBoostingClassifier\n",
    "#from skimage import exposure\n",
    "import random"
   ]
  },
  {
   "cell_type": "code",
   "execution_count": 2,
   "id": "b05c62a0",
   "metadata": {
    "execution": {
     "iopub.execute_input": "2023-03-18T02:24:25.553324Z",
     "iopub.status.busy": "2023-03-18T02:24:25.552486Z",
     "iopub.status.idle": "2023-03-18T02:25:37.105604Z",
     "shell.execute_reply": "2023-03-18T02:25:37.104312Z"
    },
    "papermill": {
     "duration": 71.566381,
     "end_time": "2023-03-18T02:25:37.109753",
     "exception": false,
     "start_time": "2023-03-18T02:24:25.543372",
     "status": "completed"
    },
    "tags": []
   },
   "outputs": [],
   "source": [
    "#Loading the pickle file containing a dictionary with \n",
    "#patient ID and image ID for keys and the cleaned images for values \n",
    "#(from the Data Wrangling notebook).\n",
    "folder_path = '/kaggle/input/rsna-breast-cancer-detection-data-wrangling/'\n",
    "\n",
    "with open(folder_path + 'cleaned_images.pickle', 'rb') as file:\n",
    "    img_dict = pickle.load(file)\n",
    "    \n",
    "#Loading the cleaned csv file (also from the Data Wrangling notebook).\n",
    "df = pd.read_csv(folder_path + 'cleaned_data.csv')"
   ]
  },
  {
   "cell_type": "code",
   "execution_count": 3,
   "id": "3ec4c903",
   "metadata": {
    "execution": {
     "iopub.execute_input": "2023-03-18T02:25:37.127496Z",
     "iopub.status.busy": "2023-03-18T02:25:37.127055Z",
     "iopub.status.idle": "2023-03-18T02:25:37.157472Z",
     "shell.execute_reply": "2023-03-18T02:25:37.156054Z"
    },
    "papermill": {
     "duration": 0.041615,
     "end_time": "2023-03-18T02:25:37.160116",
     "exception": false,
     "start_time": "2023-03-18T02:25:37.118501",
     "status": "completed"
    },
    "tags": []
   },
   "outputs": [
    {
     "name": "stdout",
     "output_type": "stream",
     "text": [
      "(662, 28)\n",
      "(22972, 28)\n"
     ]
    }
   ],
   "source": [
    "#Creating two new dataframes, by filtering df according to whether the patient has cancer or not.\n",
    "df_cancer = df[df['cancer_1']==1].reset_index()\n",
    "df_no_cancer = df[df['cancer_1']==0].reset_index()\n",
    "print(df_cancer.shape)\n",
    "print(df_no_cancer.shape)"
   ]
  },
  {
   "cell_type": "markdown",
   "id": "0d82ccd1",
   "metadata": {
    "papermill": {
     "duration": 0.007201,
     "end_time": "2023-03-18T02:25:37.175043",
     "exception": false,
     "start_time": "2023-03-18T02:25:37.167842",
     "status": "completed"
    },
    "tags": []
   },
   "source": [
    "Next, we create the matrix X of features. Each feature is a numpy array consisting of the values of all the pixels in the image, concatenated to the values of the columns of df_cancer and df_no_cancer.\n",
    "\n",
    "We have a very imbalanced dataset, with many more images without cancer than with cancer. For now we will use all the images with cancer, and twice as many images without cancer. Later on (after the train split test) we will oversample the images with cancer to obtain a more balanced dataset."
   ]
  },
  {
   "cell_type": "code",
   "execution_count": 4,
   "id": "98793bbe",
   "metadata": {
    "execution": {
     "iopub.execute_input": "2023-03-18T02:25:37.192570Z",
     "iopub.status.busy": "2023-03-18T02:25:37.192104Z",
     "iopub.status.idle": "2023-03-18T02:25:48.670710Z",
     "shell.execute_reply": "2023-03-18T02:25:48.669168Z"
    },
    "papermill": {
     "duration": 11.491491,
     "end_time": "2023-03-18T02:25:48.674339",
     "exception": false,
     "start_time": "2023-03-18T02:25:37.182848",
     "status": "completed"
    },
    "tags": []
   },
   "outputs": [],
   "source": [
    "X = []\n",
    "\n",
    "for i in range(len(df_cancer)):\n",
    "    key = str(df_cancer['patient_id'][i]) + '/' + str(df_cancer['image_id'][i])\n",
    "    \n",
    "    arr = np.array(img_dict[key].resize((350,350))).ravel()/1000\n",
    "    \n",
    "    arr = np.append(arr, df_cancer['age'][i])\n",
    "    arr = np.append(arr, df_cancer['laterality_L'][i])\n",
    "    arr = np.append(arr, df_cancer['view_CC'][i])\n",
    "    arr = np.append(arr, df_cancer['biopsy_0'][i])\n",
    "    arr = np.append(arr, df_cancer['implant_0'][i])\n",
    "    arr = np.append(arr, df_cancer['invasive_0'][i])\n",
    "    arr = np.append(arr, df_cancer['BIRADS_0.0'][i])\n",
    "    arr = np.append(arr, df_cancer['BIRADS_1.0'][i])\n",
    "    arr = np.append(arr, df_cancer['BIRADS_2.0'][i])\n",
    "    arr = np.append(arr, df_cancer['density_A'][i])\n",
    "    arr = np.append(arr, df_cancer['density_B'][i])\n",
    "    arr = np.append(arr, df_cancer['density_C'][i])\n",
    "    arr = np.append(arr, df_cancer['difficult_negative_case_False'][i])\n",
    "\n",
    "    X.append(arr)\n",
    "    \n",
    "#random_nums = random.sample(range(len(df_no_cancer)), 2*len(df_cancer))\n",
    "    \n",
    "for i in range(2*len(df_cancer)):\n",
    "    key = str(df_no_cancer['patient_id'][i]) + '/' + str(df_no_cancer['image_id'][i])\n",
    "    \n",
    "    arr = np.array(img_dict[key].resize((350,350))).ravel()/1000\n",
    "    \n",
    "    arr = np.append(arr, df_no_cancer['age'][i])\n",
    "    arr = np.append(arr, df_no_cancer['laterality_L'][i])\n",
    "    arr = np.append(arr, df_no_cancer['view_CC'][i])\n",
    "    arr = np.append(arr, df_no_cancer['biopsy_0'][i])\n",
    "    arr = np.append(arr, df_no_cancer['implant_0'][i])\n",
    "    arr = np.append(arr, df_no_cancer['invasive_0'][i])\n",
    "    arr = np.append(arr, df_no_cancer['BIRADS_0.0'][i])\n",
    "    arr = np.append(arr, df_no_cancer['BIRADS_1.0'][i])\n",
    "    arr = np.append(arr, df_no_cancer['BIRADS_2.0'][i])\n",
    "    arr = np.append(arr, df_no_cancer['density_A'][i])\n",
    "    arr = np.append(arr, df_no_cancer['density_B'][i])\n",
    "    arr = np.append(arr, df_no_cancer['density_C'][i])\n",
    "    arr = np.append(arr, df_no_cancer['difficult_negative_case_False'][i])\n",
    "    \n",
    "    X.append(arr)"
   ]
  },
  {
   "cell_type": "code",
   "execution_count": 5,
   "id": "f6469886",
   "metadata": {
    "execution": {
     "iopub.execute_input": "2023-03-18T02:25:48.691592Z",
     "iopub.status.busy": "2023-03-18T02:25:48.691163Z",
     "iopub.status.idle": "2023-03-18T02:25:48.711643Z",
     "shell.execute_reply": "2023-03-18T02:25:48.710662Z"
    },
    "papermill": {
     "duration": 0.032113,
     "end_time": "2023-03-18T02:25:48.714142",
     "exception": false,
     "start_time": "2023-03-18T02:25:48.682029",
     "status": "completed"
    },
    "tags": []
   },
   "outputs": [],
   "source": [
    "Y = []\n",
    "\n",
    "for i in range(len(df_cancer)):\n",
    "    Y.append(df_cancer['cancer_1'][i])\n",
    "    \n",
    "for i in range(2*len(df_cancer)):\n",
    "    Y.append(df_no_cancer['cancer_1'][i])"
   ]
  },
  {
   "cell_type": "markdown",
   "id": "7f0879b3",
   "metadata": {
    "papermill": {
     "duration": 0.006902,
     "end_time": "2023-03-18T02:25:48.728332",
     "exception": false,
     "start_time": "2023-03-18T02:25:48.721430",
     "status": "completed"
    },
    "tags": []
   },
   "source": [
    "# Baseline models"
   ]
  },
  {
   "cell_type": "markdown",
   "id": "a29e099e",
   "metadata": {
    "papermill": {
     "duration": 0.006867,
     "end_time": "2023-03-18T02:25:48.743596",
     "exception": false,
     "start_time": "2023-03-18T02:25:48.736729",
     "status": "completed"
    },
    "tags": []
   },
   "source": [
    "After the data augmentation step below, the train data will be evenly split between cancerous images and non-cancerous images. Based on that information, we can estimate baseline values for the accuracy of the training set, as follows:\n",
    "\n",
    "If for example we randomly classify each mammogram as cancerous or non-cancerous, then the probability that we classify the images correctly will be: (0.5) * (0.5) + (0.5) * (0.5) = 0.5. To see this, we note that the first term (0.5) * (0.5) is the probability that we classify correctly as cancerous (because there is a 0.5 chance that the image is classified as cancerous, and also a 0.5 chance that the image is actually cancerous). Similarly, the second term (0.5) * (0.5) is the probability that we classify correctly as non-cancerous.\n",
    "\n",
    "Another simple baseline model is to simply classify all the images as cancerous, or classify all of them as non-cancerous. Such a baseline model is also correct half of the times, so its accuracy is 50 percent.\n",
    "\n",
    "Therefore, if our models below have an accuracy better than 50 percent (on the training set), then the models are better than the two baseline models described above."
   ]
  },
  {
   "cell_type": "markdown",
   "id": "f5cd3b1c",
   "metadata": {
    "papermill": {
     "duration": 0.006843,
     "end_time": "2023-03-18T02:25:48.757714",
     "exception": false,
     "start_time": "2023-03-18T02:25:48.750871",
     "status": "completed"
    },
    "tags": []
   },
   "source": [
    "# Logistic Regression"
   ]
  },
  {
   "cell_type": "code",
   "execution_count": 6,
   "id": "8acfbc1d",
   "metadata": {
    "execution": {
     "iopub.execute_input": "2023-03-18T02:25:48.776339Z",
     "iopub.status.busy": "2023-03-18T02:25:48.775488Z",
     "iopub.status.idle": "2023-03-18T02:25:48.787362Z",
     "shell.execute_reply": "2023-03-18T02:25:48.785746Z"
    },
    "papermill": {
     "duration": 0.025244,
     "end_time": "2023-03-18T02:25:48.790252",
     "exception": false,
     "start_time": "2023-03-18T02:25:48.765008",
     "status": "completed"
    },
    "tags": []
   },
   "outputs": [],
   "source": [
    "#Creating a pipeline to scale the data, use 100 principal \n",
    "#components, and do 3-fold cross-validation.\n",
    "\n",
    "steps = [(\"scaler\", StandardScaler()),\n",
    "         (\"pca\", PCA(n_components=100)),\n",
    "         (\"logreg\", LogisticRegression(solver='liblinear', max_iter = 500))]\n",
    "pipeline = Pipeline(steps)\n",
    "parameters = {\"logreg__C\": [1]}\n",
    "Xtrain, Xtest, Ytrain, Ytest = train_test_split(X, Y, train_size = 0.75, random_state = 13)\n",
    "cv = GridSearchCV(pipeline, param_grid=parameters, scoring='f1', cv=3)"
   ]
  },
  {
   "cell_type": "markdown",
   "id": "425d98df",
   "metadata": {
    "papermill": {
     "duration": 0.007431,
     "end_time": "2023-03-18T02:25:48.805681",
     "exception": false,
     "start_time": "2023-03-18T02:25:48.798250",
     "status": "completed"
    },
    "tags": []
   },
   "source": [
    "Now we augment the number of images with cancer by a factor of 2 by oversampling (with flipped images randomly in the vertical direction)."
   ]
  },
  {
   "cell_type": "code",
   "execution_count": 7,
   "id": "d4d41b0a",
   "metadata": {
    "execution": {
     "iopub.execute_input": "2023-03-18T02:25:48.823287Z",
     "iopub.status.busy": "2023-03-18T02:25:48.822267Z",
     "iopub.status.idle": "2023-03-18T02:25:49.704980Z",
     "shell.execute_reply": "2023-03-18T02:25:49.703235Z"
    },
    "papermill": {
     "duration": 0.894697,
     "end_time": "2023-03-18T02:25:49.708247",
     "exception": false,
     "start_time": "2023-03-18T02:25:48.813550",
     "status": "completed"
    },
    "tags": []
   },
   "outputs": [],
   "source": [
    "Xtrain_augmentation = []\n",
    "Ytrain_augmentation = []\n",
    "\n",
    "for i in range(len(Xtrain)):\n",
    "    if Ytrain[i] == 1:\n",
    "        img_part = Xtrain[i][:(350**2)]\n",
    "        non_img_part = Xtrain[i][(350**2):]\n",
    "        if i%2==0:\n",
    "            flipped_img_part = np.flipud(img_part.reshape(350,350)).ravel()\n",
    "        else:\n",
    "            flipped_img_part = np.fliplr(img_part.reshape(350,350)).ravel()\n",
    "        new_arr = np.concatenate((flipped_img_part, non_img_part))\n",
    "        Xtrain_augmentation.append(new_arr)\n",
    "        \n",
    "        Ytrain_augmentation.append(Ytrain[i])\n",
    "        \n",
    "Xtrain = Xtrain + Xtrain_augmentation\n",
    "Ytrain = Ytrain + Ytrain_augmentation"
   ]
  },
  {
   "cell_type": "code",
   "execution_count": 8,
   "id": "ff4ba773",
   "metadata": {
    "execution": {
     "iopub.execute_input": "2023-03-18T02:25:49.726316Z",
     "iopub.status.busy": "2023-03-18T02:25:49.724475Z",
     "iopub.status.idle": "2023-03-18T02:25:49.734217Z",
     "shell.execute_reply": "2023-03-18T02:25:49.732673Z"
    },
    "papermill": {
     "duration": 0.021544,
     "end_time": "2023-03-18T02:25:49.737206",
     "exception": false,
     "start_time": "2023-03-18T02:25:49.715662",
     "status": "completed"
    },
    "tags": []
   },
   "outputs": [
    {
     "name": "stdout",
     "output_type": "stream",
     "text": [
      "1989 1989\n",
      "500 500\n",
      "989\n",
      "1000\n"
     ]
    }
   ],
   "source": [
    "#Checking that the train dataset is now more balanced.\n",
    "print(len(Xtrain), len(Ytrain))\n",
    "print(len(Xtrain_augmentation), len(Ytrain_augmentation))\n",
    "print(Ytrain.count(0))\n",
    "print(Ytrain.count(1))"
   ]
  },
  {
   "cell_type": "code",
   "execution_count": 9,
   "id": "d464f345",
   "metadata": {
    "execution": {
     "iopub.execute_input": "2023-03-18T02:25:49.754603Z",
     "iopub.status.busy": "2023-03-18T02:25:49.753965Z",
     "iopub.status.idle": "2023-03-18T02:28:16.547739Z",
     "shell.execute_reply": "2023-03-18T02:28:16.545925Z"
    },
    "papermill": {
     "duration": 146.817335,
     "end_time": "2023-03-18T02:28:16.562647",
     "exception": false,
     "start_time": "2023-03-18T02:25:49.745312",
     "status": "completed"
    },
    "tags": []
   },
   "outputs": [
    {
     "name": "stdout",
     "output_type": "stream",
     "text": [
      "0.6100239292257497\n",
      "{'logreg__C': 1}\n"
     ]
    }
   ],
   "source": [
    "cv.fit(Xtrain, Ytrain)\n",
    "print(cv.best_score_)\n",
    "print(cv.best_params_)"
   ]
  },
  {
   "cell_type": "code",
   "execution_count": 10,
   "id": "43d58be0",
   "metadata": {
    "execution": {
     "iopub.execute_input": "2023-03-18T02:28:16.582476Z",
     "iopub.status.busy": "2023-03-18T02:28:16.580894Z",
     "iopub.status.idle": "2023-03-18T02:28:19.590407Z",
     "shell.execute_reply": "2023-03-18T02:28:19.588994Z"
    },
    "papermill": {
     "duration": 3.023119,
     "end_time": "2023-03-18T02:28:19.593279",
     "exception": false,
     "start_time": "2023-03-18T02:28:16.570160",
     "status": "completed"
    },
    "tags": []
   },
   "outputs": [
    {
     "name": "stdout",
     "output_type": "stream",
     "text": [
      "accuracy score: 0.5653923541247485\n",
      "f1 score 0.44329896907216493\n"
     ]
    },
    {
     "data": {
      "image/png": "[encoded data removed]",
      "text/plain": [
       "<Figure size 640x480 with 1 Axes>"
      ]
     },
     "metadata": {},
     "output_type": "display_data"
    }
   ],
   "source": [
    "Ypred = cv.predict(Xtest)\n",
    "Ypred_probs = cv.predict_proba(Xtest)[:,1]\n",
    "print(\"accuracy score:\", accuracy_score(Ytest, Ypred))\n",
    "print(\"f1 score\", f1_score(Ytest, Ypred))\n",
    "fpr, tpr, thresholds = roc_curve(Ytest, Ypred_probs)\n",
    "plt.plot([0, 1], [0, 1], 'k--')\n",
    "plt.plot(fpr, tpr)\n",
    "plt.xlabel('False Positive Rate')\n",
    "plt.ylabel('True Positive Rate')\n",
    "plt.title('ROC Curve for Logistic Regression')\n",
    "plt.show()"
   ]
  },
  {
   "cell_type": "markdown",
   "id": "04c2f5d3",
   "metadata": {
    "papermill": {
     "duration": 0.007843,
     "end_time": "2023-03-18T02:28:19.609995",
     "exception": false,
     "start_time": "2023-03-18T02:28:19.602152",
     "status": "completed"
    },
    "tags": []
   },
   "source": [
    "We see that the accuracy score on the train set is higher than the accuracy of the baseline models !"
   ]
  },
  {
   "cell_type": "code",
   "execution_count": 11,
   "id": "30e4eba8",
   "metadata": {
    "execution": {
     "iopub.execute_input": "2023-03-18T02:28:19.628465Z",
     "iopub.status.busy": "2023-03-18T02:28:19.628015Z",
     "iopub.status.idle": "2023-03-18T02:28:19.634711Z",
     "shell.execute_reply": "2023-03-18T02:28:19.633119Z"
    },
    "papermill": {
     "duration": 0.019374,
     "end_time": "2023-03-18T02:28:19.637460",
     "exception": false,
     "start_time": "2023-03-18T02:28:19.618086",
     "status": "completed"
    },
    "tags": []
   },
   "outputs": [
    {
     "name": "stdout",
     "output_type": "stream",
     "text": [
      "0.5768933112216694\n"
     ]
    }
   ],
   "source": [
    "#Print out the area under the curve.\n",
    "print(auc(fpr, tpr))"
   ]
  },
  {
   "cell_type": "markdown",
   "id": "dfec8bed",
   "metadata": {
    "papermill": {
     "duration": 0.007768,
     "end_time": "2023-03-18T02:28:19.653927",
     "exception": false,
     "start_time": "2023-03-18T02:28:19.646159",
     "status": "completed"
    },
    "tags": []
   },
   "source": [
    "# Random Forest"
   ]
  },
  {
   "cell_type": "code",
   "execution_count": 12,
   "id": "b3742318",
   "metadata": {
    "execution": {
     "iopub.execute_input": "2023-03-18T02:28:19.673183Z",
     "iopub.status.busy": "2023-03-18T02:28:19.671831Z",
     "iopub.status.idle": "2023-03-18T02:28:19.680305Z",
     "shell.execute_reply": "2023-03-18T02:28:19.679237Z"
    },
    "papermill": {
     "duration": 0.02089,
     "end_time": "2023-03-18T02:28:19.682837",
     "exception": false,
     "start_time": "2023-03-18T02:28:19.661947",
     "status": "completed"
    },
    "tags": []
   },
   "outputs": [],
   "source": [
    "#Creating a pipeline to scale the data and do 3-fold cross-validation.\n",
    "\n",
    "steps = [(\"scaler\", StandardScaler()),\n",
    "         (\"pca\", PCA(n_components=100)),\n",
    "         (\"randomforest\", RandomForestClassifier(random_state=47, n_estimators=1000, n_jobs=-1))]\n",
    "pipeline = Pipeline(steps)\n",
    "parameters = {\"randomforest__min_samples_split\": [2,3]}\n",
    "\n",
    "cv = GridSearchCV(pipeline, param_grid=parameters, scoring='f1', cv=3)"
   ]
  },
  {
   "cell_type": "code",
   "execution_count": 13,
   "id": "07fdff86",
   "metadata": {
    "execution": {
     "iopub.execute_input": "2023-03-18T02:28:19.701611Z",
     "iopub.status.busy": "2023-03-18T02:28:19.700823Z",
     "iopub.status.idle": "2023-03-18T02:32:48.841249Z",
     "shell.execute_reply": "2023-03-18T02:32:48.839175Z"
    },
    "papermill": {
     "duration": 269.162732,
     "end_time": "2023-03-18T02:32:48.853839",
     "exception": false,
     "start_time": "2023-03-18T02:28:19.691107",
     "status": "completed"
    },
    "tags": []
   },
   "outputs": [
    {
     "name": "stdout",
     "output_type": "stream",
     "text": [
      "0.6430889812784586\n",
      "{'randomforest__min_samples_split': 3}\n"
     ]
    }
   ],
   "source": [
    "cv.fit(Xtrain, Ytrain)\n",
    "print(cv.best_score_)\n",
    "print(cv.best_params_)"
   ]
  },
  {
   "cell_type": "code",
   "execution_count": 14,
   "id": "a2ca97b5",
   "metadata": {
    "execution": {
     "iopub.execute_input": "2023-03-18T02:32:48.873738Z",
     "iopub.status.busy": "2023-03-18T02:32:48.873242Z",
     "iopub.status.idle": "2023-03-18T02:32:52.511429Z",
     "shell.execute_reply": "2023-03-18T02:32:52.508950Z"
    },
    "papermill": {
     "duration": 3.651875,
     "end_time": "2023-03-18T02:32:52.514365",
     "exception": false,
     "start_time": "2023-03-18T02:32:48.862490",
     "status": "completed"
    },
    "tags": []
   },
   "outputs": [
    {
     "name": "stdout",
     "output_type": "stream",
     "text": [
      "accuracy score: 0.6036217303822937\n",
      "f1 score 0.4961636828644502\n"
     ]
    },
    {
     "data": {
      "image/png": "[encoded data removed]",
      "text/plain": [
       "<Figure size 640x480 with 1 Axes>"
      ]
     },
     "metadata": {},
     "output_type": "display_data"
    }
   ],
   "source": [
    "Ypred = cv.predict(Xtest)\n",
    "Ypred_probs = cv.predict_proba(Xtest)[:,1]\n",
    "print(\"accuracy score:\", accuracy_score(Ytest, Ypred))\n",
    "print(\"f1 score\", f1_score(Ytest, Ypred))\n",
    "fpr, tpr, thresholds = roc_curve(Ytest, Ypred_probs)\n",
    "plt.plot([0, 1], [0, 1], 'k--')\n",
    "plt.plot(fpr, tpr)\n",
    "plt.xlabel('False Positive Rate')\n",
    "plt.ylabel('True Positive Rate')\n",
    "plt.title('ROC Curve for Random Forest')\n",
    "plt.show()"
   ]
  },
  {
   "cell_type": "code",
   "execution_count": 15,
   "id": "65b5fe8c",
   "metadata": {
    "execution": {
     "iopub.execute_input": "2023-03-18T02:32:52.534979Z",
     "iopub.status.busy": "2023-03-18T02:32:52.534556Z",
     "iopub.status.idle": "2023-03-18T02:32:52.541363Z",
     "shell.execute_reply": "2023-03-18T02:32:52.539961Z"
    },
    "papermill": {
     "duration": 0.019813,
     "end_time": "2023-03-18T02:32:52.544077",
     "exception": false,
     "start_time": "2023-03-18T02:32:52.524264",
     "status": "completed"
    },
    "tags": []
   },
   "outputs": [
    {
     "name": "stdout",
     "output_type": "stream",
     "text": [
      "0.6469504330200848\n"
     ]
    }
   ],
   "source": [
    "print(auc(fpr, tpr))"
   ]
  },
  {
   "cell_type": "markdown",
   "id": "71ac14cd",
   "metadata": {
    "papermill": {
     "duration": 0.00856,
     "end_time": "2023-03-18T02:32:52.561709",
     "exception": false,
     "start_time": "2023-03-18T02:32:52.553149",
     "status": "completed"
    },
    "tags": []
   },
   "source": [
    "# Gradient boosting"
   ]
  },
  {
   "cell_type": "code",
   "execution_count": 16,
   "id": "dfbeca4d",
   "metadata": {
    "execution": {
     "iopub.execute_input": "2023-03-18T02:32:52.581514Z",
     "iopub.status.busy": "2023-03-18T02:32:52.581076Z",
     "iopub.status.idle": "2023-03-18T02:32:52.591089Z",
     "shell.execute_reply": "2023-03-18T02:32:52.589722Z"
    },
    "papermill": {
     "duration": 0.022905,
     "end_time": "2023-03-18T02:32:52.593652",
     "exception": false,
     "start_time": "2023-03-18T02:32:52.570747",
     "status": "completed"
    },
    "tags": []
   },
   "outputs": [],
   "source": [
    "#Creating a pipeline to scale the data and do 3-fold cross-validation.\n",
    "\n",
    "steps = [(\"scaler\", StandardScaler()),\n",
    "         (\"pca\", PCA(n_components=100)),\n",
    "         (\"gradientboosting\", GradientBoostingClassifier(random_state=47))]\n",
    "pipeline = Pipeline(steps)\n",
    "parameters = {\"gradientboosting__learning_rate\": [0.1,0.5]}\n",
    "\n",
    "cv = GridSearchCV(pipeline, param_grid=parameters, scoring='f1',cv=3)"
   ]
  },
  {
   "cell_type": "code",
   "execution_count": 17,
   "id": "d95b2242",
   "metadata": {
    "execution": {
     "iopub.execute_input": "2023-03-18T02:32:52.613766Z",
     "iopub.status.busy": "2023-03-18T02:32:52.613314Z",
     "iopub.status.idle": "2023-03-18T02:37:11.240812Z",
     "shell.execute_reply": "2023-03-18T02:37:11.239177Z"
    },
    "papermill": {
     "duration": 258.651649,
     "end_time": "2023-03-18T02:37:11.254325",
     "exception": false,
     "start_time": "2023-03-18T02:32:52.602676",
     "status": "completed"
    },
    "tags": []
   },
   "outputs": [
    {
     "name": "stdout",
     "output_type": "stream",
     "text": [
      "0.6357613414065026\n",
      "{'gradientboosting__learning_rate': 0.1}\n"
     ]
    }
   ],
   "source": [
    "cv.fit(Xtrain, Ytrain)\n",
    "print(cv.best_score_)\n",
    "print(cv.best_params_)"
   ]
  },
  {
   "cell_type": "code",
   "execution_count": 18,
   "id": "eb7cd210",
   "metadata": {
    "execution": {
     "iopub.execute_input": "2023-03-18T02:37:11.275795Z",
     "iopub.status.busy": "2023-03-18T02:37:11.275045Z",
     "iopub.status.idle": "2023-03-18T02:37:14.187962Z",
     "shell.execute_reply": "2023-03-18T02:37:14.186590Z"
    },
    "papermill": {
     "duration": 2.927178,
     "end_time": "2023-03-18T02:37:14.190933",
     "exception": false,
     "start_time": "2023-03-18T02:37:11.263755",
     "status": "completed"
    },
    "tags": []
   },
   "outputs": [
    {
     "name": "stdout",
     "output_type": "stream",
     "text": [
      "accuracy score: 0.5613682092555332\n",
      "f1 score 0.4577114427860696\n"
     ]
    },
    {
     "data": {
      "image/png": "[encoded data removed]",
      "text/plain": [
       "<Figure size 640x480 with 1 Axes>"
      ]
     },
     "metadata": {},
     "output_type": "display_data"
    }
   ],
   "source": [
    "Ypred = cv.predict(Xtest)\n",
    "Ypred_probs = cv.predict_proba(Xtest)[:,1]\n",
    "print(\"accuracy score:\", accuracy_score(Ytest, Ypred))\n",
    "print(\"f1 score\", f1_score(Ytest, Ypred))\n",
    "fpr, tpr, thresholds = roc_curve(Ytest, Ypred_probs)\n",
    "plt.plot([0, 1], [0, 1], 'k--')\n",
    "plt.plot(fpr, tpr)\n",
    "plt.xlabel('False Positive Rate')\n",
    "plt.ylabel('True Positive Rate')\n",
    "plt.title('ROC Curve for Gradient Boosting')\n",
    "plt.show()"
   ]
  },
  {
   "cell_type": "code",
   "execution_count": 19,
   "id": "98c78f5b",
   "metadata": {
    "execution": {
     "iopub.execute_input": "2023-03-18T02:37:14.212750Z",
     "iopub.status.busy": "2023-03-18T02:37:14.212266Z",
     "iopub.status.idle": "2023-03-18T02:37:14.219231Z",
     "shell.execute_reply": "2023-03-18T02:37:14.217859Z"
    },
    "papermill": {
     "duration": 0.021153,
     "end_time": "2023-03-18T02:37:14.221823",
     "exception": false,
     "start_time": "2023-03-18T02:37:14.200670",
     "status": "completed"
    },
    "tags": []
   },
   "outputs": [
    {
     "name": "stdout",
     "output_type": "stream",
     "text": [
      "0.5929242675511333\n"
     ]
    }
   ],
   "source": [
    "print(auc(fpr, tpr))"
   ]
  },
  {
   "cell_type": "code",
   "execution_count": null,
   "id": "d290415d",
   "metadata": {
    "papermill": {
     "duration": 0.009322,
     "end_time": "2023-03-18T02:37:14.241043",
     "exception": false,
     "start_time": "2023-03-18T02:37:14.231721",
     "status": "completed"
    },
    "tags": []
   },
   "outputs": [],
   "source": []
  },
  {
   "cell_type": "code",
   "execution_count": null,
   "id": "0155ad6c",
   "metadata": {
    "papermill": {
     "duration": 0.009283,
     "end_time": "2023-03-18T02:37:14.259862",
     "exception": false,
     "start_time": "2023-03-18T02:37:14.250579",
     "status": "completed"
    },
    "tags": []
   },
   "outputs": [],
   "source": []
  },
  {
   "cell_type": "code",
   "execution_count": null,
   "id": "496fccf2",
   "metadata": {
    "papermill": {
     "duration": 0.009238,
     "end_time": "2023-03-18T02:37:14.279287",
     "exception": false,
     "start_time": "2023-03-18T02:37:14.270049",
     "status": "completed"
    },
    "tags": []
   },
   "outputs": [],
   "source": []
  },
  {
   "cell_type": "code",
   "execution_count": null,
   "id": "bdf0306f",
   "metadata": {
    "papermill": {
     "duration": 0.009182,
     "end_time": "2023-03-18T02:37:14.298201",
     "exception": false,
     "start_time": "2023-03-18T02:37:14.289019",
     "status": "completed"
    },
    "tags": []
   },
   "outputs": [],
   "source": []
  }
 ],
 "metadata": {
  "kernelspec": {
   "display_name": "Python 3",
   "language": "python",
   "name": "python3"
  },
  "language_info": {
   "codemirror_mode": {
    "name": "ipython",
    "version": 3
   },
   "file_extension": ".py",
   "mimetype": "text/x-python",
   "name": "python",
   "nbconvert_exporter": "python",
   "pygments_lexer": "ipython3",
   "version": "3.7.12"
  },
  "papermill": {
   "default_parameters": {},
   "duration": 785.695923,
   "end_time": "2023-03-18T02:37:18.040006",
   "environment_variables": {},
   "exception": null,
   "input_path": "__notebook__.ipynb",
   "output_path": "__notebook__.ipynb",
   "parameters": {},
   "start_time": "2023-03-18T02:24:12.344083",
   "version": "2.4.0"
  }
 },
 "nbformat": 4,
 "nbformat_minor": 5
}
