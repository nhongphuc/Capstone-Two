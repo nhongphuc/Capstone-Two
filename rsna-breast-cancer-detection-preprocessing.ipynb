{
 "cells": [
  {
   "cell_type": "code",
   "execution_count": 1,
   "id": "1cbd0fa7",
   "metadata": {
    "_cell_guid": "b1076dfc-b9ad-4769-8c92-a6c4dae69d19",
    "_uuid": "8f2839f25d086af736a60e9eeb907d3b93b6e0e5",
    "execution": {
     "iopub.execute_input": "2023-03-18T17:48:13.495035Z",
     "iopub.status.busy": "2023-03-18T17:48:13.494357Z",
     "iopub.status.idle": "2023-03-18T17:48:15.517174Z",
     "shell.execute_reply": "2023-03-18T17:48:15.515713Z"
    },
    "papermill": {
     "duration": 2.034143,
     "end_time": "2023-03-18T17:48:15.520153",
     "exception": false,
     "start_time": "2023-03-18T17:48:13.486010",
     "status": "completed"
    },
    "tags": []
   },
   "outputs": [],
   "source": [
    "#Importing packages\n",
    "\n",
    "import numpy as np # linear algebra\n",
    "import pandas as pd # data processing, CSV file I/O (e.g. pd.read_csv)\n",
    "import pickle\n",
    "import matplotlib.pyplot as plt\n",
    "from sklearn.model_selection import train_test_split, GridSearchCV\n",
    "from sklearn.preprocessing import StandardScaler, MinMaxScaler, Normalizer\n",
    "from sklearn.linear_model import LogisticRegression\n",
    "from sklearn.metrics import accuracy_score, f1_score, roc_curve, auc\n",
    "from sklearn.pipeline import Pipeline\n",
    "from sklearn.decomposition import PCA\n",
    "#from imblearn.over_sampling import RandomOverSampler\n",
    "from sklearn.ensemble import RandomForestClassifier, GradientBoostingClassifier\n",
    "#from skimage import exposure\n",
    "from imblearn.over_sampling import SMOTE\n",
    "from skimage.feature import hog\n",
    "import random"
   ]
  },
  {
   "cell_type": "code",
   "execution_count": 2,
   "id": "59527253",
   "metadata": {
    "execution": {
     "iopub.execute_input": "2023-03-18T17:48:15.534279Z",
     "iopub.status.busy": "2023-03-18T17:48:15.533878Z",
     "iopub.status.idle": "2023-03-18T17:49:11.768841Z",
     "shell.execute_reply": "2023-03-18T17:49:11.759799Z"
    },
    "papermill": {
     "duration": 56.245246,
     "end_time": "2023-03-18T17:49:11.771771",
     "exception": false,
     "start_time": "2023-03-18T17:48:15.526525",
     "status": "completed"
    },
    "tags": []
   },
   "outputs": [],
   "source": [
    "#Loading the pickle file containing a dictionary with \n",
    "#patient ID and image ID for keys and the cleaned images for values \n",
    "#(from the Data Wrangling notebook).\n",
    "folder_path = '/kaggle/input/rsna-breast-cancer-detection-data-wrangling/'\n",
    "\n",
    "with open(folder_path + 'cleaned_images.pickle', 'rb') as file:\n",
    "    img_dict = pickle.load(file)\n",
    "    \n",
    "#Loading the cleaned csv file (also from the Data Wrangling notebook).\n",
    "df = pd.read_csv(folder_path + 'cleaned_data.csv')"
   ]
  },
  {
   "cell_type": "code",
   "execution_count": 3,
   "id": "f3957bcc",
   "metadata": {
    "execution": {
     "iopub.execute_input": "2023-03-18T17:49:11.787355Z",
     "iopub.status.busy": "2023-03-18T17:49:11.786922Z",
     "iopub.status.idle": "2023-03-18T17:49:11.811256Z",
     "shell.execute_reply": "2023-03-18T17:49:11.809941Z"
    },
    "papermill": {
     "duration": 0.035134,
     "end_time": "2023-03-18T17:49:11.814118",
     "exception": false,
     "start_time": "2023-03-18T17:49:11.778984",
     "status": "completed"
    },
    "tags": []
   },
   "outputs": [
    {
     "name": "stdout",
     "output_type": "stream",
     "text": [
      "(662, 28)\n",
      "(22972, 28)\n"
     ]
    }
   ],
   "source": [
    "#Creating two new dataframes, by filtering df according to whether the patient has cancer or not.\n",
    "df_cancer = df[df['cancer_1']==1].reset_index()\n",
    "df_no_cancer = df[df['cancer_1']==0].reset_index()\n",
    "print(df_cancer.shape)\n",
    "print(df_no_cancer.shape)"
   ]
  },
  {
   "cell_type": "markdown",
   "id": "faa1577c",
   "metadata": {
    "papermill": {
     "duration": 0.005722,
     "end_time": "2023-03-18T17:49:11.826266",
     "exception": false,
     "start_time": "2023-03-18T17:49:11.820544",
     "status": "completed"
    },
    "tags": []
   },
   "source": [
    "Next, we create the matrix X of features. Each feature is a numpy array consisting of the values of all the pixels in the image, concatenated to the values of the columns of df_cancer and df_no_cancer.\n",
    "\n",
    "We have a very imbalanced dataset, with many more images without cancer than with cancer. For now we will use all the images with cancer, and two times as many images without cancer. Later on (after the train split test) we will oversample the images with cancer to obtain a more balanced dataset."
   ]
  },
  {
   "cell_type": "code",
   "execution_count": 4,
   "id": "c393cc26",
   "metadata": {
    "execution": {
     "iopub.execute_input": "2023-03-18T17:49:11.840903Z",
     "iopub.status.busy": "2023-03-18T17:49:11.840481Z",
     "iopub.status.idle": "2023-03-18T17:49:16.818508Z",
     "shell.execute_reply": "2023-03-18T17:49:16.816892Z"
    },
    "papermill": {
     "duration": 4.98897,
     "end_time": "2023-03-18T17:49:16.821367",
     "exception": false,
     "start_time": "2023-03-18T17:49:11.832397",
     "status": "completed"
    },
    "tags": []
   },
   "outputs": [],
   "source": [
    "X = []\n",
    "\n",
    "for i in range(len(df_cancer)):\n",
    "    key = str(df_cancer['patient_id'][i]) + '/' + str(df_cancer['image_id'][i])\n",
    "    \n",
    "    resized_img = img_dict[key].resize((275,275))\n",
    "    arr = np.array(resized_img).ravel()\n",
    "    \n",
    "    arr = np.append(arr, df_cancer['age'][i])\n",
    "    arr = np.append(arr, df_cancer['laterality_L'][i])\n",
    "    arr = np.append(arr, df_cancer['view_CC'][i])\n",
    "    arr = np.append(arr, df_cancer['biopsy_0'][i])\n",
    "    arr = np.append(arr, df_cancer['implant_0'][i])\n",
    "    arr = np.append(arr, df_cancer['invasive_0'][i])\n",
    "    arr = np.append(arr, df_cancer['BIRADS_0.0'][i])\n",
    "    arr = np.append(arr, df_cancer['BIRADS_1.0'][i])\n",
    "    arr = np.append(arr, df_cancer['BIRADS_2.0'][i])\n",
    "    arr = np.append(arr, df_cancer['density_A'][i])\n",
    "    arr = np.append(arr, df_cancer['density_B'][i])\n",
    "    arr = np.append(arr, df_cancer['density_C'][i])\n",
    "    arr = np.append(arr, df_cancer['difficult_negative_case_False'][i])\n",
    "\n",
    "    X.append(arr)\n",
    "    \n",
    "#random_nums = random.sample(range(len(df_no_cancer)), 2*len(df_cancer))\n",
    "    \n",
    "for i in range(2*len(df_cancer)):\n",
    "    key = str(df_no_cancer['patient_id'][i]) + '/' + str(df_no_cancer['image_id'][i])\n",
    "    \n",
    "    resized_img = img_dict[key].resize((275,275))\n",
    "    arr = np.array(resized_img).ravel()\n",
    "    \n",
    "    arr = np.append(arr, df_no_cancer['age'][i])\n",
    "    arr = np.append(arr, df_no_cancer['laterality_L'][i])\n",
    "    arr = np.append(arr, df_no_cancer['view_CC'][i])\n",
    "    arr = np.append(arr, df_no_cancer['biopsy_0'][i])\n",
    "    arr = np.append(arr, df_no_cancer['implant_0'][i])\n",
    "    arr = np.append(arr, df_no_cancer['invasive_0'][i])\n",
    "    arr = np.append(arr, df_no_cancer['BIRADS_0.0'][i])\n",
    "    arr = np.append(arr, df_no_cancer['BIRADS_1.0'][i])\n",
    "    arr = np.append(arr, df_no_cancer['BIRADS_2.0'][i])\n",
    "    arr = np.append(arr, df_no_cancer['density_A'][i])\n",
    "    arr = np.append(arr, df_no_cancer['density_B'][i])\n",
    "    arr = np.append(arr, df_no_cancer['density_C'][i])\n",
    "    arr = np.append(arr, df_no_cancer['difficult_negative_case_False'][i])\n",
    "    \n",
    "    X.append(arr)"
   ]
  },
  {
   "cell_type": "code",
   "execution_count": 5,
   "id": "05500f08",
   "metadata": {
    "execution": {
     "iopub.execute_input": "2023-03-18T17:49:16.837511Z",
     "iopub.status.busy": "2023-03-18T17:49:16.837052Z",
     "iopub.status.idle": "2023-03-18T17:49:16.856414Z",
     "shell.execute_reply": "2023-03-18T17:49:16.854655Z"
    },
    "papermill": {
     "duration": 0.030384,
     "end_time": "2023-03-18T17:49:16.859084",
     "exception": false,
     "start_time": "2023-03-18T17:49:16.828700",
     "status": "completed"
    },
    "tags": []
   },
   "outputs": [],
   "source": [
    "Y = []\n",
    "\n",
    "for i in range(len(df_cancer)):\n",
    "    Y.append(df_cancer['cancer_1'][i])\n",
    "    \n",
    "for i in range(2*len(df_cancer)):\n",
    "    Y.append(df_no_cancer['cancer_1'][i])"
   ]
  },
  {
   "cell_type": "markdown",
   "id": "ec17d472",
   "metadata": {
    "papermill": {
     "duration": 0.006179,
     "end_time": "2023-03-18T17:49:16.871822",
     "exception": false,
     "start_time": "2023-03-18T17:49:16.865643",
     "status": "completed"
    },
    "tags": []
   },
   "source": [
    "# Baseline models"
   ]
  },
  {
   "cell_type": "markdown",
   "id": "9f84863e",
   "metadata": {
    "papermill": {
     "duration": 0.006816,
     "end_time": "2023-03-18T17:49:16.886150",
     "exception": false,
     "start_time": "2023-03-18T17:49:16.879334",
     "status": "completed"
    },
    "tags": []
   },
   "source": [
    "After the data augmentation step below, the train data will be evenly split between cancerous images and non-cancerous images. Based on that information, we can estimate baseline values for the accuracy of the training set, as follows:\n",
    "\n",
    "If for example we randomly classify each mammogram as cancerous or non-cancerous, then the probability that we classify the images correctly will be: (0.5) * (0.5) + (0.5) * (0.5) = 0.5. To see this, we note that the first term (0.5) * (0.5) is the probability that we classify correctly as cancerous (because there is a 0.5 chance that the image is classified as cancerous, and also a 0.5 chance that the image is actually cancerous). Similarly, the second term (0.5) * (0.5) is the probability that we classify correctly as non-cancerous.\n",
    "\n",
    "Another simple baseline model is to simply classify all the images as cancerous, or classify all of them as non-cancerous. Such a baseline model is also correct half of the times, so its accuracy is 50 percent.\n",
    "\n",
    "Therefore, if our models below have an accuracy better than 50 percent (on the training set), then the models are better than the two baseline models described above."
   ]
  },
  {
   "cell_type": "markdown",
   "id": "47a8b213",
   "metadata": {
    "papermill": {
     "duration": 0.005937,
     "end_time": "2023-03-18T17:49:16.898536",
     "exception": false,
     "start_time": "2023-03-18T17:49:16.892599",
     "status": "completed"
    },
    "tags": []
   },
   "source": [
    "# Logistic Regression"
   ]
  },
  {
   "cell_type": "code",
   "execution_count": 6,
   "id": "27d1680b",
   "metadata": {
    "execution": {
     "iopub.execute_input": "2023-03-18T17:49:16.912805Z",
     "iopub.status.busy": "2023-03-18T17:49:16.912386Z",
     "iopub.status.idle": "2023-03-18T17:49:16.922769Z",
     "shell.execute_reply": "2023-03-18T17:49:16.921322Z"
    },
    "papermill": {
     "duration": 0.020796,
     "end_time": "2023-03-18T17:49:16.925433",
     "exception": false,
     "start_time": "2023-03-18T17:49:16.904637",
     "status": "completed"
    },
    "tags": []
   },
   "outputs": [],
   "source": [
    "#Creating a pipeline to scale the data, use 100 principal \n",
    "#components, and do 3-fold cross-validation.\n",
    "\n",
    "steps = [(\"scaler\", MinMaxScaler()),\n",
    "         (\"pca\", PCA(n_components=100)),\n",
    "         (\"logreg\", LogisticRegression(solver='liblinear', max_iter = 500))]\n",
    "pipeline = Pipeline(steps)\n",
    "parameters = {\"logreg__C\": [1]}\n",
    "Xtrain, Xtest, Ytrain, Ytest = train_test_split(X, Y, train_size = 0.75, random_state = 13)\n",
    "cv = GridSearchCV(pipeline, param_grid=parameters, scoring='f1', cv=3)"
   ]
  },
  {
   "cell_type": "markdown",
   "id": "f1fe65f2",
   "metadata": {
    "papermill": {
     "duration": 0.006109,
     "end_time": "2023-03-18T17:49:16.938142",
     "exception": false,
     "start_time": "2023-03-18T17:49:16.932033",
     "status": "completed"
    },
    "tags": []
   },
   "source": [
    "Now we augment the number of images with cancer by a factor of 2 by oversampling (with SMOTE)."
   ]
  },
  {
   "cell_type": "code",
   "execution_count": 7,
   "id": "7bc8c126",
   "metadata": {
    "execution": {
     "iopub.execute_input": "2023-03-18T17:49:16.953405Z",
     "iopub.status.busy": "2023-03-18T17:49:16.952703Z",
     "iopub.status.idle": "2023-03-18T17:49:16.956969Z",
     "shell.execute_reply": "2023-03-18T17:49:16.956249Z"
    },
    "papermill": {
     "duration": 0.0149,
     "end_time": "2023-03-18T17:49:16.959576",
     "exception": false,
     "start_time": "2023-03-18T17:49:16.944676",
     "status": "completed"
    },
    "tags": []
   },
   "outputs": [],
   "source": [
    "#Xtrain_augmentation = []\n",
    "#Ytrain_augmentation = []\n",
    "\n",
    "#for i in range(len(Xtrain)):\n",
    "    #if Ytrain[i] == 1:\n",
    "        #img_part = Xtrain[i][:(300**2)]\n",
    "        #non_img_part = Xtrain[i][(300**2):]\n",
    "        #if i%2==0:\n",
    "            #flipped_img_part = np.flipud(img_part.reshape(300,300)).ravel()\n",
    "        #else:\n",
    "            #flipped_img_part = np.fliplr(img_part.reshape(300,300)).ravel()\n",
    "        #new_arr_1 = np.concatenate((flipped_img_part, non_img_part))\n",
    "        #Xtrain_augmentation.append(new_arr_1)\n",
    "        \n",
    "        #Ytrain_augmentation.append(Ytrain[i])\n",
    "        \n",
    "#Xtrain = Xtrain + Xtrain_augmentation\n",
    "#Ytrain = Ytrain + Ytrain_augmentation"
   ]
  },
  {
   "cell_type": "code",
   "execution_count": 8,
   "id": "92263bb3",
   "metadata": {
    "execution": {
     "iopub.execute_input": "2023-03-18T17:49:16.974859Z",
     "iopub.status.busy": "2023-03-18T17:49:16.974260Z",
     "iopub.status.idle": "2023-03-18T17:49:28.564031Z",
     "shell.execute_reply": "2023-03-18T17:49:28.562244Z"
    },
    "papermill": {
     "duration": 11.604037,
     "end_time": "2023-03-18T17:49:28.570183",
     "exception": false,
     "start_time": "2023-03-18T17:49:16.966146",
     "status": "completed"
    },
    "tags": []
   },
   "outputs": [],
   "source": [
    "sm = SMOTE(random_state = 2, k_neighbors = 4)\n",
    "Xtrain, Ytrain = sm.fit_resample(Xtrain, Ytrain)"
   ]
  },
  {
   "cell_type": "code",
   "execution_count": 9,
   "id": "8fc7888d",
   "metadata": {
    "execution": {
     "iopub.execute_input": "2023-03-18T17:49:28.590312Z",
     "iopub.status.busy": "2023-03-18T17:49:28.589542Z",
     "iopub.status.idle": "2023-03-18T17:49:28.596919Z",
     "shell.execute_reply": "2023-03-18T17:49:28.595912Z"
    },
    "papermill": {
     "duration": 0.018773,
     "end_time": "2023-03-18T17:49:28.598916",
     "exception": false,
     "start_time": "2023-03-18T17:49:28.580143",
     "status": "completed"
    },
    "tags": []
   },
   "outputs": [
    {
     "name": "stdout",
     "output_type": "stream",
     "text": [
      "1978 1978\n",
      "75638\n",
      "989\n",
      "989\n"
     ]
    }
   ],
   "source": [
    "#Checking that the train dataset is now more balanced.\n",
    "print(len(Xtrain), len(Ytrain))\n",
    "print(len(Xtrain[-1]))\n",
    "print(Ytrain.count(0))\n",
    "print(Ytrain.count(1))"
   ]
  },
  {
   "cell_type": "code",
   "execution_count": 10,
   "id": "229749bf",
   "metadata": {
    "execution": {
     "iopub.execute_input": "2023-03-18T17:49:28.614273Z",
     "iopub.status.busy": "2023-03-18T17:49:28.612974Z",
     "iopub.status.idle": "2023-03-18T17:51:32.360380Z",
     "shell.execute_reply": "2023-03-18T17:51:32.358839Z"
    },
    "papermill": {
     "duration": 123.762093,
     "end_time": "2023-03-18T17:51:32.367629",
     "exception": false,
     "start_time": "2023-03-18T17:49:28.605536",
     "status": "completed"
    },
    "tags": []
   },
   "outputs": [
    {
     "name": "stdout",
     "output_type": "stream",
     "text": [
      "0.747042165609909\n",
      "{'logreg__C': 1}\n"
     ]
    }
   ],
   "source": [
    "cv.fit(Xtrain, Ytrain)\n",
    "print(cv.best_score_)\n",
    "print(cv.best_params_)"
   ]
  },
  {
   "cell_type": "code",
   "execution_count": 11,
   "id": "5ec942df",
   "metadata": {
    "execution": {
     "iopub.execute_input": "2023-03-18T17:51:32.382102Z",
     "iopub.status.busy": "2023-03-18T17:51:32.381761Z",
     "iopub.status.idle": "2023-03-18T17:51:33.605101Z",
     "shell.execute_reply": "2023-03-18T17:51:33.603180Z"
    },
    "papermill": {
     "duration": 1.234061,
     "end_time": "2023-03-18T17:51:33.607960",
     "exception": false,
     "start_time": "2023-03-18T17:51:32.373899",
     "status": "completed"
    },
    "tags": []
   },
   "outputs": [
    {
     "name": "stdout",
     "output_type": "stream",
     "text": [
      "accuracy score: 0.6941649899396378\n",
      "f1 score 0.5606936416184971\n"
     ]
    },
    {
     "data": {
      "image/png": "[encoded data removed]",
      "text/plain": [
       "<Figure size 640x480 with 1 Axes>"
      ]
     },
     "metadata": {},
     "output_type": "display_data"
    }
   ],
   "source": [
    "Ypred = cv.predict(Xtest)\n",
    "Ypred_probs = cv.predict_proba(Xtest)[:,1]\n",
    "print(\"accuracy score:\", accuracy_score(Ytest, Ypred))\n",
    "print(\"f1 score\", f1_score(Ytest, Ypred))\n",
    "fpr, tpr, thresholds = roc_curve(Ytest, Ypred_probs)\n",
    "plt.plot([0, 1], [0, 1], 'k--')\n",
    "plt.plot(fpr, tpr)\n",
    "plt.xlabel('False Positive Rate')\n",
    "plt.ylabel('True Positive Rate')\n",
    "plt.title('ROC Curve for Logistic Regression')\n",
    "plt.show()"
   ]
  },
  {
   "cell_type": "markdown",
   "id": "a0f3909c",
   "metadata": {
    "papermill": {
     "duration": 0.006798,
     "end_time": "2023-03-18T17:51:33.622153",
     "exception": false,
     "start_time": "2023-03-18T17:51:33.615355",
     "status": "completed"
    },
    "tags": []
   },
   "source": [
    "We see that the accuracy score on the train set is higher than the accuracy of the baseline models !"
   ]
  },
  {
   "cell_type": "code",
   "execution_count": 12,
   "id": "efb11d74",
   "metadata": {
    "execution": {
     "iopub.execute_input": "2023-03-18T17:51:33.638734Z",
     "iopub.status.busy": "2023-03-18T17:51:33.638324Z",
     "iopub.status.idle": "2023-03-18T17:51:33.646786Z",
     "shell.execute_reply": "2023-03-18T17:51:33.644801Z"
    },
    "papermill": {
     "duration": 0.020095,
     "end_time": "2023-03-18T17:51:33.649694",
     "exception": false,
     "start_time": "2023-03-18T17:51:33.629599",
     "status": "completed"
    },
    "tags": []
   },
   "outputs": [
    {
     "name": "stdout",
     "output_type": "stream",
     "text": [
      "0.7371844481297217\n"
     ]
    }
   ],
   "source": [
    "#Print out the area under the curve.\n",
    "print(auc(fpr, tpr))"
   ]
  },
  {
   "cell_type": "markdown",
   "id": "edc6d0af",
   "metadata": {
    "papermill": {
     "duration": 0.007255,
     "end_time": "2023-03-18T17:51:33.664675",
     "exception": false,
     "start_time": "2023-03-18T17:51:33.657420",
     "status": "completed"
    },
    "tags": []
   },
   "source": [
    "# Random Forest"
   ]
  },
  {
   "cell_type": "code",
   "execution_count": 13,
   "id": "1b824e6b",
   "metadata": {
    "execution": {
     "iopub.execute_input": "2023-03-18T17:51:33.682106Z",
     "iopub.status.busy": "2023-03-18T17:51:33.681460Z",
     "iopub.status.idle": "2023-03-18T17:51:33.687960Z",
     "shell.execute_reply": "2023-03-18T17:51:33.687204Z"
    },
    "papermill": {
     "duration": 0.018367,
     "end_time": "2023-03-18T17:51:33.690472",
     "exception": false,
     "start_time": "2023-03-18T17:51:33.672105",
     "status": "completed"
    },
    "tags": []
   },
   "outputs": [],
   "source": [
    "#Creating a pipeline to scale the data and do 3-fold cross-validation.\n",
    "\n",
    "steps = [(\"scaler\", MinMaxScaler()),\n",
    "         (\"pca\", PCA(n_components=100)),\n",
    "         (\"randomforest\", RandomForestClassifier(random_state=47, n_estimators=800, n_jobs=-1))]\n",
    "pipeline = Pipeline(steps)\n",
    "parameters = {\"randomforest__min_samples_split\": [2,3]}\n",
    "\n",
    "cv = GridSearchCV(pipeline, param_grid=parameters, scoring='f1', cv=3)"
   ]
  },
  {
   "cell_type": "code",
   "execution_count": 14,
   "id": "2f44b3ac",
   "metadata": {
    "execution": {
     "iopub.execute_input": "2023-03-18T17:51:33.707989Z",
     "iopub.status.busy": "2023-03-18T17:51:33.707399Z",
     "iopub.status.idle": "2023-03-18T17:55:31.723320Z",
     "shell.execute_reply": "2023-03-18T17:55:31.721627Z"
    },
    "papermill": {
     "duration": 238.032714,
     "end_time": "2023-03-18T17:55:31.730790",
     "exception": false,
     "start_time": "2023-03-18T17:51:33.698076",
     "status": "completed"
    },
    "tags": []
   },
   "outputs": [
    {
     "name": "stdout",
     "output_type": "stream",
     "text": [
      "0.7841713020096673\n",
      "{'randomforest__min_samples_split': 3}\n"
     ]
    }
   ],
   "source": [
    "cv.fit(Xtrain, Ytrain)\n",
    "print(cv.best_score_)\n",
    "print(cv.best_params_)"
   ]
  },
  {
   "cell_type": "code",
   "execution_count": 15,
   "id": "f99176d2",
   "metadata": {
    "execution": {
     "iopub.execute_input": "2023-03-18T17:55:31.749663Z",
     "iopub.status.busy": "2023-03-18T17:55:31.749236Z",
     "iopub.status.idle": "2023-03-18T17:55:33.194883Z",
     "shell.execute_reply": "2023-03-18T17:55:33.192790Z"
    },
    "papermill": {
     "duration": 1.458971,
     "end_time": "2023-03-18T17:55:33.198172",
     "exception": false,
     "start_time": "2023-03-18T17:55:31.739201",
     "status": "completed"
    },
    "tags": []
   },
   "outputs": [
    {
     "name": "stdout",
     "output_type": "stream",
     "text": [
      "accuracy score: 0.7122736418511066\n",
      "f1 score 0.5051903114186851\n"
     ]
    },
    {
     "data": {
      "image/png": "[encoded data removed]",
      "text/plain": [
       "<Figure size 640x480 with 1 Axes>"
      ]
     },
     "metadata": {},
     "output_type": "display_data"
    }
   ],
   "source": [
    "Ypred = cv.predict(Xtest)\n",
    "Ypred_probs = cv.predict_proba(Xtest)[:,1]\n",
    "print(\"accuracy score:\", accuracy_score(Ytest, Ypred))\n",
    "print(\"f1 score\", f1_score(Ytest, Ypred))\n",
    "fpr, tpr, thresholds = roc_curve(Ytest, Ypred_probs)\n",
    "plt.plot([0, 1], [0, 1], 'k--')\n",
    "plt.plot(fpr, tpr)\n",
    "plt.xlabel('False Positive Rate')\n",
    "plt.ylabel('True Positive Rate')\n",
    "plt.title('ROC Curve for Random Forest')\n",
    "plt.show()"
   ]
  },
  {
   "cell_type": "code",
   "execution_count": 16,
   "id": "fd320f05",
   "metadata": {
    "execution": {
     "iopub.execute_input": "2023-03-18T17:55:33.218981Z",
     "iopub.status.busy": "2023-03-18T17:55:33.218465Z",
     "iopub.status.idle": "2023-03-18T17:55:33.228208Z",
     "shell.execute_reply": "2023-03-18T17:55:33.226361Z"
    },
    "papermill": {
     "duration": 0.023925,
     "end_time": "2023-03-18T17:55:33.231404",
     "exception": false,
     "start_time": "2023-03-18T17:55:33.207479",
     "status": "completed"
    },
    "tags": []
   },
   "outputs": [
    {
     "name": "stdout",
     "output_type": "stream",
     "text": [
      "0.7160678091026349\n"
     ]
    }
   ],
   "source": [
    "print(auc(fpr, tpr))"
   ]
  },
  {
   "cell_type": "markdown",
   "id": "f40e4727",
   "metadata": {
    "papermill": {
     "duration": 0.008408,
     "end_time": "2023-03-18T17:55:33.249964",
     "exception": false,
     "start_time": "2023-03-18T17:55:33.241556",
     "status": "completed"
    },
    "tags": []
   },
   "source": [
    "# Gradient boosting"
   ]
  },
  {
   "cell_type": "code",
   "execution_count": 17,
   "id": "bb44575e",
   "metadata": {
    "execution": {
     "iopub.execute_input": "2023-03-18T17:55:33.269149Z",
     "iopub.status.busy": "2023-03-18T17:55:33.268662Z",
     "iopub.status.idle": "2023-03-18T17:55:33.279499Z",
     "shell.execute_reply": "2023-03-18T17:55:33.277663Z"
    },
    "papermill": {
     "duration": 0.023743,
     "end_time": "2023-03-18T17:55:33.282294",
     "exception": false,
     "start_time": "2023-03-18T17:55:33.258551",
     "status": "completed"
    },
    "tags": []
   },
   "outputs": [],
   "source": [
    "#Creating a pipeline to scale the data and do 3-fold cross-validation.\n",
    "\n",
    "steps = [(\"scaler\", MinMaxScaler()),\n",
    "         (\"pca\", PCA(n_components=100)),\n",
    "         (\"gradientboosting\", GradientBoostingClassifier(random_state=47, n_estimators=800))]\n",
    "pipeline = Pipeline(steps)\n",
    "parameters = {\"gradientboosting__learning_rate\": [0.02,0.1]}\n",
    "\n",
    "cv = GridSearchCV(pipeline, param_grid=parameters, scoring='f1',cv=3)"
   ]
  },
  {
   "cell_type": "code",
   "execution_count": 18,
   "id": "526a0a7c",
   "metadata": {
    "execution": {
     "iopub.execute_input": "2023-03-18T17:55:33.301642Z",
     "iopub.status.busy": "2023-03-18T17:55:33.301285Z",
     "iopub.status.idle": "2023-03-18T18:02:45.742568Z",
     "shell.execute_reply": "2023-03-18T18:02:45.740774Z"
    },
    "papermill": {
     "duration": 432.461056,
     "end_time": "2023-03-18T18:02:45.752481",
     "exception": false,
     "start_time": "2023-03-18T17:55:33.291425",
     "status": "completed"
    },
    "tags": []
   },
   "outputs": [
    {
     "name": "stdout",
     "output_type": "stream",
     "text": [
      "0.7943204237730647\n",
      "{'gradientboosting__learning_rate': 0.1}\n"
     ]
    }
   ],
   "source": [
    "cv.fit(Xtrain, Ytrain)\n",
    "print(cv.best_score_)\n",
    "print(cv.best_params_)"
   ]
  },
  {
   "cell_type": "code",
   "execution_count": 19,
   "id": "15c4d55c",
   "metadata": {
    "execution": {
     "iopub.execute_input": "2023-03-18T18:02:45.770552Z",
     "iopub.status.busy": "2023-03-18T18:02:45.770103Z",
     "iopub.status.idle": "2023-03-18T18:02:46.826465Z",
     "shell.execute_reply": "2023-03-18T18:02:46.824798Z"
    },
    "papermill": {
     "duration": 1.068744,
     "end_time": "2023-03-18T18:02:46.829159",
     "exception": false,
     "start_time": "2023-03-18T18:02:45.760415",
     "status": "completed"
    },
    "tags": []
   },
   "outputs": [
    {
     "name": "stdout",
     "output_type": "stream",
     "text": [
      "accuracy score: 0.682092555331992\n",
      "f1 score 0.48026315789473684\n"
     ]
    },
    {
     "data": {
      "image/png": "[encoded data removed]",
      "text/plain": [
       "<Figure size 640x480 with 1 Axes>"
      ]
     },
     "metadata": {},
     "output_type": "display_data"
    }
   ],
   "source": [
    "Ypred = cv.predict(Xtest)\n",
    "Ypred_probs = cv.predict_proba(Xtest)[:,1]\n",
    "print(\"accuracy score:\", accuracy_score(Ytest, Ypred))\n",
    "print(\"f1 score\", f1_score(Ytest, Ypred))\n",
    "fpr, tpr, thresholds = roc_curve(Ytest, Ypred_probs)\n",
    "plt.plot([0, 1], [0, 1], 'k--')\n",
    "plt.plot(fpr, tpr)\n",
    "plt.xlabel('False Positive Rate')\n",
    "plt.ylabel('True Positive Rate')\n",
    "plt.title('ROC Curve for Gradient Boosting')\n",
    "plt.show()"
   ]
  },
  {
   "cell_type": "code",
   "execution_count": 20,
   "id": "bd009ac3",
   "metadata": {
    "execution": {
     "iopub.execute_input": "2023-03-18T18:02:46.850120Z",
     "iopub.status.busy": "2023-03-18T18:02:46.849698Z",
     "iopub.status.idle": "2023-03-18T18:02:46.855565Z",
     "shell.execute_reply": "2023-03-18T18:02:46.854502Z"
    },
    "papermill": {
     "duration": 0.01944,
     "end_time": "2023-03-18T18:02:46.858053",
     "exception": false,
     "start_time": "2023-03-18T18:02:46.838613",
     "status": "completed"
    },
    "tags": []
   },
   "outputs": [
    {
     "name": "stdout",
     "output_type": "stream",
     "text": [
      "0.7061544131195873\n"
     ]
    }
   ],
   "source": [
    "print(auc(fpr, tpr))"
   ]
  },
  {
   "cell_type": "code",
   "execution_count": null,
   "id": "00248d1c",
   "metadata": {
    "papermill": {
     "duration": 0.008879,
     "end_time": "2023-03-18T18:02:46.876089",
     "exception": false,
     "start_time": "2023-03-18T18:02:46.867210",
     "status": "completed"
    },
    "tags": []
   },
   "outputs": [],
   "source": []
  },
  {
   "cell_type": "code",
   "execution_count": null,
   "id": "d25807f9",
   "metadata": {
    "papermill": {
     "duration": 0.009062,
     "end_time": "2023-03-18T18:02:46.894426",
     "exception": false,
     "start_time": "2023-03-18T18:02:46.885364",
     "status": "completed"
    },
    "tags": []
   },
   "outputs": [],
   "source": []
  },
  {
   "cell_type": "code",
   "execution_count": null,
   "id": "85ce7467",
   "metadata": {
    "papermill": {
     "duration": 0.009028,
     "end_time": "2023-03-18T18:02:46.913351",
     "exception": false,
     "start_time": "2023-03-18T18:02:46.904323",
     "status": "completed"
    },
    "tags": []
   },
   "outputs": [],
   "source": []
  },
  {
   "cell_type": "code",
   "execution_count": 21,
   "id": "611d1447",
   "metadata": {
    "execution": {
     "iopub.execute_input": "2023-03-18T18:02:46.934098Z",
     "iopub.status.busy": "2023-03-18T18:02:46.932852Z",
     "iopub.status.idle": "2023-03-18T18:02:46.939040Z",
     "shell.execute_reply": "2023-03-18T18:02:46.937681Z"
    },
    "papermill": {
     "duration": 0.01977,
     "end_time": "2023-03-18T18:02:46.942155",
     "exception": false,
     "start_time": "2023-03-18T18:02:46.922385",
     "status": "completed"
    },
    "tags": []
   },
   "outputs": [],
   "source": [
    "\n",
    "\n",
    "#fd, hog_image = hog(img_dict[key1].resize((275,275)), orientations=9, pixels_per_cell=(8, 8), \n",
    "                    #cells_per_block=(2, 2), visualize=True)"
   ]
  },
  {
   "cell_type": "code",
   "execution_count": null,
   "id": "ee5583e9",
   "metadata": {
    "papermill": {
     "duration": 0.009264,
     "end_time": "2023-03-18T18:02:46.960889",
     "exception": false,
     "start_time": "2023-03-18T18:02:46.951625",
     "status": "completed"
    },
    "tags": []
   },
   "outputs": [],
   "source": []
  },
  {
   "cell_type": "code",
   "execution_count": null,
   "id": "d8c75bae",
   "metadata": {
    "papermill": {
     "duration": 0.009077,
     "end_time": "2023-03-18T18:02:46.979575",
     "exception": false,
     "start_time": "2023-03-18T18:02:46.970498",
     "status": "completed"
    },
    "tags": []
   },
   "outputs": [],
   "source": []
  },
  {
   "cell_type": "code",
   "execution_count": null,
   "id": "b523409d",
   "metadata": {
    "papermill": {
     "duration": 0.009437,
     "end_time": "2023-03-18T18:02:46.998713",
     "exception": false,
     "start_time": "2023-03-18T18:02:46.989276",
     "status": "completed"
    },
    "tags": []
   },
   "outputs": [],
   "source": []
  }
 ],
 "metadata": {
  "kernelspec": {
   "display_name": "Python 3",
   "language": "python",
   "name": "python3"
  },
  "language_info": {
   "codemirror_mode": {
    "name": "ipython",
    "version": 3
   },
   "file_extension": ".py",
   "mimetype": "text/x-python",
   "name": "python",
   "nbconvert_exporter": "python",
   "pygments_lexer": "ipython3",
   "version": "3.7.12"
  },
  "papermill": {
   "default_parameters": {},
   "duration": 886.559803,
   "end_time": "2023-03-18T18:02:50.639548",
   "environment_variables": {},
   "exception": null,
   "input_path": "__notebook__.ipynb",
   "output_path": "__notebook__.ipynb",
   "parameters": {},
   "start_time": "2023-03-18T17:48:04.079745",
   "version": "2.4.0"
  }
 },
 "nbformat": 4,
 "nbformat_minor": 5
}
